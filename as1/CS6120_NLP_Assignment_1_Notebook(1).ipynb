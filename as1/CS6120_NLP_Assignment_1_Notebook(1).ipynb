{
  "cells": [
    {
      "cell_type": "markdown",
      "id": "bc97d6da",
      "metadata": {
        "id": "bc97d6da"
      },
      "source": [
        "## CS 6120: Natural Language Processing - Prof. Ahmad Uzair\n",
        "\n",
        "### Assignment 1: Naive Bayes\n",
        "### Total Points: 100 points\n",
        "\n",
        "You will be dealing with movie review data that includes both positive and negative reviews in this assignment. You will use Sentiment Analysis to assess if a given review is positive or negative using the provided dataset.\n",
        "\n",
        "Therefore, we will make use of Naive Bayes algorithm to perform sentiment analysis on the movie review dataset.\n",
        "\n",
        "## Importing the Libraries"
      ]
    },
    {
      "cell_type": "code",
      "execution_count": 40,
      "id": "a03450ac",
      "metadata": {
        "id": "a03450ac"
      },
      "outputs": [],
      "source": [
        "import numpy as np\n",
        "import math\n",
        "import pandas as pd\n",
        "import re\n",
        "import nltk\n",
        "from nltk.corpus import stopwords\n",
        "from nltk.stem import PorterStemmer\n",
        "from nltk.tokenize import word_tokenize\n",
        "import warnings\n",
        "import seaborn as sns\n",
        "import matplotlib.pyplot as plt\n",
        "# additional lib\n",
        "import string\n",
        "from nltk.corpus import stopwords\n",
        "from nltk.stem import PorterStemmer\n",
        "from nltk.tokenize import word_tokenize\n",
        "from nltk.stem import WordNetLemmatizer\n",
        "warnings.filterwarnings(\"ignore\")"
      ]
    },
    {
      "cell_type": "markdown",
      "id": "fc584cc2",
      "metadata": {
        "id": "fc584cc2"
      },
      "source": [
        "## Reading the data\n",
        "\n",
        "When reading the data, ensure that the '.csv' file is in the same location where your jupyter notebook is used. This way the files are organized and easy to read using the pandas library. "
      ]
    },
    {
      "cell_type": "code",
      "execution_count": 6,
      "id": "3c9ffbf5",
      "metadata": {
        "id": "3c9ffbf5"
      },
      "outputs": [],
      "source": [
        "## Reading the data and removing columns that are not important. \n",
        "df = pd.read_csv(\"movie_reviews.csv\", sep = ',', encoding = 'latin-1', usecols = lambda col: col not in [\"Unnamed: 2\", \"Unnamed: 3\", \"Unnamed: 4\"])"
      ]
    },
    {
      "cell_type": "code",
      "execution_count": 7,
      "id": "f7fa8ac0",
      "metadata": {
        "colab": {
          "base_uri": "https://localhost:8080/",
          "height": 206
        },
        "id": "f7fa8ac0",
        "outputId": "69edaf28-1e2e-4ec7-9530-b30a2853ab9e"
      },
      "outputs": [
        {
          "name": "stdout",
          "output_type": "stream",
          "text": [
            "<bound method NDFrame.head of                                                   review sentiment\n",
            "0      One of the other reviewers has mentioned that ...  positive\n",
            "1      A wonderful little production. <br /><br />The...  positive\n",
            "2      I thought this was a wonderful way to spend ti...  positive\n",
            "3      Petter Mattei's \"Love in the Time of Money\" is...  positive\n",
            "4      Probably my all-time favorite movie, a story o...  positive\n",
            "...                                                  ...       ...\n",
            "24694  I have seen this movie at the cinema many year...  negative\n",
            "24695  This movie was a real torture fest to sit thro...  negative\n",
            "24696  John Wayne & Albert Dekker compete for oil rig...  negative\n",
            "24697  Tarantino once remarked on a melodrama from th...  positive\n",
            "24698  Aah yes the workout show was a great. Not only...  positive\n",
            "\n",
            "[24699 rows x 2 columns]>\n"
          ]
        }
      ],
      "source": [
        "print(df.head) # print head of data frame with help of head function"
      ]
    },
    {
      "cell_type": "markdown",
      "id": "1749da04",
      "metadata": {
        "id": "1749da04"
      },
      "source": [
        "## Count plot of the output categories: positive or negative\n",
        "\n",
        "Feel free to take a look at the output and whether the classes are balanced or imbalanced. "
      ]
    },
    {
      "cell_type": "code",
      "execution_count": 8,
      "id": "c152e8a4",
      "metadata": {
        "colab": {
          "base_uri": "https://localhost:8080/",
          "height": 515
        },
        "id": "c152e8a4",
        "outputId": "a2ba0476-3238-4511-fcf0-780508493f48"
      },
      "outputs": [
        {
          "data": {
            "image/png": "[encoded data removed]",
            "text/plain": [
              "<Figure size 800x600 with 1 Axes>"
            ]
          },
          "metadata": {},
          "output_type": "display_data"
        }
      ],
      "source": [
        "# set the figure size\n",
        "plt.figure(figsize = (8, 6), dpi = 100)\n",
        "sns.countplot(x = 'sentiment', data = df)\n",
        "plt.title(\"Positive Vs. Negative reviews count\", fontsize = 15)\n",
        "plt.show()\n"
      ]
    },
    {
      "cell_type": "markdown",
      "id": "9b8549f2",
      "metadata": {
        "id": "9b8549f2"
      },
      "source": [
        "## Upsampling the minority class: (5 points)\n",
        "\n",
        "It is known that Naive bayes is not robust to class imbalance. It could be seen above that the data is little imbalanced. Therefore, class balancing can be done before giving it to the Naive Bayes model for prediction. \n",
        "\n",
        "Feel free to use 'resample' library from sklearn. "
      ]
    },
    {
      "cell_type": "code",
      "execution_count": 9,
      "id": "yHJTAqrW7XMN",
      "metadata": {
        "id": "yHJTAqrW7XMN"
      },
      "outputs": [],
      "source": [
        "## hint: use resample from sklearn.utils\n",
        "from sklearn.utils import resample\n",
        "\n",
        "df_majority = df[df.sentiment == 'positive']\n",
        "df_minority = df[df.sentiment == 'negative']\n",
        "\n",
        "negative_upsample = resample(df_minority, \n",
        "                             replace = True, \n",
        "                             n_samples = df_majority.shape[0],\n",
        "                             random_state = 101)\n",
        "\n",
        "df_upsampled = pd.concat([df_majority, negative_upsample])  # concat two data frames i,e majority class data set and upsampled minority class data set\n",
        "df_upsampled = df_upsampled.sample(frac = 1, random_state = 101)"
      ]
    },
    {
      "cell_type": "code",
      "execution_count": 10,
      "id": "6a9329bb",
      "metadata": {
        "id": "6a9329bb"
      },
      "outputs": [
        {
          "name": "stdout",
          "output_type": "stream",
          "text": [
            "(12474, 2)\n"
          ]
        }
      ],
      "source": [
        "## Just to ensure that upsampling was done successfully, take a look at the shape of the data in \n",
        "## this cell. \n",
        "\n",
        "# print the shape of data set with the help of shape function having \"negative\" as class label\n",
        "df_negative_upsampled = df_upsampled[df_upsampled.sentiment == 'negative']\n",
        "print(df_negative_upsampled.shape)"
      ]
    },
    {
      "cell_type": "markdown",
      "id": "6f8bf6e7",
      "metadata": {
        "id": "6f8bf6e7"
      },
      "source": [
        "### Expected Output : \n",
        "(12474, 2)"
      ]
    },
    {
      "cell_type": "code",
      "execution_count": 11,
      "id": "bdea8155",
      "metadata": {
        "colab": {
          "base_uri": "https://localhost:8080/"
        },
        "id": "bdea8155",
        "outputId": "c665c4b9-826e-4f4e-e30e-06e0935a0622"
      },
      "outputs": [
        {
          "name": "stdout",
          "output_type": "stream",
          "text": [
            "(12474, 2)\n"
          ]
        }
      ],
      "source": [
        "## Ensure that the same number of data points are present for both 'positive' and 'negative' data\n",
        "\n",
        "# print the shape of data set with the help of shape function having \"positive\" as class label\n",
        "df_positive_upsampled = df_upsampled[df_upsampled.sentiment == 'positive']\n",
        "print(df_positive_upsampled.shape) "
      ]
    },
    {
      "cell_type": "markdown",
      "id": "626f01d5",
      "metadata": {
        "id": "626f01d5"
      },
      "source": [
        "### Expected Output : \n",
        "(12474, 2)"
      ]
    },
    {
      "cell_type": "code",
      "execution_count": 12,
      "id": "NoW5z6SzAeP8",
      "metadata": {
        "id": "NoW5z6SzAeP8"
      },
      "outputs": [],
      "source": [
        "## In this cell, we are going to be dividing the data into train and test points\n",
        "## Ensure that you store the upsampled data in a variable called 'df_upsampled' \n",
        "## so that the below operations are performed successfully\n",
        "\n",
        "input_feature_col = 'review'\n",
        "target_col = 'sentiment'\n",
        "\n",
        "## Considering 10000 positive and 10000 negative data points\n",
        "negative_data_points_train = df_upsampled[df_upsampled[target_col] == 'negative'].iloc[:10000]\n",
        "positive_data_points_train = df_upsampled[df_upsampled[target_col] == 'positive'].iloc[:10000]\n",
        "\n",
        "## Considering the remaining data points for test\n",
        "negative_data_points_test = df_upsampled[df_upsampled[target_col] == 'negative'].iloc[10000:]\n",
        "positive_data_points_test = df_upsampled[df_upsampled[target_col] == 'positive'].iloc[10000:]\n",
        "\n",
        "## Concatenate the training positive and negative reviews\n",
        "X_train = pd.concat([negative_data_points_train[input_feature_col], \n",
        "                     positive_data_points_train[input_feature_col]])\n",
        "## Concatenating the training positive and negative outputs\n",
        "y_train = pd.concat([negative_data_points_train[target_col], \n",
        "                     positive_data_points_train[target_col]])\n",
        "\n",
        "## Concatenating the test positive and negative reviews\n",
        "X_test = pd.concat([negative_data_points_test[input_feature_col], \n",
        "                    positive_data_points_test[input_feature_col]])\n",
        "## Concatenating the test positive and negative outputs\n",
        "y_test = pd.concat([negative_data_points_test[target_col], \n",
        "                    positive_data_points_test[target_col]])\n"
      ]
    },
    {
      "cell_type": "code",
      "execution_count": 13,
      "id": "6428047d",
      "metadata": {
        "colab": {
          "base_uri": "https://localhost:8080/"
        },
        "id": "6428047d",
        "outputId": "10d10601-0ce0-4688-c4d3-75fa386583fd"
      },
      "outputs": [
        {
          "name": "stdout",
          "output_type": "stream",
          "text": [
            "negative    10000\n",
            "positive    10000\n",
            "Name: sentiment, dtype: int64\n"
          ]
        }
      ],
      "source": [
        "## Take a look at the total number of classes and their count using '.value_counts()' for y_train and y_test.\n",
        "## Ensure that there are equal number of positive and negative reviews. \n",
        "\n",
        "# Class distribution in y_train\n",
        "print(y_train.value_counts())"
      ]
    },
    {
      "cell_type": "markdown",
      "id": "7dfe6517",
      "metadata": {
        "id": "7dfe6517"
      },
      "source": [
        "### Expected Output:\n",
        "negative    10000<br>\n",
        "positive    10000<br>\n",
        "Name: sentiment, dtype: int64"
      ]
    },
    {
      "cell_type": "code",
      "execution_count": 14,
      "id": "2beae1d6",
      "metadata": {
        "colab": {
          "base_uri": "https://localhost:8080/"
        },
        "id": "2beae1d6",
        "outputId": "6896f930-6a1a-45db-b74c-d080c9aedd0c"
      },
      "outputs": [
        {
          "name": "stdout",
          "output_type": "stream",
          "text": [
            "negative    2474\n",
            "positive    2474\n",
            "Name: sentiment, dtype: int64\n"
          ]
        }
      ],
      "source": [
        "# Class distribution in y_test:\n",
        "\n",
        "print(y_test.value_counts())"
      ]
    },
    {
      "cell_type": "markdown",
      "id": "9163f897",
      "metadata": {
        "id": "9163f897"
      },
      "source": [
        "### Expected Output : \n",
        "negative    2474<br>\n",
        "positive    2474<br>\n",
        "Name: sentiment, dtype: int64"
      ]
    },
    {
      "cell_type": "markdown",
      "id": "6501699b",
      "metadata": {
        "id": "6501699b"
      },
      "source": [
        "## Q1. Pre-process the reviews: (10 points)\n",
        "\n",
        "We know that a review contains links, punctuation, stopwords and many other words that don't give a lot of meaning for the Naive Bayes model for prediction. \n",
        "\n",
        "In the cell below, one must implement text-preprocessing and remove links, punctuations and stopwords. It is also important to lowercase the letters so that 'Admire' and 'admire' are not treated as different words. \n",
        "\n",
        "In addition to this, perform stemming operation so that similar words are reduced. To know more about stemming, feel free to take a look at this link.\n",
        "\n",
        "https://nlp.stanford.edu/IR-book/html/htmledition/stemming-and-lemmatization-1.html"
      ]
    },
    {
      "cell_type": "code",
      "execution_count": 44,
      "id": "CirLN9-ddQ1r",
      "metadata": {
        "id": "CirLN9-ddQ1r"
      },
      "outputs": [],
      "source": [
        "# TASK CELL\n",
        "\n",
        "def clean_review(review):\n",
        "    '''\n",
        "    Input:\n",
        "        review: a string containing a review.\n",
        "    Output:\n",
        "        review_cleaned: a processed review. \n",
        "\n",
        "    '''\n",
        "    # Remove links\n",
        "    review = re.sub(r'http\\S+', '', review)\n",
        "    \n",
        "    # Remove punctuations\n",
        "    review = review.translate(str.maketrans('', '', string.punctuation))\n",
        "    \n",
        "    # Remove stopwords\n",
        "    review_words = review.split()\n",
        "    filtered_words = [word for word in review_words if word not in stopwords.words('english')]\n",
        "    \n",
        "    # Switch to lowercase \n",
        "    review = review.lower()\n",
        "    \n",
        "    # Perform stemming\n",
        "    stemmer = PorterStemmer()\n",
        "    words_stemmed = [stemmer.stem(word) for word in filtered_words]\n",
        "    review_cleaned = \" \".join(words_stemmed)\n",
        "    \n",
        "    \n",
        "    '''\n",
        "    Since we need to use perform stemming, \n",
        "    but if we use this operate, \n",
        "    then the word will be optimize to the minimalist form, \n",
        "    then the “movie -> movi” is correct. \n",
        "    But it's seems like not same as the \"Expected output\", \n",
        "    I search online, we can try use WordNetLemmatizer to instead of stemming. \n",
        "    But I'm not sure its valid for statement or not.\n",
        "    Content: \n",
        "    Manjot Bedi 3 hours ago\n",
        "    It's fine even if the output is different. \n",
        "    It won't affect the frequency count for individual words.\n",
        "    Since I use stemming, base the instruction statement.  \n",
        "    \n",
        "    # Lemmatization\n",
        "    lemmatizer = WordNetLemmatizer()\n",
        "    lemmatized_words = [lemmatizer.lemmatize(word) for word in filtered_words]\n",
        "    \n",
        "    review_cleaned = ' '.join(lemmatized_words)\n",
        "    '''\n",
        "    \n",
        "    \n",
        "    return review_cleaned"
      ]
    },
    {
      "cell_type": "markdown",
      "id": "a7632fe5",
      "metadata": {
        "id": "a7632fe5"
      },
      "source": [
        "## Q2. Implement a find_occurrence function (5 points):\n",
        "\n",
        "In this function, we find the total occurrence of a word giving information such as label, word and frequency dictionary.\n",
        "\n",
        "Note that this function is used later in the code when we are going to be predicting the output using Naive Bayes. "
      ]
    },
    {
      "cell_type": "code",
      "execution_count": 16,
      "id": "eb282b81",
      "metadata": {
        "id": "eb282b81"
      },
      "outputs": [],
      "source": [
        "# TASK CELL\n",
        "def find_occurrence(frequency, word, label):\n",
        "    '''\n",
        "    Params:\n",
        "        frequency: a dictionary with the frequency of each pair (or tuple)\n",
        "        word: the word to look up\n",
        "        label: the label corresponding to the word\n",
        "    Return:\n",
        "        n: the number of times the word with its corresponding label appears.\n",
        "    '''\n",
        "    \n",
        "    n = frequency.get((word, label), 0)\n",
        "    \n",
        "    return n"
      ]
    },
    {
      "cell_type": "markdown",
      "id": "29a2249d",
      "metadata": {
        "id": "29a2249d"
      },
      "source": [
        "### Converting output to numerical format:\n",
        "\n",
        "We have outputs as 'positive' or 'negative'. In the cell below, we convert it to a numerical format. "
      ]
    },
    {
      "cell_type": "code",
      "execution_count": 17,
      "id": "bcdc2b2c",
      "metadata": {
        "id": "bcdc2b2c"
      },
      "outputs": [],
      "source": [
        "## With the use of mapping function, we replace\n",
        "## the label in the form of string to an integer. \n",
        "\n",
        "output_map = {'positive': 0, 'negative': 1}\n",
        "y_train = y_train.map(output_map)\n",
        "y_test = y_test.map(output_map)"
      ]
    },
    {
      "cell_type": "code",
      "execution_count": 18,
      "id": "3dde0bbd",
      "metadata": {
        "colab": {
          "base_uri": "https://localhost:8080/"
        },
        "id": "3dde0bbd",
        "outputId": "223dfbc1-8efe-4183-b6d7-c9cb025cb285"
      },
      "outputs": [
        {
          "data": {
            "text/plain": [
              "1    10000\n",
              "0    10000\n",
              "Name: sentiment, dtype: int64"
            ]
          },
          "execution_count": 18,
          "metadata": {},
          "output_type": "execute_result"
        }
      ],
      "source": [
        "## Ensuring that there are equal number of classes on the training data. \n",
        "y_train.value_counts()"
      ]
    },
    {
      "cell_type": "code",
      "execution_count": 19,
      "id": "f2959b85",
      "metadata": {
        "colab": {
          "base_uri": "https://localhost:8080/",
          "height": 178
        },
        "id": "f2959b85",
        "outputId": "e514214b-cd57-43fc-875d-1821ddab63f8"
      },
      "outputs": [
        {
          "data": {
            "text/plain": [
              "\"So this ugly guy with long, nasty hair and his girlfriend end up in this house and they argue and argue about his old girlfriend. There was suppose to be something scary in it but I didn't see anything scary at all. There is some mention of a demon from the sea but that doesn't go anywhere at all. I wish it did because then it would've taken the tension away from the jealous love triangle. The title of the movie makes it look like it would be a scary and exciting movie but it is so far from it that I couldn't believe it. I waited and waited for it to end and was so happy when it did. It did not live up to the title like it should have so boo hoo hoo. The cover had a cool picture but I shouldn't judge a cheesy movie by its cover.\""
            ]
          },
          "execution_count": 19,
          "metadata": {},
          "output_type": "execute_result"
        }
      ],
      "source": [
        "## Choosing a random review and taking a look at it.\n",
        "X_train.iloc[0]"
      ]
    },
    {
      "cell_type": "markdown",
      "id": "ed5e43c9",
      "metadata": {
        "id": "ed5e43c9"
      },
      "source": [
        "From the above cell output, it could be seen that there are a lot of words that don't add a lot of meaning to the text. \n",
        "\n",
        "Therefore, those words would be removed. It also reduces the computation time. \n",
        "\n",
        "Therefore, it is a good practice we are following."
      ]
    },
    {
      "cell_type": "code",
      "execution_count": 24,
      "id": "e0498520",
      "metadata": {},
      "outputs": [
        {
          "name": "stdout",
          "output_type": "stream",
          "text": [
            "showing info https://raw.githubusercontent.com/nltk/nltk_data/gh-pages/index.xml\n"
          ]
        },
        {
          "data": {
            "text/plain": [
              "True"
            ]
          },
          "execution_count": 24,
          "metadata": {},
          "output_type": "execute_result"
        }
      ],
      "source": [
        "nltk.download() # Active nltk"
      ]
    },
    {
      "cell_type": "code",
      "execution_count": 23,
      "id": "ad3937ea",
      "metadata": {
        "colab": {
          "base_uri": "https://localhost:8080/"
        },
        "id": "ad3937ea",
        "outputId": "68985efe-32cd-4c11-ed5b-2e1e1b297e73"
      },
      "outputs": [
        {
          "name": "stdout",
          "output_type": "stream",
          "text": [
            "so ugli guy long nasti hair girlfriend end hous argu argu old girlfriend there suppos someth scari i didnt see anyth scari there mention demon sea doesnt go anywher i wish wouldv taken tension away jealou love triangl the titl movi make look like would scari excit movi far i couldnt believ i wait wait end happi it live titl like boo hoo hoo the cover cool pictur i shouldnt judg cheesi movi cover\n"
          ]
        }
      ],
      "source": [
        "custom_review = X_train.iloc[0]\n",
        "\n",
        "# print cleaned review\n",
        "print(clean_review(custom_review))"
      ]
    },
    {
      "cell_type": "markdown",
      "id": "3e6cc440",
      "metadata": {
        "id": "3e6cc440"
      },
      "source": [
        "We now use this function to pre-process the review and remove words that don't add a lot of meaning in our model. "
      ]
    },
    {
      "cell_type": "markdown",
      "id": "5a762960",
      "metadata": {
        "id": "5a762960"
      },
      "source": [
        "## Q3. Implementing review counter function: (5 points)\n",
        "\n",
        "It is now time to implement the count function for the reviews. \n",
        "\n",
        "In this function, we count the occurrence of words and get the probabilities \n",
        "for the words based on the training data. \n",
        "\n",
        "In other words, we get the probability of occurrence of a word, given that the output is 'positive'.\n",
        "\n",
        "Similarly, we also compute the probability of occurence of a word, given that the output is 'negative'.\n",
        "\n"
      ]
    },
    {
      "cell_type": "code",
      "execution_count": 29,
      "id": "5de61f77",
      "metadata": {
        "id": "5de61f77"
      },
      "outputs": [],
      "source": [
        "# TASK CELL\n",
        "def review_counter(output_occurrence, reviews, positive_or_negative):\n",
        "    '''\n",
        "    Params:\n",
        "        output_occurrence: a dictionary that will be used to map each pair to its frequency\n",
        "        reviews: a list of reviews\n",
        "        positive_or_negative: a list corresponding to the sentiment of each review (either 0 or 1)\n",
        "    Return:\n",
        "        output: a dictionary mapping each pair to its frequency\n",
        "    '''\n",
        "    ## Steps :\n",
        "    # define the key, which is the word and label tuple\n",
        "    # if the key exists in the dictionary, increment the count\n",
        "    # else, if the key is new, add it to the dictionary and set the count to 1\n",
        "    \n",
        "    for label, review in zip(positive_or_negative, reviews):\n",
        "      split_review = clean_review(review).split()\n",
        "      for word in split_review:\n",
        "        # --- Your code here ---\n",
        "        \n",
        "        # define the key, which is the word and label tuple\n",
        "            key = (word, label)\n",
        "            \n",
        "            # if the key exists in the dictionary, increment the count\n",
        "            if key in output_occurrence:\n",
        "                output_occurrence[key] += 1\n",
        "            # else, if the key is new, add it to the dictionary and set the count to 1\n",
        "            else:\n",
        "                output_occurrence[key] = 1\n",
        "        # --- Code End ---\n",
        "        \n",
        "    return output_occurrence\n",
        "   \n"
      ]
    },
    {
      "cell_type": "markdown",
      "id": "18238223",
      "metadata": {
        "id": "18238223"
      },
      "source": [
        "### Test your function with example reviews:\n",
        "\n",
        "Feel free to run the cell below and understand whether the above function that you have defined is producing the optimum results. "
      ]
    },
    {
      "cell_type": "code",
      "execution_count": 51,
      "id": "07a4c58a",
      "metadata": {
        "colab": {
          "base_uri": "https://localhost:8080/"
        },
        "id": "07a4c58a",
        "outputId": "dd9e148a-34a9-4cfe-9077-c5de33493d7a"
      },
      "outputs": [
        {
          "data": {
            "text/plain": [
              "{('got', 1): 1,\n",
              " ('bore', 1): 2,\n",
              " ('throught', 1): 1,\n",
              " ('moview', 1): 1,\n",
              " ('the', 0): 1,\n",
              " ('movi', 0): 2,\n",
              " ('fantast', 0): 1,\n",
              " ('will', 1): 1,\n",
              " ('watch', 1): 1,\n",
              " ('wa', 1): 1,\n",
              " ('complet', 1): 1,\n",
              " ('wast', 1): 1,\n",
              " ('time', 1): 1,\n",
              " ('money', 1): 1,\n",
              " ('enjoy', 0): 1,\n",
              " ('fullest', 0): 1}"
            ]
          },
          "execution_count": 51,
          "metadata": {},
          "output_type": "execute_result"
        }
      ],
      "source": [
        "# Testing your function\n",
        "\n",
        "result = {}\n",
        "reviews = ['got bored throught the moview', 'The movie was fantastic', 'Will not watch it again', 'Was bored, it was a complete waste of time and money', 'Enjoyed the movie to the fullest']\n",
        "ys = [1, 0, 1, 1, 0]\n",
        "review_counter(result, reviews, ys)"
      ]
    },
    {
      "cell_type": "markdown",
      "id": "4ab975e1",
      "metadata": {},
      "source": [
        "# Expect Output Analysis: \n",
        "Since we need to use perform stemming, \n",
        "    but if we use this operate, \n",
        "    then the word will be optimize to the minimalist form, \n",
        "    then the “movie -> movi” is correct. \n",
        "    But it's seems like not same as the \"Expected output\", \n",
        "    I search online, we can try use WordNetLemmatizer to instead of stemming. \n",
        "    But I'm not sure its valid for statement or not.\n",
        "    Content: \n",
        "    Manjot Bedi 3 hours ago\n",
        "    It's fine even if the output is different. \n",
        "    It won't affect the frequency count for individual words.\n",
        "    Since I use stemming, base the instruction statement.  "
      ]
    },
    {
      "cell_type": "markdown",
      "id": "927f89bb",
      "metadata": {
        "id": "927f89bb"
      },
      "source": [
        "### Expected Output:\n",
        " {('bored', 1): 2, <br>\n",
        " ('complete', 1): 1, <br>\n",
        " ('enjoyed', 0): 1, <br>\n",
        " ('fantastic', 0): 1, <br>\n",
        " ('fullest', 0): 1, <br>\n",
        " ('got', 1): 1, <br>\n",
        " ('money', 1): 1, <br>\n",
        " ('movie', 0): 2, <br>\n",
        " ('moview', 1): 1, <br>\n",
        " ('throught', 1): 1, <br>\n",
        " ('time', 1): 1, <br>\n",
        " ('waste', 1): 1, <br>\n",
        " ('watch', 1): 1}"
      ]
    },
    {
      "cell_type": "code",
      "execution_count": 47,
      "id": "9bc62e13",
      "metadata": {
        "id": "9bc62e13"
      },
      "outputs": [],
      "source": [
        "# Build the freqs dictionary for later uses\n",
        "\n",
        "freqs = review_counter({}, X_train, y_train)"
      ]
    },
    {
      "cell_type": "code",
      "execution_count": 50,
      "id": "0eddf420",
      "metadata": {
        "id": "0eddf420"
      },
      "outputs": [
        {
          "name": "stdout",
          "output_type": "stream",
          "text": [
            "('so', 1) 1184\n",
            "('ugli', 1) 229\n",
            "('guy', 1) 2134\n",
            "('long', 1) 1295\n",
            "('nasti', 1) 167\n",
            "('hair', 1) 235\n",
            "('girlfriend', 1) 241\n",
            "('end', 1) 3596\n",
            "('hous', 1) 768\n",
            "('argu', 1) 105\n"
          ]
        }
      ],
      "source": [
        "## Run this cell to get an idea about the corpus of words and their occurrence along with labels. \n",
        "## In this, we are computing the frequency of occurrence of word given that a review is 'positive'.\n",
        "## Similarly, we also compute the frequence of occurence of word given that a review is 'negative'.\n",
        "\n",
        "# print(freqs)\n",
        "for key, value in list(freqs.items())[:10]:\n",
        "    print(key, value)"
      ]
    },
    {
      "cell_type": "markdown",
      "id": "759c24bc",
      "metadata": {
        "id": "759c24bc"
      },
      "source": [
        "## Q4. Training the Naive Bayes Model: (20 points)\n",
        "\n",
        "Now we are in the training phase of the Naive Bayes algorithm. In this cell, take a look at the ways to calculate the log likelihood and log prior values as these are important for testing in the next few cells. \n",
        "\n",
        "Also calculate the frequency of occurrence of words where the output is negative. In the same way, calculate the word frequency count using the above functions in order to compute the log likelihood.\n",
        "\n",
        "Return the logprior and loglikelihood output by the model from this function. "
      ]
    },
    {
      "cell_type": "code",
      "execution_count": 57,
      "id": "a7f280e3",
      "metadata": {
        "id": "a7f280e3"
      },
      "outputs": [],
      "source": [
        "def train_naive_bayes(freqs, train_x, train_y):\n",
        "    '''\n",
        "    Input:\n",
        "        freqs: dictionary from (word, label) to how often the word appears\n",
        "        train_x: a list of reviews\n",
        "        train_y: a list of labels correponding to the reviews (0,1)\n",
        "    Output:\n",
        "        logprior: the log prior. (equation 3 above)\n",
        "        loglikelihood: the log likelihood of you Naive bayes equation. (equation 6 above)\n",
        "    '''\n",
        "    loglikelihood = {}\n",
        "    logprior = 0\n",
        "\n",
        "\n",
        "    # calculate V, the number of unique words in the vocabulary\n",
        "    vocab = set([pair[0] for pair in freqs.keys()])\n",
        "    V = len(vocab)\n",
        "\n",
        "    # calculate num_pos and num_neg - the total number of positive and negative words for all documents\n",
        "    num_pos = num_neg = 0\n",
        "    for pair in freqs.keys():\n",
        "        # if the label is positive (greater than zero)\n",
        "        if pair[1] == 1:\n",
        "\n",
        "            # Increment the number of positive words by the count for this (word, label) pair\n",
        "            num_pos += freqs[pair]\n",
        "\n",
        "        # else, the label is negative\n",
        "        else:\n",
        "\n",
        "            # increment the number of negative words by the count for this (word,label) pair\n",
        "            num_neg += freqs[pair]\n",
        "\n",
        "    # Calculate num_doc, the number of documents\n",
        "    num_doc = len(train_x)\n",
        "\n",
        "    # Calculate D_pos, the number of positive documents \n",
        "    pos_num_docs = sum(1 for label in train_y if label == 1)\n",
        "\n",
        "    # Calculate D_neg, the number of negative documents \n",
        "    neg_num_docs = num_doc - pos_num_docs\n",
        "\n",
        "    # Calculate logprior\n",
        "    logprior = math.log(pos_num_docs) - math.log(neg_num_docs)\n",
        "\n",
        "    # For each word in the vocabulary...\n",
        "    for word in vocab:\n",
        "        # get the positive and negative frequency of the word\n",
        "        freq_pos = freqs.get((word, 1), 0)\n",
        "        freq_neg = freqs.get((word, 0), 0)\n",
        "\n",
        "        # calculate the probability that each word is positive, and negative\n",
        "        p_w_pos = (freq_pos + 1) / (num_pos + V)\n",
        "        p_w_neg = (freq_neg + 1) / (num_neg + V)\n",
        "\n",
        "        # calculate the log likelihood of the word\n",
        "        loglikelihood[word] = math.log(p_w_pos/p_w_neg)\n",
        "\n",
        "\n",
        "    return logprior, loglikelihood"
      ]
    },
    {
      "cell_type": "code",
      "execution_count": 58,
      "id": "1561d892",
      "metadata": {
        "id": "1561d892"
      },
      "outputs": [
        {
          "name": "stdout",
          "output_type": "stream",
          "text": [
            "0.0\n",
            "75453\n"
          ]
        }
      ],
      "source": [
        "# You do not have to input any code in this cell, but it is relevant to grading, so please do not change anything\n",
        "logprior, loglikelihood = train_naive_bayes(freqs, X_train, y_train)\n",
        "print(logprior)\n",
        "print(len(loglikelihood))"
      ]
    },
    {
      "cell_type": "markdown",
      "id": "980a7f45",
      "metadata": {},
      "source": [
        "# Output Analysis：\n",
        "Since the model and function of data_clean different, it should be show different Loglikelihood value. "
      ]
    },
    {
      "cell_type": "markdown",
      "id": "19d9c882",
      "metadata": {
        "id": "19d9c882"
      },
      "source": [
        "### Expected Output \n",
        "\n",
        "0.0 <br>\n",
        "91425"
      ]
    },
    {
      "cell_type": "markdown",
      "id": "78b51303",
      "metadata": {
        "id": "78b51303"
      },
      "source": [
        "## Q5. Implementing Naive Bayes Predict Function: (10 points)\n",
        "\n",
        "It is now time to make our prediction as to whether a given review is negative or positive respectively. \n",
        "\n",
        "After adding the log likelihood values, ensure that the output is 1 (negative) if the sum of the log likelihood value is greater than 0 and 0 (positive) if the sum of the log likelihood is less than or equal to 0. "
      ]
    },
    {
      "cell_type": "code",
      "execution_count": 61,
      "id": "b692c2f9",
      "metadata": {
        "id": "b692c2f9"
      },
      "outputs": [],
      "source": [
        "# TASK 4 CELL\n",
        "\n",
        "def naive_bayes_predict(review, logprior, loglikelihood):\n",
        "    '''\n",
        "    Params:\n",
        "        review: a string\n",
        "        logprior: a number\n",
        "        loglikelihood: a dictionary of words mapping to numbers\n",
        "    Return:\n",
        "        total_prob: the sum of all the loglikelihoods of each word in the review (if found in the dictionary) + logprior (a number)\n",
        "\n",
        "    '''\n",
        "    \n",
        "      # process the review to get a list of words\n",
        "    word_l = clean_review(review).split()\n",
        "\n",
        "    # initialize probability to zero\n",
        "    total_prob = 0\n",
        "\n",
        "    # add the logprior\n",
        "    total_prob = logprior\n",
        "\n",
        "    for word in word_l:\n",
        "\n",
        "        # check if the word exists in the loglikelihood dictionary\n",
        "        if word in loglikelihood:\n",
        "            # add the log likelihood of that word to the probability\n",
        "            total_prob += loglikelihood[word]\n",
        "\n",
        "\n",
        "    return 1 if total_prob > 0 else 0"
      ]
    },
    {
      "cell_type": "code",
      "execution_count": 62,
      "id": "4b170333",
      "metadata": {
        "colab": {
          "base_uri": "https://localhost:8080/"
        },
        "id": "4b170333",
        "outputId": "0cf6bc90-90e8-4dee-bf95-7eaf39dce147"
      },
      "outputs": [
        {
          "name": "stdout",
          "output_type": "stream",
          "text": [
            "The expected output is 1\n"
          ]
        }
      ],
      "source": [
        "# You do not have to input any code in this cell, but it is relevant to grading, so please do not change anything\n",
        "\n",
        "# Experiment with your own review.\n",
        "my_review = \"I thought this series was going to be another fun, action series with some dynamic plots and great performances. I was wrong. While I like Jamie Denton, this show is hardly worth watching at all, unless you enjoy watching some people brutalized and the actions of the agents supposedly warranted under the theme of national security. The show is great propaganda for the current government, and spews out jingoism as though we talk that way every day. After a couple of episodes, it was boring the hell out of me, and I started watching reruns of House Invaders on BBCAmerica instead. Rather watch CSI and Without a Trace, without a doubt.\"\n",
        "p = naive_bayes_predict(my_review, logprior, loglikelihood)\n",
        "print('The expected output is', p)"
      ]
    },
    {
      "cell_type": "markdown",
      "id": "6242708f",
      "metadata": {
        "id": "6242708f"
      },
      "source": [
        "### Expected Output :\n",
        "The expected output is 1"
      ]
    },
    {
      "cell_type": "markdown",
      "id": "7c4eeb71",
      "metadata": {
        "id": "7c4eeb71"
      },
      "source": [
        "## Q6. Implementing Naive Bayes Test function: (10 points)\n",
        "\n",
        "In this function, implement the previous functions such as naive_bayes_predict to get the predictions for the test set. \n",
        "\n",
        "In addition to this, the function should return the total number of reviews that it correctly classified as 'positive' or 'negative'. "
      ]
    },
    {
      "cell_type": "code",
      "execution_count": 63,
      "id": "66a511e7",
      "metadata": {
        "id": "66a511e7"
      },
      "outputs": [],
      "source": [
        "# UNQ_C6 (UNIQUE CELL IDENTIFIER, DO NOT EDIT)\n",
        "def test_naive_bayes(test_x, test_y, logprior, loglikelihood):\n",
        "    \"\"\"\n",
        "    Input:\n",
        "        test_x: A list of reviews\n",
        "        test_y: the corresponding labels for the list of reviews\n",
        "        logprior: the logprior\n",
        "        loglikelihood: a dictionary with the loglikelihoods for each word\n",
        "    Output:\n",
        "        accuracy: (# of reviews classified correctly)/(total # of reviews)\n",
        "    \"\"\"\n",
        "    accuracy = 0  \n",
        "\n",
        "    \n",
        "    y_hats = []\n",
        "    for review in test_x:\n",
        "        \n",
        "        # Predict the sentiment of the review\n",
        "        total_prob = naive_bayes_predict(review, logprior, loglikelihood)\n",
        "        \n",
        "        # if the prediction is > 0\n",
        "        if total_prob > 0:\n",
        "            # the predicted class is 1\n",
        "            y_hat_i = 1\n",
        "        else:\n",
        "            # otherwise the predicted class is 0\n",
        "            y_hat_i = 0\n",
        "\n",
        "        # append the predicted class to the list y_hats\n",
        "        y_hats.append(y_hat_i)\n",
        "\n",
        "    # error is the average of the absolute values of the differences between y_hats and test_y\n",
        "    error = [abs(y_hat - y) for y_hat, y in zip(y_hats, test_y)]\n",
        "\n",
        "    accuracy = sum(error) / len(test_y)\n",
        "\n",
        "\n",
        "    return accuracy"
      ]
    },
    {
      "cell_type": "code",
      "execution_count": 64,
      "id": "8a9c5d9d",
      "metadata": {
        "id": "8a9c5d9d"
      },
      "outputs": [
        {
          "name": "stdout",
          "output_type": "stream",
          "text": [
            "If you like original gut wrenching laughter you will like this movie. If you are young or old then y -> 0.00\n",
            "What a waste of talent. A very poor, semi-coherent, script cripples this film. Rather unimaginative  -> 1.00\n",
            "I have seen this film at least 100 times and I am still excited by it, the acting is perfect and the -> 0.00\n",
            "Cheap, amateurish, unimaginative, exploitative... but don't think it'll have redeeming amusement val -> 1.00\n"
          ]
        }
      ],
      "source": [
        "# For grading purpose only\n",
        "# You do not have to input any code in this cell, but it is relevant to grading, so please do not change anything\n",
        "\n",
        "# Run this cell to test your function\n",
        "\n",
        "for review in [\"If you like original gut wrenching laughter you will like this movie. If you are young or old then you will love this movie, hell even my mom liked it.<br /><br />Great Camp!!!\",\n",
        "                \"What a waste of talent. A very poor, semi-coherent, script cripples this film. Rather unimaginative direction, too. Some VERY faint echoes of Fargo here, but it just doesn't come off.\",\n",
        "                \"I have seen this film at least 100 times and I am still excited by it, the acting is perfect and the romance between Joe and Jean keeps me on the edge of my seat, plus I still think Bryan Brown is the tops. Brilliant Film.\",\n",
        "                \"Cheap, amateurish, unimaginative, exploitative... but don't think it'll have redeeming amusement value. About as unentertaining, uninstructive and just plain dull as a film can be.\"]:\n",
        "    p = naive_bayes_predict(review, logprior, loglikelihood)\n",
        "    print(f'{review[:100]} -> {p:.2f}')\n",
        "    "
      ]
    },
    {
      "cell_type": "markdown",
      "id": "43e2ef98",
      "metadata": {
        "id": "43e2ef98"
      },
      "source": [
        "### Expected Output :\n",
        "\n",
        "If you like original gut wrenching laughter you will like this movie. If you are young or old then y -> 0.00 <br>\n",
        "What a waste of talent. A very poor, semi-coherent, script cripples this film. Rather unimaginative  -> 1.00<br>\n",
        "I have seen this film at least 100 times and I am still excited by it, the acting is perfect and the -> 0.00 <br>\n",
        "Cheap, amateurish, unimaginative, exploitative... but don't think it'll have redeeming amusement val -> 1.00\n",
        "\n"
      ]
    },
    {
      "cell_type": "code",
      "execution_count": 65,
      "id": "216fa97a",
      "metadata": {
        "colab": {
          "base_uri": "https://localhost:8080/"
        },
        "id": "216fa97a",
        "outputId": "9d1f21c7-b324-43c2-e841-269c0306cbb4"
      },
      "outputs": [
        {
          "data": {
            "text/plain": [
              "1"
            ]
          },
          "execution_count": 65,
          "metadata": {},
          "output_type": "execute_result"
        }
      ],
      "source": [
        "# Feel free to check the sentiment of your own review below\n",
        "my_review = 'The moview was very boring, I wanted to leave in the middle'\n",
        "naive_bayes_predict(my_review, logprior, loglikelihood)"
      ]
    },
    {
      "cell_type": "markdown",
      "id": "8a45e4f0",
      "metadata": {
        "id": "8a45e4f0"
      },
      "source": [
        "### Expected Output :\n",
        "1"
      ]
    },
    {
      "cell_type": "markdown",
      "id": "mAIkM4aCC1H7",
      "metadata": {
        "id": "mAIkM4aCC1H7"
      },
      "source": [
        "# Q7. Evaluate the accuracy (10 Points)\n",
        "1. Split your data into training and test sets using random selection. Set the seed as parameter of the function so that user can select a different training and test set by changin seed.\n",
        "\n",
        "2. Calculate model paramters with training set.\n",
        "\n",
        "3. Print confusion matrix for training and test set.\n",
        "\n",
        "4. Examine False Positive and False Negative cases and provide reasoning why they get misclassified."
      ]
    },
    {
      "cell_type": "code",
      "execution_count": 85,
      "id": "6a8f8467",
      "metadata": {},
      "outputs": [],
      "source": [
        "from sklearn.model_selection import train_test_split\n",
        "from sklearn.metrics import confusion_matrix\n",
        "\n",
        "def naive_bayes(X, y, freqs, seed=42, test_size=0.2): \n",
        "\n",
        "    def split_data(X, y, test_size = 0.2, seed = None):\n",
        "        return train_test_split(X, y, test_size = test_size, random_state = seed)\n",
        "\n",
        "    # 1. Split the data into training and test sets\n",
        "    X_train, X_test, y_train, y_test = split_data(X, y, test_size=0.2, seed=42)\n",
        "\n",
        "    # 2. Calculate model parameters with training set\n",
        "    logprior, loglikelihood = train_naive_bayes(freqs, X_train, y_train)\n",
        "\n",
        "    def predict_reviews(reviews, logprior, loglikelihood):\n",
        "        return [1 if naive_bayes_predict(review, logprior, loglikelihood) > 0 else 0 for review in reviews]\n",
        "\n",
        "    # Predictions for training and test sets\n",
        "    y_train_pred = predict_reviews(X_train, logprior, loglikelihood)\n",
        "    y_test_pred = predict_reviews(X_test, logprior, loglikelihood)\n",
        "\n",
        "    # 3. Print confusion matrix\n",
        "    print(\"Training Confusion Matrix:\")\n",
        "    print(confusion_matrix(y_train, y_train_pred))\n",
        "    print(\"\\nTest Confusion Matrix:\")\n",
        "    print(confusion_matrix(y_test, y_test_pred))\n",
        "\n",
        "    # 4. Examine False Positives and False Negatives\n",
        "    # Get the index of false positives and false negatives\n",
        "    false_positives = [i for i, \n",
        "                       (true, pred) in enumerate(zip(y_test, y_test_pred)) \n",
        "                       if true == 1 and pred == 0] # 这是误报为正面的负面评论\n",
        "    false_negatives = [i for i, \n",
        "                       (true, pred) in enumerate(zip(y_test, y_test_pred)) \n",
        "                       if true == 0 and pred == 1] # 这是误报为负面的正面评论\n",
        "\n",
        "    # Print some misclassified samples\n",
        "    print(\"Some False Positives:\")\n",
        "    for i in false_positives[:5]:  # Print the first 5 false positives\n",
        "        print(X_test[i])\n",
        "\n",
        "    print(\"\\nSome False Negatives:\")\n",
        "    for i in false_negatives[:5]:  # Print the first 5 false negatives\n",
        "        print(X_test[i])"
      ]
    },
    {
      "cell_type": "code",
      "execution_count": 93,
      "id": "50bfe444",
      "metadata": {},
      "outputs": [],
      "source": [
        "# Model_params saved for Q8\n",
        "import pickle \n",
        "def save_model_params(logprior, loglikelihood, filename = 'model_params.pkl'):\n",
        "    with open(filename, 'wb') as file:\n",
        "        pickle.dump((logprior, loglikelihood), file)\n",
        "\n",
        "save_model_params(logprior, loglikelihood)"
      ]
    },
    {
      "cell_type": "code",
      "execution_count": 91,
      "id": "f2ca23af",
      "metadata": {},
      "outputs": [
        {
          "name": "stdout",
          "output_type": "stream",
          "text": [
            "Training Confusion Matrix:\n",
            "[[8902 1101]\n",
            " [ 621 9135]]\n",
            "\n",
            "Test Confusion Matrix:\n",
            "[[2208  263]\n",
            " [ 146 2323]]\n",
            "Some False Positives:\n",
            "This video guide was the masterpiece of the year 1995. Beautifully done! Matthew Perry and Jennifer Aniston have major on-screen chemistry when they talk about what the Start button does. I'm waiting for Microsoft to release a Special Edition DVD complete with deleted scenes, Bill Gates commentary, a documentary of how Windows 95 compares to Windows XP, and more!<br /><br />Overall: 10/10 (Should have won at least a Golden Globe)\n",
            "This is an art film that was either made in 1969 or 1972 (the National Film Preservation Foundation says 1969 and IMDb says 1972). Regardless of the exact date, the film definitely appears to be very indicative of this general time period--with some camera-work and pop art stylings that are pure late 60s-early 70s.<br /><br />The film consists of three simple images that are distorted using different weird camera tricks. These distorted images are accompanied by music and there is absolutely no dialog or plot of any sort. This was obviously intended as almost like a form of performance art, and like most performance art, it's interesting at first but quickly becomes tiresome. The film, to put it even more bluntly, is a total bore and would appeal to no one but perhaps those who made the film, their family and friends and perhaps a few people just too hip and \"with it\" to be understood by us mortals.\n",
            "George & Mildred - The Movie lacks the talents of its TV writer John Mortimer who brings the close quarter cut and thrust of George's class war with the Fourmiles alive.<br /><br />The plot is cut from standard spin-off cloth - hit-man/mistaken identity - and has as little tension as there are laughs. The producers should have taken a leaf from Rising Damp, (also 1980)which was also bought to the big screen after the TV series demise, and kept much of the story in familiar setting.<br /><br />Yootha Joyce died in 1980 but she should not be remembered for this creaking piece of work encumbered as she was by her illness. Mildred lacks the sharpness of her TV incarnation; cutting asides and withering looks largely directed at Georges lack of libido. George's sputtering incredulity also gets lost in the more expansive sets. This is not to say that they were much to shout about. The budget for this movies looks pathetically small; a restaurant they go to is clearly a new semi-starched house with some Christmas lights adorning the front door.<br /><br />For fans of 70's British comedy or those who just want to revisit an old TV companion from their youth this film can add nothing to the experience and they should just stick to the first four TV series out now on DVD.\n",
            "Just in time to capitalize on the long-awaited movie version of \"Dreamgirls\" is the DVD release of this semi-forgotten 1976 musical melodrama that also takes the rise of the Supremes as its inspiration. Released five years before the Broadway opening of \"Dreamgirls\" and partially set in the same period, it has a predominantly black cast and a story revolving around an up-and-coming girl group, and that's where the resemblance basically ends. Written by Joel Schumacher well before he became a big-league director of mainstream studio product (\"Batman Forever\", \"The Phantom of the Opera\"), this movie seems grittier on the surface. True to form, however, Schumacher weakens the storyline and character development by injecting an abundance of clichÃ©s and eye-rolling one-liners. With little affinity for staging musical numbers, Sam O'Steen, a highly regarded film editor but neophyte director, helms the production like a low-budget TV-movie with a frustratingly episodic structure.<br /><br />The story follows three Harlem sisters - sexy Sister, self-righteous Delores and sweet Sparkle - as they sing in the church choir, meet smooth-talking but well-intentioned boys Stix and Levi, and then find their first taste of success as a singing group - first as a sweater-wearing quintet called the Hearts and then as a glitzy trio known as Sister and the Sisters. But naturally there are problems beyond the silly name for the group - Sister gets involved with nasty drug dealer Satin Struthers who beats her and turns her into a cocaine junkie; Levi goes to prison for getting caught in a drug pick-up for Satin; Stix gets frustrated by failure and unwisely turns to some Jewish mobsters for financial help; Delores just gets plain fed up; and poor little Sparkle has to decide what kind of future she wants. A big plus is that R&B great Curtis Mayfield wrote the atmospheric songs, some catchy and one, \"Look Into Your Heart\", a real winner.<br /><br />The solid cast does its best under the contrived circumstances. Lonette McKee's valiant attempt to make Sister a tragic figure is undercut by some of the ham-fisted plot turns, including a sad Billie Holliday-like turn at the mike. Before they hit it big on primetime TV, Philip Michael Thomas and Dorian Harewood portray Stix and Levi with boyish vitality if not much credibility. The best work comes from Mary Alice in a relatively silent turn as the girls' patient mother and a pre-\"Fame\" Irene Cara who effortlessly exudes sincerity in the title role (though her costumer and hair stylist should be shot for the hideous look she achieves in the final scene). The DVD just comes with the original theatrical trailer complete with an unctuous voice-over by DJ Casey Kasem and a bonus CD of five of the film's songs performed not by the original cast but by Aretha Franklin off her 1976 recording of the soundtrack. It's not a terrible movie, just an interesting if lacking curio that happens to cover the same ground as \"Dreamgirls\".\n",
            "this film has it all; the deft camera work, reminiscent of martin scorcese, or oliver stone, the tight acting of 'heat', the explosive action of a jerry bruckheimer movie, the witty dialogue of a tarantino script and the epic feel of say, 'the godfather'<br /><br />the judge reinhold character displays a fiery temperememt, yet also shows real emotional depth and intensity. his performance reminds me of robert de niro's portrayal of jake la motta in raging bull.<br /><br />the action scenes are truly breathtaking, not since bullit has a movie depicted such high octane, yet stylish car scenes. The special effects push the boundries of technology and filmmaking to their limits. Independance day set the standard that this movie clearly has matched, and greatly surpassed.<br /><br />overall, great acting from its a list cast (like an oscars night party invitation list!), classy locations, gripping action, and a tight script.\n",
            "\n",
            "Some False Negatives:\n",
            "Everyone knows about this ''Zero Day'' event. What I think this movie did that Elephant did not is that they made us see how these guys were. They showed their life for about a year. Throughout the movie we get to like them, to laugh with them even though we totally know what they're gonna do. And THAT gives me the chills. Cause I felt guilty to be cheered by their comments, and I just thought Cal was a sweet guy. Even though I KNEW what was gonna happen you know? Even at the end of the movie when they were about to commit suicide and just deciding if they did it on the count of 3 or 4 I thought this was funny but still I was horrified to see their heads blown off. Of course I was. I got to like them. They were wicked, maybe, but I felt like they were really normal guys, that they didn't really realize it. But I knew they were.<br /><br />That's, IMO, the main force of this movie. It makes us realize that our friends, or relatives, or anyone, can be planning something crazy, and that we won't even notice it. This movie, as good as it was, made me feel bad. And that's why I can't go to sleep right now. There's still this little feeling in my stomach. Butterflies.\n",
            "Of life in (some) colleges. Of course there were artistic licenses taken, but some of what you saw in this film go on in some colleges.<br /><br />I went to colleges in Southern California where the races pretty much hang around with their own. It's funny because these are schools that want racial unity, equality etc. and I can honestly say, that it's there. But the thing is when class lets out, or when they're just hanging out waiting for class, they (students) seem to just hang around with people of their own race or ethnicity. Is that bad? Not really. Everyone needs a feeling of belonging. But like the school paper of one of the schools I attended once wrote about that, \"we should all try to hang around with students of other ethnicities and try to know them.\" Otherwise you're creating your own segregation.<br /><br />Racism certainly existed in one of those schools I attended. One time someone put leaflets around campus talking about the glories of the Aryan Race and had the symbols of some of those racist organizations. Fortunately, nothing happened like the incident in the movie where the young Caucasian man went off and started shooting at a multiculturalism gathering.<br /><br />I can only hope and pray that nothing like that ever will happen.<br /><br />So is \"Higher Learning\" overly dramatic? Exaggerated? Maybe. Is it way \"off mark?\" It depends on where you went to or go to school. The race thing where the ethnicities just hang around with their own DOES happen. Minus the Hollywood exaggerations, the race thing hit pretty close to home for me.\n",
            "And a made for TV movie too, this movie was good. the acting in it and the plot was just so great. this one of the only movies I've seen that I felt warped my mind because after seeing it I was afraid of Reaper coming to kill me through my computer screen. There were just a few minor things wrong with this movie, but it's very easily over looked.<br /><br />Antonio Sabbato Jr did an excellent role in this movie along with Janine Turner and Robert Wagner. this movie just has so much suspense and it made me wanting more because I never thought a low budget TV movie could be so powerful. After viewing this I read the novel this movie was based on (four times) and it too kicked was great. If you ever see this movie come on TV, I'd watch it. The effects in this movie were pretty well done, I honestly don't know what a live calcifying human would look like but with the way the FX team did this movie I was impressed and all it shows is that all these bad made for TV movies out there with low budgets shouldn't suck so bad.<br /><br />watch it. It's really good, no really, it is!\n",
            "I originally saw this several years ago while I was sitting on the couch and got stuck watching it on HBO. With the remote out of my reach I decided to go with it and was awaiting a miserable movie that I had been avoiding for a year. So it started off and I wasn't very optimistic about it, but after about ten minutes I found myself laughing. The complete opposite as I was expecting. The comedy was smart, the acting pretty good considering, the cast worked very well together, and the story (though slightly awkward and fake) was actually quite entertaining.<br /><br />Three convict brothers manage to escape their sentence and eventually go in search of their fortune. The movie is set in the 1930's. So along the way, they encounter a number of funny and interesting charatcers. All have a different story or achievement they are striving for. Really the majority of the movie may seem random. Some may say it was pointless and boring, but if you look for the smart comedy (and occasionally stupid) that is integrated into the movie, I'm sure you'll enjoy this one.<br /><br />I liked the performances given by George Clooney, John Turturro, and Tim Blake Nelson. All of them did very well in their roles, an they worked great together. But to finish this off, \"O Brother, Where Art Thou?\" is a smart, funny, and a movie adventure that I wouldn't let pass up.\n",
            "I cannot believe someone gave this movie a 1 rating!!! and it is only a 3. average... What is not to love about this film? It is original, it has lots of scare scenes that actually made me jump out of my seat, and it has some great special effects. The story is fresh, there is some nudity, and it is very campy. The killer was scary in his own demented way and the end is very unexpected. I must admit that I really love this film, one of Spain's best horror films ever. If you consider yourself a true horror fan you need to get out there and try to find this film. You will be pleasantly surprised to do so.\n"
          ]
        }
      ],
      "source": [
        "# Testing function\n",
        "\n",
        "result = {}\n",
        "reviews = df['review'].tolist()\n",
        "\n",
        "y = [0 if sentiment == 'positive' else 1 for sentiment in df['sentiment']]\n",
        "result = review_counter(result, reviews, y)\n",
        "# print('Review: \\n', result)\n",
        "\n",
        "\n",
        "naive_bayes(reviews, y, result)"
      ]
    },
    {
      "cell_type": "markdown",
      "id": "XbzttYVnBo7W",
      "metadata": {
        "id": "XbzttYVnBo7W"
      },
      "source": [
        "# Q8. Modularize your calssifier (10 points)\n",
        "1. Convert your code into a python module text_classifier.py\n",
        "\n",
        "2. The user should be able to launch the application on command prompt using python test_classifier.py command. The module will automatically load the model paramters from a local file of your choice and be ready to take the input from user on command prompt. The program will preprocess user input, tokenize and predict the class.\n",
        "\n",
        "3. Your module will take the input from user and output sentiment class in an indefinite loop. The output should printout the probabilities for each input token along with the final classification decision. Program will quit if user enters X.\n"
      ]
    },
    {
      "cell_type": "markdown",
      "id": "82e6e4d1",
      "metadata": {
        "id": "82e6e4d1"
      },
      "source": [
        "# Q9. Theory Questions: (10 points)\n",
        "\n",
        "1. Why is Laplace Smoothing or Additive Smoothing required while executing Naive Bayes operations, especially for text classification? Show how not having additive smoothing leads to bad outcomes by using an example of training and the test set. (10 points)\n",
        "\n",
        "\n",
        "2. Why are logarithmic values computed instead of only probability values in the Naive Bayes algorithm? (5 points)"
      ]
    }
  ],
  "metadata": {
    "colab": {
      "collapsed_sections": [],
      "name": "CS6120_NLP_Assignment_1_Notebook.ipynb",
      "provenance": [],
      "toc_visible": true
    },
    "kernelspec": {
      "display_name": "Python 3 (ipykernel)",
      "language": "python",
      "name": "python3"
    },
    "language_info": {
      "codemirror_mode": {
        "name": "ipython",
        "version": 3
      },
      "file_extension": ".py",
      "mimetype": "text/x-python",
      "name": "python",
      "nbconvert_exporter": "python",
      "pygments_lexer": "ipython3",
      "version": "3.9.5"
    }
  },
  "nbformat": 4,
  "nbformat_minor": 5
}
