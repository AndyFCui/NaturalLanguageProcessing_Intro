{
  "cells": [
    {
      "cell_type": "markdown",
      "metadata": {
        "id": "ni4T_dwEHFVa"
      },
      "source": [
        "## CS 6120: Natural Language Processing - Prof. Ahmad Uzair\n",
        "\n",
        "### Assignment 2: Text Classification and Neural Network\n",
        "### Total Points: 100 points"
      ]
    },
    {
      "cell_type": "markdown",
      "metadata": {
        "id": "loQ22M-bCubq"
      },
      "source": [
        "In Assignment 2, you will be dealing with text classification using Multinomial Naive Bayes and Neural Networks. You will also be dealing with vector visualization.In this assignment you will be using TF-IDF Vectorization instead of Bag of Words. We recommend starting with this assignment a little early as the datasets are quite large and several parts of the assignment might take long duration to execute."
      ]
    },
    {
      "cell_type": "markdown",
      "metadata": {
        "id": "Q3brglC1C0mZ"
      },
      "source": [
        "## Question 1 Text Classification"
      ]
    },
    {
      "cell_type": "markdown",
      "metadata": {
        "id": "IZ1y75IoC3rE"
      },
      "source": [
        "In the first question you will be dealing with 20 News Group Dataset. You are required to implement TF-IDF vectorization from scratch and perform Multinomial Naive Bayes Classification on the News Group Dataset.\n",
        "You may use appropriate packages or modules for fitting the Multinomial Naive Bayes Model, however, the implementation of the TF-IDF Vectorization should be from the scratch."
      ]
    },
    {
      "cell_type": "markdown",
      "metadata": {
        "id": "yRjM45PyC8ML"
      },
      "source": [
        "The 20 newsgroups dataset comprises around 20000 newsgroups posts on 20 topics split in two subsets: one for training (or development) and the other one for testing (or for performance evaluation). The split between the train and test set is based upon a messages posted before and after a specific date.\n",
        "\n",
        "Link to the original dataset: http://archive.ics.uci.edu/ml/datasets/Twenty+Newsgroups\n",
        "\n",
        "You can also import the dataset from sklearn.datasets"
      ]
    },
    {
      "cell_type": "code",
      "execution_count": 31,
      "metadata": {
        "id": "CmFf2INNDJRb"
      },
      "outputs": [],
      "source": [
        "#importing the libraries\n",
        "\n",
        "import numpy as np\n",
        "import sklearn\n",
        "from sklearn.feature_extraction.text import TfidfVectorizer\n",
        "from sklearn.datasets import fetch_20newsgroups\n",
        "from pprint import pprint\n",
        "from sklearn.feature_extraction.text import CountVectorizer\n",
        "from sklearn import preprocessing\n",
        "import pandas as pd\n",
        "import re\n",
        "import numpy as np\n",
        "from nltk.tokenize import  word_tokenize\n",
        "import nltk\n",
        "from sklearn.naive_bayes import MultinomialNB\n",
        "from sklearn import metrics\n",
        "# add more packages\n",
        "from typing import Dict\n",
        "from typing import Set\n",
        "from typing import List"
      ]
    },
    {
      "cell_type": "code",
      "execution_count": 12,
      "metadata": {
        "id": "AEp1SHe5DKCB"
      },
      "outputs": [],
      "source": [
        "# Import the 20 news group dataset utilizing sklearn library\n",
        "\n",
        "mydata_train = fetch_20newsgroups(subset='train', remove=('headers', 'footers', 'quotes'))\n",
        "\n",
        "mydata_test = fetch_20newsgroups(subset='test', remove=('headers', 'footers', 'quotes'))\n"
      ]
    },
    {
      "cell_type": "code",
      "execution_count": 13,
      "metadata": {
        "id": "OscOmcE0DMHa"
      },
      "outputs": [
        {
          "name": "stdout",
          "output_type": "stream",
          "text": [
            "['alt.atheism',\n",
            " 'comp.graphics',\n",
            " 'comp.os.ms-windows.misc',\n",
            " 'comp.sys.ibm.pc.hardware',\n",
            " 'comp.sys.mac.hardware',\n",
            " 'comp.windows.x',\n",
            " 'misc.forsale',\n",
            " 'rec.autos',\n",
            " 'rec.motorcycles',\n",
            " 'rec.sport.baseball',\n",
            " 'rec.sport.hockey',\n",
            " 'sci.crypt',\n",
            " 'sci.electronics',\n",
            " 'sci.med',\n",
            " 'sci.space',\n",
            " 'soc.religion.christian',\n",
            " 'talk.politics.guns',\n",
            " 'talk.politics.mideast',\n",
            " 'talk.politics.misc',\n",
            " 'talk.religion.misc']\n"
          ]
        }
      ],
      "source": [
        "# Print the news groups(target) in the dataset\n",
        "\n",
        "pprint(list(mydata_train.target_names))"
      ]
    },
    {
      "cell_type": "code",
      "execution_count": 14,
      "metadata": {
        "id": "JvQb2r0aDR_J"
      },
      "outputs": [
        {
          "name": "stdout",
          "output_type": "stream",
          "text": [
            "<class 'sklearn.utils._bunch.Bunch'>\n",
            "<class 'sklearn.utils._bunch.Bunch'>\n"
          ]
        }
      ],
      "source": [
        "# What is the type of 'mydata_train' and 'mydata_test'\n",
        "\n",
        "print(type(mydata_train))\n",
        "print(type(mydata_test))"
      ]
    },
    {
      "cell_type": "code",
      "execution_count": 20,
      "metadata": {
        "id": "ozzwyREhDaMK"
      },
      "outputs": [
        {
          "name": "stdout",
          "output_type": "stream",
          "text": [
            "The length of the mydata_train.data is 11314\n",
            "The length of the mydata_train.filenames is 11314\n",
            "The length of the mydata_test.data is 7532\n",
            "The length of the mydata_test.filenames is 7532\n"
          ]
        }
      ],
      "source": [
        "# Check the length of the data\n",
        "\n",
        "print('The length of the {} is {}' .format('mydata_train.data', len(mydata_train.data)))\n",
        "print('The length of the {} is {}' .format('mydata_train.filenames', len(mydata_train.filenames)))\n",
        "print('The length of the {} is {}' .format('mydata_test.data', len(mydata_test.data)))\n",
        "print('The length of the {} is {}' .format('mydata_test.filenames', len(mydata_test.filenames)))"
      ]
    },
    {
      "cell_type": "markdown",
      "metadata": {
        "id": "BlipMuEpDz-K"
      },
      "source": [
        "### Expected Output:\n",
        "11314\n",
        "\n",
        "11314\n",
        "\n",
        "7532\n",
        "\n",
        "7532"
      ]
    },
    {
      "cell_type": "markdown",
      "metadata": {
        "id": "55FKOBBuEDI2"
      },
      "source": [
        "## Extracting Features from the Dataset                        (20 Points)"
      ]
    },
    {
      "cell_type": "markdown",
      "metadata": {
        "id": "u4GDENzmEEkG"
      },
      "source": [
        "In order to perform machine learning on text documents, we first need to turn the text content into numerical feature vectors."
      ]
    },
    {
      "cell_type": "markdown",
      "metadata": {
        "id": "OgxfDXmxEHid"
      },
      "source": [
        "### TF-IDF Vectorization"
      ]
    },
    {
      "cell_type": "markdown",
      "metadata": {
        "id": "Q8qNFFYyEKsa"
      },
      "source": [
        "Our model cannot simply read the text data so we convert it into numerical format. In order to convert the data into numerical format we create vectors from text.\n",
        "\n",
        "For this particular purpose we could either employ Bag of Words or TF-IDF Vectorization\n",
        "\n",
        "Bag of Words just creates a set of vectors containing the count of word occurrences in the document (reviews), while the TF-IDF model contains information on the more important words and the less important ones as well.\n",
        "\n",
        "TF-IDF stands for Term Frequency-Inverse Document Frequency, which instead of giving more weight to words that occur more frequently, it gives a higher weight to words that occur less frequently.\n",
        "\n",
        "Ref:https://www.analyticsvidhya.com/blog/2020/02/quick-introduction-bag-of-words-bow-tf-idf/#:~:text=Bag%20of%20Words%20just%20creates,less%20important%20ones%20as%20well."
      ]
    },
    {
      "cell_type": "markdown",
      "metadata": {
        "id": "dLzgRJRZEP3k"
      },
      "source": [
        "TF-IDF = Term Frequency (TF) * Inverse Document Frequency (IDF)"
      ]
    },
    {
      "cell_type": "markdown",
      "metadata": {
        "id": "xe5lHi3NE1QJ"
      },
      "source": [
        "Term Frequency is the measure of the frequency of words in a document. It is the ratio of the number of times the word appears in a document compared to the total number of words in that document.\n",
        "\n",
        "The words that occur rarely in the corpus have a high IDF score. It is the log of the ratio of the number of documents to the number of documents containing the word."
      ]
    },
    {
      "cell_type": "markdown",
      "metadata": {
        "id": "HXotAER_EQ8T"
      },
      "source": [
        "idf(t) = log(N/(df + 1))"
      ]
    },
    {
      "cell_type": "code",
      "execution_count": 21,
      "metadata": {
        "id": "2vzVI8ylFAEl"
      },
      "outputs": [],
      "source": [
        "text = mydata_train.data\n",
        "test = mydata_test.data"
      ]
    },
    {
      "cell_type": "markdown",
      "metadata": {
        "id": "HZ2AatmvFtE-"
      },
      "source": [
        "## Preprocessing the Corpus"
      ]
    },
    {
      "cell_type": "code",
      "execution_count": 24,
      "metadata": {},
      "outputs": [
        {
          "name": "stderr",
          "output_type": "stream",
          "text": [
            "[nltk_data] Downloading package punkt to C:\\Users\\Andy\n",
            "[nltk_data]     Cui\\AppData\\Roaming\\nltk_data...\n",
            "[nltk_data]   Package punkt is already up-to-date!\n"
          ]
        },
        {
          "data": {
            "text/plain": [
              "True"
            ]
          },
          "execution_count": 24,
          "metadata": {},
          "output_type": "execute_result"
        }
      ],
      "source": [
        "nltk.download('punkt')"
      ]
    },
    {
      "cell_type": "code",
      "execution_count": 44,
      "metadata": {
        "id": "XyJbe42AFuHp"
      },
      "outputs": [],
      "source": [
        "# Preprocessing the data\n",
        "from collections import defaultdict\n",
        "\n",
        "lines: list[str] = []\n",
        "word_list: list[str] = []\n",
        "\n",
        "for line in text:\n",
        "    # tokenize the text documents and update the lists word_list and lines\n",
        "    tokens: list[str] = nltk.word_tokenize(line)\n",
        "    lines.append(tokens)\n",
        "    word_list.extend(tokens)\n",
        "\n",
        "\n",
        "# Make sure the word_list contains unique tokens\n",
        "word_list: list[str] = list(set(word_list))\n",
        "\n",
        "# Calculate the total documents present in the corpus\n",
        "total_docs: int = len(lines)\n",
        "\n",
        "#Create a dictionary to keep track of index of each word\n",
        "dict_idx: int = defaultdict(int)\n",
        "for idx, word in enumerate(word_list):\n",
        "    dict_idx[word] = idx"
      ]
    },
    {
      "cell_type": "code",
      "execution_count": 30,
      "metadata": {
        "id": "E6M_CoI9FxYb"
      },
      "outputs": [],
      "source": [
        "# Create a frequency dictionary\n",
        "\n",
        "def frequency_dict(lines) -> Dict[str, int]: \n",
        "    '''\n",
        "    lines: list containing all the tokens\n",
        "    ---\n",
        "    freq_word: returns a dictionary which keeps the count of the number of documents \n",
        "        containing the given word.\n",
        "    '''\n",
        "    # Initialize the frequency dictionary\n",
        "    freq_word: Dict[int, int] = defaultdict(int)  \n",
        "    \n",
        "    for line in lines:\n",
        "        \n",
        "        # This set will keep track of words already counted for the current line\n",
        "        seen_words: Set[str] = set() \n",
        "         \n",
        "        for word in line:\n",
        "            if word not in seen_words:\n",
        "                freq_word[word] += 1\n",
        "                seen_words.add(word)\n",
        "\n",
        "    return freq_word"
      ]
    },
    {
      "cell_type": "code",
      "execution_count": 42,
      "metadata": {
        "id": "qFkt9KBgFz43"
      },
      "outputs": [
        {
          "data": {
            "text/plain": [
              "defaultdict(int,\n",
              "            {'I': 7676,\n",
              "             'was': 3275,\n",
              "             'wondering': 181,\n",
              "             'if': 3242,\n",
              "             'anyone': 1230,\n",
              "             'out': 2471,\n",
              "             'there': 2708,\n",
              "             'could': 1654,\n",
              "             'enlighten': 13,\n",
              "             'me': 2615,\n",
              "             'on': 5016,\n",
              "             'this': 4655,\n",
              "             'car': 363,\n",
              "             'saw': 258,\n",
              "             'the': 9300,\n",
              "             'other': 2066,\n",
              "             'day': 511,\n",
              "             '.': 10211,\n",
              "             'It': 2491,\n",
              "             'a': 8190,\n",
              "             '2-door': 3,\n",
              "             'sports': 49,\n",
              "             ',': 9419,\n",
              "             'looked': 194,\n",
              "             'to': 8418,\n",
              "             'be': 4911,\n",
              "             'from': 3297,\n",
              "             'late': 163,\n",
              "             '60s/': 1,\n",
              "             'early': 248,\n",
              "             '70s': 9,\n",
              "             'called': 561,\n",
              "             'Bricklin': 2,\n",
              "             'The': 3919,\n",
              "             'doors': 46,\n",
              "             'were': 1693,\n",
              "             'really': 1014,\n",
              "             'small': 422,\n",
              "             'In': 1346,\n",
              "             'addition': 158,\n",
              "             'front': 216,\n",
              "             'bumper': 18,\n",
              "             'separate': 127,\n",
              "             'rest': 314,\n",
              "             'of': 7609,\n",
              "             'body': 230,\n",
              "             'This': 1868,\n",
              "             'is': 6878,\n",
              "             'all': 2880,\n",
              "             'know': 2266,\n",
              "             'If': 2322,\n",
              "             'can': 3297,\n",
              "             'tellme': 1,\n",
              "             'model': 182,\n",
              "             'name': 474,\n",
              "             'engine': 129,\n",
              "             'specs': 62,\n",
              "             'years': 894,\n",
              "             'production': 64,\n",
              "             'where': 1135,\n",
              "             'made': 804,\n",
              "             'history': 261,\n",
              "             'or': 4086,\n",
              "             'whatever': 263,\n",
              "             'info': 340,\n",
              "             'you': 4800,\n",
              "             'have': 5241,\n",
              "             'funky': 5,\n",
              "             'looking': 547,\n",
              "             'please': 633,\n",
              "             'e-mail': 283,\n",
              "             'A': 1205,\n",
              "             'fair': 107,\n",
              "             'number': 657,\n",
              "             'brave': 14,\n",
              "             'souls': 24,\n",
              "             'who': 2136,\n",
              "             'upgraded': 32,\n",
              "             'their': 1771,\n",
              "             'SI': 21,\n",
              "             'clock': 90,\n",
              "             'oscillator': 15,\n",
              "             'shared': 67,\n",
              "             'experiences': 68,\n",
              "             'for': 6104,\n",
              "             'poll': 21,\n",
              "             'Please': 605,\n",
              "             'send': 432,\n",
              "             'brief': 44,\n",
              "             'message': 302,\n",
              "             'detailing': 9,\n",
              "             'your': 2187,\n",
              "             'with': 4817,\n",
              "             'procedure': 50,\n",
              "             'Top': 20,\n",
              "             'speed': 277,\n",
              "             'attained': 7,\n",
              "             'CPU': 71,\n",
              "             'rated': 29,\n",
              "             'add': 255,\n",
              "             'cards': 176,\n",
              "             'and': 7604,\n",
              "             'adapters': 18,\n",
              "             'heat': 74,\n",
              "             'sinks': 8,\n",
              "             'hour': 65,\n",
              "             'usage': 50,\n",
              "             'per': 236,\n",
              "             'floppy': 109,\n",
              "             'disk': 251,\n",
              "             'functionality': 36,\n",
              "             '800': 76,\n",
              "             '1.4': 15,\n",
              "             'm': 29,\n",
              "             'floppies': 29,\n",
              "             'are': 4412,\n",
              "             'especially': 294,\n",
              "             'requested': 44,\n",
              "             'will': 2641,\n",
              "             'summarizing': 5,\n",
              "             'in': 6859,\n",
              "             'next': 444,\n",
              "             'two': 1193,\n",
              "             'days': 394,\n",
              "             'so': 2456,\n",
              "             'network': 151,\n",
              "             'knowledge': 199,\n",
              "             'base': 154,\n",
              "             'done': 575,\n",
              "             'upgrade': 95,\n",
              "             \"n't\": 4211,\n",
              "             'answered': 68,\n",
              "             'Thanks': 983,\n",
              "             'well': 1133,\n",
              "             'folks': 172,\n",
              "             'my': 2676,\n",
              "             'mac': 48,\n",
              "             'plus': 163,\n",
              "             'finally': 157,\n",
              "             'gave': 206,\n",
              "             'up': 2085,\n",
              "             'ghost': 9,\n",
              "             'weekend': 57,\n",
              "             'after': 940,\n",
              "             'starting': 143,\n",
              "             'life': 447,\n",
              "             'as': 3640,\n",
              "             '512k': 6,\n",
              "             'way': 1345,\n",
              "             'back': 951,\n",
              "             '1985.': 1,\n",
              "             'sooo': 2,\n",
              "             'i': 275,\n",
              "             \"'m\": 1610,\n",
              "             'market': 171,\n",
              "             'new': 1099,\n",
              "             'machine': 285,\n",
              "             'bit': 570,\n",
              "             'sooner': 27,\n",
              "             'than': 1956,\n",
              "             'intended': 155,\n",
              "             '...': 2254,\n",
              "             'into': 1332,\n",
              "             'picking': 29,\n",
              "             'powerbook': 7,\n",
              "             '160': 34,\n",
              "             'maybe': 371,\n",
              "             '180': 19,\n",
              "             'bunch': 122,\n",
              "             'questions': 359,\n",
              "             'that': 6459,\n",
              "             '(': 5890,\n",
              "             'hopefully': 46,\n",
              "             ')': 6169,\n",
              "             'somebody': 137,\n",
              "             'answer': 357,\n",
              "             ':': 3942,\n",
              "             '*': 1444,\n",
              "             'does': 1902,\n",
              "             'anybody': 303,\n",
              "             'any': 2538,\n",
              "             'dirt': 26,\n",
              "             'when': 1832,\n",
              "             'round': 99,\n",
              "             'introductions': 1,\n",
              "             'expected': 147,\n",
              "             '?': 4958,\n",
              "             \"'d\": 896,\n",
              "             'heard': 482,\n",
              "             '185c': 1,\n",
              "             'supposed': 193,\n",
              "             'make': 1326,\n",
              "             'an': 3343,\n",
              "             'appearence': 2,\n",
              "             '``': 3329,\n",
              "             'summer': 93,\n",
              "             \"''\": 3697,\n",
              "             'but': 3963,\n",
              "             'anymore': 72,\n",
              "             'it': 6083,\n",
              "             '-': 2275,\n",
              "             'since': 883,\n",
              "             'do': 3907,\n",
              "             'access': 276,\n",
              "             'macleak': 1,\n",
              "             'had': 1726,\n",
              "             'more': 2181,\n",
              "             'has': 2728,\n",
              "             'rumors': 31,\n",
              "             'about': 3008,\n",
              "             'price': 317,\n",
              "             'drops': 25,\n",
              "             'line': 474,\n",
              "             'like': 2453,\n",
              "             'ones': 290,\n",
              "             'duo': 4,\n",
              "             \"'s\": 4112,\n",
              "             'just': 2192,\n",
              "             'went': 293,\n",
              "             'through': 781,\n",
              "             'recently': 264,\n",
              "             'what': 2461,\n",
              "             'impression': 57,\n",
              "             'display': 199,\n",
              "             'probably': 732,\n",
              "             'swing': 17,\n",
              "             'got': 858,\n",
              "             '80Mb': 1,\n",
              "             'rather': 584,\n",
              "             '120': 62,\n",
              "             'feel': 363,\n",
              "             'how': 1593,\n",
              "             'much': 1414,\n",
              "             'better': 824,\n",
              "             'yea': 7,\n",
              "             'looks': 242,\n",
              "             'great': 549,\n",
              "             'store': 93,\n",
              "             'wow': 9,\n",
              "             'good': 1416,\n",
              "             'solicit': 5,\n",
              "             'some': 2455,\n",
              "             'opinions': 170,\n",
              "             'people': 1754,\n",
              "             'use': 1602,\n",
              "             'day-to-day': 7,\n",
              "             'its': 973,\n",
              "             'worth': 251,\n",
              "             'taking': 244,\n",
              "             'size': 245,\n",
              "             'money': 363,\n",
              "             'hit': 200,\n",
              "             'get': 2136,\n",
              "             'active': 84,\n",
              "             'realize': 154,\n",
              "             'real': 556,\n",
              "             'subjective': 32,\n",
              "             'question': 726,\n",
              "             \"'ve\": 1145,\n",
              "             'only': 2043,\n",
              "             'played': 131,\n",
              "             'around': 765,\n",
              "             'machines': 139,\n",
              "             'computer': 336,\n",
              "             'breifly': 2,\n",
              "             'figured': 43,\n",
              "             'actually': 534,\n",
              "             'uses': 290,\n",
              "             'daily': 55,\n",
              "             'might': 887,\n",
              "             'prove': 151,\n",
              "             'helpful': 97,\n",
              "             'hellcats': 1,\n",
              "             'perform': 78,\n",
              "             ';': 1377,\n",
              "             'thanks': 196,\n",
              "             'advance': 337,\n",
              "             'email': 373,\n",
              "             \"'ll\": 842,\n",
              "             'post': 538,\n",
              "             'summary': 85,\n",
              "             'news': 264,\n",
              "             'reading': 272,\n",
              "             'time': 1657,\n",
              "             'at': 3304,\n",
              "             'premium': 15,\n",
              "             'finals': 23,\n",
              "             'corner': 62,\n",
              "             '--': 2596,\n",
              "             'Tom': 97,\n",
              "             'Willis': 9,\n",
              "             '\\\\': 73,\n",
              "             'twillis': 1,\n",
              "             '@': 1804,\n",
              "             'ecn.purdue.edu': 4,\n",
              "             'Purdue': 6,\n",
              "             'Electrical': 16,\n",
              "             'Engineering': 52,\n",
              "             'Do': 562,\n",
              "             'Weitek': 8,\n",
              "             'address/phone': 3,\n",
              "             'information': 636,\n",
              "             'chip': 262,\n",
              "             'From': 363,\n",
              "             'article': 376,\n",
              "             '<': 536,\n",
              "             'C5owCB.n3p': 1,\n",
              "             'world.std.com': 13,\n",
              "             '>': 998,\n",
              "             'by': 2952,\n",
              "             'tombaker': 1,\n",
              "             'Baker': 13,\n",
              "             'My': 736,\n",
              "             'understanding': 139,\n",
              "             \"'expected\": 2,\n",
              "             'errors': 99,\n",
              "             \"'\": 1082,\n",
              "             'basically': 120,\n",
              "             'known': 335,\n",
              "             'bugs': 41,\n",
              "             'warning': 59,\n",
              "             'system': 838,\n",
              "             'software': 387,\n",
              "             'things': 848,\n",
              "             'checked': 86,\n",
              "             'right': 1053,\n",
              "             'values': 118,\n",
              "             'yet': 466,\n",
              "             'because': 1346,\n",
              "             'they': 3007,\n",
              "             \"aren't\": 19,\n",
              "             'set': 587,\n",
              "             'till': 43,\n",
              "             'launch': 90,\n",
              "             'suchlike': 4,\n",
              "             'Rather': 55,\n",
              "             'fix': 115,\n",
              "             'code': 285,\n",
              "             'possibly': 173,\n",
              "             'introduce': 22,\n",
              "             'tell': 652,\n",
              "             'crew': 31,\n",
              "             \"'ok\": 2,\n",
              "             'see': 1284,\n",
              "             'no': 2177,\n",
              "             '213': 21,\n",
              "             'before': 917,\n",
              "             'liftoff': 8,\n",
              "             'ignore': 74,\n",
              "             'Of': 409,\n",
              "             'course': 708,\n",
              "             'term': 157,\n",
              "             'must': 779,\n",
              "             'rigidly': 1,\n",
              "             'defined': 94,\n",
              "             'bill': 63,\n",
              "             'doubt': 216,\n",
              "             'she': 246,\n",
              "             'You': 1361,\n",
              "             'using': 918,\n",
              "             'quote': 140,\n",
              "             'allegedly': 16,\n",
              "             'her': 255,\n",
              "             'read': 706,\n",
              "             'presenting': 21,\n",
              "             'first': 1133,\n",
              "             'argument': 240,\n",
              "             'weapons': 149,\n",
              "             'mass': 90,\n",
              "             'destruction': 40,\n",
              "             'commonly': 51,\n",
              "             'understood': 69,\n",
              "             'then': 1520,\n",
              "             'switching': 36,\n",
              "             'topics': 49,\n",
              "             'point': 872,\n",
              "             'evidently': 11,\n",
              "             'show': 348,\n",
              "             'not': 4463,\n",
              "             'should': 1524,\n",
              "             'allowed': 165,\n",
              "             'later': 320,\n",
              "             'analysis': 94,\n",
              "             'given': 440,\n",
              "             'consider': 315,\n",
              "             'another': 764,\n",
              "             'class': 143,\n",
              "             'There': 1110,\n",
              "             'few': 826,\n",
              "             'responded': 53,\n",
              "             'request': 130,\n",
              "             'treatment': 102,\n",
              "             'astrocytomas': 1,\n",
              "             'whom': 125,\n",
              "             'thank': 69,\n",
              "             'directly': 202,\n",
              "             'mail-bouncing': 1,\n",
              "             'probs': 5,\n",
              "             'Sean': 16,\n",
              "             'Debra': 1,\n",
              "             'Sharon': 12,\n",
              "             'So': 861,\n",
              "             'thought': 532,\n",
              "             'publicly': 55,\n",
              "             'everyone': 313,\n",
              "             '!': 2261,\n",
              "             'sure': 810,\n",
              "             'glad': 75,\n",
              "             'accidentally': 17,\n",
              "             'rn': 3,\n",
              "             'instead': 329,\n",
              "             'rm': 18,\n",
              "             'trying': 543,\n",
              "             'delete': 27,\n",
              "             'file': 401,\n",
              "             'last': 831,\n",
              "             'September': 40,\n",
              "             'Hmmm': 60,\n",
              "             \"'News\": 1,\n",
              "             \"What's\": 6,\n",
              "             '....': 435,\n",
              "             'ALL': 104,\n",
              "             'shows': 173,\n",
              "             'YOU': 90,\n",
              "             'SCSI': 142,\n",
              "             'SCSI-1': 10,\n",
              "             '{': 146,\n",
              "             'controler': 12,\n",
              "             '}': 173,\n",
              "             'range': 150,\n",
              "             'indeed': 161,\n",
              "             '0-5MB/s': 4,\n",
              "             'With': 247,\n",
              "             'SCSI-2': 15,\n",
              "             'controller': 134,\n",
              "             '4-6MB/s': 8,\n",
              "             '10MB/s': 7,\n",
              "             'burst': 29,\n",
              "             '8-bit': 38,\n",
              "             'Note': 206,\n",
              "             'INCREASE': 7,\n",
              "             'SPEED': 4,\n",
              "             'Mac': 183,\n",
              "             'Quadra': 52,\n",
              "             'version': 364,\n",
              "             'DOES': 33,\n",
              "             'exist': 235,\n",
              "             'Some': 355,\n",
              "             'PC': 259,\n",
              "             'too': 1127,\n",
              "             '8-bit/SCSI-1': 2,\n",
              "             'mode': 206,\n",
              "             '16-bit/wide': 3,\n",
              "             'fast': 245,\n",
              "             '8-12MB/s': 7,\n",
              "             '20MB/s': 7,\n",
              "             '32-bit/wide': 6,\n",
              "             'AND': 160,\n",
              "             '15-20MB/s': 7,\n",
              "             '40MB/s': 7,\n",
              "             'By': 276,\n",
              "             'OWN': 8,\n",
              "             'data': 420,\n",
              "             'Although': 122,\n",
              "             'twice': 94,\n",
              "             'ESDI': 18,\n",
              "             'correct': 306,\n",
              "             'reach': 106,\n",
              "             'which': 2219,\n",
              "             '20': 366,\n",
              "             '%': 412,\n",
              "             'faster': 157,\n",
              "             'IDE': 94,\n",
              "             '8.3': 7,\n",
              "             '9.96': 2,\n",
              "             'these': 1358,\n",
              "             'facts': 107,\n",
              "             'been': 1820,\n",
              "             'posted': 292,\n",
              "             'newsgroup': 187,\n",
              "             '&': 590,\n",
              "             'IBM': 135,\n",
              "             'sheet': 51,\n",
              "             'available': 564,\n",
              "             'FTP': 97,\n",
              "             'sumex-aim.stanford.edu': 8,\n",
              "             '36.44.0.6': 4,\n",
              "             'info-mac/report': 3,\n",
              "             'mac-ibm-compare': 1,\n",
              "             '[': 849,\n",
              "             '#': 448,\n",
              "             ']': 855,\n",
              "             '.txt': 2,\n",
              "             '173': 7,\n",
              "             '161': 11,\n",
              "             'may': 1161,\n",
              "             'still': 968,\n",
              "             'Part': 56,\n",
              "             'problem': 1004,\n",
              "             'both': 789,\n",
              "             'inconsiant': 1,\n",
              "             'Though': 54,\n",
              "             'WELL': 7,\n",
              "             'documented': 34,\n",
              "             'Apple': 148,\n",
              "             'salesperson': 4,\n",
              "             'said': 839,\n",
              "             'Not': 420,\n",
              "             '6MB/s': 2,\n",
              "             '5MB/s': 6,\n",
              "             'maximum': 67,\n",
              "             'synchronous': 13,\n",
              "             'ANsynchronous': 1,\n",
              "             'SLOWER': 2,\n",
              "             'seems': 654,\n",
              "             'interface': 131,\n",
              "             'think': 1864,\n",
              "             \"'SCSI-1\": 2,\n",
              "             'driven': 70,\n",
              "             'SCSi-2': 1,\n",
              "             'Which': 140,\n",
              "             'MUCH': 34,\n",
              "             'FASTER': 5,\n",
              "             'true': 538,\n",
              "             'go': 911,\n",
              "             'win': 184,\n",
              "             '3.0': 78,\n",
              "             'downloaded': 23,\n",
              "             'several': 485,\n",
              "             'icons': 24,\n",
              "             'BMP': 14,\n",
              "             'ca': 800,\n",
              "             'figure': 203,\n",
              "             'change': 408,\n",
              "             'wallpaper': 11,\n",
              "             'Any': 532,\n",
              "             'help': 809,\n",
              "             'would': 3214,\n",
              "             'appreciated': 289,\n",
              "             'Thanx': 46,\n",
              "             '-Brando': 1,\n",
              "             'board': 213,\n",
              "             'over': 1061,\n",
              "             'year': 701,\n",
              "             'work': 1002,\n",
              "             'Diskdoubler': 1,\n",
              "             'Autodoubler': 1,\n",
              "             'due': 287,\n",
              "             'licensing': 19,\n",
              "             'Stac': 1,\n",
              "             'Technologies': 22,\n",
              "             'owners': 89,\n",
              "             'compression': 60,\n",
              "             'technology': 142,\n",
              "             'writing': 159,\n",
              "             'memory': 296,\n",
              "             'lost': 208,\n",
              "             'reference': 175,\n",
              "             'wrong': 507,\n",
              "             'Using': 60,\n",
              "             'problems': 517,\n",
              "             'being': 1117,\n",
              "             \"it's\": 85,\n",
              "             'hard': 494,\n",
              "             'say': 1127,\n",
              "             'whether': 420,\n",
              "             'fault': 87,\n",
              "             'something': 1059,\n",
              "             'else': 556,\n",
              "             'however': 370,\n",
              "             'decompress': 3,\n",
              "             'troubled': 6,\n",
              "             'recompress': 2,\n",
              "             'without': 807,\n",
              "             'icon': 34,\n",
              "             'usually': 306,\n",
              "             'reappears': 3,\n",
              "             'Because': 163,\n",
              "             'above': 517,\n",
              "             'mentioned': 249,\n",
              "             'freeware': 14,\n",
              "             'expansion': 78,\n",
              "             'utility': 59,\n",
              "             'DD': 9,\n",
              "             'Expand': 1,\n",
              "             'board-compressed': 1,\n",
              "             'unless': 298,\n",
              "             'installed': 159,\n",
              "             'Since': 303,\n",
              "             'own': 790,\n",
              "             'product': 159,\n",
              "             'now': 1118,\n",
              "             'unlikely': 74,\n",
              "             'holes': 51,\n",
              "             'Autodoubler/Diskdoubler': 1,\n",
              "             'related': 185,\n",
              "             'fixed': 107,\n",
              "             'sad': 45,\n",
              "             'makes': 450,\n",
              "             'very': 1395,\n",
              "             'reluctant': 13,\n",
              "             'buy': 360,\n",
              "             \"'re\": 813,\n",
              "             'stinky': 1,\n",
              "             'But': 1141,\n",
              "             'hey': 34,\n",
              "             'competition': 35,\n",
              "             'Ducati': 5,\n",
              "             '900GTS': 1,\n",
              "             '1978': 31,\n",
              "             '17k': 1,\n",
              "             'Runs': 19,\n",
              "             'paint': 54,\n",
              "             'bronze/brown/orange': 1,\n",
              "             'faded': 3,\n",
              "             'leaks': 12,\n",
              "             'oil': 79,\n",
              "             'pops': 21,\n",
              "             '1st': 93,\n",
              "             'accel': 2,\n",
              "             'shop': 52,\n",
              "             'trans': 6,\n",
              "             'leak': 13,\n",
              "             'They': 1033,\n",
              "             'sold': 132,\n",
              "             'bike': 175,\n",
              "             '1': 1165,\n",
              "             'owner': 81,\n",
              "             'want': 1198,\n",
              "             '$': 1114,\n",
              "             '3495': 1,\n",
              "             'am': 1455,\n",
              "             'thinking': 224,\n",
              "             '3K': 10,\n",
              "             'nice': 330,\n",
              "             'stable': 47,\n",
              "             'mate': 5,\n",
              "             'Beemer': 4,\n",
              "             'Then': 270,\n",
              "             'jap': 1,\n",
              "             'call': 491,\n",
              "             'myself': 255,\n",
              "             'Axis': 5,\n",
              "             'Motors': 5,\n",
              "             'Tuba': 3,\n",
              "             'Irwin': 3,\n",
              "             'honk': 4,\n",
              "             'therefore': 148,\n",
              "             'CompuTrac-Richardson': 3,\n",
              "             'Tx': 5,\n",
              "             'irwin': 3,\n",
              "             'cmptrc.lonestar.org': 3,\n",
              "             'DoD': 84,\n",
              "             '0826': 3,\n",
              "             'R75/6': 3,\n",
              "             'Yep': 24,\n",
              "             'pretty': 429,\n",
              "             'Jew': 41,\n",
              "             'understand': 366,\n",
              "             'Jewish': 156,\n",
              "             'However': 488,\n",
              "             'Jews': 180,\n",
              "             'believe': 840,\n",
              "             'Covenant': 6,\n",
              "             'between': 764,\n",
              "             'YHWH': 1,\n",
              "             'Patriarchs': 2,\n",
              "             'Abraham': 20,\n",
              "             'Moses': 19,\n",
              "             'case': 734,\n",
              "             'establishes': 8,\n",
              "             'Moral': 9,\n",
              "             'Code': 54,\n",
              "             'follow': 189,\n",
              "             'mankind': 33,\n",
              "             'Even': 264,\n",
              "             'decide': 130,\n",
              "             'boundaries': 22,\n",
              "             'fall': 138,\n",
              "             'though': 664,\n",
              "             'As': 877,\n",
              "             'Sadducees': 1,\n",
              "             'believed': 99,\n",
              "             'Torah': 11,\n",
              "             'required': 201,\n",
              "             'whereas': 44,\n",
              "             'Pharisees': 9,\n",
              "             'ancestors': 15,\n",
              "             'modern': 117,\n",
              "             'Judaism': 27,\n",
              "             'interpretation': 77,\n",
              "             'lead': 143,\n",
              "             'Morality': 8,\n",
              "             'nuances': 4,\n",
              "             'Talmud': 2,\n",
              "             'essence': 30,\n",
              "             'Biblical': 45,\n",
              "             'Man': 53,\n",
              "             'Christian': 235,\n",
              "             'necessarily': 137,\n",
              "             'indicate': 70,\n",
              "             'anything': 731,\n",
              "             'outside': 219,\n",
              "             'relationship': 80,\n",
              "             'although': 268,\n",
              "             'one': 2876,\n",
              "             'speculate': 23,\n",
              "             'trouble': 166,\n",
              "             'we': 1679,\n",
              "             'created': 174,\n",
              "             'His': 213,\n",
              "             'image': 184,\n",
              "             'means': 474,\n",
              "             'different': 643,\n",
              "             'come': 701,\n",
              "             'conclusion': 106,\n",
              "             'upsets': 2,\n",
              "             'Cart': 1,\n",
              "             'wants': 218,\n",
              "             'Life': 45,\n",
              "             'Script': 3,\n",
              "             'shaky': 8,\n",
              "             'foundation': 30,\n",
              "             'mix': 35,\n",
              "             'metaphors': 3,\n",
              "             'unashamedly': 1,\n",
              "             'living': 190,\n",
              "             'Christ': 190,\n",
              "             'example': 518,\n",
              "             'little': 729,\n",
              "             'Jesus': 255,\n",
              "             'person': 467,\n",
              "             'We': 740,\n",
              "             'his': 1207,\n",
              "             'recorded': 40,\n",
              "             'utterances': 2,\n",
              "             'narratives': 3,\n",
              "             'followers': 54,\n",
              "             'references': 111,\n",
              "             'comtemporary': 1,\n",
              "             'historians': 18,\n",
              "             'Revelation': 17,\n",
              "             'aside': 77,\n",
              "             'second-hand': 9,\n",
              "             'worse': 147,\n",
              "             'attempt': 140,\n",
              "             'debunk': 5,\n",
              "             'Christianity': 122,\n",
              "             'seem': 499,\n",
              "             'initially': 33,\n",
              "             '`': 128,\n",
              "             'Bible': 194,\n",
              "             'interpret': 49,\n",
              "             'humanity': 43,\n",
              "             'guess': 345,\n",
              "             'Faith': 23,\n",
              "             'Relevation': 1,\n",
              "             'comes': 400,\n",
              "             'inherent': 31,\n",
              "             'subjectiveness': 1,\n",
              "             'No': 708,\n",
              "             'absolute': 79,\n",
              "             'moral': 122,\n",
              "             'undoubtably': 3,\n",
              "             'multiple': 117,\n",
              "             'codes': 42,\n",
              "             'founded': 35,\n",
              "             'parent': 35,\n",
              "             'child': 111,\n",
              "             'never': 792,\n",
              "             'swear': 19,\n",
              "             'assume': 258,\n",
              "             'swears': 6,\n",
              "             'simply': 365,\n",
              "             'told': 355,\n",
              "             'Now': 475,\n",
              "             'trooper': 1,\n",
              "             'pub': 6,\n",
              "             'bar': 52,\n",
              "             'children': 259,\n",
              "             'wrongness': 2,\n",
              "             'here': 1115,\n",
              "             'disobeys': 1,\n",
              "             'inappropriate': 20,\n",
              "             'quite': 522,\n",
              "             'happy': 160,\n",
              "             'animals': 68,\n",
              "             'analogy': 44,\n",
              "             'hold': 218,\n",
              "             'water': 118,\n",
              "             'knows': 251,\n",
              "             'he': 1443,\n",
              "             'same': 1187,\n",
              "             'type': 281,\n",
              "             'gist': 6,\n",
              "             'Incidentally': 18,\n",
              "             'young': 124,\n",
              "             'considers': 22,\n",
              "             'directive': 10,\n",
              "             'until': 450,\n",
              "             'gets': 282,\n",
              "             'older': 104,\n",
              "             'Piaget': 1,\n",
              "             'learns': 2,\n",
              "             'morality': 64,\n",
              "             'David': 247,\n",
              "             'On': 406,\n",
              "             'religion': 193,\n",
              "             'Description': 20,\n",
              "             'External': 15,\n",
              "             'Tank': 9,\n",
              "             'option': 127,\n",
              "             'SSF': 10,\n",
              "             'redesign': 12,\n",
              "             'deleted': 224,\n",
              "             'Yo': 9,\n",
              "             'Ken': 72,\n",
              "             'let': 575,\n",
              "             'keep': 521,\n",
              "             'on-top': 1,\n",
              "             'Both': 144,\n",
              "             'Wingless': 1,\n",
              "             'Orbiter': 17,\n",
              "             'options': 105,\n",
              "             'list': 436,\n",
              "             'Today': 81,\n",
              "             '4/23': 4,\n",
              "             'edition': 61,\n",
              "             'New': 365,\n",
              "             'York': 163,\n",
              "             'Times': 66,\n",
              "             'reports': 147,\n",
              "             \"O'Connor\": 6,\n",
              "             'panel': 63,\n",
              "             'proposals': 27,\n",
              "             'dropped': 61,\n",
              "             'such': 1188,\n",
              "             'giant': 18,\n",
              "             'external': 112,\n",
              "             'fuel': 65,\n",
              "             'tanks': 53,\n",
              "             'used': 1176,\n",
              "             'launching': 12,\n",
              "             'space': 304,\n",
              "             'shuttles': 4,\n",
              "             'building': 164,\n",
              "             'station': 111,\n",
              "             'existing': 114,\n",
              "             'shuttle': 39,\n",
              "             'wings': 23,\n",
              "             'tail': 25,\n",
              "             'removed': 91,\n",
              "             'Currently': 58,\n",
              "             'three': 430,\n",
              "             'considered': 238,\n",
              "             'presented': 92,\n",
              "             'advisory': 7,\n",
              "             'meeting': 73,\n",
              "             'yesterday': 75,\n",
              "             'reported': 119,\n",
              "             'today': 352,\n",
              "             'Option': 8,\n",
              "             'Low': 20,\n",
              "             'Cost': 25,\n",
              "             'Modular': 7,\n",
              "             'Approach': 8,\n",
              "             'studied': 36,\n",
              "             'team': 334,\n",
              "             'MSFC': 5,\n",
              "             'teams': 149,\n",
              "             'JSC': 9,\n",
              "             'LaRC': 4,\n",
              "             'supporting': 67,\n",
              "             'SRT': 1,\n",
              "             'Station': 39,\n",
              "             'Redesign': 6,\n",
              "             'Team': 35,\n",
              "             'Crystal': 11,\n",
              "             'City': 96,\n",
              "             'LeRC': 3,\n",
              "             'Reston': 7,\n",
              "             'also': 1596,\n",
              "             'on-site': 7,\n",
              "             'locations': 28,\n",
              "             'helping': 39,\n",
              "             'respective': 20,\n",
              "             'activities': 91,\n",
              "             'Key': 48,\n",
              "             'features': 111,\n",
              "             'Uses': 10,\n",
              "             'Bus-1': 2,\n",
              "             'modular': 9,\n",
              "             'bus': 138,\n",
              "             'developed': 123,\n",
              "             'Lockheed': 8,\n",
              "             \"that's\": 36,\n",
              "             'qualified': 33,\n",
              "             'STS': 11,\n",
              "             'ELV': 4,\n",
              "             'provides': 123,\n",
              "             'propulsion': 13,\n",
              "             'GN': 7,\n",
              "             'C': 217,\n",
              "             'Communications': 39,\n",
              "             'Data': 71,\n",
              "             'Management': 25,\n",
              "             'Air': 44,\n",
              "             'Force': 45,\n",
              "             'Power': 82,\n",
              "             'Capability': 3,\n",
              "             'obtained': 85,\n",
              "             '3': 816,\n",
              "             'Shuttle': 48,\n",
              "             'Flights': 3,\n",
              "             'Solar': 25,\n",
              "             'arrays': 11,\n",
              "             'provide': 323,\n",
              "             'kW': 1,\n",
              "             'power': 503,\n",
              "             'vehicle': 91,\n",
              "             'flies': 7,\n",
              "             'arrow': 8,\n",
              "             'optimize': 6,\n",
              "             'microgravity': 3,\n",
              "             'environment': 110,\n",
              "             'Shuttle/Spacelab': 2,\n",
              "             'missions': 29,\n",
              "             'utilize': 10,\n",
              "             'vehilce': 1,\n",
              "             'source': 306,\n",
              "             '30': 289,\n",
              "             'Human': 49,\n",
              "             'tended': 19,\n",
              "             'capability': 70,\n",
              "             'opposed': 92,\n",
              "             'old': 557,\n",
              "             'sexist': 6,\n",
              "             'man-tended': 1,\n",
              "             'achieved': 34,\n",
              "             'US': 342,\n",
              "             'Common': 18,\n",
              "             'module': 34,\n",
              "             'modified': 56,\n",
              "             'Lab': 24,\n",
              "             'docking': 8,\n",
              "             'ports': 72,\n",
              "             'added': 132,\n",
              "             'International': 91,\n",
              "             'Partners': 6,\n",
              "             'labs': 10,\n",
              "             'place': 522,\n",
              "             'nodes': 9,\n",
              "             'docked': 3,\n",
              "             '60': 146,\n",
              "             'habitability': 1,\n",
              "             'EVA': 3,\n",
              "             'Tended': 2,\n",
              "             'Add': 24,\n",
              "             'NASDA': 6,\n",
              "             'ESA': 13,\n",
              "             'modules': 25,\n",
              "             'Permanent': 5,\n",
              "             'Presence': 1,\n",
              "             '3rd': 93,\n",
              "             'U.S.': 204,\n",
              "             'habitation': 2,\n",
              "             'ACRV': 2,\n",
              "             'Assured': 2,\n",
              "             'Crew': 6,\n",
              "             'Return': 17,\n",
              "             'Vehicle': 14,\n",
              "             'B': 158,\n",
              "             'Space': 115,\n",
              "             'Freedom': 35,\n",
              "             'Derived': 2,\n",
              "             'based': 422,\n",
              "             'Mike': 159,\n",
              "             'Griffin': 8,\n",
              "             'alot': 44,\n",
              "             'design': 166,\n",
              "             'love': 226,\n",
              "             'assumes': 41,\n",
              "             'lightweight': 7,\n",
              "             'tank': 60,\n",
              "             'assembly': 39,\n",
              "             'flights': 16,\n",
              "             'Also': 517,\n",
              "             'computed': 16,\n",
              "             '51.6': 1,\n",
              "             'inclination': 12,\n",
              "             'orbit': 77,\n",
              "             'build-up': 2,\n",
              "             'occurs': 77,\n",
              "             'six': 121,\n",
              "             'phases': 5,\n",
              "             'Initial': 7,\n",
              "             'Research': 140,\n",
              "             'reached': 78,\n",
              "             'transferred': 19,\n",
              "             'Orbiter/Spacelab': 1,\n",
              "             ...})"
            ]
          },
          "execution_count": 42,
          "metadata": {},
          "output_type": "execute_result"
        }
      ],
      "source": [
        "# Create a dictionary containing the frequency of words utilizing the 'frequency_dict' function\n",
        "\n",
        "# Expect this chunk to take a comparatively longer time to execute since our dataset is large\n",
        "\n",
        "freq_word: Dict[str, int] = frequency_dict(lines)\n",
        "\n",
        "freq_word"
      ]
    },
    {
      "cell_type": "markdown",
      "metadata": {},
      "source": [
        "TF = $\\frac{Number \\ of \\ times \\ term \\ t \\ appears \\ in \\ a \\ document}{Total \\ number \\ of \\ terms \\ in \\ the \\ document}$"
      ]
    },
    {
      "cell_type": "code",
      "execution_count": 40,
      "metadata": {
        "id": "vLvPijR_GKHn"
      },
      "outputs": [],
      "source": [
        "# Create a function to calculate the Term Frequency\n",
        "\n",
        "def term_frequency(document: List[str], word: str) -> float:\n",
        "    '''\n",
        "    document: list containing the entire corpus\n",
        "    word: word whose term frequency is to be calculated\n",
        "    ---\n",
        "    tf: returns term frequency value\n",
        "    '''\n",
        "    \n",
        "    # Count the total number of tokens in the document\n",
        "    total_terms: int = len(document)\n",
        "\n",
        "    # Count the number of times the word appears in the document\n",
        "    word_count: int = document.count(word)\n",
        "    \n",
        "    # Calculate Term Frequency\n",
        "    tf: float = word_count / total_terms if total_terms > 0 else 0.0\n",
        "\n",
        "    return tf"
      ]
    },
    {
      "cell_type": "markdown",
      "metadata": {},
      "source": [
        "IDF = log $\\frac{Total \\ number \\ of \\ documents}{Number \\ of \\ documents \\ containing \\ term \\ t}$"
      ]
    },
    {
      "cell_type": "code",
      "execution_count": null,
      "metadata": {
        "id": "HA99G_yAGLCC"
      },
      "outputs": [],
      "source": [
        "# Create a function to calculate the Inverse Document Frequency\n",
        "\n",
        "def inverse_df(word: str) -> float:\n",
        "    '''\n",
        "    word: word whose inverse document frequency is to be calculated\n",
        "    ---\n",
        "    idf: return inverse document frequency value\n",
        "    '''\n",
        "    # Count the number of documents containing the word\n",
        "    \n",
        "\n",
        "    return idf"
      ]
    },
    {
      "cell_type": "code",
      "execution_count": null,
      "metadata": {
        "id": "F0irgwv2GRfE"
      },
      "outputs": [],
      "source": [
        "#Create a function to combine the term frequencies (TF) and inverse document (IDF) frequencies calculated above to get TF-IDF\n",
        "\n",
        "def tfidf(sentence,dict_idx):\n",
        "    '''\n",
        "    sentence: list containing the entire corpus\n",
        "    dict: dictionary keeping track of index of each word\n",
        "    ---\n",
        "    tf_idf_vec: returns computed tf-idf\n",
        "    '''\n",
        "\n",
        "    return tf_idf_vec"
      ]
    },
    {
      "cell_type": "code",
      "execution_count": null,
      "metadata": {
        "id": "_VKJhqatGWpV"
      },
      "outputs": [],
      "source": [
        "#Compute the vectors utilizing the 'tfidf' function created above to obtain a TF-IDF Encoded text corpus\n",
        "\n"
      ]
    },
    {
      "cell_type": "markdown",
      "metadata": {
        "id": "LE0UGUaSGb8I"
      },
      "source": [
        "## Multinomial Naive Bayes (10 Points)"
      ]
    },
    {
      "cell_type": "code",
      "execution_count": null,
      "metadata": {
        "id": "yWYcxrdJGfDC"
      },
      "outputs": [],
      "source": [
        "#Fit a Multinomial Naive Bayes Model on our dataset\n",
        "\n",
        "model =\n"
      ]
    },
    {
      "cell_type": "code",
      "execution_count": null,
      "metadata": {
        "id": "G6CiQB4qGfqH"
      },
      "outputs": [],
      "source": [
        "#Perform testing on the train dataset\n",
        "\n",
        "pred ="
      ]
    },
    {
      "cell_type": "code",
      "execution_count": null,
      "metadata": {
        "id": "yCLagGu6Gh6T"
      },
      "outputs": [],
      "source": [
        "#Calculate the F1 Score and the Accuracy\n",
        "\n",
        "F1_score =\n",
        "Accuracy =\n",
        "print(\"F1 Score: \", F1_score)\n",
        "print(\"Accuracy: \", Accuracy)"
      ]
    },
    {
      "cell_type": "markdown",
      "metadata": {
        "id": "bbMRqJv5Gl2F"
      },
      "source": [
        "### Expected Output:\n",
        "F1 Score: 0.9533633964397735\n",
        "\n",
        "Accuracy: 0.9524482941488421"
      ]
    },
    {
      "cell_type": "markdown",
      "metadata": {
        "id": "AWRDuUqU-taV"
      },
      "source": [
        "Your accuracy does not have to be exactly the same. This is just to give you an estimate of what could you expect your accuracy to be around."
      ]
    },
    {
      "cell_type": "markdown",
      "metadata": {
        "id": "UfMc8cz93Cc0"
      },
      "source": [
        "## Question 2 Vector Visualization"
      ]
    },
    {
      "cell_type": "markdown",
      "metadata": {
        "id": "70iwEeL23F7K"
      },
      "source": [
        "In this unsupervised learning task we are going to cluster wikipedia articles into groups using T-SNE visualization after vectorization."
      ]
    },
    {
      "cell_type": "markdown",
      "metadata": {
        "id": "UHx4YuxW36oM"
      },
      "source": [
        "### Collect articles from Wikipedia (10 points)\n",
        "\n",
        "In this section we will download articles from wikipedia and then vectorize them in the next step. You can select somewhat related topics or fetch the articles randomly.\n",
        "(Use dir() and help() functions or refer wikipedia documentation)\n",
        "You may also pick any other data source of your choice instead of wikipedia."
      ]
    },
    {
      "cell_type": "code",
      "execution_count": null,
      "metadata": {
        "id": "jA419x6__mjg"
      },
      "outputs": [],
      "source": [
        "# install libraries\n",
        "#pip install wikipedia"
      ]
    },
    {
      "cell_type": "code",
      "execution_count": null,
      "metadata": {
        "id": "vLMLk4K84Zbn"
      },
      "outputs": [],
      "source": [
        "import wikipedia\n",
        "from wikipedia.exceptions import WikipediaException\n",
        "\n",
        "'''\n",
        " Generate a list of wikipedia article to cluster\n",
        " You can maintain a static list of titles or generate them randomly using wikipedia library\n",
        " Some topics include:\n",
        " [\"Northeastern Unversity\", \"Natural language processing\", \"Machine learning\", \"Quantum machine learning\", \"Artificial intelligence\", \"Data science\", \"Master in Data Science\",\n",
        " \"Bank of America\", \"Visa Inc.\", \"European Central Bank\", \"Bank\", \"Financial technology\",\"International Monetary Fund\",\n",
        " \"Basketball\", \"Swimming\", \"Tennis\", \"Football\", \"College Football\", \"Association Football\"]\n",
        "\n",
        " You can add more topics from different categories so that we have a diverse dataset to work with.\n",
        " Ex- About 3+ categories(groups), 3+ topics in each category, 3+ articles in each topic\n",
        "'''\n",
        "\n",
        "# selected topics\n",
        "topics = []\n",
        "\n",
        "# list of articles to be downloaded\n",
        "articles = []\n",
        "\n",
        "# download and store articles (summaries) in this variable\n",
        "data = []\n",
        "for article in articles:\n",
        "    data.append()\n"
      ]
    },
    {
      "cell_type": "markdown",
      "metadata": {
        "id": "IgpRv7wQ4Dpm"
      },
      "source": [
        "### Cleaning the Data (5 points)\n",
        "In this step you will decide whether to clean the data or not. If you choose to clean, you may utilize the clean function from assignment 1.\n",
        "\n",
        "**Question:** Why are you (not) choosing to clean the data? Think in terms of whether cleaning data will help in the clustering or not."
      ]
    },
    {
      "cell_type": "markdown",
      "metadata": {
        "id": "PnZpDKcaHTGq"
      },
      "source": [
        "**Answer(1-3 sentences):**"
      ]
    },
    {
      "cell_type": "code",
      "execution_count": null,
      "metadata": {
        "id": "lNj53Pxr963N"
      },
      "outputs": [],
      "source": [
        "# You can use Assignment 1's clean message function\n",
        "import re\n",
        "import nltk\n",
        "import string\n",
        "#nltk.download('punkt')\n",
        "#nltk.download('stopwords')\n",
        "\n",
        "def clean_message(message):\n",
        "    return message\n",
        "\n"
      ]
    },
    {
      "cell_type": "markdown",
      "metadata": {
        "id": "bvRZUpmq-DmT"
      },
      "source": [
        "### Vectorize the articles (5 points)\n",
        "\n",
        "In this step, we will vectorize the text data. You can use TfidfVectorizer() or countVectorizer() from sklearn library."
      ]
    },
    {
      "cell_type": "code",
      "execution_count": null,
      "metadata": {
        "id": "gJk8YY89-OU4"
      },
      "outputs": [],
      "source": [
        "from sklearn.feature_extraction.text import\n"
      ]
    },
    {
      "cell_type": "code",
      "execution_count": null,
      "metadata": {
        "id": "DAIGlqEuINWA"
      },
      "outputs": [],
      "source": [
        "print(X.shape)"
      ]
    },
    {
      "cell_type": "markdown",
      "metadata": {
        "id": "PKLvrKHRQaQq"
      },
      "source": [
        "### Sample Output:\n",
        "(36, 1552)"
      ]
    },
    {
      "cell_type": "markdown",
      "metadata": {
        "id": "M5ZrGrzD_G8d"
      },
      "source": [
        "### Plot Articles (10 points)\n",
        "Now we will try to verify the groups of articles using T-SNE from sklearn library."
      ]
    },
    {
      "cell_type": "code",
      "execution_count": null,
      "metadata": {
        "id": "SjcuZBOe-oZq"
      },
      "outputs": [],
      "source": [
        " from sklearn.manifold import TSNE\n",
        "\n",
        "# call TSNE() to fit the data\n"
      ]
    },
    {
      "cell_type": "markdown",
      "metadata": {
        "id": "iCY_blxjO1bs"
      },
      "source": [
        "Plot and annotate the points with different markers for different expected groups."
      ]
    },
    {
      "cell_type": "code",
      "execution_count": null,
      "metadata": {
        "colab": {
          "base_uri": "https://localhost:8080/",
          "height": 483
        },
        "id": "3ODUA1Vf-rRd",
        "outputId": "325b5db4-60d1-4907-a487-40893e256ee1"
      },
      "outputs": [
        {
          "data": {
            "image/png": "[encoded data removed]",
            "text/plain": [
              "<Figure size 720x576 with 1 Axes>"
            ]
          },
          "metadata": {},
          "output_type": "display_data"
        }
      ],
      "source": [
        "import matplotlib.pyplot as plt\n",
        "\n",
        "# get a figure handle\n",
        "fig,ax = plt.subplots(figsize=(10,8))\n",
        "\n"
      ]
    },
    {
      "cell_type": "markdown",
      "metadata": {
        "id": "dYcEi1EC_UGO"
      },
      "source": [
        "**Question:** Comment about the categorizion done by T-SNE. Do the articles of related topics cluster together? (5 points)"
      ]
    },
    {
      "cell_type": "markdown",
      "metadata": {
        "id": "tde1Wu5HI6AA"
      },
      "source": [
        "**Answer(1-3 sentences):**  \n",
        "  \n"
      ]
    },
    {
      "cell_type": "markdown",
      "metadata": {
        "id": "U2xrJddIpSsd"
      },
      "source": [
        "# Question 3 Building Neural Networks\n",
        "\n",
        "### We are gonna use Emotions Dataset for this task. We need to classify the given text into different kind of emotions like happy,sad,anger etc..,\n",
        "\n",
        "### We are providing train.txt and val.txt files along with this notebook."
      ]
    },
    {
      "cell_type": "markdown",
      "metadata": {
        "id": "NJYmVbkvphgX"
      },
      "source": [
        "### Library Imports and Utility functions"
      ]
    },
    {
      "cell_type": "code",
      "execution_count": null,
      "metadata": {
        "id": "BO-HU-7uorVX"
      },
      "outputs": [],
      "source": [
        "from sklearn.feature_extraction.text import CountVectorizer\n",
        "from sklearn.feature_extraction.text import TfidfVectorizer\n",
        "import nltk\n",
        "from nltk.corpus import stopwords\n",
        "from nltk.stem import PorterStemmer\n",
        "from nltk.tokenize import word_tokenize\n",
        "import string\n",
        "import pandas as pd\n",
        "import re\n",
        "#string.punctuation\n",
        "import nltk\n",
        "nltk.download('stopwords')\n",
        "nltk.download('wordnet')\n",
        "nltk.download('words')\n",
        "\n",
        "stopword = nltk.corpus.stopwords.words('english')\n",
        "wn = nltk.WordNetLemmatizer()\n",
        "ps = nltk.PorterStemmer()\n",
        "words = set(nltk.corpus.words.words())\n",
        "\n",
        "\n",
        "def clean_text(text):\n",
        "  # From the last assignment\n",
        "    text = text.lower()\n",
        "    text = re.sub(r\"http\\S+\", \"\", text)\n",
        "    text = re.sub(r\"www.\\S+\", \"\", text)\n",
        "    text_links_removed = \"\".join([char for char in text if char not in string.punctuation])\n",
        "    text_cleaned = \" \".join([word for word in re.split('\\W+', text_links_removed)\n",
        "        if word not in stopword])\n",
        "    text = \" \".join([wn.lemmatize(word) for word in re.split('\\W+', text_cleaned)])\n",
        "    return text"
      ]
    },
    {
      "cell_type": "markdown",
      "metadata": {
        "id": "B0D5wVjZw7s0"
      },
      "source": [
        "### Q) Importing the datasets and do the necessary cleaning and convert the text into the vectors which are mentioned in the below code blocks. (10 points)"
      ]
    },
    {
      "cell_type": "code",
      "execution_count": null,
      "metadata": {
        "id": "MOMhmIlGprK9"
      },
      "outputs": [],
      "source": [
        "# Import the train.txt and val.txt file into pandas dataframe format\n",
        "\n",
        "# train\n",
        "\n",
        "# validation\n",
        "\n",
        "# and printout the train.shape and validation.shape\n",
        "\n",
        "# expected shape of train dataset is (16000,2) and validation dataset is (2000,2)"
      ]
    },
    {
      "cell_type": "code",
      "execution_count": null,
      "metadata": {
        "id": "PS7K3p7AqAI8"
      },
      "outputs": [],
      "source": [
        "# clean the text in the train and validation dataframes using the clean_text function provided above"
      ]
    },
    {
      "cell_type": "code",
      "execution_count": null,
      "metadata": {
        "id": "GxZC6RIjq3bu"
      },
      "outputs": [],
      "source": [
        "# initialise count vectorizer from sklearn module with default parameter\n",
        "\n",
        "# fit on train dataset and transform both train and validation dataset"
      ]
    },
    {
      "cell_type": "code",
      "execution_count": null,
      "metadata": {
        "id": "85nuazEzq3YT"
      },
      "outputs": [],
      "source": [
        "# initialise tfidf vectorizer from sklearn module with default parameter\n",
        "\n",
        "# fit on train dataset and transform both train and validation dataset"
      ]
    },
    {
      "cell_type": "code",
      "execution_count": null,
      "metadata": {
        "id": "jgHWAuG-q3Vm"
      },
      "outputs": [],
      "source": [
        "# initialise label encoder from sklearn module\n",
        "\n",
        "# fit on train labels and transform both train and validation labels"
      ]
    },
    {
      "cell_type": "code",
      "execution_count": null,
      "metadata": {
        "id": "Wjdye0tvq3So"
      },
      "outputs": [],
      "source": [
        "# convert the labels into one hot encoding form"
      ]
    },
    {
      "cell_type": "markdown",
      "metadata": {
        "id": "xjsiH8YOw-Da"
      },
      "source": [
        "### Q) Build the neural networks using tensorflow keras by following the below instructions. Evaluate the model on different metrics and comment your observations. (20 points)"
      ]
    },
    {
      "cell_type": "code",
      "execution_count": null,
      "metadata": {
        "id": "AQg14bkTq3KB"
      },
      "outputs": [],
      "source": [
        "import tensorflow as tf\n",
        "\n",
        "tf.random.set_seed(42)\n",
        "\n",
        "\n",
        "# complete this linear model in tensorflow\n",
        "def build_model(X):\n",
        "\n",
        "  # layer 1 : input layer\n",
        "  inp = tf.keras.Input((X.shape[1],))\n",
        "\n",
        "  # layer 2 : add the dense layer with 2048 units and relu activation\n",
        "\n",
        "  # layer 3 : add the dropout layer with dropout rate of 0.5\n",
        "\n",
        "  # layer 4 : add the dense layer with 1024 units with tanh activation and with l2 regularization\n",
        "\n",
        "  # layer 5 : add the dropout layer with dropout rate of 0.5\n",
        "\n",
        "  # layer 6 : add the dense layer with 512 units with tanh activation and with l2 regularization\n",
        "\n",
        "  # layer 7 : add the dropout layer with dropout rate of 0.5\n",
        "\n",
        "  # layer 8 : add the dense layer with 256 units with tanh activation and with l2 regularization\n",
        "\n",
        "  # layer 9 : add the dropout layer with dropout rate of 0.5\n",
        "\n",
        "  # layer 10 : add the dense layer with 128 units with tanh activation and with l2 regularization\n",
        "\n",
        "  # layer 11 : add the dropout layer with dropout rate of 0.5\n",
        "\n",
        "  # layer 12 : output layer with units equal to number of classes and activation as softmax\n",
        "\n",
        "  # use loss as categorical crossentropy, optimizer as rmsprop and evaluate model on auc,precision,recall,accuracy\n",
        "\n",
        "  return model\n"
      ]
    },
    {
      "cell_type": "code",
      "execution_count": null,
      "metadata": {
        "id": "Q71CC1pIsx0O"
      },
      "outputs": [],
      "source": [
        "# call the build_model function and initialize the model"
      ]
    },
    {
      "cell_type": "code",
      "execution_count": null,
      "metadata": {
        "id": "KyAZNgsBsxwo"
      },
      "outputs": [],
      "source": [
        "# train and validate the model on the count vectors of text which we have created initially for 10 epochs,\n",
        "# adjust batch size according to your computation power (suggestion use : 8)"
      ]
    },
    {
      "cell_type": "code",
      "execution_count": null,
      "metadata": {
        "id": "nS02IwLCsxmG"
      },
      "outputs": [],
      "source": [
        "# plot train loss vs val loss, train auc vs val auc, train recall vs val recall, train precision vs val precision and train accuracy vs val accuracy and comment your observations"
      ]
    },
    {
      "cell_type": "code",
      "execution_count": null,
      "metadata": {
        "id": "6FHdCcp7wXyw"
      },
      "outputs": [],
      "source": [
        "# again call the build_model function and initialize the model"
      ]
    },
    {
      "cell_type": "code",
      "execution_count": null,
      "metadata": {
        "id": "k4gB80M6wXvV"
      },
      "outputs": [],
      "source": [
        "# train and validate the model on the tfidf vectors of text which we have created initially for 10 epochs,\n",
        "# adjust batch size according to your computation power (suggestion use : 8)"
      ]
    },
    {
      "cell_type": "code",
      "execution_count": null,
      "metadata": {
        "id": "EsnEOHXRwXkv"
      },
      "outputs": [],
      "source": [
        "# plot train loss vs val loss, train auc vs val auc, train recall vs val recall, train precision vs val precision and train accuracy vs val accuracy and comment your observations"
      ]
    },
    {
      "cell_type": "markdown",
      "metadata": {
        "id": "4adDDQWeQyGb"
      },
      "source": [
        "## Question 4 Theory Question  \n",
        "\n",
        "What is the difference between Count Vectorizer, TFIDF, Word2Vec and Glove? (5 points)"
      ]
    },
    {
      "cell_type": "markdown",
      "metadata": {
        "id": "cXTRkF6KRB_D"
      },
      "source": [
        "**Answer:**"
      ]
    },
    {
      "cell_type": "markdown",
      "metadata": {
        "id": "yQQsqcto79zE"
      },
      "source": [
        "What is the significant difference between the Naive Bayes Implementation using Bag of Words and TF-IDF? (5 points)"
      ]
    },
    {
      "cell_type": "markdown",
      "metadata": {
        "id": "JtiPCTZM8Aua"
      },
      "source": [
        "**Answer:**"
      ]
    },
    {
      "cell_type": "code",
      "execution_count": null,
      "metadata": {
        "id": "OaXBo1Bw8C1K"
      },
      "outputs": [],
      "source": []
    }
  ],
  "metadata": {
    "colab": {
      "provenance": []
    },
    "kernelspec": {
      "display_name": "Python 3",
      "language": "python",
      "name": "python3"
    },
    "language_info": {
      "codemirror_mode": {
        "name": "ipython",
        "version": 3
      },
      "file_extension": ".py",
      "mimetype": "text/x-python",
      "name": "python",
      "nbconvert_exporter": "python",
      "pygments_lexer": "ipython3",
      "version": "3.10.13"
    }
  },
  "nbformat": 4,
  "nbformat_minor": 0
}
