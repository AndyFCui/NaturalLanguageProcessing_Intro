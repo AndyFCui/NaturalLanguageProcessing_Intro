{
  "cells": [
    {
      "cell_type": "markdown",
      "metadata": {
        "id": "ni4T_dwEHFVa"
      },
      "source": [
        "## CS 6120: Natural Language Processing - Prof. Ahmad Uzair\n",
        "\n",
        "### Assignment 2: Text Classification and Neural Network\n",
        "### Total Points: 100 points"
      ]
    },
    {
      "cell_type": "markdown",
      "metadata": {
        "id": "loQ22M-bCubq"
      },
      "source": [
        "In Assignment 2, you will be dealing with text classification using Multinomial Naive Bayes and Neural Networks. You will also be dealing with vector visualization.In this assignment you will be using TF-IDF Vectorization instead of Bag of Words. We recommend starting with this assignment a little early as the datasets are quite large and several parts of the assignment might take long duration to execute."
      ]
    },
    {
      "cell_type": "markdown",
      "metadata": {
        "id": "Q3brglC1C0mZ"
      },
      "source": [
        "## Question 1 Text Classification"
      ]
    },
    {
      "cell_type": "markdown",
      "metadata": {
        "id": "IZ1y75IoC3rE"
      },
      "source": [
        "In the first question you will be dealing with 20 News Group Dataset. You are required to implement TF-IDF vectorization from scratch and perform Multinomial Naive Bayes Classification on the News Group Dataset.\n",
        "You may use appropriate packages or modules for fitting the Multinomial Naive Bayes Model, however, the implementation of the TF-IDF Vectorization should be from the scratch."
      ]
    },
    {
      "cell_type": "markdown",
      "metadata": {
        "id": "yRjM45PyC8ML"
      },
      "source": [
        "The 20 newsgroups dataset comprises around 20000 newsgroups posts on 20 topics split in two subsets: one for training (or development) and the other one for testing (or for performance evaluation). The split between the train and test set is based upon a messages posted before and after a specific date.\n",
        "\n",
        "Link to the original dataset: http://archive.ics.uci.edu/ml/datasets/Twenty+Newsgroups\n",
        "\n",
        "You can also import the dataset from sklearn.datasets"
      ]
    },
    {
      "cell_type": "code",
      "execution_count": 2,
      "metadata": {
        "id": "CmFf2INNDJRb"
      },
      "outputs": [],
      "source": [
        "# importing the libraries\n",
        "\n",
        "import numpy as np\n",
        "import sklearn\n",
        "from sklearn.feature_extraction.text import TfidfVectorizer\n",
        "from sklearn.datasets import fetch_20newsgroups\n",
        "from pprint import pprint\n",
        "from sklearn.feature_extraction.text import CountVectorizer\n",
        "from sklearn import preprocessing\n",
        "import pandas as pd\n",
        "import re\n",
        "import numpy as np\n",
        "from nltk.tokenize import  word_tokenize\n",
        "import nltk\n",
        "from sklearn.naive_bayes import MultinomialNB\n",
        "from sklearn import metrics\n",
        "# add more packages\n",
        "from typing import Dict\n",
        "from typing import Set\n",
        "from typing import List\n",
        "import math\n",
        "from sklearn.feature_extraction.text import TfidfVectorizer\n",
        "from sklearn.metrics import f1_score, accuracy_score\n",
        "from collections import defaultdict\n",
        "from nltk.corpus import stopwords\n",
        "import string\n",
        "import numpy as np\n",
        "from nltk.stem import PorterStemmer"
      ]
    },
    {
      "cell_type": "code",
      "execution_count": 3,
      "metadata": {
        "id": "AEp1SHe5DKCB"
      },
      "outputs": [],
      "source": [
        "# Import the 20 news group dataset utilizing sklearn library\n",
        "\n",
        "mydata_train: any = fetch_20newsgroups(subset='train', remove=('headers', 'footers', 'quotes'))\n",
        "\n",
        "mydata_test: any = fetch_20newsgroups(subset='test', remove=('headers', 'footers', 'quotes'))\n"
      ]
    },
    {
      "cell_type": "code",
      "execution_count": 4,
      "metadata": {
        "id": "OscOmcE0DMHa"
      },
      "outputs": [
        {
          "name": "stdout",
          "output_type": "stream",
          "text": [
            "['alt.atheism', 'comp.graphics', 'comp.os.ms-windows.misc', 'comp.sys.ibm.pc.hardware', 'comp.sys.mac.hardware', 'comp.windows.x', 'misc.forsale', 'rec.autos', 'rec.motorcycles', 'rec.sport.baseball', 'rec.sport.hockey', 'sci.crypt', 'sci.electronics', 'sci.med', 'sci.space', 'soc.religion.christian', 'talk.politics.guns', 'talk.politics.mideast', 'talk.politics.misc', 'talk.religion.misc']\n"
          ]
        }
      ],
      "source": [
        "# Print the news groups(target) in the dataset\n",
        "\n",
        "print(list(mydata_train.target_names))"
      ]
    },
    {
      "cell_type": "code",
      "execution_count": 5,
      "metadata": {
        "id": "JvQb2r0aDR_J"
      },
      "outputs": [
        {
          "name": "stdout",
          "output_type": "stream",
          "text": [
            "<class 'sklearn.utils._bunch.Bunch'>\n",
            "<class 'sklearn.utils._bunch.Bunch'>\n"
          ]
        }
      ],
      "source": [
        "# What is the type of 'mydata_train' and 'mydata_test'\n",
        "\n",
        "print(type(mydata_train))\n",
        "print(type(mydata_test))"
      ]
    },
    {
      "cell_type": "code",
      "execution_count": 28,
      "metadata": {
        "id": "ozzwyREhDaMK"
      },
      "outputs": [
        {
          "name": "stdout",
          "output_type": "stream",
          "text": [
            "The length of the `mydata_train.data` is 11314\n",
            "The length of the `mydata_train.filenames` is 11314\n",
            "The length of the `mydata_test.data` is 7532\n",
            "The length of the `mydata_test.filenames` is 7532\n"
          ]
        }
      ],
      "source": [
        "# Check the length of the data\n",
        "\n",
        "print('The length of the {} is {}' .format('`mydata_train.data`', len(mydata_train.data)))\n",
        "print('The length of the {} is {}' .format('`mydata_train.filenames`', len(mydata_train.filenames)))\n",
        "print('The length of the {} is {}' .format('`mydata_test.data`', len(mydata_test.data)))\n",
        "print('The length of the {} is {}' .format('`mydata_test.filenames`', len(mydata_test.filenames)))"
      ]
    },
    {
      "cell_type": "markdown",
      "metadata": {
        "id": "BlipMuEpDz-K"
      },
      "source": [
        "### Expected Output:\n",
        "11314\n",
        "\n",
        "11314\n",
        "\n",
        "7532\n",
        "\n",
        "7532"
      ]
    },
    {
      "cell_type": "markdown",
      "metadata": {
        "id": "55FKOBBuEDI2"
      },
      "source": [
        "## Extracting Features from the Dataset                        (20 Points)"
      ]
    },
    {
      "cell_type": "markdown",
      "metadata": {
        "id": "u4GDENzmEEkG"
      },
      "source": [
        "In order to perform machine learning on text documents, we first need to turn the text content into numerical feature vectors."
      ]
    },
    {
      "cell_type": "markdown",
      "metadata": {
        "id": "OgxfDXmxEHid"
      },
      "source": [
        "### TF-IDF Vectorization"
      ]
    },
    {
      "cell_type": "markdown",
      "metadata": {
        "id": "Q8qNFFYyEKsa"
      },
      "source": [
        "Our model cannot simply read the text data so we convert it into numerical format. In order to convert the data into numerical format we create vectors from text.\n",
        "\n",
        "For this particular purpose we could either employ Bag of Words or TF-IDF Vectorization\n",
        "\n",
        "Bag of Words just creates a set of vectors containing the count of word occurrences in the document (reviews), while the TF-IDF model contains information on the more important words and the less important ones as well.\n",
        "\n",
        "TF-IDF stands for Term Frequency-Inverse Document Frequency, which instead of giving more weight to words that occur more frequently, it gives a higher weight to words that occur less frequently.\n",
        "\n",
        "Ref:https://www.analyticsvidhya.com/blog/2020/02/quick-introduction-bag-of-words-bow-tf-idf/#:~:text=Bag%20of%20Words%20just%20creates,less%20important%20ones%20as%20well."
      ]
    },
    {
      "cell_type": "markdown",
      "metadata": {
        "id": "dLzgRJRZEP3k"
      },
      "source": [
        "TF-IDF = Term Frequency (TF) * Inverse Document Frequency (IDF)"
      ]
    },
    {
      "cell_type": "markdown",
      "metadata": {
        "id": "xe5lHi3NE1QJ"
      },
      "source": [
        "Term Frequency is the measure of the frequency of words in a document. It is the ratio of the number of times the word appears in a document compared to the total number of words in that document.\n",
        "\n",
        "The words that occur rarely in the corpus have a high IDF score. It is the log of the ratio of the number of documents to the number of documents containing the word."
      ]
    },
    {
      "cell_type": "markdown",
      "metadata": {
        "id": "HXotAER_EQ8T"
      },
      "source": [
        "idf(t) = log(N/(df + 1))"
      ]
    },
    {
      "cell_type": "code",
      "execution_count": 7,
      "metadata": {
        "id": "2vzVI8ylFAEl"
      },
      "outputs": [],
      "source": [
        "text: any = mydata_train.data\n",
        "test: any = mydata_test.data"
      ]
    },
    {
      "cell_type": "markdown",
      "metadata": {
        "id": "HZ2AatmvFtE-"
      },
      "source": [
        "## Preprocessing the Corpus"
      ]
    },
    {
      "cell_type": "code",
      "execution_count": 8,
      "metadata": {},
      "outputs": [
        {
          "name": "stderr",
          "output_type": "stream",
          "text": [
            "[nltk_data] Downloading package punkt to C:\\Users\\Andy\n",
            "[nltk_data]     Cui\\AppData\\Roaming\\nltk_data...\n",
            "[nltk_data]   Package punkt is already up-to-date!\n"
          ]
        },
        {
          "data": {
            "text/plain": [
              "True"
            ]
          },
          "execution_count": 8,
          "metadata": {},
          "output_type": "execute_result"
        }
      ],
      "source": [
        "nltk.download('punkt')"
      ]
    },
    {
      "cell_type": "code",
      "execution_count": 9,
      "metadata": {},
      "outputs": [],
      "source": [
        "# Clean corpus\n",
        "def clean_corpus(line: list[str]) -> list[str]:\n",
        "    '''\n",
        "    preprocess and clean a given line.\n",
        "    \n",
        "    - line: The text line to be cleaned.\n",
        "    ---\n",
        "    - list: A list of preprocessed tokens from the line.\n",
        "    '''\n",
        "    \n",
        "    # Followed as1 method to clean data\n",
        "    # Remove links\n",
        "    line: list[str] = re.sub(r'http\\S+', '', line)\n",
        "    \n",
        "    # Convert the line to lowercase\n",
        "    line: list[str] = line.lower()\n",
        "    \n",
        "    # Remove punctuation from the line\n",
        "    line: list[str] = ''.join([char for char in line if char not in string.punctuation])\n",
        "    \n",
        "    # Tokenize\n",
        "    tokens: list[str] = nltk.word_tokenize(line)\n",
        "    \n",
        "    # Remove stop words\n",
        "    tokens: list[str] = [token for token in tokens if token not in stop_words]\n",
        "    \n",
        "    # Stemming\n",
        "    tokens: list[str] = [stemmer.stem(token) for token in tokens]\n",
        "    \n",
        "    return tokens"
      ]
    },
    {
      "cell_type": "code",
      "execution_count": 10,
      "metadata": {
        "id": "XyJbe42AFuHp"
      },
      "outputs": [],
      "source": [
        "# Preprocessing the data\n",
        "\n",
        "lines: list[list[str]] = []\n",
        "word_list: list[str] = []\n",
        "\n",
        "# Predefined list of stop words\n",
        "stop_words: set = set(stopwords.words('english'))\n",
        "stemmer: any = PorterStemmer()\n",
        "\n",
        "# Tokenize the text documents and update the lists word_list and lines\n",
        "lines = [clean_corpus(line) for line in text]\n",
        "# print(len(lines))\n",
        "word_list: list[str] = [token for line in lines for token in line]\n",
        "\n",
        "# Make sure the word_list contains unique tokens\n",
        "word_list: list[str] = list(set(word_list))\n",
        "\n",
        "# Calculate the total documents present in the corpus\n",
        "total_docs: int = len(lines)\n",
        "\n",
        "#Create a dictionary to keep track of index of each word\n",
        "dict_idx: defaultdict[int, int] = defaultdict(int)\n",
        "for idx, word in enumerate(word_list):\n",
        "    dict_idx[word] = idx"
      ]
    },
    {
      "cell_type": "code",
      "execution_count": 11,
      "metadata": {
        "id": "E6M_CoI9FxYb"
      },
      "outputs": [],
      "source": [
        "# Create a frequency dictionary\n",
        "\n",
        "def frequency_dict(lines: str) -> dict[str, int]: \n",
        "    '''\n",
        "    create a frequency dictionary\n",
        "    \n",
        "    - lines: list containing all the tokens\n",
        "    ---\n",
        "    - freq_word: returns a dictionary which keeps the count of the number of documents \n",
        "        containing the given word.\n",
        "    '''\n",
        "    # Initialize the frequency dictionary\n",
        "    freq_word: dict[str, int] = defaultdict(int)  \n",
        "    \n",
        "    for line in lines:\n",
        "        \n",
        "        # This set will keep track of words already counted for the current line\n",
        "        seen_words: set[str] = set() \n",
        "         \n",
        "        for word in line:\n",
        "            if word not in seen_words:\n",
        "                freq_word[word] += 1\n",
        "                seen_words.add(word)\n",
        "\n",
        "    return freq_word"
      ]
    },
    {
      "cell_type": "code",
      "execution_count": 12,
      "metadata": {
        "id": "qFkt9KBgFz43"
      },
      "outputs": [
        {
          "data": {
            "text/plain": [
              "defaultdict(int,\n",
              "            {'wonder': 452,\n",
              "             'anyon': 1399,\n",
              "             'could': 1674,\n",
              "             'enlighten': 28,\n",
              "             'car': 485,\n",
              "             'saw': 266,\n",
              "             'day': 845,\n",
              "             '2door': 3,\n",
              "             'sport': 105,\n",
              "             'look': 1562,\n",
              "             'late': 207,\n",
              "             '60': 198,\n",
              "             'earli': 268,\n",
              "             '70': 121,\n",
              "             'call': 1169,\n",
              "             'bricklin': 3,\n",
              "             'door': 142,\n",
              "             'realli': 1074,\n",
              "             'small': 433,\n",
              "             'addit': 307,\n",
              "             'front': 232,\n",
              "             'bumper': 23,\n",
              "             'separ': 211,\n",
              "             'rest': 335,\n",
              "             'bodi': 285,\n",
              "             'know': 2460,\n",
              "             'tellm': 1,\n",
              "             'model': 320,\n",
              "             'name': 676,\n",
              "             'engin': 343,\n",
              "             'spec': 106,\n",
              "             'year': 1418,\n",
              "             'product': 343,\n",
              "             'made': 808,\n",
              "             'histori': 298,\n",
              "             'whatev': 293,\n",
              "             'info': 343,\n",
              "             'funki': 5,\n",
              "             'pleas': 1191,\n",
              "             'email': 849,\n",
              "             'fair': 136,\n",
              "             'number': 858,\n",
              "             'brave': 68,\n",
              "             'soul': 88,\n",
              "             'upgrad': 153,\n",
              "             'si': 32,\n",
              "             'clock': 102,\n",
              "             'oscil': 23,\n",
              "             'share': 237,\n",
              "             'experi': 426,\n",
              "             'poll': 40,\n",
              "             'send': 550,\n",
              "             'brief': 77,\n",
              "             'messag': 374,\n",
              "             'detail': 326,\n",
              "             'procedur': 90,\n",
              "             'top': 277,\n",
              "             'speed': 354,\n",
              "             'attain': 21,\n",
              "             'cpu': 91,\n",
              "             'rate': 322,\n",
              "             'add': 296,\n",
              "             'card': 517,\n",
              "             'adapt': 108,\n",
              "             'heat': 98,\n",
              "             'sink': 30,\n",
              "             'hour': 199,\n",
              "             'usag': 52,\n",
              "             'per': 244,\n",
              "             'floppi': 137,\n",
              "             'disk': 326,\n",
              "             'function': 286,\n",
              "             '800': 79,\n",
              "             '14': 281,\n",
              "             'especi': 327,\n",
              "             'request': 223,\n",
              "             'summar': 56,\n",
              "             'next': 512,\n",
              "             'two': 1273,\n",
              "             'network': 234,\n",
              "             'knowledg': 227,\n",
              "             'base': 630,\n",
              "             'done': 579,\n",
              "             'havent': 286,\n",
              "             'answer': 518,\n",
              "             'thank': 1389,\n",
              "             'well': 1628,\n",
              "             'folk': 202,\n",
              "             'mac': 263,\n",
              "             'plu': 236,\n",
              "             'final': 401,\n",
              "             'gave': 210,\n",
              "             'ghost': 16,\n",
              "             'weekend': 63,\n",
              "             'start': 868,\n",
              "             'life': 469,\n",
              "             '512k': 17,\n",
              "             'way': 1471,\n",
              "             'back': 1043,\n",
              "             '1985': 44,\n",
              "             'sooo': 4,\n",
              "             'im': 1652,\n",
              "             'market': 232,\n",
              "             'new': 1374,\n",
              "             'machin': 402,\n",
              "             'bit': 629,\n",
              "             'sooner': 30,\n",
              "             'intend': 220,\n",
              "             'pick': 253,\n",
              "             'powerbook': 35,\n",
              "             '160': 34,\n",
              "             'mayb': 557,\n",
              "             '180': 20,\n",
              "             'bunch': 133,\n",
              "             'question': 1075,\n",
              "             'hope': 621,\n",
              "             'somebodi': 160,\n",
              "             'anybodi': 366,\n",
              "             'dirt': 30,\n",
              "             'round': 140,\n",
              "             'introduct': 59,\n",
              "             'expect': 431,\n",
              "             'id': 708,\n",
              "             'heard': 485,\n",
              "             '185c': 1,\n",
              "             'suppos': 342,\n",
              "             'make': 1905,\n",
              "             'appear': 402,\n",
              "             'summer': 117,\n",
              "             'anymor': 74,\n",
              "             'sinc': 1083,\n",
              "             'dont': 2319,\n",
              "             'access': 336,\n",
              "             'macleak': 2,\n",
              "             'rumor': 65,\n",
              "             'price': 469,\n",
              "             'drop': 211,\n",
              "             'line': 679,\n",
              "             'like': 2742,\n",
              "             'one': 3252,\n",
              "             'duo': 30,\n",
              "             'went': 296,\n",
              "             'recent': 452,\n",
              "             'what': 243,\n",
              "             'impress': 160,\n",
              "             'display': 295,\n",
              "             'probabl': 832,\n",
              "             'swing': 30,\n",
              "             'got': 880,\n",
              "             '80mb': 12,\n",
              "             'rather': 623,\n",
              "             '120': 68,\n",
              "             'feel': 519,\n",
              "             'much': 1452,\n",
              "             'better': 845,\n",
              "             'yea': 13,\n",
              "             'great': 648,\n",
              "             'store': 190,\n",
              "             'wow': 36,\n",
              "             'good': 1590,\n",
              "             'solicit': 18,\n",
              "             'opinion': 385,\n",
              "             'peopl': 1822,\n",
              "             'use': 3044,\n",
              "             'daytoday': 8,\n",
              "             'worth': 260,\n",
              "             'take': 1253,\n",
              "             'size': 285,\n",
              "             'money': 371,\n",
              "             'hit': 275,\n",
              "             'get': 2604,\n",
              "             'activ': 295,\n",
              "             'realiz': 229,\n",
              "             'real': 605,\n",
              "             'subject': 467,\n",
              "             'ive': 924,\n",
              "             'play': 512,\n",
              "             'around': 776,\n",
              "             'comput': 554,\n",
              "             'breifli': 2,\n",
              "             'figur': 310,\n",
              "             'actual': 785,\n",
              "             'daili': 74,\n",
              "             'might': 903,\n",
              "             'prove': 228,\n",
              "             'help': 1069,\n",
              "             'hellcat': 2,\n",
              "             'perform': 342,\n",
              "             'advanc': 466,\n",
              "             'ill': 520,\n",
              "             'post': 1149,\n",
              "             'summari': 122,\n",
              "             'news': 326,\n",
              "             'read': 989,\n",
              "             'time': 1997,\n",
              "             'premium': 22,\n",
              "             'corner': 88,\n",
              "             'tom': 109,\n",
              "             'willi': 26,\n",
              "             'twillisecnpurdueedu': 1,\n",
              "             'purdu': 7,\n",
              "             'electr': 114,\n",
              "             'weitek': 9,\n",
              "             'addressphon': 3,\n",
              "             'inform': 757,\n",
              "             'chip': 380,\n",
              "             'articl': 495,\n",
              "             'c5owcbn3pworldstdcom': 1,\n",
              "             'tombakerworldstdcom': 1,\n",
              "             'baker': 16,\n",
              "             'understand': 506,\n",
              "             'error': 268,\n",
              "             'basic': 352,\n",
              "             'known': 338,\n",
              "             'bug': 100,\n",
              "             'warn': 143,\n",
              "             'system': 1103,\n",
              "             'softwar': 448,\n",
              "             'thing': 1471,\n",
              "             'check': 471,\n",
              "             'right': 1272,\n",
              "             'valu': 316,\n",
              "             'yet': 536,\n",
              "             'arent': 280,\n",
              "             'set': 752,\n",
              "             'till': 49,\n",
              "             'launch': 130,\n",
              "             'suchlik': 4,\n",
              "             'fix': 253,\n",
              "             'code': 355,\n",
              "             'possibl': 843,\n",
              "             'introduc': 77,\n",
              "             'tell': 852,\n",
              "             'crew': 41,\n",
              "             'ok': 295,\n",
              "             'see': 1461,\n",
              "             '213': 25,\n",
              "             'liftoff': 9,\n",
              "             'ignor': 279,\n",
              "             'cours': 731,\n",
              "             'term': 314,\n",
              "             'must': 812,\n",
              "             'rigidli': 2,\n",
              "             'defin': 227,\n",
              "             'bill': 249,\n",
              "             'doubt': 245,\n",
              "             'quot': 278,\n",
              "             'allegedli': 16,\n",
              "             'present': 391,\n",
              "             'first': 1302,\n",
              "             'argument': 334,\n",
              "             'weapon': 187,\n",
              "             'mass': 143,\n",
              "             'destruct': 56,\n",
              "             'commonli': 51,\n",
              "             'understood': 69,\n",
              "             'switch': 210,\n",
              "             'topic': 148,\n",
              "             'point': 1109,\n",
              "             'evid': 326,\n",
              "             'show': 643,\n",
              "             'allow': 549,\n",
              "             'later': 377,\n",
              "             'analysi': 112,\n",
              "             'given': 492,\n",
              "             'consid': 669,\n",
              "             'anoth': 884,\n",
              "             'class': 192,\n",
              "             'respond': 250,\n",
              "             'treatment': 118,\n",
              "             'astrocytoma': 1,\n",
              "             'couldnt': 240,\n",
              "             'directli': 208,\n",
              "             'mailbounc': 1,\n",
              "             'prob': 9,\n",
              "             'sean': 18,\n",
              "             'debra': 1,\n",
              "             'sharon': 12,\n",
              "             'thought': 601,\n",
              "             'publicli': 57,\n",
              "             'everyon': 357,\n",
              "             'sure': 965,\n",
              "             'glad': 86,\n",
              "             'accident': 36,\n",
              "             'rn': 6,\n",
              "             'instead': 383,\n",
              "             'rm': 32,\n",
              "             'tri': 1442,\n",
              "             'delet': 297,\n",
              "             'file': 630,\n",
              "             'last': 935,\n",
              "             'septemb': 40,\n",
              "             'hmmm': 60,\n",
              "             'scsi': 143,\n",
              "             'scsi1': 10,\n",
              "             'control': 668,\n",
              "             'rang': 182,\n",
              "             'inde': 218,\n",
              "             '05mb': 5,\n",
              "             'scsi2': 18,\n",
              "             '46mb': 8,\n",
              "             '10mb': 11,\n",
              "             'burst': 36,\n",
              "             '8bit': 44,\n",
              "             'note': 575,\n",
              "             'increas': 258,\n",
              "             'quadra': 59,\n",
              "             'version': 458,\n",
              "             'exist': 561,\n",
              "             'pc': 281,\n",
              "             '8bitscsi1': 2,\n",
              "             'mode': 251,\n",
              "             '16bitwid': 3,\n",
              "             'fast': 273,\n",
              "             '812mb': 7,\n",
              "             '20mb': 16,\n",
              "             '32bitwid': 5,\n",
              "             '1520mb': 7,\n",
              "             '40mb': 14,\n",
              "             'data': 447,\n",
              "             'although': 364,\n",
              "             'twice': 99,\n",
              "             'esdi': 18,\n",
              "             'correct': 406,\n",
              "             'reach': 200,\n",
              "             '20': 436,\n",
              "             'faster': 163,\n",
              "             'ide': 98,\n",
              "             '83': 43,\n",
              "             '996': 5,\n",
              "             'fact': 794,\n",
              "             'newsgroup': 248,\n",
              "             'ibm': 140,\n",
              "             'sheet': 71,\n",
              "             'avail': 629,\n",
              "             'ftp': 207,\n",
              "             'sumexaimstanfordedu': 8,\n",
              "             '364406': 4,\n",
              "             'infomacreport': 4,\n",
              "             'macibmcomparevers': 1,\n",
              "             'txt': 2,\n",
              "             '173': 12,\n",
              "             '161': 15,\n",
              "             'may': 1295,\n",
              "             'still': 1020,\n",
              "             'part': 877,\n",
              "             'problem': 1351,\n",
              "             'inconsi': 1,\n",
              "             'though': 699,\n",
              "             'document': 251,\n",
              "             'appl': 175,\n",
              "             'salesperson': 4,\n",
              "             'said': 851,\n",
              "             '6mb': 4,\n",
              "             '5mb': 11,\n",
              "             'maximum': 75,\n",
              "             'synchron': 26,\n",
              "             'ansynchron': 1,\n",
              "             'slower': 60,\n",
              "             'seem': 1174,\n",
              "             'interfac': 154,\n",
              "             'think': 2052,\n",
              "             'driven': 71,\n",
              "             'true': 608,\n",
              "             'go': 1662,\n",
              "             'win': 308,\n",
              "             '30': 367,\n",
              "             'download': 61,\n",
              "             'sever': 587,\n",
              "             'icon': 56,\n",
              "             'bmp': 27,\n",
              "             'cant': 870,\n",
              "             'chang': 723,\n",
              "             'wallpap': 13,\n",
              "             'would': 3163,\n",
              "             'appreci': 492,\n",
              "             'thanx': 61,\n",
              "             'brando': 1,\n",
              "             'board': 287,\n",
              "             'work': 1628,\n",
              "             'diskdoubl': 1,\n",
              "             'autodoubl': 2,\n",
              "             'due': 312,\n",
              "             'licens': 140,\n",
              "             'stac': 2,\n",
              "             'technolog': 250,\n",
              "             'owner': 176,\n",
              "             'compress': 111,\n",
              "             'write': 545,\n",
              "             'memori': 342,\n",
              "             'lost': 231,\n",
              "             'refer': 495,\n",
              "             'wrong': 545,\n",
              "             'hard': 540,\n",
              "             'say': 1644,\n",
              "             'whether': 463,\n",
              "             'fault': 105,\n",
              "             'someth': 1092,\n",
              "             'els': 570,\n",
              "             'howev': 800,\n",
              "             'decompress': 8,\n",
              "             'troubl': 192,\n",
              "             'recompress': 2,\n",
              "             'without': 861,\n",
              "             'usual': 432,\n",
              "             'reappear': 7,\n",
              "             'mention': 442,\n",
              "             'freewar': 16,\n",
              "             'expans': 90,\n",
              "             'util': 148,\n",
              "             'dd': 22,\n",
              "             'expand': 91,\n",
              "             'boardcompress': 1,\n",
              "             'unless': 373,\n",
              "             'instal': 297,\n",
              "             'unlik': 153,\n",
              "             'hole': 111,\n",
              "             'autodoublerdiskdoubl': 1,\n",
              "             'relat': 302,\n",
              "             'sad': 55,\n",
              "             'reluct': 17,\n",
              "             'buy': 488,\n",
              "             'theyr': 278,\n",
              "             'stinki': 1,\n",
              "             'hey': 141,\n",
              "             'that': 723,\n",
              "             'competit': 65,\n",
              "             'ducati': 5,\n",
              "             '900gt': 1,\n",
              "             '1978': 30,\n",
              "             '17k': 1,\n",
              "             'run': 987,\n",
              "             'paint': 80,\n",
              "             'bronzebrownorang': 1,\n",
              "             'fade': 22,\n",
              "             'leak': 32,\n",
              "             'oil': 87,\n",
              "             'pop': 79,\n",
              "             '1st': 93,\n",
              "             'accel': 4,\n",
              "             'shop': 90,\n",
              "             'tran': 19,\n",
              "             'sold': 144,\n",
              "             'bike': 213,\n",
              "             '1': 1170,\n",
              "             'want': 1578,\n",
              "             '3495': 2,\n",
              "             '3k': 2,\n",
              "             'nice': 391,\n",
              "             'stabl': 47,\n",
              "             'mate': 11,\n",
              "             'beemer': 10,\n",
              "             'jap': 3,\n",
              "             'axi': 18,\n",
              "             'motor': 77,\n",
              "             'tuba': 3,\n",
              "             'irwin': 4,\n",
              "             'honk': 5,\n",
              "             'therefor': 239,\n",
              "             'computracrichardsontx': 3,\n",
              "             'irwincmptrclonestarorg': 3,\n",
              "             'dod': 82,\n",
              "             '0826': 3,\n",
              "             'r756': 3,\n",
              "             'yep': 26,\n",
              "             'pretti': 457,\n",
              "             'jew': 215,\n",
              "             'jewish': 169,\n",
              "             'believ': 986,\n",
              "             'coven': 16,\n",
              "             'yhwh': 1,\n",
              "             'patriarch': 8,\n",
              "             'abraham': 21,\n",
              "             'mose': 19,\n",
              "             'case': 906,\n",
              "             'establish': 178,\n",
              "             'moral': 191,\n",
              "             'follow': 919,\n",
              "             'mankind': 36,\n",
              "             'even': 1523,\n",
              "             'decid': 339,\n",
              "             'boundari': 39,\n",
              "             'fall': 209,\n",
              "             'sadduce': 1,\n",
              "             'torah': 13,\n",
              "             'requir': 552,\n",
              "             'wherea': 53,\n",
              "             'pharise': 11,\n",
              "             'ancestor': 18,\n",
              "             'modern': 142,\n",
              "             'judaism': 28,\n",
              "             'interpret': 183,\n",
              "             'lead': 301,\n",
              "             'nuanc': 4,\n",
              "             'talmud': 2,\n",
              "             'essenc': 31,\n",
              "             'biblic': 70,\n",
              "             'man': 387,\n",
              "             'christian': 428,\n",
              "             'necessarili': 140,\n",
              "             'indic': 242,\n",
              "             'anyth': 764,\n",
              "             'outsid': 230,\n",
              "             'relationship': 93,\n",
              "             'specul': 68,\n",
              "             'creat': 412,\n",
              "             'imag': 284,\n",
              "             'mean': 1016,\n",
              "             'differ': 992,\n",
              "             'come': 1182,\n",
              "             'conclus': 156,\n",
              "             'upset': 41,\n",
              "             'cart': 13,\n",
              "             'script': 37,\n",
              "             'shaki': 9,\n",
              "             'foundat': 76,\n",
              "             'mix': 92,\n",
              "             'metaphor': 17,\n",
              "             'unashamedli': 1,\n",
              "             'live': 669,\n",
              "             'christ': 193,\n",
              "             'exampl': 590,\n",
              "             'littl': 747,\n",
              "             'jesu': 260,\n",
              "             'person': 843,\n",
              "             'record': 285,\n",
              "             'utter': 29,\n",
              "             'narr': 9,\n",
              "             'comtemporari': 1,\n",
              "             'historian': 25,\n",
              "             'revel': 60,\n",
              "             'asid': 100,\n",
              "             'secondhand': 13,\n",
              "             'wors': 158,\n",
              "             'attempt': 282,\n",
              "             'debunk': 10,\n",
              "             'initi': 198,\n",
              "             'bibl': 245,\n",
              "             'human': 393,\n",
              "             'guess': 405,\n",
              "             'faith': 205,\n",
              "             'relev': 130,\n",
              "             'inher': 59,\n",
              "             'absolut': 210,\n",
              "             'undoubt': 4,\n",
              "             'multipl': 128,\n",
              "             'found': 625,\n",
              "             'parent': 113,\n",
              "             'child': 116,\n",
              "             'never': 849,\n",
              "             'swear': 27,\n",
              "             'assum': 467,\n",
              "             'simpli': 383,\n",
              "             'told': 357,\n",
              "             'trooper': 5,\n",
              "             'pub': 13,\n",
              "             'bar': 101,\n",
              "             'children': 274,\n",
              "             'disobey': 11,\n",
              "             'inappropri': 23,\n",
              "             'quit': 590,\n",
              "             'happi': 193,\n",
              "             'anim': 168,\n",
              "             'analog': 108,\n",
              "             'hold': 342,\n",
              "             'water': 135,\n",
              "             'type': 444,\n",
              "             'gist': 6,\n",
              "             'incident': 28,\n",
              "             'young': 176,\n",
              "             'direct': 349,\n",
              "             'older': 107,\n",
              "             'piaget': 1,\n",
              "             'learn': 281,\n",
              "             'david': 271,\n",
              "             'religion': 249,\n",
              "             'descript': 151,\n",
              "             'extern': 136,\n",
              "             'tank': 110,\n",
              "             'option': 251,\n",
              "             'ssf': 10,\n",
              "             'redesign': 17,\n",
              "             'yo': 8,\n",
              "             'ken': 75,\n",
              "             'let': 902,\n",
              "             'keep': 683,\n",
              "             'ontop': 2,\n",
              "             'wingless': 5,\n",
              "             'orbit': 119,\n",
              "             'list': 582,\n",
              "             'today': 425,\n",
              "             '423': 14,\n",
              "             'edit': 173,\n",
              "             'york': 167,\n",
              "             'report': 432,\n",
              "             'oconnor': 6,\n",
              "             'panel': 86,\n",
              "             'propos': 223,\n",
              "             'giant': 48,\n",
              "             'fuel': 76,\n",
              "             'space': 379,\n",
              "             'shuttl': 72,\n",
              "             'build': 374,\n",
              "             'station': 172,\n",
              "             'wing': 104,\n",
              "             'tail': 33,\n",
              "             'remov': 249,\n",
              "             'current': 581,\n",
              "             'three': 457,\n",
              "             'advisori': 12,\n",
              "             'meet': 200,\n",
              "             'yesterday': 91,\n",
              "             'low': 286,\n",
              "             'cost': 421,\n",
              "             'modular': 15,\n",
              "             'approach': 198,\n",
              "             'studi': 274,\n",
              "             'team': 421,\n",
              "             'msfc': 5,\n",
              "             'jsc': 9,\n",
              "             'larc': 4,\n",
              "             'support': 690,\n",
              "             'srt': 1,\n",
              "             'crystal': 34,\n",
              "             'citi': 272,\n",
              "             'lerc': 3,\n",
              "             'reston': 7,\n",
              "             'also': 1942,\n",
              "             'onsit': 8,\n",
              "             'locat': 206,\n",
              "             'respect': 235,\n",
              "             'key': 428,\n",
              "             'featur': 192,\n",
              "             'bus1': 2,\n",
              "             'bu': 165,\n",
              "             'develop': 406,\n",
              "             'lockhe': 8,\n",
              "             'qualifi': 69,\n",
              "             'st': 167,\n",
              "             'elv': 6,\n",
              "             'provid': 566,\n",
              "             'propuls': 24,\n",
              "             'gnc': 1,\n",
              "             'commun': 354,\n",
              "             'manag': 374,\n",
              "             'air': 174,\n",
              "             'forc': 419,\n",
              "             'power': 673,\n",
              "             'capabl': 231,\n",
              "             'obtain': 182,\n",
              "             '3': 816,\n",
              "             'flight': 86,\n",
              "             'solar': 58,\n",
              "             'array': 41,\n",
              "             'kw': 3,\n",
              "             'vehicl': 133,\n",
              "             'fli': 113,\n",
              "             'arrow': 14,\n",
              "             'optim': 43,\n",
              "             'micrograv': 5,\n",
              "             'environ': 140,\n",
              "             'shuttlespacelab': 2,\n",
              "             'mission': 95,\n",
              "             'vehilc': 1,\n",
              "             'sourc': 485,\n",
              "             'tend': 167,\n",
              "             'oppos': 148,\n",
              "             'old': 589,\n",
              "             'sexist': 6,\n",
              "             'mantend': 1,\n",
              "             'achiev': 98,\n",
              "             'us': 1174,\n",
              "             'common': 302,\n",
              "             'modul': 72,\n",
              "             'modifi': 110,\n",
              "             'lab': 94,\n",
              "             'dock': 16,\n",
              "             'port': 199,\n",
              "             'ad': 311,\n",
              "             'intern': 354,\n",
              "             'partner': 49,\n",
              "             'place': 760,\n",
              "             'node': 15,\n",
              "             'habit': 43,\n",
              "             'eva': 7,\n",
              "             'nasda': 6,\n",
              "             'esa': 15,\n",
              "             'perman': 70,\n",
              "             'presenc': 81,\n",
              "             '3rd': 93,\n",
              "             'acrv': 2,\n",
              "             'assur': 78,\n",
              "             'return': 341,\n",
              "             'b': 261,\n",
              "             'freedom': 140,\n",
              "             'deriv': 80,\n",
              "             'mike': 168,\n",
              "             'griffin': 8,\n",
              "             'alot': 50,\n",
              "             'design': 429,\n",
              "             'love': 325,\n",
              "             'lightweight': 7,\n",
              "             'assembl': 103,\n",
              "             '516': 9,\n",
              "             'inclin': 35,\n",
              "             'buildup': 7,\n",
              "             'occur': 251,\n",
              "             'six': 133,\n",
              "             'phase': 48,\n",
              "             'research': 317,\n",
              "             'transfer': 147,\n",
              "             'orbiterspacelab': 1,\n",
              "             'visit': 114,\n",
              "             'adopt': 57,\n",
              "             'nonsexist': 2,\n",
              "             'languag': 174,\n",
              "             '8': 446,\n",
              "             'deploy': 20,\n",
              "             '10': 506,\n",
              "             'onorbit': 6,\n",
              "             'sometim': 290,\n",
              "             'second': 636,\n",
              "             'logist': 7,\n",
              "             'resuppli': 3,\n",
              "             'toler': 60,\n",
              "             '2nd': 119,\n",
              "             'thermal': 22,\n",
              "             'radiat': 44,\n",
              "             'onboard': 20,\n",
              "             'finish': 118,\n",
              "             '24': 224,\n",
              "             'asi': 7,\n",
              "             'except': 416,\n",
              "             'major': 446,\n",
              "             'reduc': 176,\n",
              "             'forsal': 25,\n",
              "             'behalf': 32,\n",
              "             'brother': 110,\n",
              "             'who': 61,\n",
              "             'move': 440,\n",
              "             'alreadi': 483,\n",
              "             'offer': 444,\n",
              "             'black': 238,\n",
              "             'decker': 2,\n",
              "             'duster': 2,\n",
              "             'portabl': 67,\n",
              "             'hand': 508,\n",
              "             'vaccum': 2,\n",
              "             'purchas': 203,\n",
              "             '32': 157,\n",
              "             '12': 381,\n",
              "             '2': 1206,\n",
              "             'sr1000': 2,\n",
              "             'dual': 39,\n",
              "             'cassett': 26,\n",
              "             'player': 289,\n",
              "             'amfm': 16,\n",
              "             '5band': 2,\n",
              "             'graphic': 280,\n",
              "             'equal': 167,\n",
              "             'high': 481,\n",
              "             'dube': 3,\n",
              "             'tapetap': 2,\n",
              "             'deck': 31,\n",
              "             'trebl': 4,\n",
              "             'sound': 481,\n",
              "             'bet': 106,\n",
              "             'fixabl': 4,\n",
              "             '80': 175,\n",
              "             '25': 286,\n",
              "             '3monolux': 2,\n",
              "             'zoom': 29,\n",
              "             'microscop': 6,\n",
              "             '1200x': 2,\n",
              "             'magnif': 4,\n",
              "             'japan': 50,\n",
              "             'includ': 886,\n",
              "             'accessori': 27,\n",
              "             '50': 341,\n",
              "             '4sunbeam': 2,\n",
              "             '1400': 25,\n",
              "             'hair': 44,\n",
              "             'dryer': 9,\n",
              "             'put': 778,\n",
              "             'head': 362,\n",
              "             'underinto': 2,\n",
              "             'salon': 2,\n",
              "             'ask': 865,\n",
              "             'bro': 3,\n",
              "             '5everylast': 2,\n",
              "             'bag': 55,\n",
              "             'leather': 29,\n",
              "             'brand': 123,\n",
              "             '6oster': 2,\n",
              "             'pusl': 2,\n",
              "             'matic': 2,\n",
              "             'blender': 4,\n",
              "             'cookbook': 5,\n",
              "             '5': 638,\n",
              "             '8binolux': 2,\n",
              "             'binocular': 3,\n",
              "             '7x35': 2,\n",
              "             'extra': 176,\n",
              "             'wide': 189,\n",
              "             'angl': 54,\n",
              "             '525ft': 2,\n",
              "             '1000yd': 2,\n",
              "             '9proctor': 2,\n",
              "             'silex': 2,\n",
              "             'spraysteam': 2,\n",
              "             'dri': 50,\n",
              "             'iron': 64,\n",
              "             'contact': 309,\n",
              "             'thru': 49,\n",
              "             'repli': 363,\n",
              "             'expedit': 9,\n",
              "             'alway': 533,\n",
              "             'sh': 37,\n",
              "             'lastli': 8,\n",
              "             'reasonableveri': 2,\n",
              "             'reason': 918,\n",
              "             'happen': 656,\n",
              "             'japanes': 58,\n",
              "             'citizen': 198,\n",
              "             'world': 630,\n",
              "             'war': 268,\n",
              "             'ii': 171,\n",
              "             'your': 521,\n",
              "             'prepar': 129,\n",
              "             'stick': 135,\n",
              "             'concentr': 72,\n",
              "             'camp': 66,\n",
              "             'trial': 100,\n",
              "             'short': 297,\n",
              "             'step': 190,\n",
              "             'gass': 11,\n",
              "             'nazi': 76,\n",
              "             'origin': 524,\n",
              "             'imprison': 22,\n",
              "             'solut': 220,\n",
              "             'dreamt': 1,\n",
              "             'partli': 19,\n",
              "             'afford': 89,\n",
              "             'devast': 8,\n",
              "             'caus': 543,\n",
              "             'goer': 3,\n",
              "             'total': 367,\n",
              "             'werent': 76,\n",
              "             'gener': 830,\n",
              "             'die': 264,\n",
              "             'malnutrit': 3,\n",
              "             'diseas': 110,\n",
              "             'certainli': 367,\n",
              "             'whenev': 77,\n",
              "             'tiff': 29,\n",
              "             'philosoph': 31,\n",
              "             'complex': 112,\n",
              "             'led': 125,\n",
              "             'program': 763,\n",
              "             'poor': 150,\n",
              "             'writer': 69,\n",
              "             'bizarr': 26,\n",
              "             'inabl': 22,\n",
              "             'load': 184,\n",
              "             'theyll': 96,\n",
              "             'save': 338,\n",
              "             'interchang': 14,\n",
              "             'despit': 125,\n",
              "             'goe': 329,\n",
              "             'worri': 162,\n",
              "             'abus': 99,\n",
              "             'chalk': 3,\n",
              "             'immens': 16,\n",
              "             'unnecessari': 27,\n",
              "             'format': 222,\n",
              "             'word': 578,\n",
              "             'appendix': 8,\n",
              "             'g': 114,\n",
              "             'page': 190,\n",
              "             'g1': 3,\n",
              "             'capit': 80,\n",
              "             'emphasi': 45,\n",
              "             'mine': 251,\n",
              "             'sort': 393,\n",
              "             'success': 208,\n",
              "             'flexibl': 30,\n",
              "             'expens': 201,\n",
              "             'simplic': 16,\n",
              "             'amount': 235,\n",
              "             'effort': 198,\n",
              "             'handl': 250,\n",
              "             'specif': 374,\n",
              "             'applic': 375,\n",
              "             'complet': 481,\n",
              "             'job': 276,\n",
              "             'abl': 597,\n",
              "             'import': 451,\n",
              "             'mani': 1230,\n",
              "             'imagegener': 1,\n",
              "             'everi': 704,\n",
              "             'wont': 407,\n",
              "             'deal': 400,\n",
              "             'trap': 47,\n",
              "             'neither': 171,\n",
              "             'agre': 470,\n",
              "             'kind': 531,\n",
              "             'singl': 292,\n",
              "             'male': 70,\n",
              "             'driver': 371,\n",
              "             'yr': 14,\n",
              "             'pay': 369,\n",
              "             'here': 145,\n",
              "             'receiv': 384,\n",
              "             '27': 115,\n",
              "             'close': 414,\n",
              "             'enough': 674,\n",
              "             '1992': 164,\n",
              "             'dodg': 27,\n",
              "             'stealth': 36,\n",
              "             'rttwin': 1,\n",
              "             'turbo': 54,\n",
              "             '300hp': 1,\n",
              "             'ticket': 76,\n",
              "             'accid': 88,\n",
              "             'hous': 299,\n",
              "             'taken': 296,\n",
              "             'defens': 209,\n",
              "             'drive': 654,\n",
              "             'airbag': 11,\n",
              "             'ab': 42,\n",
              "             'secur': 275,\n",
              "             'alarm': 35,\n",
              "             '1500year': 1,\n",
              "             '500': 132,\n",
              "             'decut': 1,\n",
              "             'state': 817,\n",
              "             'farm': 43,\n",
              "             'insur': 112,\n",
              "             '100': 312,\n",
              "             '1000000': 10,\n",
              "             'umbrella': 4,\n",
              "             'polici': 205,\n",
              "             'standard': 420,\n",
              "             '100000': 34,\n",
              "             '300000': 3,\n",
              "             'de': 145,\n",
              "             'less': 547,\n",
              "             'bought': 225,\n",
              "             'compani': 341,\n",
              "             '11': 217,\n",
              "             '2500': 24,\n",
              "             'steve': 160,\n",
              "             'flynn': 2,\n",
              "             'univers': 463,\n",
              "             'delawar': 5,\n",
              "             '45': 124,\n",
              "             'kevin': 43,\n",
              "             'rememb': 483,\n",
              "             'correctli': 110,\n",
              "             'similar': 389,\n",
              "             'situat': 291,\n",
              "             'inquiri': 25,\n",
              "             'age': 166,\n",
              "             'eagl': 21,\n",
              "             'talon': 6,\n",
              "             'tsi': 2,\n",
              "             'awd': 6,\n",
              "             'clean': 116,\n",
              "             'illinoi': 41,\n",
              "             '8206': 1,\n",
              "             'mo': 23,\n",
              "             'turn': 518,\n",
              "             '5206': 1,\n",
              "             'incur': 17,\n",
              "             'higher': 202,\n",
              "             'coupl': 349,\n",
              "             'friend': 370,\n",
              "             'w': 189,\n",
              "             'in': 7,\n",
              "             'lucki': 70,\n",
              "             'dan': 82,\n",
              "             'dansjdcgssmotcom': 1,\n",
              "             'motorola': 58,\n",
              "             'cellular': 57,\n",
              "             'subscrib': 52,\n",
              "             'group': 638,\n",
              "             '38': 74,\n",
              "             'usa': 156,\n",
              "             'cc': 42,\n",
              "             '23': 140,\n",
              "             'norman': 8,\n",
              "             'oklahoma': 12,\n",
              "             '89': 51,\n",
              "             'thunderbird': 4,\n",
              "             'sc': 18,\n",
              "             'claim': 547,\n",
              "             'neglig': 26,\n",
              "             'stop': 397,\n",
              "             'sign': 236,\n",
              "             'fiddl': 13,\n",
              "             ...})"
            ]
          },
          "execution_count": 12,
          "metadata": {},
          "output_type": "execute_result"
        }
      ],
      "source": [
        "# Create a dictionary containing the frequency of words utilizing the 'frequency_dict' function\n",
        "\n",
        "# Expect this chunk to take a comparatively longer time to execute since our dataset is large\n",
        "\n",
        "freq_word: dict[str, int] = frequency_dict(lines)\n",
        "\n",
        "freq_word"
      ]
    },
    {
      "cell_type": "markdown",
      "metadata": {},
      "source": [
        "# Formular of Term Frequency(TF)\n",
        "\n",
        "- TF = $\\frac{Number \\ of \\ times \\ term \\ t \\ appears \\ in \\ a \\ document}{Total \\ number \\ of \\ terms \\ in \\ the \\ document}$"
      ]
    },
    {
      "cell_type": "code",
      "execution_count": 13,
      "metadata": {
        "id": "vLvPijR_GKHn"
      },
      "outputs": [],
      "source": [
        "# Create a function to calculate the Term Frequency\n",
        "\n",
        "def term_frequency(document: list[str], word: str) -> float:\n",
        "    '''\n",
        "    calculating the term frequency(tf)\n",
        "    \n",
        "    - document: list containing the entire corpus\n",
        "    - word: word whose term frequency is to be calculated\n",
        "    ---\n",
        "    tf: returns term frequency value\n",
        "    '''\n",
        "    \n",
        "    # Count the total number of tokens in the document\n",
        "    total_terms: int = len(document)\n",
        "\n",
        "    # Count the number of times the word appears in the document\n",
        "    word_count: int = document.count(word)\n",
        "    \n",
        "    # Calculate Term Frequency\n",
        "    tf: float = word_count / total_terms if total_terms > 0 else 0.0\n",
        "\n",
        "    return tf"
      ]
    },
    {
      "cell_type": "markdown",
      "metadata": {},
      "source": [
        "# Formular of Inverse Document Frequency(IDF) \n",
        "\n",
        "- IDF = log $\\frac{Total \\ number \\ of \\ documents}{Number \\ of \\ documents \\ containing \\ term \\ t}$"
      ]
    },
    {
      "cell_type": "code",
      "execution_count": 14,
      "metadata": {},
      "outputs": [
        {
          "name": "stdout",
          "output_type": "stream",
          "text": [
            "4\n"
          ]
        }
      ],
      "source": [
        "print(freq_word[word])"
      ]
    },
    {
      "cell_type": "code",
      "execution_count": 15,
      "metadata": {
        "id": "HA99G_yAGLCC"
      },
      "outputs": [],
      "source": [
        "# Create a function to calculate the Inverse Document Frequency\n",
        "\n",
        "def inverse_df(word: str) -> float:\n",
        "    '''\n",
        "    calculate the Inverse Document Frequency(IDF)\n",
        "    \n",
        "    - word: word whose inverse document frequency is to be calculated\n",
        "    ---\n",
        "    - idf: return inverse document frequency value\n",
        "    '''\n",
        "    # Count the number of documents containing the word\n",
        "    docs_containing_word: dict[str, int] = freq_word[word]\n",
        "    \n",
        "    # Calculate Inverse Document Frequency\n",
        "    # Avoid division by zero in case the word is not present in any document.\n",
        "    idf: float = math.log(total_docs / (1 + docs_containing_word)) if docs_containing_word + 1 <= total_docs else math.log(1)\n",
        "    \n",
        "    return idf"
      ]
    },
    {
      "cell_type": "markdown",
      "metadata": {},
      "source": [
        "# Formulat of TF-IDF\n",
        "\n",
        "- TF-IDF(t) = TF(t) x IDF(t)\n",
        "- We calculate each words in sentence"
      ]
    },
    {
      "cell_type": "code",
      "execution_count": 16,
      "metadata": {
        "id": "F0irgwv2GRfE"
      },
      "outputs": [],
      "source": [
        "# Create a function to combine the term frequencies (TF) \n",
        "#   and inverse document (IDF) frequencies calculated above to get TF-IDF\n",
        "\n",
        "def tfidf(sentence: list, dict_idx: dict) -> list[float]:\n",
        "    '''\n",
        "    combin the TF and IDF to calculate above to get TF-IDF\n",
        "    \n",
        "    - sentence: list containing the entire corpus\n",
        "    - dict: dictionary keeping track of index of each word\n",
        "    ---\n",
        "    tf_idf_vec: returns computed tf-idf\n",
        "    '''\n",
        "    \n",
        "    # Init the tf-idf\n",
        "    tf_idf_vec: list[str] = [0.0] * len(dict_idx)\n",
        "    \n",
        "    # Calculate each words tfidf in sentence\n",
        "    for word in sentence:\n",
        "        if word in dict_idx:\n",
        "            tf_val = term_frequency(sentence, word)\n",
        "            idf_val = inverse_df(word)\n",
        "            tfidf_val = tf_val * idf_val        \n",
        "            # Use the index from the dictionary to set the value\n",
        "            tf_idf_vec[dict_idx[word]] = tfidf_val\n",
        "\n",
        "    return tf_idf_vec"
      ]
    },
    {
      "cell_type": "code",
      "execution_count": 17,
      "metadata": {
        "id": "_VKJhqatGWpV"
      },
      "outputs": [],
      "source": [
        "# Compute the vectors utilizing the 'tfidf' function created above to obtain a TF-IDF Encoded text corpus\n",
        "tfidf_val_list: List[List[float]] = []\n",
        "\n",
        "for sentence in lines:\n",
        "    tfidf_val = tfidf(sentence, dict_idx)\n",
        "    tfidf_val_list.append(tfidf_val)\n",
        "    # print(tfidf_val)"
      ]
    },
    {
      "cell_type": "code",
      "execution_count": 18,
      "metadata": {},
      "outputs": [
        {
          "name": "stdout",
          "output_type": "stream",
          "text": [
            "{88104}\n"
          ]
        }
      ],
      "source": [
        "# check len\n",
        "lengths: int = [len(vec) for vec in tfidf_val_list]\n",
        "unique_lengths: set = set(lengths)\n",
        "print(unique_lengths)"
      ]
    },
    {
      "cell_type": "markdown",
      "metadata": {},
      "source": [
        "# Fixed length trouble from the `tfidf`\n",
        "- I found we need use len(dict_idx) to init the tf_idf_vec, if not we might get many different length data. "
      ]
    },
    {
      "cell_type": "markdown",
      "metadata": {
        "id": "LE0UGUaSGb8I"
      },
      "source": [
        "## Multinomial Naive Bayes (10 Points)"
      ]
    },
    {
      "cell_type": "code",
      "execution_count": 19,
      "metadata": {},
      "outputs": [
        {
          "name": "stdout",
          "output_type": "stream",
          "text": [
            "x_train length: 11314\n",
            "y_train length: 11314\n"
          ]
        },
        {
          "data": {
            "text/html": [
              "<style>#sk-container-id-1 {color: black;}#sk-container-id-1 pre{padding: 0;}#sk-container-id-1 div.sk-toggleable {background-color: white;}#sk-container-id-1 label.sk-toggleable__label {cursor: pointer;display: block;width: 100%;margin-bottom: 0;padding: 0.3em;box-sizing: border-box;text-align: center;}#sk-container-id-1 label.sk-toggleable__label-arrow:before {content: \"▸\";float: left;margin-right: 0.25em;color: #696969;}#sk-container-id-1 label.sk-toggleable__label-arrow:hover:before {color: black;}#sk-container-id-1 div.sk-estimator:hover label.sk-toggleable__label-arrow:before {color: black;}#sk-container-id-1 div.sk-toggleable__content {max-height: 0;max-width: 0;overflow: hidden;text-align: left;background-color: #f0f8ff;}#sk-container-id-1 div.sk-toggleable__content pre {margin: 0.2em;color: black;border-radius: 0.25em;background-color: #f0f8ff;}#sk-container-id-1 input.sk-toggleable__control:checked~div.sk-toggleable__content {max-height: 200px;max-width: 100%;overflow: auto;}#sk-container-id-1 input.sk-toggleable__control:checked~label.sk-toggleable__label-arrow:before {content: \"▾\";}#sk-container-id-1 div.sk-estimator input.sk-toggleable__control:checked~label.sk-toggleable__label {background-color: #d4ebff;}#sk-container-id-1 div.sk-label input.sk-toggleable__control:checked~label.sk-toggleable__label {background-color: #d4ebff;}#sk-container-id-1 input.sk-hidden--visually {border: 0;clip: rect(1px 1px 1px 1px);clip: rect(1px, 1px, 1px, 1px);height: 1px;margin: -1px;overflow: hidden;padding: 0;position: absolute;width: 1px;}#sk-container-id-1 div.sk-estimator {font-family: monospace;background-color: #f0f8ff;border: 1px dotted black;border-radius: 0.25em;box-sizing: border-box;margin-bottom: 0.5em;}#sk-container-id-1 div.sk-estimator:hover {background-color: #d4ebff;}#sk-container-id-1 div.sk-parallel-item::after {content: \"\";width: 100%;border-bottom: 1px solid gray;flex-grow: 1;}#sk-container-id-1 div.sk-label:hover label.sk-toggleable__label {background-color: #d4ebff;}#sk-container-id-1 div.sk-serial::before {content: \"\";position: absolute;border-left: 1px solid gray;box-sizing: border-box;top: 0;bottom: 0;left: 50%;z-index: 0;}#sk-container-id-1 div.sk-serial {display: flex;flex-direction: column;align-items: center;background-color: white;padding-right: 0.2em;padding-left: 0.2em;position: relative;}#sk-container-id-1 div.sk-item {position: relative;z-index: 1;}#sk-container-id-1 div.sk-parallel {display: flex;align-items: stretch;justify-content: center;background-color: white;position: relative;}#sk-container-id-1 div.sk-item::before, #sk-container-id-1 div.sk-parallel-item::before {content: \"\";position: absolute;border-left: 1px solid gray;box-sizing: border-box;top: 0;bottom: 0;left: 50%;z-index: -1;}#sk-container-id-1 div.sk-parallel-item {display: flex;flex-direction: column;z-index: 1;position: relative;background-color: white;}#sk-container-id-1 div.sk-parallel-item:first-child::after {align-self: flex-end;width: 50%;}#sk-container-id-1 div.sk-parallel-item:last-child::after {align-self: flex-start;width: 50%;}#sk-container-id-1 div.sk-parallel-item:only-child::after {width: 0;}#sk-container-id-1 div.sk-dashed-wrapped {border: 1px dashed gray;margin: 0 0.4em 0.5em 0.4em;box-sizing: border-box;padding-bottom: 0.4em;background-color: white;}#sk-container-id-1 div.sk-label label {font-family: monospace;font-weight: bold;display: inline-block;line-height: 1.2em;}#sk-container-id-1 div.sk-label-container {text-align: center;}#sk-container-id-1 div.sk-container {/* jupyter's `normalize.less` sets `[hidden] { display: none; }` but bootstrap.min.css set `[hidden] { display: none !important; }` so we also need the `!important` here to be able to override the default hidden behavior on the sphinx rendered scikit-learn.org. See: https://github.com/scikit-learn/scikit-learn/issues/21755 */display: inline-block !important;position: relative;}#sk-container-id-1 div.sk-text-repr-fallback {display: none;}</style><div id=\"sk-container-id-1\" class=\"sk-top-container\"><div class=\"sk-text-repr-fallback\"><pre>MultinomialNB(alpha=0.01)</pre><b>In a Jupyter environment, please rerun this cell to show the HTML representation or trust the notebook. <br />On GitHub, the HTML representation is unable to render, please try loading this page with nbviewer.org.</b></div><div class=\"sk-container\" hidden><div class=\"sk-item\"><div class=\"sk-estimator sk-toggleable\"><input class=\"sk-toggleable__control sk-hidden--visually\" id=\"sk-estimator-id-1\" type=\"checkbox\" checked><label for=\"sk-estimator-id-1\" class=\"sk-toggleable__label sk-toggleable__label-arrow\">MultinomialNB</label><div class=\"sk-toggleable__content\"><pre>MultinomialNB(alpha=0.01)</pre></div></div></div></div></div>"
            ],
            "text/plain": [
              "MultinomialNB(alpha=0.01)"
            ]
          },
          "execution_count": 19,
          "metadata": {},
          "output_type": "execute_result"
        }
      ],
      "source": [
        "# use our tfidf to train our MNB(Multinomial Naive Bayes)\n",
        "\n",
        "x_train = np.array(tfidf_val_list)\n",
        "print('x_train length:', len(x_train))\n",
        "y_train = mydata_train.target\n",
        "print('y_train length:', len(y_train))\n",
        "model = MultinomialNB(alpha = 0.01)\n",
        "model.fit(x_train, y_train)\n"
      ]
    },
    {
      "cell_type": "code",
      "execution_count": 29,
      "metadata": {},
      "outputs": [],
      "source": [
        "# Perform testing on the train dataset\n",
        "\n",
        "pred: any = model.predict(x_train)"
      ]
    },
    {
      "cell_type": "code",
      "execution_count": 30,
      "metadata": {},
      "outputs": [
        {
          "name": "stdout",
          "output_type": "stream",
          "text": [
            "F1 Score: 0.958746143094483 \t percentage: 95.87%\n",
            "Accuracy: 0.9566024394555418 \t percentage: 95.66%\n"
          ]
        }
      ],
      "source": [
        "# Calculate the F1 Score and the Accuracy\n",
        "\n",
        "F1_score: float = f1_score(y_train, pred, average='weighted')\n",
        "Accuracy: float = accuracy_score(y_train, pred)\n",
        "\n",
        "print(f\"F1 Score: {F1_score} \\t percentage: {F1_score * 100:.2f}%\")\n",
        "print(f\"Accuracy: {Accuracy} \\t percentage: {Accuracy * 100:.2f}%\")\n"
      ]
    },
    {
      "cell_type": "markdown",
      "metadata": {},
      "source": [
        "# Analysis:\n",
        "- For my model, the $\\alpha$ = 0.01 is a good smoothing value, since we can choose this value from 0 to 1, its use for Lapace smoothing. "
      ]
    },
    {
      "cell_type": "markdown",
      "metadata": {
        "id": "bbMRqJv5Gl2F"
      },
      "source": [
        "### Expected Output:\n",
        "F1 Score: 0.9533633964397735\n",
        "\n",
        "Accuracy: 0.9524482941488421"
      ]
    },
    {
      "cell_type": "markdown",
      "metadata": {
        "id": "AWRDuUqU-taV"
      },
      "source": [
        "Your accuracy does not have to be exactly the same. This is just to give you an estimate of what could you expect your accuracy to be around."
      ]
    },
    {
      "cell_type": "markdown",
      "metadata": {
        "id": "UfMc8cz93Cc0"
      },
      "source": [
        "## Question 2 Vector Visualization"
      ]
    },
    {
      "cell_type": "markdown",
      "metadata": {
        "id": "70iwEeL23F7K"
      },
      "source": [
        "In this unsupervised learning task we are going to cluster wikipedia articles into groups using T-SNE visualization after vectorization."
      ]
    },
    {
      "cell_type": "markdown",
      "metadata": {
        "id": "UHx4YuxW36oM"
      },
      "source": [
        "### Collect articles from Wikipedia (10 points)\n",
        "\n",
        "In this section we will download articles from wikipedia and then vectorize them in the next step. You can select somewhat related topics or fetch the articles randomly.\n",
        "(Use dir() and help() functions or refer wikipedia documentation)\n",
        "You may also pick any other data source of your choice instead of wikipedia."
      ]
    },
    {
      "cell_type": "code",
      "execution_count": 22,
      "metadata": {
        "id": "jA419x6__mjg"
      },
      "outputs": [],
      "source": [
        "# install libraries\n",
        "# pip install wikipedia"
      ]
    },
    {
      "cell_type": "code",
      "execution_count": 23,
      "metadata": {},
      "outputs": [],
      "source": [
        "# Import package \n",
        "import wikipedia\n",
        "from wikipedia.exceptions import WikipediaException"
      ]
    },
    {
      "cell_type": "code",
      "execution_count": 24,
      "metadata": {
        "id": "vLMLk4K84Zbn"
      },
      "outputs": [],
      "source": [
        "'''\n",
        " Generate a list of wikipedia article to cluster\n",
        " You can maintain a static list of titles or generate them randomly using wikipedia library\n",
        " Some topics include:\n",
        " [\"Northeastern Unversity\", \"Natural language processing\", \"Machine learning\", \"Quantum machine learning\", \"Artificial intelligence\", \"Data science\", \"Master in Data Science\",\n",
        " \"Bank of America\", \"Visa Inc.\", \"European Central Bank\", \"Bank\", \"Financial technology\",\"International Monetary Fund\",\n",
        " \"Basketball\", \"Swimming\", \"Tennis\", \"Football\", \"College Football\", \"Association Football\"]\n",
        "\n",
        " You can add more topics from different categories so that we have a diverse dataset to work with.\n",
        " Ex- About 3+ categories(groups), 3+ topics in each category, 3+ articles in each topic\n",
        "'''\n",
        "\n",
        "# selected topics\n",
        "topics: list[str] = [\"Northeastern Unversity\", \n",
        "                    \"Natural language processing\", \n",
        "                    \"Machine learning\", \n",
        "                    \"Quantum machine learning\", \n",
        "                    \"Artificial intelligence\", \n",
        "                    \"Data science\", \n",
        "                    \"Master in Data Science\",\n",
        "                    \"Bank of America\", \n",
        "                    \"Visa Inc.\", \n",
        "                    \"European Central Bank\", \n",
        "                    \"Bank\", \n",
        "                    \"Financial technology\",\n",
        "                    \"International Monetary Fund\",\n",
        "                    \"Basketball\", \n",
        "                    \"Swimming\", \n",
        "                    \"Tennis\", \n",
        "                    \"Football\", \n",
        "                    \"College Football\", \n",
        "                    \"Association Football\"]\n",
        "\n",
        "# list of articles to be downloaded\n",
        "articles: list[str] = [topics]\n",
        "\n",
        "# download and store articles (summaries) in this variable\n",
        "data: list[str] = []\n",
        "\n",
        "for article in articles:\n",
        "    try: \n",
        "        summary = wikipedia.summary(article)\n",
        "        data.append(summary)\n",
        "    except wikipedia.exceptions.DisambiguationError as e:\n",
        "        summary = wikipedia.summary(e.options[0])\n",
        "        data.append(summary)\n",
        "    except Exception as e:\n",
        "        print(f\"Error retrieving the article {article}: {e}\")\n"
      ]
    },
    {
      "cell_type": "code",
      "execution_count": 25,
      "metadata": {},
      "outputs": [
        {
          "name": "stdout",
          "output_type": "stream",
          "text": [
            "Summary:\n",
            "Association football, more commonly known as football or soccer, is a team sport played between two teams of 11 players each, who primarily use their feet to propel a ball around a rectangular field called a pitch. The objective of the game is to score more goals than the opposing team by moving the ball beyond the goal line into a rectangular-framed goal defended by the opposing team. Traditionally, the game has been played over two 45-minute halves, for a total match time of 90 minutes. With an estimated 250 million players active in over 200 countries and territories, it is the world's most popular sport.\n",
            "The game of association football is played in accordance with the Laws of the Game, a set of rules that has been in effect since 1863 and maintained by the IFAB since 1886. The game is played with a football that is 68–70 cm (27–28 in) in circumference. The two teams compete to get the ball into the other team's goal (between the posts and under the bar), thereby scoring a goal. When the ball is in play, the players mainly use their feet, but may use any other part of their body, except for their hands or arms, to control, strike, or pass the ball. Only the goalkeepers may use their hands and arms, and only then within the penalty area. The team that has scored more goals at the end of the game is the winner. Depending on the format of the competition, an equal number of goals scored may result in a draw being declared, or the game goes into extra time or a penalty shoot-out.Internationally, association football is governed by FIFA. Under FIFA, there are six continental confederations: AFC, CAF, CONCACAF, CONMEBOL, OFC and UEFA. Of these confederations, CONMEBOL is the oldest one, being founded in 1916. National associations (e.g. The FA or JFA) are responsible for managing the game in their own countries both professionally and at an amateur level, and coordinating competitions in accordance with the Laws of the Game. The most senior and prestigious international competitions are the FIFA World Cup and the FIFA Women's World Cup. The men's World Cup is the most-viewed sporting event in the world, surpassing the Olympic Games. The two most prestigious competitions in European club football are the UEFA Champions League and the UEFA Women's Champions League, which attract an extensive television audience throughout the world. Since 2009, the final of the men's tournament has been the most-watched annual sporting event in the world.\n",
            "Topics:\n",
            "['Northeastern Unversity', 'Natural language processing', 'Machine learning', 'Quantum machine learning', 'Artificial intelligence', 'Data science', 'Master in Data Science', 'Bank of America', 'Visa Inc.', 'European Central Bank', 'Bank', 'Financial technology', 'International Monetary Fund', 'Basketball', 'Swimming', 'Tennis', 'Football', 'College Football', 'Association Football']\n"
          ]
        }
      ],
      "source": [
        "# Check the atticals\n",
        "print('Summary:')\n",
        "for summary in data:\n",
        "    print(summary)\n",
        "    \n",
        "print('Topics:')\n",
        "for article in articles:\n",
        "    print(article)"
      ]
    },
    {
      "cell_type": "markdown",
      "metadata": {
        "id": "IgpRv7wQ4Dpm"
      },
      "source": [
        "### Cleaning the Data (5 points)\n",
        "In this step you will decide whether to clean the data or not. If you choose to clean, you may utilize the clean function from assignment 1.\n",
        "\n",
        "**Question:** Why are you (not) choosing to clean the data? Think in terms of whether cleaning data will help in the clustering or not."
      ]
    },
    {
      "cell_type": "markdown",
      "metadata": {
        "id": "PnZpDKcaHTGq"
      },
      "source": [
        "**Answer(1-3 sentences):**"
      ]
    },
    {
      "cell_type": "markdown",
      "metadata": {},
      "source": [
        "- I think we need to clean that. Since we download the data base on `wikipedia`，so Wikipedia summaries might contain information that's not directly related to the main topic or might contain introductory phrases or extraneous details. So, we need to clean data followed assignment 1, this is thus, different articles might have different writing styles, tenses, or formats. Standardizing the text can help algorithms process it more efficiently. "
      ]
    },
    {
      "cell_type": "code",
      "execution_count": 26,
      "metadata": {
        "id": "lNj53Pxr963N"
      },
      "outputs": [],
      "source": [
        "# You can use Assignment 1's clean message function\n",
        "import re\n",
        "import nltk\n",
        "import string\n",
        "#nltk.download('punkt')\n",
        "#nltk.download('stopwords')\n",
        "\n",
        "def clean_message(message):\n",
        "    return message\n",
        "\n"
      ]
    },
    {
      "cell_type": "markdown",
      "metadata": {
        "id": "bvRZUpmq-DmT"
      },
      "source": [
        "### Vectorize the articles (5 points)\n",
        "\n",
        "In this step, we will vectorize the text data. You can use TfidfVectorizer() or countVectorizer() from sklearn library."
      ]
    },
    {
      "cell_type": "code",
      "execution_count": 27,
      "metadata": {
        "id": "gJk8YY89-OU4"
      },
      "outputs": [
        {
          "ename": "SyntaxError",
          "evalue": "invalid syntax (189822386.py, line 1)",
          "output_type": "error",
          "traceback": [
            "\u001b[1;36m  Cell \u001b[1;32mIn[27], line 1\u001b[1;36m\u001b[0m\n\u001b[1;33m    from sklearn.feature_extraction.text import\u001b[0m\n\u001b[1;37m                                               ^\u001b[0m\n\u001b[1;31mSyntaxError\u001b[0m\u001b[1;31m:\u001b[0m invalid syntax\n"
          ]
        }
      ],
      "source": [
        "from sklearn.feature_extraction.text import\n"
      ]
    },
    {
      "cell_type": "code",
      "execution_count": null,
      "metadata": {
        "id": "DAIGlqEuINWA"
      },
      "outputs": [],
      "source": [
        "print(X.shape)"
      ]
    },
    {
      "cell_type": "markdown",
      "metadata": {
        "id": "PKLvrKHRQaQq"
      },
      "source": [
        "### Sample Output:\n",
        "(36, 1552)"
      ]
    },
    {
      "cell_type": "markdown",
      "metadata": {
        "id": "M5ZrGrzD_G8d"
      },
      "source": [
        "### Plot Articles (10 points)\n",
        "Now we will try to verify the groups of articles using T-SNE from sklearn library."
      ]
    },
    {
      "cell_type": "code",
      "execution_count": null,
      "metadata": {
        "id": "SjcuZBOe-oZq"
      },
      "outputs": [],
      "source": [
        " from sklearn.manifold import TSNE\n",
        "\n",
        "# call TSNE() to fit the data\n"
      ]
    },
    {
      "cell_type": "markdown",
      "metadata": {
        "id": "iCY_blxjO1bs"
      },
      "source": [
        "Plot and annotate the points with different markers for different expected groups."
      ]
    },
    {
      "cell_type": "code",
      "execution_count": null,
      "metadata": {
        "colab": {
          "base_uri": "https://localhost:8080/",
          "height": 483
        },
        "id": "3ODUA1Vf-rRd",
        "outputId": "325b5db4-60d1-4907-a487-40893e256ee1"
      },
      "outputs": [
        {
          "data": {
            "image/png": "[encoded data removed]",
            "text/plain": [
              "<Figure size 720x576 with 1 Axes>"
            ]
          },
          "metadata": {},
          "output_type": "display_data"
        }
      ],
      "source": [
        "import matplotlib.pyplot as plt\n",
        "\n",
        "# get a figure handle\n",
        "fig,ax = plt.subplots(figsize=(10,8))\n",
        "\n"
      ]
    },
    {
      "cell_type": "markdown",
      "metadata": {
        "id": "dYcEi1EC_UGO"
      },
      "source": [
        "**Question:** Comment about the categorizion done by T-SNE. Do the articles of related topics cluster together? (5 points)"
      ]
    },
    {
      "cell_type": "markdown",
      "metadata": {
        "id": "tde1Wu5HI6AA"
      },
      "source": [
        "**Answer(1-3 sentences):**  \n",
        "  \n"
      ]
    },
    {
      "cell_type": "markdown",
      "metadata": {
        "id": "U2xrJddIpSsd"
      },
      "source": [
        "# Question 3 Building Neural Networks\n",
        "\n",
        "### We are gonna use Emotions Dataset for this task. We need to classify the given text into different kind of emotions like happy,sad,anger etc..,\n",
        "\n",
        "### We are providing train.txt and val.txt files along with this notebook."
      ]
    },
    {
      "cell_type": "markdown",
      "metadata": {
        "id": "NJYmVbkvphgX"
      },
      "source": [
        "### Library Imports and Utility functions"
      ]
    },
    {
      "cell_type": "code",
      "execution_count": null,
      "metadata": {
        "id": "BO-HU-7uorVX"
      },
      "outputs": [],
      "source": [
        "from sklearn.feature_extraction.text import CountVectorizer\n",
        "from sklearn.feature_extraction.text import TfidfVectorizer\n",
        "import nltk\n",
        "from nltk.corpus import stopwords\n",
        "from nltk.stem import PorterStemmer\n",
        "from nltk.tokenize import word_tokenize\n",
        "import string\n",
        "import pandas as pd\n",
        "import re\n",
        "#string.punctuation\n",
        "import nltk\n",
        "nltk.download('stopwords')\n",
        "nltk.download('wordnet')\n",
        "nltk.download('words')\n",
        "\n",
        "stopword = nltk.corpus.stopwords.words('english')\n",
        "wn = nltk.WordNetLemmatizer()\n",
        "ps = nltk.PorterStemmer()\n",
        "words = set(nltk.corpus.words.words())\n",
        "\n",
        "\n",
        "def clean_text(text):\n",
        "  # From the last assignment\n",
        "    text = text.lower()\n",
        "    text = re.sub(r\"http\\S+\", \"\", text)\n",
        "    text = re.sub(r\"www.\\S+\", \"\", text)\n",
        "    text_links_removed = \"\".join([char for char in text if char not in string.punctuation])\n",
        "    text_cleaned = \" \".join([word for word in re.split('\\W+', text_links_removed)\n",
        "        if word not in stopword])\n",
        "    text = \" \".join([wn.lemmatize(word) for word in re.split('\\W+', text_cleaned)])\n",
        "    return text"
      ]
    },
    {
      "cell_type": "markdown",
      "metadata": {
        "id": "B0D5wVjZw7s0"
      },
      "source": [
        "### Q) Importing the datasets and do the necessary cleaning and convert the text into the vectors which are mentioned in the below code blocks. (10 points)"
      ]
    },
    {
      "cell_type": "code",
      "execution_count": null,
      "metadata": {
        "id": "MOMhmIlGprK9"
      },
      "outputs": [],
      "source": [
        "# Import the train.txt and val.txt file into pandas dataframe format\n",
        "\n",
        "# train\n",
        "\n",
        "# validation\n",
        "\n",
        "# and printout the train.shape and validation.shape\n",
        "\n",
        "# expected shape of train dataset is (16000,2) and validation dataset is (2000,2)"
      ]
    },
    {
      "cell_type": "code",
      "execution_count": null,
      "metadata": {
        "id": "PS7K3p7AqAI8"
      },
      "outputs": [],
      "source": [
        "# clean the text in the train and validation dataframes using the clean_text function provided above"
      ]
    },
    {
      "cell_type": "code",
      "execution_count": null,
      "metadata": {
        "id": "GxZC6RIjq3bu"
      },
      "outputs": [],
      "source": [
        "# initialise count vectorizer from sklearn module with default parameter\n",
        "\n",
        "# fit on train dataset and transform both train and validation dataset"
      ]
    },
    {
      "cell_type": "code",
      "execution_count": null,
      "metadata": {
        "id": "85nuazEzq3YT"
      },
      "outputs": [],
      "source": [
        "# initialise tfidf vectorizer from sklearn module with default parameter\n",
        "\n",
        "# fit on train dataset and transform both train and validation dataset"
      ]
    },
    {
      "cell_type": "code",
      "execution_count": null,
      "metadata": {
        "id": "jgHWAuG-q3Vm"
      },
      "outputs": [],
      "source": [
        "# initialise label encoder from sklearn module\n",
        "\n",
        "# fit on train labels and transform both train and validation labels"
      ]
    },
    {
      "cell_type": "code",
      "execution_count": null,
      "metadata": {
        "id": "Wjdye0tvq3So"
      },
      "outputs": [],
      "source": [
        "# convert the labels into one hot encoding form"
      ]
    },
    {
      "cell_type": "markdown",
      "metadata": {
        "id": "xjsiH8YOw-Da"
      },
      "source": [
        "### Q) Build the neural networks using tensorflow keras by following the below instructions. Evaluate the model on different metrics and comment your observations. (20 points)"
      ]
    },
    {
      "cell_type": "code",
      "execution_count": null,
      "metadata": {
        "id": "AQg14bkTq3KB"
      },
      "outputs": [],
      "source": [
        "import tensorflow as tf\n",
        "\n",
        "tf.random.set_seed(42)\n",
        "\n",
        "\n",
        "# complete this linear model in tensorflow\n",
        "def build_model(X):\n",
        "\n",
        "  # layer 1 : input layer\n",
        "  inp = tf.keras.Input((X.shape[1],))\n",
        "\n",
        "  # layer 2 : add the dense layer with 2048 units and relu activation\n",
        "\n",
        "  # layer 3 : add the dropout layer with dropout rate of 0.5\n",
        "\n",
        "  # layer 4 : add the dense layer with 1024 units with tanh activation and with l2 regularization\n",
        "\n",
        "  # layer 5 : add the dropout layer with dropout rate of 0.5\n",
        "\n",
        "  # layer 6 : add the dense layer with 512 units with tanh activation and with l2 regularization\n",
        "\n",
        "  # layer 7 : add the dropout layer with dropout rate of 0.5\n",
        "\n",
        "  # layer 8 : add the dense layer with 256 units with tanh activation and with l2 regularization\n",
        "\n",
        "  # layer 9 : add the dropout layer with dropout rate of 0.5\n",
        "\n",
        "  # layer 10 : add the dense layer with 128 units with tanh activation and with l2 regularization\n",
        "\n",
        "  # layer 11 : add the dropout layer with dropout rate of 0.5\n",
        "\n",
        "  # layer 12 : output layer with units equal to number of classes and activation as softmax\n",
        "\n",
        "  # use loss as categorical crossentropy, optimizer as rmsprop and evaluate model on auc,precision,recall,accuracy\n",
        "\n",
        "  return model\n"
      ]
    },
    {
      "cell_type": "code",
      "execution_count": null,
      "metadata": {
        "id": "Q71CC1pIsx0O"
      },
      "outputs": [],
      "source": [
        "# call the build_model function and initialize the model"
      ]
    },
    {
      "cell_type": "code",
      "execution_count": null,
      "metadata": {
        "id": "KyAZNgsBsxwo"
      },
      "outputs": [],
      "source": [
        "# train and validate the model on the count vectors of text which we have created initially for 10 epochs,\n",
        "# adjust batch size according to your computation power (suggestion use : 8)"
      ]
    },
    {
      "cell_type": "code",
      "execution_count": null,
      "metadata": {
        "id": "nS02IwLCsxmG"
      },
      "outputs": [],
      "source": [
        "# plot train loss vs val loss, train auc vs val auc, train recall vs val recall, train precision vs val precision and train accuracy vs val accuracy and comment your observations"
      ]
    },
    {
      "cell_type": "code",
      "execution_count": null,
      "metadata": {
        "id": "6FHdCcp7wXyw"
      },
      "outputs": [],
      "source": [
        "# again call the build_model function and initialize the model"
      ]
    },
    {
      "cell_type": "code",
      "execution_count": null,
      "metadata": {
        "id": "k4gB80M6wXvV"
      },
      "outputs": [],
      "source": [
        "# train and validate the model on the tfidf vectors of text which we have created initially for 10 epochs,\n",
        "# adjust batch size according to your computation power (suggestion use : 8)"
      ]
    },
    {
      "cell_type": "code",
      "execution_count": null,
      "metadata": {
        "id": "EsnEOHXRwXkv"
      },
      "outputs": [],
      "source": [
        "# plot train loss vs val loss, train auc vs val auc, train recall vs val recall, train precision vs val precision and train accuracy vs val accuracy and comment your observations"
      ]
    },
    {
      "cell_type": "markdown",
      "metadata": {
        "id": "4adDDQWeQyGb"
      },
      "source": [
        "## Question 4 Theory Question  \n",
        "\n",
        "What is the difference between Count Vectorizer, TFIDF, Word2Vec and Glove? (5 points)"
      ]
    },
    {
      "cell_type": "markdown",
      "metadata": {
        "id": "cXTRkF6KRB_D"
      },
      "source": [
        "**Answer:**"
      ]
    },
    {
      "cell_type": "markdown",
      "metadata": {
        "id": "yQQsqcto79zE"
      },
      "source": [
        "What is the significant difference between the Naive Bayes Implementation using Bag of Words and TF-IDF? (5 points)"
      ]
    },
    {
      "cell_type": "markdown",
      "metadata": {
        "id": "JtiPCTZM8Aua"
      },
      "source": [
        "**Answer:**"
      ]
    },
    {
      "cell_type": "code",
      "execution_count": null,
      "metadata": {
        "id": "OaXBo1Bw8C1K"
      },
      "outputs": [],
      "source": []
    }
  ],
  "metadata": {
    "colab": {
      "provenance": []
    },
    "kernelspec": {
      "display_name": "Python 3",
      "language": "python",
      "name": "python3"
    },
    "language_info": {
      "codemirror_mode": {
        "name": "ipython",
        "version": 3
      },
      "file_extension": ".py",
      "mimetype": "text/x-python",
      "name": "python",
      "nbconvert_exporter": "python",
      "pygments_lexer": "ipython3",
      "version": "3.10.13"
    }
  },
  "nbformat": 4,
  "nbformat_minor": 0
}
