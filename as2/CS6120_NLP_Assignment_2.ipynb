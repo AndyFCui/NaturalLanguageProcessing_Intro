{
  "cells": [
    {
      "cell_type": "markdown",
      "metadata": {
        "id": "ni4T_dwEHFVa"
      },
      "source": [
        "## CS 6120: Natural Language Processing - Prof. Ahmad Uzair\n",
        "\n",
        "### Assignment 2: Text Classification and Neural Network\n",
        "### Total Points: 100 points"
      ]
    },
    {
      "cell_type": "markdown",
      "metadata": {
        "id": "loQ22M-bCubq"
      },
      "source": [
        "In Assignment 2, you will be dealing with text classification using Multinomial Naive Bayes and Neural Networks. You will also be dealing with vector visualization.In this assignment you will be using TF-IDF Vectorization instead of Bag of Words. We recommend starting with this assignment a little early as the datasets are quite large and several parts of the assignment might take long duration to execute."
      ]
    },
    {
      "cell_type": "markdown",
      "metadata": {
        "id": "Q3brglC1C0mZ"
      },
      "source": [
        "## Question 1 Text Classification"
      ]
    },
    {
      "cell_type": "markdown",
      "metadata": {
        "id": "IZ1y75IoC3rE"
      },
      "source": [
        "In the first question you will be dealing with 20 News Group Dataset. You are required to implement TF-IDF vectorization from scratch and perform Multinomial Naive Bayes Classification on the News Group Dataset.\n",
        "You may use appropriate packages or modules for fitting the Multinomial Naive Bayes Model, however, the implementation of the TF-IDF Vectorization should be from the scratch."
      ]
    },
    {
      "cell_type": "markdown",
      "metadata": {
        "id": "yRjM45PyC8ML"
      },
      "source": [
        "The 20 newsgroups dataset comprises around 20000 newsgroups posts on 20 topics split in two subsets: one for training (or development) and the other one for testing (or for performance evaluation). The split between the train and test set is based upon a messages posted before and after a specific date.\n",
        "\n",
        "Link to the original dataset: http://archive.ics.uci.edu/ml/datasets/Twenty+Newsgroups\n",
        "\n",
        "You can also import the dataset from sklearn.datasets"
      ]
    },
    {
      "cell_type": "code",
      "execution_count": 1,
      "metadata": {
        "id": "CmFf2INNDJRb"
      },
      "outputs": [],
      "source": [
        "# importing the libraries\n",
        "\n",
        "import numpy as np\n",
        "import sklearn\n",
        "from sklearn.feature_extraction.text import TfidfVectorizer\n",
        "from sklearn.datasets import fetch_20newsgroups\n",
        "from pprint import pprint\n",
        "from sklearn.feature_extraction.text import CountVectorizer\n",
        "from sklearn import preprocessing\n",
        "import pandas as pd\n",
        "import re\n",
        "import numpy as np\n",
        "from nltk.tokenize import  word_tokenize\n",
        "import nltk\n",
        "from sklearn.naive_bayes import MultinomialNB\n",
        "from sklearn import metrics\n",
        "# add more packages\n",
        "from typing import Dict\n",
        "from typing import Set\n",
        "from typing import List\n",
        "import math\n",
        "from sklearn.feature_extraction.text import TfidfVectorizer\n",
        "from sklearn.metrics import f1_score, accuracy_score\n",
        "from collections import defaultdict\n",
        "from nltk.corpus import stopwords\n",
        "import string\n",
        "import numpy as np\n",
        "from nltk.stem import PorterStemmer\n",
        "from sklearn.metrics import confusion_matrix\n",
        "import seaborn as sns\n",
        "from sklearn.metrics import classification_report\n",
        "import matplotlib.pyplot as plt"
      ]
    },
    {
      "cell_type": "code",
      "execution_count": 2,
      "metadata": {
        "id": "AEp1SHe5DKCB"
      },
      "outputs": [],
      "source": [
        "# Import the 20 news group dataset utilizing sklearn library\n",
        "\n",
        "mydata_train: any = fetch_20newsgroups(subset='train', remove=('headers', 'footers', 'quotes'))\n",
        "\n",
        "mydata_test: any = fetch_20newsgroups(subset='test', remove=('headers', 'footers', 'quotes'))\n"
      ]
    },
    {
      "cell_type": "code",
      "execution_count": 3,
      "metadata": {
        "colab": {
          "base_uri": "https://localhost:8080/"
        },
        "id": "OscOmcE0DMHa",
        "outputId": "1429b2ff-108b-4092-a3a8-3b8f2984cf61"
      },
      "outputs": [
        {
          "name": "stdout",
          "output_type": "stream",
          "text": [
            "['alt.atheism', 'comp.graphics', 'comp.os.ms-windows.misc', 'comp.sys.ibm.pc.hardware', 'comp.sys.mac.hardware', 'comp.windows.x', 'misc.forsale', 'rec.autos', 'rec.motorcycles', 'rec.sport.baseball', 'rec.sport.hockey', 'sci.crypt', 'sci.electronics', 'sci.med', 'sci.space', 'soc.religion.christian', 'talk.politics.guns', 'talk.politics.mideast', 'talk.politics.misc', 'talk.religion.misc']\n"
          ]
        }
      ],
      "source": [
        "# Print the news groups(target) in the dataset\n",
        "\n",
        "print(list(mydata_train.target_names))"
      ]
    },
    {
      "cell_type": "code",
      "execution_count": 4,
      "metadata": {
        "colab": {
          "base_uri": "https://localhost:8080/"
        },
        "id": "JvQb2r0aDR_J",
        "outputId": "c1a91539-65af-42b2-e059-aca5e56c48fb"
      },
      "outputs": [
        {
          "name": "stdout",
          "output_type": "stream",
          "text": [
            "<class 'sklearn.utils._bunch.Bunch'>\n",
            "<class 'sklearn.utils._bunch.Bunch'>\n"
          ]
        }
      ],
      "source": [
        "# What is the type of 'mydata_train' and 'mydata_test'\n",
        "\n",
        "print(type(mydata_train))\n",
        "print(type(mydata_test))"
      ]
    },
    {
      "cell_type": "code",
      "execution_count": 5,
      "metadata": {
        "colab": {
          "base_uri": "https://localhost:8080/"
        },
        "id": "ozzwyREhDaMK",
        "outputId": "a4434ad8-2909-42f2-e670-9fd31b1e3a09"
      },
      "outputs": [
        {
          "name": "stdout",
          "output_type": "stream",
          "text": [
            "The length of the `mydata_train.data` is 11314\n",
            "The length of the `mydata_train.filenames` is 11314\n",
            "The length of the `mydata_test.data` is 7532\n",
            "The length of the `mydata_test.filenames` is 7532\n"
          ]
        }
      ],
      "source": [
        "# Check the length of the data\n",
        "\n",
        "print('The length of the {} is {}' .format('`mydata_train.data`', len(mydata_train.data)))\n",
        "print('The length of the {} is {}' .format('`mydata_train.filenames`', len(mydata_train.filenames)))\n",
        "print('The length of the {} is {}' .format('`mydata_test.data`', len(mydata_test.data)))\n",
        "print('The length of the {} is {}' .format('`mydata_test.filenames`', len(mydata_test.filenames)))"
      ]
    },
    {
      "cell_type": "markdown",
      "metadata": {
        "id": "BlipMuEpDz-K"
      },
      "source": [
        "### Expected Output:\n",
        "11314\n",
        "\n",
        "11314\n",
        "\n",
        "7532\n",
        "\n",
        "7532"
      ]
    },
    {
      "cell_type": "markdown",
      "metadata": {
        "id": "55FKOBBuEDI2"
      },
      "source": [
        "## Extracting Features from the Dataset                        (20 Points)"
      ]
    },
    {
      "cell_type": "markdown",
      "metadata": {
        "id": "u4GDENzmEEkG"
      },
      "source": [
        "In order to perform machine learning on text documents, we first need to turn the text content into numerical feature vectors."
      ]
    },
    {
      "cell_type": "markdown",
      "metadata": {
        "id": "OgxfDXmxEHid"
      },
      "source": [
        "### TF-IDF Vectorization"
      ]
    },
    {
      "cell_type": "markdown",
      "metadata": {
        "id": "Q8qNFFYyEKsa"
      },
      "source": [
        "Our model cannot simply read the text data so we convert it into numerical format. In order to convert the data into numerical format we create vectors from text.\n",
        "\n",
        "For this particular purpose we could either employ Bag of Words or TF-IDF Vectorization\n",
        "\n",
        "Bag of Words just creates a set of vectors containing the count of word occurrences in the document (reviews), while the TF-IDF model contains information on the more important words and the less important ones as well.\n",
        "\n",
        "TF-IDF stands for Term Frequency-Inverse Document Frequency, which instead of giving more weight to words that occur more frequently, it gives a higher weight to words that occur less frequently.\n",
        "\n",
        "Ref:https://www.analyticsvidhya.com/blog/2020/02/quick-introduction-bag-of-words-bow-tf-idf/#:~:text=Bag%20of%20Words%20just%20creates,less%20important%20ones%20as%20well."
      ]
    },
    {
      "cell_type": "markdown",
      "metadata": {
        "id": "dLzgRJRZEP3k"
      },
      "source": [
        "TF-IDF = Term Frequency (TF) * Inverse Document Frequency (IDF)"
      ]
    },
    {
      "cell_type": "markdown",
      "metadata": {
        "id": "xe5lHi3NE1QJ"
      },
      "source": [
        "Term Frequency is the measure of the frequency of words in a document. It is the ratio of the number of times the word appears in a document compared to the total number of words in that document.\n",
        "\n",
        "The words that occur rarely in the corpus have a high IDF score. It is the log of the ratio of the number of documents to the number of documents containing the word."
      ]
    },
    {
      "cell_type": "markdown",
      "metadata": {
        "id": "HXotAER_EQ8T"
      },
      "source": [
        "idf(t) = log(N/(df + 1))"
      ]
    },
    {
      "cell_type": "code",
      "execution_count": 6,
      "metadata": {
        "id": "2vzVI8ylFAEl"
      },
      "outputs": [],
      "source": [
        "text: any = mydata_train.data\n",
        "test: any = mydata_test.data"
      ]
    },
    {
      "cell_type": "markdown",
      "metadata": {
        "id": "HZ2AatmvFtE-"
      },
      "source": [
        "## Preprocessing the Corpus"
      ]
    },
    {
      "cell_type": "code",
      "execution_count": 7,
      "metadata": {
        "colab": {
          "base_uri": "https://localhost:8080/"
        },
        "id": "HShm1vkbzC61",
        "outputId": "b68175ac-ece5-4ea4-b154-67f7af795dba"
      },
      "outputs": [
        {
          "name": "stderr",
          "output_type": "stream",
          "text": [
            "[nltk_data] Downloading package punkt to C:\\Users\\Andy\n",
            "[nltk_data]     Cui\\AppData\\Roaming\\nltk_data...\n",
            "[nltk_data]   Package punkt is already up-to-date!\n",
            "[nltk_data] Downloading package stopwords to C:\\Users\\Andy\n",
            "[nltk_data]     Cui\\AppData\\Roaming\\nltk_data...\n",
            "[nltk_data]   Package stopwords is already up-to-date!\n"
          ]
        },
        {
          "data": {
            "text/plain": [
              "True"
            ]
          },
          "execution_count": 7,
          "metadata": {},
          "output_type": "execute_result"
        }
      ],
      "source": [
        "nltk.download('punkt')\n",
        "nltk.download('stopwords')"
      ]
    },
    {
      "cell_type": "code",
      "execution_count": 8,
      "metadata": {
        "id": "9bW7o-i_zC61"
      },
      "outputs": [],
      "source": [
        "# Clean corpus\n",
        "def clean_corpus(line: list[str]) -> list[str]:\n",
        "    '''\n",
        "    preprocess and clean a given line.\n",
        "\n",
        "    - line: The text line to be cleaned.\n",
        "    ---\n",
        "    - list: A list of preprocessed tokens from the line.\n",
        "    '''\n",
        "\n",
        "    # Followed as1 method to clean data\n",
        "    # Remove links\n",
        "    line: list[str] = re.sub(r'http\\S+', '', line)\n",
        "\n",
        "    # Convert the line to lowercase\n",
        "    line: list[str] = line.lower()\n",
        "\n",
        "    # Remove punctuation from the line\n",
        "    line: list[str] = ''.join([char for char in line if char not in string.punctuation])\n",
        "\n",
        "    # Tokenize\n",
        "    tokens: list[str] = nltk.word_tokenize(line)\n",
        "\n",
        "    # Remove stop words\n",
        "    tokens: list[str] = [token for token in tokens if token not in stop_words]\n",
        "\n",
        "    # Stemming\n",
        "    tokens: list[str] = [stemmer.stem(token) for token in tokens]\n",
        "\n",
        "    return tokens"
      ]
    },
    {
      "cell_type": "code",
      "execution_count": 9,
      "metadata": {
        "id": "XyJbe42AFuHp"
      },
      "outputs": [],
      "source": [
        "# Preprocessing the data\n",
        "\n",
        "lines: list[list[str]] = []\n",
        "word_list: list[str] = []\n",
        "\n",
        "# Predefined list of stop words\n",
        "stop_words: set = set(stopwords.words('english'))\n",
        "stemmer: any = PorterStemmer()\n",
        "\n",
        "# Tokenize the text documents and update the lists word_list and lines\n",
        "lines = [clean_corpus(line) for line in text]\n",
        "# print(len(lines))\n",
        "word_list: list[str] = [token for line in lines for token in line]\n",
        "\n",
        "# Make sure the word_list contains unique tokens\n",
        "word_list: list[str] = list(set(word_list))\n",
        "\n",
        "# Calculate the total documents present in the corpus\n",
        "total_docs: int = len(lines)\n",
        "\n",
        "#Create a dictionary to keep track of index of each word\n",
        "dict_idx: defaultdict[int, int] = defaultdict(int)\n",
        "for idx, word in enumerate(word_list):\n",
        "    dict_idx[word] = idx"
      ]
    },
    {
      "cell_type": "code",
      "execution_count": 10,
      "metadata": {
        "id": "E6M_CoI9FxYb"
      },
      "outputs": [],
      "source": [
        "# Create a frequency dictionary\n",
        "\n",
        "def frequency_dict(lines: str) -> dict[str, int]:\n",
        "    '''\n",
        "    create a frequency dictionary\n",
        "\n",
        "    - lines: list containing all the tokens\n",
        "    ---\n",
        "    - freq_word: returns a dictionary which keeps the count of the number of documents\n",
        "        containing the given word.\n",
        "    '''\n",
        "    # Initialize the frequency dictionary\n",
        "    freq_word: dict[str, int] = defaultdict(int)\n",
        "\n",
        "    for line in lines:\n",
        "\n",
        "        # This set will keep track of words already counted for the current line\n",
        "        seen_words: set[str] = set()\n",
        "\n",
        "        for word in line:\n",
        "            if word not in seen_words:\n",
        "                freq_word[word] += 1\n",
        "                seen_words.add(word)\n",
        "\n",
        "    return freq_word"
      ]
    },
    {
      "cell_type": "code",
      "execution_count": 11,
      "metadata": {
        "colab": {
          "base_uri": "https://localhost:8080/"
        },
        "id": "qFkt9KBgFz43",
        "outputId": "a017a801-b8b3-4216-f996-6b75ac673019"
      },
      "outputs": [
        {
          "data": {
            "text/plain": [
              "defaultdict(int,\n",
              "            {'wonder': 452,\n",
              "             'anyon': 1399,\n",
              "             'could': 1674,\n",
              "             'enlighten': 28,\n",
              "             'car': 485,\n",
              "             'saw': 266,\n",
              "             'day': 845,\n",
              "             '2door': 3,\n",
              "             'sport': 105,\n",
              "             'look': 1562,\n",
              "             'late': 207,\n",
              "             '60': 198,\n",
              "             'earli': 268,\n",
              "             '70': 121,\n",
              "             'call': 1169,\n",
              "             'bricklin': 3,\n",
              "             'door': 142,\n",
              "             'realli': 1074,\n",
              "             'small': 433,\n",
              "             'addit': 307,\n",
              "             'front': 232,\n",
              "             'bumper': 23,\n",
              "             'separ': 211,\n",
              "             'rest': 335,\n",
              "             'bodi': 285,\n",
              "             'know': 2460,\n",
              "             'tellm': 1,\n",
              "             'model': 320,\n",
              "             'name': 676,\n",
              "             'engin': 343,\n",
              "             'spec': 106,\n",
              "             'year': 1418,\n",
              "             'product': 343,\n",
              "             'made': 808,\n",
              "             'histori': 298,\n",
              "             'whatev': 293,\n",
              "             'info': 343,\n",
              "             'funki': 5,\n",
              "             'pleas': 1191,\n",
              "             'email': 849,\n",
              "             'fair': 136,\n",
              "             'number': 858,\n",
              "             'brave': 68,\n",
              "             'soul': 88,\n",
              "             'upgrad': 153,\n",
              "             'si': 32,\n",
              "             'clock': 102,\n",
              "             'oscil': 23,\n",
              "             'share': 237,\n",
              "             'experi': 426,\n",
              "             'poll': 40,\n",
              "             'send': 550,\n",
              "             'brief': 77,\n",
              "             'messag': 374,\n",
              "             'detail': 326,\n",
              "             'procedur': 90,\n",
              "             'top': 277,\n",
              "             'speed': 354,\n",
              "             'attain': 21,\n",
              "             'cpu': 91,\n",
              "             'rate': 322,\n",
              "             'add': 296,\n",
              "             'card': 517,\n",
              "             'adapt': 108,\n",
              "             'heat': 98,\n",
              "             'sink': 30,\n",
              "             'hour': 199,\n",
              "             'usag': 52,\n",
              "             'per': 244,\n",
              "             'floppi': 137,\n",
              "             'disk': 326,\n",
              "             'function': 286,\n",
              "             '800': 79,\n",
              "             '14': 281,\n",
              "             'especi': 327,\n",
              "             'request': 223,\n",
              "             'summar': 56,\n",
              "             'next': 512,\n",
              "             'two': 1273,\n",
              "             'network': 234,\n",
              "             'knowledg': 227,\n",
              "             'base': 630,\n",
              "             'done': 579,\n",
              "             'havent': 286,\n",
              "             'answer': 518,\n",
              "             'thank': 1389,\n",
              "             'well': 1628,\n",
              "             'folk': 202,\n",
              "             'mac': 263,\n",
              "             'plu': 236,\n",
              "             'final': 401,\n",
              "             'gave': 210,\n",
              "             'ghost': 16,\n",
              "             'weekend': 63,\n",
              "             'start': 868,\n",
              "             'life': 469,\n",
              "             '512k': 17,\n",
              "             'way': 1471,\n",
              "             'back': 1043,\n",
              "             '1985': 44,\n",
              "             'sooo': 4,\n",
              "             'im': 1652,\n",
              "             'market': 232,\n",
              "             'new': 1374,\n",
              "             'machin': 402,\n",
              "             'bit': 629,\n",
              "             'sooner': 30,\n",
              "             'intend': 220,\n",
              "             'pick': 253,\n",
              "             'powerbook': 35,\n",
              "             '160': 34,\n",
              "             'mayb': 557,\n",
              "             '180': 20,\n",
              "             'bunch': 133,\n",
              "             'question': 1075,\n",
              "             'hope': 621,\n",
              "             'somebodi': 160,\n",
              "             'anybodi': 366,\n",
              "             'dirt': 30,\n",
              "             'round': 140,\n",
              "             'introduct': 59,\n",
              "             'expect': 431,\n",
              "             'id': 708,\n",
              "             'heard': 485,\n",
              "             '185c': 1,\n",
              "             'suppos': 342,\n",
              "             'make': 1905,\n",
              "             'appear': 402,\n",
              "             'summer': 117,\n",
              "             'anymor': 74,\n",
              "             'sinc': 1083,\n",
              "             'dont': 2319,\n",
              "             'access': 336,\n",
              "             'macleak': 2,\n",
              "             'rumor': 65,\n",
              "             'price': 469,\n",
              "             'drop': 211,\n",
              "             'line': 679,\n",
              "             'like': 2742,\n",
              "             'one': 3252,\n",
              "             'duo': 30,\n",
              "             'went': 296,\n",
              "             'recent': 452,\n",
              "             'what': 243,\n",
              "             'impress': 160,\n",
              "             'display': 295,\n",
              "             'probabl': 832,\n",
              "             'swing': 30,\n",
              "             'got': 880,\n",
              "             '80mb': 12,\n",
              "             'rather': 623,\n",
              "             '120': 68,\n",
              "             'feel': 519,\n",
              "             'much': 1452,\n",
              "             'better': 845,\n",
              "             'yea': 13,\n",
              "             'great': 648,\n",
              "             'store': 190,\n",
              "             'wow': 36,\n",
              "             'good': 1590,\n",
              "             'solicit': 18,\n",
              "             'opinion': 385,\n",
              "             'peopl': 1822,\n",
              "             'use': 3044,\n",
              "             'daytoday': 8,\n",
              "             'worth': 260,\n",
              "             'take': 1253,\n",
              "             'size': 285,\n",
              "             'money': 371,\n",
              "             'hit': 275,\n",
              "             'get': 2604,\n",
              "             'activ': 295,\n",
              "             'realiz': 229,\n",
              "             'real': 605,\n",
              "             'subject': 467,\n",
              "             'ive': 924,\n",
              "             'play': 512,\n",
              "             'around': 776,\n",
              "             'comput': 554,\n",
              "             'breifli': 2,\n",
              "             'figur': 310,\n",
              "             'actual': 785,\n",
              "             'daili': 74,\n",
              "             'might': 903,\n",
              "             'prove': 228,\n",
              "             'help': 1069,\n",
              "             'hellcat': 2,\n",
              "             'perform': 342,\n",
              "             'advanc': 466,\n",
              "             'ill': 520,\n",
              "             'post': 1149,\n",
              "             'summari': 122,\n",
              "             'news': 326,\n",
              "             'read': 989,\n",
              "             'time': 1997,\n",
              "             'premium': 22,\n",
              "             'corner': 88,\n",
              "             'tom': 109,\n",
              "             'willi': 26,\n",
              "             'twillisecnpurdueedu': 1,\n",
              "             'purdu': 7,\n",
              "             'electr': 114,\n",
              "             'weitek': 9,\n",
              "             'addressphon': 3,\n",
              "             'inform': 757,\n",
              "             'chip': 380,\n",
              "             'articl': 495,\n",
              "             'c5owcbn3pworldstdcom': 1,\n",
              "             'tombakerworldstdcom': 1,\n",
              "             'baker': 16,\n",
              "             'understand': 506,\n",
              "             'error': 268,\n",
              "             'basic': 352,\n",
              "             'known': 338,\n",
              "             'bug': 100,\n",
              "             'warn': 143,\n",
              "             'system': 1103,\n",
              "             'softwar': 448,\n",
              "             'thing': 1471,\n",
              "             'check': 471,\n",
              "             'right': 1272,\n",
              "             'valu': 316,\n",
              "             'yet': 536,\n",
              "             'arent': 280,\n",
              "             'set': 752,\n",
              "             'till': 49,\n",
              "             'launch': 130,\n",
              "             'suchlik': 4,\n",
              "             'fix': 253,\n",
              "             'code': 355,\n",
              "             'possibl': 843,\n",
              "             'introduc': 77,\n",
              "             'tell': 852,\n",
              "             'crew': 41,\n",
              "             'ok': 295,\n",
              "             'see': 1461,\n",
              "             '213': 25,\n",
              "             'liftoff': 9,\n",
              "             'ignor': 279,\n",
              "             'cours': 731,\n",
              "             'term': 314,\n",
              "             'must': 812,\n",
              "             'rigidli': 2,\n",
              "             'defin': 227,\n",
              "             'bill': 249,\n",
              "             'doubt': 245,\n",
              "             'quot': 278,\n",
              "             'allegedli': 16,\n",
              "             'present': 391,\n",
              "             'first': 1302,\n",
              "             'argument': 334,\n",
              "             'weapon': 187,\n",
              "             'mass': 143,\n",
              "             'destruct': 56,\n",
              "             'commonli': 51,\n",
              "             'understood': 69,\n",
              "             'switch': 210,\n",
              "             'topic': 148,\n",
              "             'point': 1109,\n",
              "             'evid': 326,\n",
              "             'show': 643,\n",
              "             'allow': 549,\n",
              "             'later': 377,\n",
              "             'analysi': 112,\n",
              "             'given': 492,\n",
              "             'consid': 669,\n",
              "             'anoth': 884,\n",
              "             'class': 192,\n",
              "             'respond': 250,\n",
              "             'treatment': 118,\n",
              "             'astrocytoma': 1,\n",
              "             'couldnt': 240,\n",
              "             'directli': 208,\n",
              "             'mailbounc': 1,\n",
              "             'prob': 9,\n",
              "             'sean': 18,\n",
              "             'debra': 1,\n",
              "             'sharon': 12,\n",
              "             'thought': 601,\n",
              "             'publicli': 57,\n",
              "             'everyon': 357,\n",
              "             'sure': 965,\n",
              "             'glad': 86,\n",
              "             'accident': 36,\n",
              "             'rn': 6,\n",
              "             'instead': 383,\n",
              "             'rm': 32,\n",
              "             'tri': 1442,\n",
              "             'delet': 297,\n",
              "             'file': 630,\n",
              "             'last': 935,\n",
              "             'septemb': 40,\n",
              "             'hmmm': 60,\n",
              "             'scsi': 143,\n",
              "             'scsi1': 10,\n",
              "             'control': 668,\n",
              "             'rang': 182,\n",
              "             'inde': 218,\n",
              "             '05mb': 5,\n",
              "             'scsi2': 18,\n",
              "             '46mb': 8,\n",
              "             '10mb': 11,\n",
              "             'burst': 36,\n",
              "             '8bit': 44,\n",
              "             'note': 575,\n",
              "             'increas': 258,\n",
              "             'quadra': 59,\n",
              "             'version': 458,\n",
              "             'exist': 561,\n",
              "             'pc': 281,\n",
              "             '8bitscsi1': 2,\n",
              "             'mode': 251,\n",
              "             '16bitwid': 3,\n",
              "             'fast': 273,\n",
              "             '812mb': 7,\n",
              "             '20mb': 16,\n",
              "             '32bitwid': 5,\n",
              "             '1520mb': 7,\n",
              "             '40mb': 14,\n",
              "             'data': 447,\n",
              "             'although': 364,\n",
              "             'twice': 99,\n",
              "             'esdi': 18,\n",
              "             'correct': 406,\n",
              "             'reach': 200,\n",
              "             '20': 436,\n",
              "             'faster': 163,\n",
              "             'ide': 98,\n",
              "             '83': 43,\n",
              "             '996': 5,\n",
              "             'fact': 794,\n",
              "             'newsgroup': 248,\n",
              "             'ibm': 140,\n",
              "             'sheet': 71,\n",
              "             'avail': 629,\n",
              "             'ftp': 207,\n",
              "             'sumexaimstanfordedu': 8,\n",
              "             '364406': 4,\n",
              "             'infomacreport': 4,\n",
              "             'macibmcomparevers': 1,\n",
              "             'txt': 2,\n",
              "             '173': 12,\n",
              "             '161': 15,\n",
              "             'may': 1295,\n",
              "             'still': 1020,\n",
              "             'part': 877,\n",
              "             'problem': 1351,\n",
              "             'inconsi': 1,\n",
              "             'though': 699,\n",
              "             'document': 251,\n",
              "             'appl': 175,\n",
              "             'salesperson': 4,\n",
              "             'said': 851,\n",
              "             '6mb': 4,\n",
              "             '5mb': 11,\n",
              "             'maximum': 75,\n",
              "             'synchron': 26,\n",
              "             'ansynchron': 1,\n",
              "             'slower': 60,\n",
              "             'seem': 1174,\n",
              "             'interfac': 154,\n",
              "             'think': 2052,\n",
              "             'driven': 71,\n",
              "             'true': 608,\n",
              "             'go': 1662,\n",
              "             'win': 308,\n",
              "             '30': 367,\n",
              "             'download': 61,\n",
              "             'sever': 587,\n",
              "             'icon': 56,\n",
              "             'bmp': 27,\n",
              "             'cant': 870,\n",
              "             'chang': 723,\n",
              "             'wallpap': 13,\n",
              "             'would': 3163,\n",
              "             'appreci': 492,\n",
              "             'thanx': 61,\n",
              "             'brando': 1,\n",
              "             'board': 287,\n",
              "             'work': 1628,\n",
              "             'diskdoubl': 1,\n",
              "             'autodoubl': 2,\n",
              "             'due': 312,\n",
              "             'licens': 140,\n",
              "             'stac': 2,\n",
              "             'technolog': 250,\n",
              "             'owner': 176,\n",
              "             'compress': 111,\n",
              "             'write': 545,\n",
              "             'memori': 342,\n",
              "             'lost': 231,\n",
              "             'refer': 495,\n",
              "             'wrong': 545,\n",
              "             'hard': 540,\n",
              "             'say': 1644,\n",
              "             'whether': 463,\n",
              "             'fault': 105,\n",
              "             'someth': 1092,\n",
              "             'els': 570,\n",
              "             'howev': 800,\n",
              "             'decompress': 8,\n",
              "             'troubl': 192,\n",
              "             'recompress': 2,\n",
              "             'without': 861,\n",
              "             'usual': 432,\n",
              "             'reappear': 7,\n",
              "             'mention': 442,\n",
              "             'freewar': 16,\n",
              "             'expans': 90,\n",
              "             'util': 148,\n",
              "             'dd': 22,\n",
              "             'expand': 91,\n",
              "             'boardcompress': 1,\n",
              "             'unless': 373,\n",
              "             'instal': 297,\n",
              "             'unlik': 153,\n",
              "             'hole': 111,\n",
              "             'autodoublerdiskdoubl': 1,\n",
              "             'relat': 302,\n",
              "             'sad': 55,\n",
              "             'reluct': 17,\n",
              "             'buy': 488,\n",
              "             'theyr': 278,\n",
              "             'stinki': 1,\n",
              "             'hey': 141,\n",
              "             'that': 723,\n",
              "             'competit': 65,\n",
              "             'ducati': 5,\n",
              "             '900gt': 1,\n",
              "             '1978': 30,\n",
              "             '17k': 1,\n",
              "             'run': 987,\n",
              "             'paint': 80,\n",
              "             'bronzebrownorang': 1,\n",
              "             'fade': 22,\n",
              "             'leak': 32,\n",
              "             'oil': 87,\n",
              "             'pop': 79,\n",
              "             '1st': 93,\n",
              "             'accel': 4,\n",
              "             'shop': 90,\n",
              "             'tran': 19,\n",
              "             'sold': 144,\n",
              "             'bike': 213,\n",
              "             '1': 1170,\n",
              "             'want': 1578,\n",
              "             '3495': 2,\n",
              "             '3k': 2,\n",
              "             'nice': 391,\n",
              "             'stabl': 47,\n",
              "             'mate': 11,\n",
              "             'beemer': 10,\n",
              "             'jap': 3,\n",
              "             'axi': 18,\n",
              "             'motor': 77,\n",
              "             'tuba': 3,\n",
              "             'irwin': 4,\n",
              "             'honk': 5,\n",
              "             'therefor': 239,\n",
              "             'computracrichardsontx': 3,\n",
              "             'irwincmptrclonestarorg': 3,\n",
              "             'dod': 82,\n",
              "             '0826': 3,\n",
              "             'r756': 3,\n",
              "             'yep': 26,\n",
              "             'pretti': 457,\n",
              "             'jew': 215,\n",
              "             'jewish': 169,\n",
              "             'believ': 986,\n",
              "             'coven': 16,\n",
              "             'yhwh': 1,\n",
              "             'patriarch': 8,\n",
              "             'abraham': 21,\n",
              "             'mose': 19,\n",
              "             'case': 906,\n",
              "             'establish': 178,\n",
              "             'moral': 191,\n",
              "             'follow': 919,\n",
              "             'mankind': 36,\n",
              "             'even': 1523,\n",
              "             'decid': 339,\n",
              "             'boundari': 39,\n",
              "             'fall': 209,\n",
              "             'sadduce': 1,\n",
              "             'torah': 13,\n",
              "             'requir': 552,\n",
              "             'wherea': 53,\n",
              "             'pharise': 11,\n",
              "             'ancestor': 18,\n",
              "             'modern': 142,\n",
              "             'judaism': 28,\n",
              "             'interpret': 183,\n",
              "             'lead': 301,\n",
              "             'nuanc': 4,\n",
              "             'talmud': 2,\n",
              "             'essenc': 31,\n",
              "             'biblic': 70,\n",
              "             'man': 387,\n",
              "             'christian': 428,\n",
              "             'necessarili': 140,\n",
              "             'indic': 242,\n",
              "             'anyth': 764,\n",
              "             'outsid': 230,\n",
              "             'relationship': 93,\n",
              "             'specul': 68,\n",
              "             'creat': 412,\n",
              "             'imag': 284,\n",
              "             'mean': 1016,\n",
              "             'differ': 992,\n",
              "             'come': 1182,\n",
              "             'conclus': 156,\n",
              "             'upset': 41,\n",
              "             'cart': 13,\n",
              "             'script': 37,\n",
              "             'shaki': 9,\n",
              "             'foundat': 76,\n",
              "             'mix': 92,\n",
              "             'metaphor': 17,\n",
              "             'unashamedli': 1,\n",
              "             'live': 669,\n",
              "             'christ': 193,\n",
              "             'exampl': 590,\n",
              "             'littl': 747,\n",
              "             'jesu': 260,\n",
              "             'person': 843,\n",
              "             'record': 285,\n",
              "             'utter': 29,\n",
              "             'narr': 9,\n",
              "             'comtemporari': 1,\n",
              "             'historian': 25,\n",
              "             'revel': 60,\n",
              "             'asid': 100,\n",
              "             'secondhand': 13,\n",
              "             'wors': 158,\n",
              "             'attempt': 282,\n",
              "             'debunk': 10,\n",
              "             'initi': 198,\n",
              "             'bibl': 245,\n",
              "             'human': 393,\n",
              "             'guess': 405,\n",
              "             'faith': 205,\n",
              "             'relev': 130,\n",
              "             'inher': 59,\n",
              "             'absolut': 210,\n",
              "             'undoubt': 4,\n",
              "             'multipl': 128,\n",
              "             'found': 625,\n",
              "             'parent': 113,\n",
              "             'child': 116,\n",
              "             'never': 849,\n",
              "             'swear': 27,\n",
              "             'assum': 467,\n",
              "             'simpli': 383,\n",
              "             'told': 357,\n",
              "             'trooper': 5,\n",
              "             'pub': 13,\n",
              "             'bar': 101,\n",
              "             'children': 274,\n",
              "             'disobey': 11,\n",
              "             'inappropri': 23,\n",
              "             'quit': 590,\n",
              "             'happi': 193,\n",
              "             'anim': 168,\n",
              "             'analog': 108,\n",
              "             'hold': 342,\n",
              "             'water': 135,\n",
              "             'type': 444,\n",
              "             'gist': 6,\n",
              "             'incident': 28,\n",
              "             'young': 176,\n",
              "             'direct': 349,\n",
              "             'older': 107,\n",
              "             'piaget': 1,\n",
              "             'learn': 281,\n",
              "             'david': 271,\n",
              "             'religion': 249,\n",
              "             'descript': 151,\n",
              "             'extern': 136,\n",
              "             'tank': 110,\n",
              "             'option': 251,\n",
              "             'ssf': 10,\n",
              "             'redesign': 17,\n",
              "             'yo': 8,\n",
              "             'ken': 75,\n",
              "             'let': 902,\n",
              "             'keep': 683,\n",
              "             'ontop': 2,\n",
              "             'wingless': 5,\n",
              "             'orbit': 119,\n",
              "             'list': 582,\n",
              "             'today': 425,\n",
              "             '423': 14,\n",
              "             'edit': 173,\n",
              "             'york': 167,\n",
              "             'report': 432,\n",
              "             'oconnor': 6,\n",
              "             'panel': 86,\n",
              "             'propos': 223,\n",
              "             'giant': 48,\n",
              "             'fuel': 76,\n",
              "             'space': 379,\n",
              "             'shuttl': 72,\n",
              "             'build': 374,\n",
              "             'station': 172,\n",
              "             'wing': 104,\n",
              "             'tail': 33,\n",
              "             'remov': 249,\n",
              "             'current': 581,\n",
              "             'three': 457,\n",
              "             'advisori': 12,\n",
              "             'meet': 200,\n",
              "             'yesterday': 91,\n",
              "             'low': 286,\n",
              "             'cost': 421,\n",
              "             'modular': 15,\n",
              "             'approach': 198,\n",
              "             'studi': 274,\n",
              "             'team': 421,\n",
              "             'msfc': 5,\n",
              "             'jsc': 9,\n",
              "             'larc': 4,\n",
              "             'support': 690,\n",
              "             'srt': 1,\n",
              "             'crystal': 34,\n",
              "             'citi': 272,\n",
              "             'lerc': 3,\n",
              "             'reston': 7,\n",
              "             'also': 1942,\n",
              "             'onsit': 8,\n",
              "             'locat': 206,\n",
              "             'respect': 235,\n",
              "             'key': 428,\n",
              "             'featur': 192,\n",
              "             'bus1': 2,\n",
              "             'bu': 165,\n",
              "             'develop': 406,\n",
              "             'lockhe': 8,\n",
              "             'qualifi': 69,\n",
              "             'st': 167,\n",
              "             'elv': 6,\n",
              "             'provid': 566,\n",
              "             'propuls': 24,\n",
              "             'gnc': 1,\n",
              "             'commun': 354,\n",
              "             'manag': 374,\n",
              "             'air': 174,\n",
              "             'forc': 419,\n",
              "             'power': 673,\n",
              "             'capabl': 231,\n",
              "             'obtain': 182,\n",
              "             '3': 816,\n",
              "             'flight': 86,\n",
              "             'solar': 58,\n",
              "             'array': 41,\n",
              "             'kw': 3,\n",
              "             'vehicl': 133,\n",
              "             'fli': 113,\n",
              "             'arrow': 14,\n",
              "             'optim': 43,\n",
              "             'micrograv': 5,\n",
              "             'environ': 140,\n",
              "             'shuttlespacelab': 2,\n",
              "             'mission': 95,\n",
              "             'vehilc': 1,\n",
              "             'sourc': 485,\n",
              "             'tend': 167,\n",
              "             'oppos': 148,\n",
              "             'old': 589,\n",
              "             'sexist': 6,\n",
              "             'mantend': 1,\n",
              "             'achiev': 98,\n",
              "             'us': 1174,\n",
              "             'common': 302,\n",
              "             'modul': 72,\n",
              "             'modifi': 110,\n",
              "             'lab': 94,\n",
              "             'dock': 16,\n",
              "             'port': 199,\n",
              "             'ad': 311,\n",
              "             'intern': 354,\n",
              "             'partner': 49,\n",
              "             'place': 760,\n",
              "             'node': 15,\n",
              "             'habit': 43,\n",
              "             'eva': 7,\n",
              "             'nasda': 6,\n",
              "             'esa': 15,\n",
              "             'perman': 70,\n",
              "             'presenc': 81,\n",
              "             '3rd': 93,\n",
              "             'acrv': 2,\n",
              "             'assur': 78,\n",
              "             'return': 341,\n",
              "             'b': 261,\n",
              "             'freedom': 140,\n",
              "             'deriv': 80,\n",
              "             'mike': 168,\n",
              "             'griffin': 8,\n",
              "             'alot': 50,\n",
              "             'design': 429,\n",
              "             'love': 325,\n",
              "             'lightweight': 7,\n",
              "             'assembl': 103,\n",
              "             '516': 9,\n",
              "             'inclin': 35,\n",
              "             'buildup': 7,\n",
              "             'occur': 251,\n",
              "             'six': 133,\n",
              "             'phase': 48,\n",
              "             'research': 317,\n",
              "             'transfer': 147,\n",
              "             'orbiterspacelab': 1,\n",
              "             'visit': 114,\n",
              "             'adopt': 57,\n",
              "             'nonsexist': 2,\n",
              "             'languag': 174,\n",
              "             '8': 446,\n",
              "             'deploy': 20,\n",
              "             '10': 506,\n",
              "             'onorbit': 6,\n",
              "             'sometim': 290,\n",
              "             'second': 636,\n",
              "             'logist': 7,\n",
              "             'resuppli': 3,\n",
              "             'toler': 60,\n",
              "             '2nd': 119,\n",
              "             'thermal': 22,\n",
              "             'radiat': 44,\n",
              "             'onboard': 20,\n",
              "             'finish': 118,\n",
              "             '24': 224,\n",
              "             'asi': 7,\n",
              "             'except': 416,\n",
              "             'major': 446,\n",
              "             'reduc': 176,\n",
              "             'forsal': 25,\n",
              "             'behalf': 32,\n",
              "             'brother': 110,\n",
              "             'who': 61,\n",
              "             'move': 440,\n",
              "             'alreadi': 483,\n",
              "             'offer': 444,\n",
              "             'black': 238,\n",
              "             'decker': 2,\n",
              "             'duster': 2,\n",
              "             'portabl': 67,\n",
              "             'hand': 508,\n",
              "             'vaccum': 2,\n",
              "             'purchas': 203,\n",
              "             '32': 157,\n",
              "             '12': 381,\n",
              "             '2': 1206,\n",
              "             'sr1000': 2,\n",
              "             'dual': 39,\n",
              "             'cassett': 26,\n",
              "             'player': 289,\n",
              "             'amfm': 16,\n",
              "             '5band': 2,\n",
              "             'graphic': 280,\n",
              "             'equal': 167,\n",
              "             'high': 481,\n",
              "             'dube': 3,\n",
              "             'tapetap': 2,\n",
              "             'deck': 31,\n",
              "             'trebl': 4,\n",
              "             'sound': 481,\n",
              "             'bet': 106,\n",
              "             'fixabl': 4,\n",
              "             '80': 175,\n",
              "             '25': 286,\n",
              "             '3monolux': 2,\n",
              "             'zoom': 29,\n",
              "             'microscop': 6,\n",
              "             '1200x': 2,\n",
              "             'magnif': 4,\n",
              "             'japan': 50,\n",
              "             'includ': 886,\n",
              "             'accessori': 27,\n",
              "             '50': 341,\n",
              "             '4sunbeam': 2,\n",
              "             '1400': 25,\n",
              "             'hair': 44,\n",
              "             'dryer': 9,\n",
              "             'put': 778,\n",
              "             'head': 362,\n",
              "             'underinto': 2,\n",
              "             'salon': 2,\n",
              "             'ask': 865,\n",
              "             'bro': 3,\n",
              "             '5everylast': 2,\n",
              "             'bag': 55,\n",
              "             'leather': 29,\n",
              "             'brand': 123,\n",
              "             '6oster': 2,\n",
              "             'pusl': 2,\n",
              "             'matic': 2,\n",
              "             'blender': 4,\n",
              "             'cookbook': 5,\n",
              "             '5': 638,\n",
              "             '8binolux': 2,\n",
              "             'binocular': 3,\n",
              "             '7x35': 2,\n",
              "             'extra': 176,\n",
              "             'wide': 189,\n",
              "             'angl': 54,\n",
              "             '525ft': 2,\n",
              "             '1000yd': 2,\n",
              "             '9proctor': 2,\n",
              "             'silex': 2,\n",
              "             'spraysteam': 2,\n",
              "             'dri': 50,\n",
              "             'iron': 64,\n",
              "             'contact': 309,\n",
              "             'thru': 49,\n",
              "             'repli': 363,\n",
              "             'expedit': 9,\n",
              "             'alway': 533,\n",
              "             'sh': 37,\n",
              "             'lastli': 8,\n",
              "             'reasonableveri': 2,\n",
              "             'reason': 918,\n",
              "             'happen': 656,\n",
              "             'japanes': 58,\n",
              "             'citizen': 198,\n",
              "             'world': 630,\n",
              "             'war': 268,\n",
              "             'ii': 171,\n",
              "             'your': 521,\n",
              "             'prepar': 129,\n",
              "             'stick': 135,\n",
              "             'concentr': 72,\n",
              "             'camp': 66,\n",
              "             'trial': 100,\n",
              "             'short': 297,\n",
              "             'step': 190,\n",
              "             'gass': 11,\n",
              "             'nazi': 76,\n",
              "             'origin': 524,\n",
              "             'imprison': 22,\n",
              "             'solut': 220,\n",
              "             'dreamt': 1,\n",
              "             'partli': 19,\n",
              "             'afford': 89,\n",
              "             'devast': 8,\n",
              "             'caus': 543,\n",
              "             'goer': 3,\n",
              "             'total': 367,\n",
              "             'werent': 76,\n",
              "             'gener': 830,\n",
              "             'die': 264,\n",
              "             'malnutrit': 3,\n",
              "             'diseas': 110,\n",
              "             'certainli': 367,\n",
              "             'whenev': 77,\n",
              "             'tiff': 29,\n",
              "             'philosoph': 31,\n",
              "             'complex': 112,\n",
              "             'led': 125,\n",
              "             'program': 763,\n",
              "             'poor': 150,\n",
              "             'writer': 69,\n",
              "             'bizarr': 26,\n",
              "             'inabl': 22,\n",
              "             'load': 184,\n",
              "             'theyll': 96,\n",
              "             'save': 338,\n",
              "             'interchang': 14,\n",
              "             'despit': 125,\n",
              "             'goe': 329,\n",
              "             'worri': 162,\n",
              "             'abus': 99,\n",
              "             'chalk': 3,\n",
              "             'immens': 16,\n",
              "             'unnecessari': 27,\n",
              "             'format': 222,\n",
              "             'word': 578,\n",
              "             'appendix': 8,\n",
              "             'g': 114,\n",
              "             'page': 190,\n",
              "             'g1': 3,\n",
              "             'capit': 80,\n",
              "             'emphasi': 45,\n",
              "             'mine': 251,\n",
              "             'sort': 393,\n",
              "             'success': 208,\n",
              "             'flexibl': 30,\n",
              "             'expens': 201,\n",
              "             'simplic': 16,\n",
              "             'amount': 235,\n",
              "             'effort': 198,\n",
              "             'handl': 250,\n",
              "             'specif': 374,\n",
              "             'applic': 375,\n",
              "             'complet': 481,\n",
              "             'job': 276,\n",
              "             'abl': 597,\n",
              "             'import': 451,\n",
              "             'mani': 1230,\n",
              "             'imagegener': 1,\n",
              "             'everi': 704,\n",
              "             'wont': 407,\n",
              "             'deal': 400,\n",
              "             'trap': 47,\n",
              "             'neither': 171,\n",
              "             'agre': 470,\n",
              "             'kind': 531,\n",
              "             'singl': 292,\n",
              "             'male': 70,\n",
              "             'driver': 371,\n",
              "             'yr': 14,\n",
              "             'pay': 369,\n",
              "             'here': 145,\n",
              "             'receiv': 384,\n",
              "             '27': 115,\n",
              "             'close': 414,\n",
              "             'enough': 674,\n",
              "             '1992': 164,\n",
              "             'dodg': 27,\n",
              "             'stealth': 36,\n",
              "             'rttwin': 1,\n",
              "             'turbo': 54,\n",
              "             '300hp': 1,\n",
              "             'ticket': 76,\n",
              "             'accid': 88,\n",
              "             'hous': 299,\n",
              "             'taken': 296,\n",
              "             'defens': 209,\n",
              "             'drive': 654,\n",
              "             'airbag': 11,\n",
              "             'ab': 42,\n",
              "             'secur': 275,\n",
              "             'alarm': 35,\n",
              "             '1500year': 1,\n",
              "             '500': 132,\n",
              "             'decut': 1,\n",
              "             'state': 817,\n",
              "             'farm': 43,\n",
              "             'insur': 112,\n",
              "             '100': 312,\n",
              "             '1000000': 10,\n",
              "             'umbrella': 4,\n",
              "             'polici': 205,\n",
              "             'standard': 420,\n",
              "             '100000': 34,\n",
              "             '300000': 3,\n",
              "             'de': 145,\n",
              "             'less': 547,\n",
              "             'bought': 225,\n",
              "             'compani': 341,\n",
              "             '11': 217,\n",
              "             '2500': 24,\n",
              "             'steve': 160,\n",
              "             'flynn': 2,\n",
              "             'univers': 463,\n",
              "             'delawar': 5,\n",
              "             '45': 124,\n",
              "             'kevin': 43,\n",
              "             'rememb': 483,\n",
              "             'correctli': 110,\n",
              "             'similar': 389,\n",
              "             'situat': 291,\n",
              "             'inquiri': 25,\n",
              "             'age': 166,\n",
              "             'eagl': 21,\n",
              "             'talon': 6,\n",
              "             'tsi': 2,\n",
              "             'awd': 6,\n",
              "             'clean': 116,\n",
              "             'illinoi': 41,\n",
              "             '8206': 1,\n",
              "             'mo': 23,\n",
              "             'turn': 518,\n",
              "             '5206': 1,\n",
              "             'incur': 17,\n",
              "             'higher': 202,\n",
              "             'coupl': 349,\n",
              "             'friend': 370,\n",
              "             'w': 189,\n",
              "             'in': 7,\n",
              "             'lucki': 70,\n",
              "             'dan': 82,\n",
              "             'dansjdcgssmotcom': 1,\n",
              "             'motorola': 58,\n",
              "             'cellular': 57,\n",
              "             'subscrib': 52,\n",
              "             'group': 638,\n",
              "             '38': 74,\n",
              "             'usa': 156,\n",
              "             'cc': 42,\n",
              "             '23': 140,\n",
              "             'norman': 8,\n",
              "             'oklahoma': 12,\n",
              "             '89': 51,\n",
              "             'thunderbird': 4,\n",
              "             'sc': 18,\n",
              "             'claim': 547,\n",
              "             'neglig': 26,\n",
              "             'stop': 397,\n",
              "             'sign': 236,\n",
              "             'fiddl': 13,\n",
              "             ...})"
            ]
          },
          "execution_count": 11,
          "metadata": {},
          "output_type": "execute_result"
        }
      ],
      "source": [
        "# Create a dictionary containing the frequency of words utilizing the 'frequency_dict' function\n",
        "\n",
        "# Expect this chunk to take a comparatively longer time to execute since our dataset is large\n",
        "\n",
        "freq_word: dict[str, int] = frequency_dict(lines)\n",
        "\n",
        "freq_word"
      ]
    },
    {
      "cell_type": "markdown",
      "metadata": {
        "id": "xluOLtzbzC62"
      },
      "source": [
        "# Formular of Term Frequency(TF)\n",
        "\n",
        "- TF = $\\frac{Number \\ of \\ times \\ term \\ t \\ appears \\ in \\ a \\ document}{Total \\ number \\ of \\ terms \\ in \\ the \\ document}$"
      ]
    },
    {
      "cell_type": "code",
      "execution_count": 12,
      "metadata": {
        "id": "vLvPijR_GKHn"
      },
      "outputs": [],
      "source": [
        "# Create a function to calculate the Term Frequency\n",
        "\n",
        "def term_frequency(document: list[str], word: str) -> float:\n",
        "    '''\n",
        "    calculating the term frequency(tf)\n",
        "\n",
        "    - document: list containing the entire corpus\n",
        "    - word: word whose term frequency is to be calculated\n",
        "    ---\n",
        "    tf: returns term frequency value\n",
        "    '''\n",
        "\n",
        "    # Count the total number of tokens in the document\n",
        "    total_terms: int = len(document)\n",
        "\n",
        "    # Count the number of times the word appears in the document\n",
        "    word_count: int = document.count(word)\n",
        "\n",
        "    # Calculate Term Frequency\n",
        "    tf: float = word_count / total_terms if total_terms > 0 else 0.0\n",
        "\n",
        "    return tf"
      ]
    },
    {
      "cell_type": "markdown",
      "metadata": {
        "id": "8aYkJKUbzC62"
      },
      "source": [
        "# Formular of Inverse Document Frequency(IDF)\n",
        "\n",
        "- IDF = log $\\frac{Total \\ number \\ of \\ documents}{Number \\ of \\ documents \\ containing \\ term \\ t}$"
      ]
    },
    {
      "cell_type": "code",
      "execution_count": 13,
      "metadata": {
        "colab": {
          "base_uri": "https://localhost:8080/"
        },
        "id": "8h9yAY5nzC62",
        "outputId": "5e58e4f5-56c8-46e2-e79e-bc455c5c922a"
      },
      "outputs": [
        {
          "name": "stdout",
          "output_type": "stream",
          "text": [
            "1\n"
          ]
        }
      ],
      "source": [
        "print(freq_word[word])"
      ]
    },
    {
      "cell_type": "code",
      "execution_count": 14,
      "metadata": {
        "id": "HA99G_yAGLCC"
      },
      "outputs": [],
      "source": [
        "# Create a function to calculate the Inverse Document Frequency\n",
        "\n",
        "def inverse_df(word: str) -> float:\n",
        "    '''\n",
        "    calculate the Inverse Document Frequency(IDF)\n",
        "\n",
        "    - word: word whose inverse document frequency is to be calculated\n",
        "    ---\n",
        "    - idf: return inverse document frequency value\n",
        "    '''\n",
        "    # Count the number of documents containing the word\n",
        "    docs_containing_word: dict[str, int] = freq_word[word]\n",
        "\n",
        "    # Calculate Inverse Document Frequency\n",
        "    # Avoid division by zero in case the word is not present in any document.\n",
        "    idf: float = math.log(total_docs / (1 + docs_containing_word)) if docs_containing_word + 1 <= total_docs else math.log(1)\n",
        "\n",
        "    return idf"
      ]
    },
    {
      "cell_type": "markdown",
      "metadata": {
        "id": "adw3PdgFzC62"
      },
      "source": [
        "# Formulat of TF-IDF\n",
        "\n",
        "- TF-IDF(t) = TF(t) x IDF(t)\n",
        "- We calculate each words in sentence"
      ]
    },
    {
      "cell_type": "code",
      "execution_count": 15,
      "metadata": {
        "id": "F0irgwv2GRfE"
      },
      "outputs": [],
      "source": [
        "# Create a function to combine the term frequencies (TF)\n",
        "#   and inverse document (IDF) frequencies calculated above to get TF-IDF\n",
        "\n",
        "def tfidf(sentence: list, dict_idx: dict) -> list[float]:\n",
        "    '''\n",
        "    combin the TF and IDF to calculate above to get TF-IDF\n",
        "\n",
        "    - sentence: list containing the entire corpus\n",
        "    - dict: dictionary keeping track of index of each word\n",
        "    ---\n",
        "    tf_idf_vec: returns computed tf-idf\n",
        "    '''\n",
        "\n",
        "    # Init the tf-idf\n",
        "    tf_idf_vec: list[str] = [0.0] * len(dict_idx)\n",
        "\n",
        "    # Calculate each words tfidf in sentence\n",
        "    for word in sentence:\n",
        "        if word in dict_idx:\n",
        "            tf_val = term_frequency(sentence, word)\n",
        "            idf_val = inverse_df(word)\n",
        "            tfidf_val = tf_val * idf_val\n",
        "            # Use the index from the dictionary to set the value\n",
        "            tf_idf_vec[dict_idx[word]] = tfidf_val\n",
        "\n",
        "    return tf_idf_vec"
      ]
    },
    {
      "cell_type": "code",
      "execution_count": 16,
      "metadata": {
        "id": "_VKJhqatGWpV"
      },
      "outputs": [],
      "source": [
        "# Compute the vectors utilizing the 'tfidf' function created above to obtain a TF-IDF Encoded text corpus\n",
        "tfidf_val_list: List[List[float]] = []\n",
        "\n",
        "for sentence in lines:\n",
        "    tfidf_val = tfidf(sentence, dict_idx)\n",
        "    tfidf_val_list.append(tfidf_val)\n",
        "    # print(tfidf_val)"
      ]
    },
    {
      "cell_type": "code",
      "execution_count": 17,
      "metadata": {
        "colab": {
          "base_uri": "https://localhost:8080/"
        },
        "id": "ttQLOIEVzC63",
        "outputId": "1489dccd-a3c1-43de-8e35-fe8c76670300"
      },
      "outputs": [
        {
          "name": "stdout",
          "output_type": "stream",
          "text": [
            "{88104}\n"
          ]
        }
      ],
      "source": [
        "# check len\n",
        "lengths: int = [len(vec) for vec in tfidf_val_list]\n",
        "unique_lengths: set = set(lengths)\n",
        "print(unique_lengths)"
      ]
    },
    {
      "cell_type": "markdown",
      "metadata": {
        "id": "tFpwBFBRzC63"
      },
      "source": [
        "# Fixed length trouble from the `tfidf`\n",
        "- I found we need use len(dict_idx) to init the tf_idf_vec, if not we might get many different length data."
      ]
    },
    {
      "cell_type": "markdown",
      "metadata": {
        "id": "LE0UGUaSGb8I"
      },
      "source": [
        "## Multinomial Naive Bayes (10 Points)"
      ]
    },
    {
      "cell_type": "code",
      "execution_count": 18,
      "metadata": {
        "colab": {
          "base_uri": "https://localhost:8080/",
          "height": 246
        },
        "id": "qe_jevMezC63",
        "outputId": "167baf07-28ba-4f53-ba63-cfd5d34d04ba"
      },
      "outputs": [
        {
          "name": "stdout",
          "output_type": "stream",
          "text": [
            "x_train length: 11314\n",
            "y_train length: 11314\n"
          ]
        },
        {
          "data": {
            "text/html": [
              "<style>#sk-container-id-1 {color: black;}#sk-container-id-1 pre{padding: 0;}#sk-container-id-1 div.sk-toggleable {background-color: white;}#sk-container-id-1 label.sk-toggleable__label {cursor: pointer;display: block;width: 100%;margin-bottom: 0;padding: 0.3em;box-sizing: border-box;text-align: center;}#sk-container-id-1 label.sk-toggleable__label-arrow:before {content: \"▸\";float: left;margin-right: 0.25em;color: #696969;}#sk-container-id-1 label.sk-toggleable__label-arrow:hover:before {color: black;}#sk-container-id-1 div.sk-estimator:hover label.sk-toggleable__label-arrow:before {color: black;}#sk-container-id-1 div.sk-toggleable__content {max-height: 0;max-width: 0;overflow: hidden;text-align: left;background-color: #f0f8ff;}#sk-container-id-1 div.sk-toggleable__content pre {margin: 0.2em;color: black;border-radius: 0.25em;background-color: #f0f8ff;}#sk-container-id-1 input.sk-toggleable__control:checked~div.sk-toggleable__content {max-height: 200px;max-width: 100%;overflow: auto;}#sk-container-id-1 input.sk-toggleable__control:checked~label.sk-toggleable__label-arrow:before {content: \"▾\";}#sk-container-id-1 div.sk-estimator input.sk-toggleable__control:checked~label.sk-toggleable__label {background-color: #d4ebff;}#sk-container-id-1 div.sk-label input.sk-toggleable__control:checked~label.sk-toggleable__label {background-color: #d4ebff;}#sk-container-id-1 input.sk-hidden--visually {border: 0;clip: rect(1px 1px 1px 1px);clip: rect(1px, 1px, 1px, 1px);height: 1px;margin: -1px;overflow: hidden;padding: 0;position: absolute;width: 1px;}#sk-container-id-1 div.sk-estimator {font-family: monospace;background-color: #f0f8ff;border: 1px dotted black;border-radius: 0.25em;box-sizing: border-box;margin-bottom: 0.5em;}#sk-container-id-1 div.sk-estimator:hover {background-color: #d4ebff;}#sk-container-id-1 div.sk-parallel-item::after {content: \"\";width: 100%;border-bottom: 1px solid gray;flex-grow: 1;}#sk-container-id-1 div.sk-label:hover label.sk-toggleable__label {background-color: #d4ebff;}#sk-container-id-1 div.sk-serial::before {content: \"\";position: absolute;border-left: 1px solid gray;box-sizing: border-box;top: 0;bottom: 0;left: 50%;z-index: 0;}#sk-container-id-1 div.sk-serial {display: flex;flex-direction: column;align-items: center;background-color: white;padding-right: 0.2em;padding-left: 0.2em;position: relative;}#sk-container-id-1 div.sk-item {position: relative;z-index: 1;}#sk-container-id-1 div.sk-parallel {display: flex;align-items: stretch;justify-content: center;background-color: white;position: relative;}#sk-container-id-1 div.sk-item::before, #sk-container-id-1 div.sk-parallel-item::before {content: \"\";position: absolute;border-left: 1px solid gray;box-sizing: border-box;top: 0;bottom: 0;left: 50%;z-index: -1;}#sk-container-id-1 div.sk-parallel-item {display: flex;flex-direction: column;z-index: 1;position: relative;background-color: white;}#sk-container-id-1 div.sk-parallel-item:first-child::after {align-self: flex-end;width: 50%;}#sk-container-id-1 div.sk-parallel-item:last-child::after {align-self: flex-start;width: 50%;}#sk-container-id-1 div.sk-parallel-item:only-child::after {width: 0;}#sk-container-id-1 div.sk-dashed-wrapped {border: 1px dashed gray;margin: 0 0.4em 0.5em 0.4em;box-sizing: border-box;padding-bottom: 0.4em;background-color: white;}#sk-container-id-1 div.sk-label label {font-family: monospace;font-weight: bold;display: inline-block;line-height: 1.2em;}#sk-container-id-1 div.sk-label-container {text-align: center;}#sk-container-id-1 div.sk-container {/* jupyter's `normalize.less` sets `[hidden] { display: none; }` but bootstrap.min.css set `[hidden] { display: none !important; }` so we also need the `!important` here to be able to override the default hidden behavior on the sphinx rendered scikit-learn.org. See: https://github.com/scikit-learn/scikit-learn/issues/21755 */display: inline-block !important;position: relative;}#sk-container-id-1 div.sk-text-repr-fallback {display: none;}</style><div id=\"sk-container-id-1\" class=\"sk-top-container\"><div class=\"sk-text-repr-fallback\"><pre>MultinomialNB(alpha=0.01)</pre><b>In a Jupyter environment, please rerun this cell to show the HTML representation or trust the notebook. <br />On GitHub, the HTML representation is unable to render, please try loading this page with nbviewer.org.</b></div><div class=\"sk-container\" hidden><div class=\"sk-item\"><div class=\"sk-estimator sk-toggleable\"><input class=\"sk-toggleable__control sk-hidden--visually\" id=\"sk-estimator-id-1\" type=\"checkbox\" checked><label for=\"sk-estimator-id-1\" class=\"sk-toggleable__label sk-toggleable__label-arrow\">MultinomialNB</label><div class=\"sk-toggleable__content\"><pre>MultinomialNB(alpha=0.01)</pre></div></div></div></div></div>"
            ],
            "text/plain": [
              "MultinomialNB(alpha=0.01)"
            ]
          },
          "execution_count": 18,
          "metadata": {},
          "output_type": "execute_result"
        }
      ],
      "source": [
        "# use our tfidf to train our MNB(Multinomial Naive Bayes)\n",
        "\n",
        "x_train = np.array(tfidf_val_list)\n",
        "print('x_train length:', len(x_train))\n",
        "y_train = mydata_train.target\n",
        "print('y_train length:', len(y_train))\n",
        "model = MultinomialNB(alpha = 0.01)\n",
        "model.fit(x_train, y_train)\n"
      ]
    },
    {
      "cell_type": "code",
      "execution_count": 19,
      "metadata": {
        "id": "OEMJEwPfzC63"
      },
      "outputs": [],
      "source": [
        "# Perform testing on the train dataset\n",
        "\n",
        "pred: any = model.predict(x_train)"
      ]
    },
    {
      "cell_type": "code",
      "execution_count": 20,
      "metadata": {
        "id": "1Xv-kt9dzC63"
      },
      "outputs": [
        {
          "data": {
            "image/png": "[encoded data removed]",
            "text/plain": [
              "<Figure size 1000x700 with 2 Axes>"
            ]
          },
          "metadata": {},
          "output_type": "display_data"
        }
      ],
      "source": [
        "# Confusion matrix\n",
        "conf_mat = confusion_matrix(y_train, pred)\n",
        "\n",
        "plt.figure(figsize = (10, 7))\n",
        "sns.heatmap(conf_mat, annot = True, cmap = \"Blues\", fmt = 'g')\n",
        "plt.xlabel('Predicted')\n",
        "plt.ylabel('Actual')\n",
        "plt.title('Confusion Matrix')\n",
        "plt.show()\n"
      ]
    },
    {
      "cell_type": "code",
      "execution_count": 21,
      "metadata": {
        "id": "a71RvULezC65"
      },
      "outputs": [
        {
          "name": "stdout",
          "output_type": "stream",
          "text": [
            "              precision    recall  f1-score   support\n",
            "\n",
            "           0       0.98      0.96      0.97       480\n",
            "           1       0.96      0.96      0.96       584\n",
            "           2       0.98      0.93      0.96       591\n",
            "           3       0.96      0.97      0.97       590\n",
            "           4       0.98      0.95      0.97       578\n",
            "           5       0.99      0.98      0.99       593\n",
            "           6       0.98      0.96      0.97       585\n",
            "           7       0.99      0.93      0.96       594\n",
            "           8       0.99      0.96      0.98       598\n",
            "           9       1.00      0.95      0.97       597\n",
            "          10       0.66      0.99      0.79       600\n",
            "          11       0.98      0.96      0.97       595\n",
            "          12       0.99      0.96      0.97       591\n",
            "          13       1.00      0.96      0.98       594\n",
            "          14       1.00      0.96      0.98       593\n",
            "          15       0.92      0.98      0.95       599\n",
            "          16       0.98      0.97      0.97       546\n",
            "          17       0.99      0.96      0.98       564\n",
            "          18       0.99      0.96      0.98       465\n",
            "          19       1.00      0.82      0.90       377\n",
            "\n",
            "    accuracy                           0.96     11314\n",
            "   macro avg       0.97      0.95      0.96     11314\n",
            "weighted avg       0.97      0.96      0.96     11314\n",
            "\n"
          ]
        }
      ],
      "source": [
        "# Classification report\n",
        "print(classification_report(y_train, pred))"
      ]
    },
    {
      "cell_type": "code",
      "execution_count": 22,
      "metadata": {
        "id": "Qub7l9c8zC65"
      },
      "outputs": [
        {
          "name": "stdout",
          "output_type": "stream",
          "text": [
            "F1 Score: 0.958746143094483 \t percentage: 95.87%\n",
            "Accuracy: 0.9566024394555418 \t percentage: 95.66%\n"
          ]
        }
      ],
      "source": [
        "# Calculate the F1 Score and the Accuracy\n",
        "\n",
        "F1_score: float = f1_score(y_train, pred, average='weighted')\n",
        "Accuracy: float = accuracy_score(y_train, pred)\n",
        "\n",
        "print(f\"F1 Score: {F1_score} \\t percentage: {F1_score * 100:.2f}%\")\n",
        "print(f\"Accuracy: {Accuracy} \\t percentage: {Accuracy * 100:.2f}%\")\n"
      ]
    },
    {
      "cell_type": "markdown",
      "metadata": {
        "id": "_-HXCHJuzC65"
      },
      "source": [
        "# Analysis:\n",
        "- For my model, the $\\alpha$ = 0.01 is a good smoothing value, since we can choose this value from 0 to 1, its use for Lapace smoothing."
      ]
    },
    {
      "cell_type": "markdown",
      "metadata": {
        "id": "bbMRqJv5Gl2F"
      },
      "source": [
        "### Expected Output:\n",
        "F1 Score: 0.9533633964397735\n",
        "\n",
        "Accuracy: 0.9524482941488421"
      ]
    },
    {
      "cell_type": "markdown",
      "metadata": {
        "id": "AWRDuUqU-taV"
      },
      "source": [
        "Your accuracy does not have to be exactly the same. This is just to give you an estimate of what could you expect your accuracy to be around."
      ]
    },
    {
      "cell_type": "markdown",
      "metadata": {
        "id": "UfMc8cz93Cc0"
      },
      "source": [
        "## Question 2 Vector Visualization"
      ]
    },
    {
      "cell_type": "markdown",
      "metadata": {
        "id": "70iwEeL23F7K"
      },
      "source": [
        "In this unsupervised learning task we are going to cluster wikipedia articles into groups using T-SNE visualization after vectorization."
      ]
    },
    {
      "cell_type": "markdown",
      "metadata": {
        "id": "UHx4YuxW36oM"
      },
      "source": [
        "### Collect articles from Wikipedia (10 points)\n",
        "\n",
        "In this section we will download articles from wikipedia and then vectorize them in the next step. You can select somewhat related topics or fetch the articles randomly.\n",
        "(Use dir() and help() functions or refer wikipedia documentation)\n",
        "You may also pick any other data source of your choice instead of wikipedia."
      ]
    },
    {
      "cell_type": "code",
      "execution_count": 23,
      "metadata": {
        "id": "jA419x6__mjg"
      },
      "outputs": [],
      "source": [
        "# install libraries\n",
        "# pip install wikipedia"
      ]
    },
    {
      "cell_type": "code",
      "execution_count": 24,
      "metadata": {
        "id": "doQ5IexNzC66"
      },
      "outputs": [],
      "source": [
        "# Import package\n",
        "import wikipedia\n",
        "from wikipedia.exceptions import WikipediaException\n",
        "from typing import Dict, List"
      ]
    },
    {
      "cell_type": "code",
      "execution_count": 26,
      "metadata": {
        "id": "vLMLk4K84Zbn"
      },
      "outputs": [
        {
          "name": "stdout",
          "output_type": "stream",
          "text": [
            "36\n"
          ]
        }
      ],
      "source": [
        "'''\n",
        " Generate a list of wikipedia article to cluster\n",
        " You can maintain a static list of titles or generate them randomly using wikipedia library\n",
        " Some topics include:\n",
        " [\"Northeastern Unversity\", \"Natural language processing\", \"Machine learning\", \"Quantum machine learning\", \"Artificial intelligence\", \"Data science\", \"Master in Data Science\",\n",
        " \"Bank of America\", \"Visa Inc.\", \"European Central Bank\", \"Bank\", \"Financial technology\",\"International Monetary Fund\",\n",
        " \"Basketball\", \"Swimming\", \"Tennis\", \"Football\", \"College Football\", \"Association Football\"]\n",
        "\n",
        " You can add more topics from different categories so that we have a diverse dataset to work with.\n",
        " Ex- About 3+ categories(groups), 3+ topics in each category, 3+ articles in each topic\n",
        "'''\n",
        "\n",
        "# selected topics\n",
        "topics_dict: Dict[str, list[str]] = {\n",
        "    \"GPCR Drug Support\": [\n",
        "        \"Nanobody Screening Technology\",\n",
        "        \"Protein Chemistry\",\n",
        "        \"Computational Biology\",\n",
        "        \"Structural Biology\",\n",
        "        \"Molecular Pharmacology\",\n",
        "        \"Antibody\",\n",
        "        \"Variable domain of heavy chain\",\n",
        "        \"Purification\",\n",
        "        \"Human antigen\"\n",
        "    ],\n",
        "    \"Traditional Biotech\": [\n",
        "        \"Cell Biology\",\n",
        "        \"Taxonomy\",\n",
        "        \"Ecology\",\n",
        "        \"Evolution\",\n",
        "        \"Physiology\",\n",
        "        \"Botany\",\n",
        "        \"Zoology\",\n",
        "        \"Microbiology\",\n",
        "        \"Anatomy\"\n",
        "    ],\n",
        "    \"Traditional Chemistry\": [\n",
        "        \"Organic Chemistry\",\n",
        "        \"Inorganic Chemistry\",\n",
        "        \"Physical Chemistry\",\n",
        "        \"Analytical Chemistry\",\n",
        "        \"Biochemistry\",\n",
        "        \"Theoretical Chemistry\",\n",
        "        \"Nuclear Chemistry\",\n",
        "        \"Electrochemistry\",\n",
        "        \"Environmental Chemistry\"\n",
        "    ],\n",
        "    \"Traditional Pharmacology\": [\n",
        "        \"Pharmacodynamics\",\n",
        "        \"Pharmacokinetics\",\n",
        "        \"Toxicology\",\n",
        "        \"Clinical Pharmacology\",\n",
        "        \"Neuropharmacology\",\n",
        "        \"Psychopharmacology\",\n",
        "        \"Cardiovascular Pharmacology\",\n",
        "        \"Endocrine Pharmacology\",\n",
        "        \"Chemotherapy\"\n",
        "    ]\n",
        "}\n",
        "\n",
        "# download and store articles (summaries) in this variable\n",
        "data: List[str] = []\n",
        "categories: List[str] = []\n",
        "\n",
        "for category, topics in topics_dict.items():\n",
        "    for topic in topics:\n",
        "        try:\n",
        "            summary = wikipedia.summary(topic)\n",
        "            data.append((summary, category))\n",
        "        except wikipedia.exceptions.DisambiguationError as e:\n",
        "            try:\n",
        "                # Attempt to get the summary for the first option\n",
        "                summary = wikipedia.summary(e.options[0])\n",
        "                data.append((summary, category))\n",
        "            except WikipediaException:\n",
        "                print(f\"Error retrieving the article for {topic} using option {e.options[0]}\")\n",
        "        except Exception as e:\n",
        "            print(f\"Error retrieving the article {topic}: {e}\")\n",
        "\n",
        "print(len(data))"
      ]
    },
    {
      "cell_type": "code",
      "execution_count": 27,
      "metadata": {
        "id": "4OgBzo-5zC66"
      },
      "outputs": [
        {
          "name": "stdout",
          "output_type": "stream",
          "text": [
            "Summary:\n",
            "('Antibody-oligonucleotide conjugates or AOCs belong to a class of chimeric molecules combining in their structure two important families of biomolecules: monoclonal antibodies and oligonucleotides.Combination of exceptional targeting capabilities of monoclonal antibodies with numerous functional modalities of oligonucleotides has been fruitful for a variety of applications with AOC including imaging, detection and targeted therapeutics.Cell uptake/internalisation still represents the biggest hurdle towards successful ON therapeutics. A straightforward uptake, like for most small-molecule drugs, is hindered by the polyanionic backbone  and the molecular size of ONs. Being adapted from the broad and successful class of Antibody-Drug conjugates, antibodies and antibody analogues are more and more used in research in order to overcome hurdles related to delivery and internalisation of ON therapeutics. By exploiting bioconjugation methodology several conjugates have been obtained.', 'GPCR Drug Support')\n",
            "('Molecular biophysics is a rapidly evolving interdisciplinary area of research that combines concepts in physics, chemistry, engineering, mathematics and biology. It seeks to understand biomolecular systems and explain biological function in terms of molecular structure, structural organization, and dynamic behaviour at various levels of complexity (from single molecules to supramolecular structures, viruses and small living systems). This discipline covers topics such as the measurement of molecular forces, molecular associations, allosteric interactions, Brownian motion, and cable theory.  Additional areas of study can be found on Outline of Biophysics. The discipline has required development of specialized equipment and procedures capable of imaging and manipulating minute living structures, as well as novel experimental approaches.', 'GPCR Drug Support')\n",
            "('Computational biology refers to the use of data analysis, mathematical modeling and computational simulations to understand biological systems and relationships. An intersection of computer science, biology, and big data, the field also has foundations in applied mathematics, chemistry, and genetics. It differs from biological computing, a subfield of computer science and engineering which uses bioengineering to build computers.\\n\\n', 'GPCR Drug Support')\n",
            "('Structural biology is a field that is many centuries old which, as defined by the Journal of Structural Biology, deals with structural analysis of living material (formed, composed of, and/or maintained and refined by living cells) at every level of organization. Early structural biologists throughout the 19th and early 20th centuries were primarily only able to study structures to the limit of the naked eye\\'s visual acuity and through magnifying glasses and light microscopes.\\nIn the 20th century, a variety of experimental techniques were developed to examine the 3D structures of biological molecules. The most prominent techniques are X-ray crystallography, nuclear magnetic resonance, and electron microscopy. Through the discovery of X-rays and its applications to protein crystals, structural biology was revolutionized, as now scientists could obtain the three-dimensional structures of biological molecules in atomic detail. Likewise, NMR spectroscopy allowed information about protein structure and dynamics to be obtained. Finally, in the 21st century, electron microscopy also saw a drastic revolution with the development of more coherent electron sources, aberration correction for electron microscopes, and reconstruction software that enabled the successful implementation of high resolution cryo-electron microscopy, thereby permitting the study of individual proteins and molecular complexes in three-dimensions at angstrom resolution.\\n\\nWith the development of these three techniques, the field of structural biology expanded and also became a branch of molecular biology, biochemistry, and biophysics concerned with the molecular structure of biological macromolecules (especially proteins, made up of amino acids, RNA or DNA, made up of nucleotides, and membranes, made up of lipids), how they acquire the structures they have, and how alterations in their structures affect their function. This subject is of great interest to biologists because macromolecules carry out most of the functions of cells, and it is only by coiling into specific three-dimensional shapes that they are able to perform these functions. This architecture, the \"tertiary structure\" of molecules, depends in a complicated way on each molecule\\'s basic composition, or \"primary structure.\" At lower resolutions, tools such as FIB-SEM tomography have allowed for greater understanding of cells and their organelles in 3-dimensions, and how each hierarchical level of various extracellular matrices contributes to function (for example in bone). In the past few years it has also become possible to predict highly accurate physical molecular models to complement the experimental study of biological structures. Computational techniques such as molecular dynamics simulations can be used in conjunction with empirical structure determination strategies to extend and study protein structure, conformation and function.', 'GPCR Drug Support')\n",
            "('Molecular Pharmacology is a peer-reviewed scientific journal published by the American Society for Pharmacology and Experimental Therapeutics since 1965. It is indexed in MEDLINE, Meta, Scopus, and other databases.According to the Journal Citation Reports, the journal received a 2017 impact factor of 3.987.', 'GPCR Drug Support')\n",
            "('An antibody (Ab), also known as an immunoglobulin (Ig), is a large, Y-shaped protein used by the immune system to identify and neutralize foreign objects such as pathogenic bacteria and viruses. The antibody recognizes a unique molecule of the pathogen, called an antigen. Each tip of the \"Y\" of an antibody contains a paratope (analogous to a lock) that is specific for one particular epitope (analogous to a key) on an antigen, allowing these two structures to bind together with precision. Using this binding mechanism, an antibody can tag a microbe or an infected cell for attack by other parts of the immune system, or can neutralize it directly (for example, by blocking a part of a virus that is essential for its invasion).\\nTo allow the immune system to recognize millions of different antigens, the antigen-binding sites at both tips of the antibody come in an equally wide variety.\\nIn contrast, the remainder of the antibody is relatively constant. In mammals, antibodies occur in a few variants, which define the antibody\\'s class or isotype: IgA, IgD, IgE, IgG, and IgM.\\nThe constant region at the trunk of the antibody includes sites involved in interactions with other components of the immune system. The class hence determines the function triggered by an antibody after binding to an antigen, in addition to some structural features.\\nAntibodies from different classes also differ in where they are released in the body and at what stage of an immune response.\\nTogether with B and T cells, antibodies comprise the most important part of the adaptive immune system.\\nThey occur in two forms: one that is attached to a B cell, and the other, a soluble form, that is unattached and found in extracellular fluids such as blood plasma.\\nInitially, all antibodies are of the first form, attached to the surface of a B cell – these are then referred to as B-cell receptors (BCR).\\nAfter an antigen binds to a BCR, the B cell activates to proliferate and differentiate into either plasma cells, which secrete soluble antibodies with the same paratope, or memory B cells, which survive in the body to enable long-lasting immunity to the antigen.\\nSoluble antibodies are released into the blood and tissue fluids, as well as many secretions.\\nBecause these fluids were traditionally known as humors, antibody-mediated immunity is sometimes known as, or considered a part of, humoral immunity.\\nThe soluble Y-shaped units can occur individually as monomers, or in complexes of two to five units.\\nAntibodies are glycoproteins belonging to the immunoglobulin superfamily.\\nThe terms antibody and immunoglobulin are often used interchangeably, though the term \\'antibody\\' is sometimes reserved for the secreted, soluble form, i.e. excluding B-cell receptors.', 'GPCR Drug Support')\n",
            "(\"The immunoglobulin heavy chain (IgH) is the large polypeptide subunit of an antibody (immunoglobulin). In human genome, the IgH gene loci are on chromosome 14.\\nA typical antibody is composed of two immunoglobulin (Ig) heavy chains and two Ig light chains. Several different types of heavy chain exist that define the class or isotype of an antibody. These heavy chain types vary between different animals.  All heavy chains contain a series of immunoglobulin domains, usually with one variable domain (VH) that is important for binding antigen and several constant domains (CH1, CH2, etc.). Production of a viable heavy chain is a key step in B cell maturation. If the heavy chain is able to bind to a surrogate light chain and move to the plasma membrane, then the developing B cell can begin producing its light chain.The heavy chain doesn't always have to bind to a light chain. Pre-B lymphocytes can synthesize heavy chain in the absence of light chain, which then can allow the heavy chain to bind to a heavy-chain binding protein.\", 'GPCR Drug Support')\n",
            "(\"Ritual purification is the ritual prescribed by a religion by which a person is considered to be free of uncleanliness, especially prior to the worship of a deity, and ritual purity is a state of ritual cleanliness. Ritual purification may also apply to objects and places. Ritual uncleanliness is not identical with ordinary physical impurity, such as dirt stains; nevertheless, body fluids are generally considered ritually unclean.\\nMost of these rituals existed long before the germ theory of disease, and figure prominently from the earliest known religious systems of the Ancient Near East. Some writers connect the rituals to taboos.\\nSome have seen benefits of these practices as a point of health and preventing infections especially in areas where humans come in close contact with each other.  While these practices came before the idea of the germ theory was public in areas that use daily cleaning, the destruction of infectious agents seems to be dramatic. Others have described a 'dimension of purity' that is universal in religions that seeks to move humans away from disgust, (at one extreme) and to uplift them towards purity and divinity (at the other extreme). Away from uncleanliness to purity, and away from deviant to moral behavior, (within one's cultural context).\", 'GPCR Drug Support')\n",
            "(\"The human leukocyte antigen (HLA) system or complex is a complex of genes on chromosome 6 in humans which encode cell-surface proteins responsible for regulation of the immune system. The HLA system is also known as the human version of the major histocompatibility complex (MHC) found in many animals.Mutations in HLA genes may be linked to autoimmune diseases such as type I diabetes, and celiac disease. The HLA gene complex resides on a 3 Mbp stretch within chromosome 6, p-arm at 21.3. HLA genes are highly polymorphic, which means that they have many different alleles, allowing them to fine-tune the adaptive immune system. The proteins encoded by certain genes are also known as antigens, as a result of their historic discovery as factors in organ transplants.HLAs corresponding to MHC class I (A, B, and C), all of which are the HLA Class1 group, present peptides from inside the cell. For example, if the cell is infected by a virus, the HLA system brings fragments of the virus to the surface of the cell so that the cell can be destroyed by the immune system. These peptides are produced from digested proteins that are broken down in the proteasomes. In general, these particular peptides are small polymers, of about 8-10 amino acids in length. Foreign antigens presented by MHC class I attract T-lymphocytes called killer T-cells (also referred to as CD8-positive or cytotoxic T-cells) that destroy cells. Some new work has proposed that antigens longer than 10 amino acids, 11-14 amino acids, can be presented on MHC I, eliciting a cytotoxic T-cell response. MHC class I proteins associate with β2-microglobulin, which, unlike the HLA proteins, is encoded by a gene on chromosome 15.\\nHLAs corresponding to MHC class II (DP, DM, DO, DQ, and DR) present antigens from outside of the cell to T-lymphocytes. These particular antigens stimulate multiplication of T-helper cells (also called CD4-positive T cells), which in turn stimulate antibody-producing B-cells to produce antibodies to that specific antigen. Self-antigens are suppressed by regulatory T cells. Predicting which (fragments of) antigens will be presented to the immune system by a certain HLA type is difficult, but the technology involved is improving.HLAs corresponding to MHC class III encode components of the complement system.\\nHLAs have other roles. They are important in disease defense. They are the major cause of organ transplant rejection. They may protect against cancers or fail to protect (if down-regulated by an infection). HLA may also be related to people's perception of the odor of other people, and may be involved in mate selection, as at least one study found a lower-than-expected rate of HLA similarity between spouses in an isolated community.Aside from the genes encoding the six major antigen-presenting proteins, many other genes, many involved in immune function,  located on the HLA complex. Diversity of HLAs in the human population is one aspect of disease defense, and, as a result, the chance of two unrelated individuals with identical HLA molecules on all loci is extremely low. HLA genes have historically been identified as a result of the ability to successfully transplant organs between HLA-similar individuals.\", 'GPCR Drug Support')\n",
            "('Cell biology (also cellular biology or cytology) is a branch of biology that studies the structure, function, and behavior of cells. All living organisms are made of cells. A cell is the basic unit of life that is responsible for the living and functioning of organisms. Cell biology is the study of the structural and functional units of cells. Cell biology encompasses both prokaryotic and eukaryotic cells and has many subtopics which may include the study of cell metabolism, cell communication, cell cycle, biochemistry, and cell composition. The study of cells is performed using several microscopy techniques, cell culture, and cell fractionation. These have allowed for and are currently being used for discoveries and research pertaining to how cells function, ultimately giving insight into understanding larger organisms. Knowing the components of cells and how cells work is fundamental to all biological sciences while also being essential for research in biomedical fields such as cancer, and other diseases. Research in cell biology is interconnected to other fields such as genetics, molecular genetics, molecular biology, medical microbiology, immunology, and cytochemistry.\\n\\n', 'Traditional Biotech')\n",
            "('Taxonomy is the practice and science of categorization or classification.\\nA taxonomy (or taxonomical classification) is a scheme of classification, especially a hierarchical classification, in which things are organized into groups or types. Among other things, a taxonomy can be used to organize and index knowledge (stored as documents, articles, videos, etc.), such as in the form of a library classification system, or a search engine taxonomy, so that users can more easily find the information they are searching for. Many taxonomies are hierarchies (and thus, have an intrinsic tree structure), but not all are.  \\nOriginally, taxonomy referred only to the categorisation of organisms or a particular categorisation of organisms. In a wider, more general sense, it may refer to a categorisation of things or concepts, as well as to the principles underlying such a categorisation. Taxonomy organizes taxonomic units known as \"taxa\" (singular \"taxon\").\"\\nTaxonomy is different from meronomy, which deals with the categorisation of parts of a whole.', 'Traditional Biotech')\n",
            "('Biology is the scientific study of life. It is a natural science with a broad scope but has several unifying themes that tie it together as a single, coherent field. For instance, all organisms are made up of cells that process hereditary information encoded in genes, which can be transmitted to future generations. Another major theme is evolution, which explains the unity and diversity of life. Energy processing is also important to life as it allows organisms to move, grow, and reproduce. Finally, all organisms are able to regulate their own internal environments.Biologists are able to study life at multiple levels of organization, from the molecular biology of a cell to the anatomy and physiology of plants and animals, and evolution of populations. Hence, there are multiple subdisciplines within biology, each defined by the nature of their research questions and the tools that they use. Like other scientists, biologists use the scientific method to make observations, pose questions, generate hypotheses, perform experiments, and form conclusions about the world around them.Life on Earth, which emerged more than 3.7 billion years ago, is immensely diverse. Biologists have sought to study and classify the various forms of life, from prokaryotic organisms such as archaea and bacteria to eukaryotic organisms such as protists, fungi, plants, and animals. These various organisms contribute to the biodiversity of an ecosystem, where they play specialized roles in the cycling of nutrients and energy through their biophysical environment.', 'Traditional Biotech')\n",
            "(\"In political science, a revolution (Latin: revolutio, 'a turn around') is an attempt to achieve fundamental and relatively sudden change in political power and political organization. It typically involves a revolt against the government due to perceived oppression (political, social, economic) or political incompetence.Revolutions have occurred throughout human history and vary widely in terms of methods, success or failure, duration, and motivating ideology. Their results include major changes in culture, economy, and socio-political institutions, usually in response to perceived overwhelming autocracy or plutocracy.\\nScholarly debates about what does and does not constitute a revolution center on several issues. Early studies of revolutions primarily analyzed events in European history from a psychological perspective, but more modern examinations include global events and incorporate perspectives from several social sciences, including sociology and political science. Several generations of scholarly thought on revolutions have generated many competing theories and contributed much to the current understanding of this complex phenomenon.\\nNotable revolutions in recent centuries include the creation of the United States through the American Revolutionary War (1775–1783), the French Revolution (1789–1799), the Haitian Revolution (1791–1804), the Spanish American wars of independence (1808–1826), the European Revolutions of 1848, the Russian Revolution in 1917, the Chinese Revolution of the 1940s, the Cuban Revolution in 1959, the Iranian Revolution in 1979, and the European Revolutions of 1989.\", 'Traditional Biotech')\n",
            "(\"Physiology (; from Ancient Greek  φύσις (phúsis) 'nature, origin', and  -λογία (-logía) 'study of') is the scientific study of functions and mechanisms in a living system. As a subdiscipline of biology, physiology focuses on how organisms, organ systems, individual organs, cells, and biomolecules carry out chemical and physical functions in a living system. According to the classes of organisms, the field can be divided into medical physiology, animal physiology, plant physiology, cell physiology, and comparative physiology.Central to physiological functioning are biophysical and biochemical processes, homeostatic control mechanisms, and communication between cells. Physiological state is the condition of normal function. In contrast, pathological state refers to abnormal conditions, including human diseases.\\nThe Nobel Prize in Physiology or Medicine is awarded by the Royal Swedish Academy of Sciences for exceptional scientific achievements in physiology related to the field of medicine.\\n\\n\", 'Traditional Biotech')\n",
            "('Botany, also called plant science (or plant sciences), plant biology or phytology, is the science of plant life and a branch of biology. A botanist, plant scientist or phytologist is a scientist who specialises in this field. The term \"botany\" comes from the Ancient Greek word βοτάνη (botanē) meaning \"pasture\", \"herbs\" \"grass\", or \"fodder\"; βοτάνη is in turn derived from βόσκειν (boskein), \"to feed\" or \"to graze\".  Traditionally, botany has also included the study of fungi and algae by mycologists and phycologists respectively, with the study of these three groups of organisms remaining within the sphere of interest of the International Botanical Congress. Nowadays, botanists (in the strict sense) study approximately 410,000 species of land plants of which some 391,000 species are vascular plants (including approximately 369,000 species of flowering plants), and approximately 20,000 are bryophytes.Botany originated in prehistory as herbalism with the efforts of early humans to identify – and later cultivate – plants that were edible, poisonous, and possibly medicinal, making it one of the first endeavours of human investigation. Medieval physic gardens, often attached to monasteries, contained plants possibly having medicinal benefit. They were forerunners of the first botanical gardens attached to universities, founded from the 1540s onwards. One of the earliest was the Padua botanical garden. These gardens facilitated the academic study of plants. Efforts to catalogue and describe their collections were the beginnings of plant taxonomy, and led in 1753 to the binomial system of nomenclature of Carl Linnaeus that remains in use to this day for the naming of all biological species.\\nIn the 19th and 20th centuries, new techniques were developed for the study of plants, including methods of optical microscopy and live cell imaging, electron microscopy, analysis of chromosome number, plant chemistry and the structure and function of enzymes and other proteins. In the last two decades of the 20th century, botanists exploited the techniques of molecular genetic analysis, including genomics and proteomics and DNA sequences to classify plants more accurately.\\nModern botany is a broad, multidisciplinary subject with contributions and insights from most other areas of science and technology. Research topics include the study of plant structure, growth and differentiation, reproduction, biochemistry and primary metabolism, chemical products, development, diseases, evolutionary relationships, systematics, and plant taxonomy. Dominant themes in 21st century plant science are molecular genetics and epigenetics, which study the mechanisms and control of gene expression during differentiation of plant cells and tissues. Botanical research has diverse applications in providing staple foods, materials such as timber, oil, rubber, fibre and drugs, in modern horticulture, agriculture and forestry, plant propagation, breeding and genetic modification, in the synthesis of chemicals and raw materials for construction and energy production, in environmental management, and the maintenance of biodiversity.', 'Traditional Biotech')\n",
            "(\"Geology (from Ancient Greek  γῆ (gê) 'earth', and  λoγία (-logía) 'study of, discourse') is a branch of natural science concerned with the Earth and other astronomical objects, the rocks of which it is composed, and the processes by which they change over time. Modern geology significantly overlaps all other Earth sciences, including hydrology. It is integrated with Earth system science and planetary science.\\nGeology describes the structure of the Earth on and beneath its surface and the processes that have shaped that structure. Geologists study the mineralogical composition of rocks in order to get insight into their history of formation. Geology determines the relative ages of rocks found at a given location; geochemistry (a branch of geology) determines their absolute ages. By combining various petrological, crystallographic, and paleontological tools, geologists are able to chronicle the geological history of the Earth as a whole. One aspect is to demonstrate the age of the Earth. Geology provides evidence for plate tectonics, the evolutionary history of life, and the Earth's past climates.\\nGeologists broadly study the properties and processes of Earth and other terrestrial planets. Geologists use a wide variety of methods to understand the Earth's structure and evolution, including fieldwork, rock description, geophysical techniques, chemical analysis, physical experiments, and numerical modelling. In practical terms, geology is important for mineral and hydrocarbon exploration and exploitation, evaluating water resources, understanding natural hazards, remediating environmental problems, and providing insights into past climate change. Geology is a major academic discipline, and it is central to geological engineering and plays an important role in geotechnical engineering.\", 'Traditional Biotech')\n",
            "('Microbiology (from Ancient Greek  μῑκρος (mīkros) \\'small\\',  βίος (bíos) \\'life\\', and  -λογία (-logía) \\'study of\\') is the scientific study of microorganisms, those being of unicellular (single-celled), multicellular (consisting of complex cells), or acellular (lacking cells). Microbiology encompasses numerous sub-disciplines including virology, bacteriology, protistology, mycology, immunology, and parasitology.\\nEukaryotic microorganisms possess membrane-bound organelles and include fungi and protists, whereas prokaryotic organisms—all of which are microorganisms—are conventionally classified as lacking membrane-bound organelles and include Bacteria and Archaea. Microbiologists traditionally relied on culture, staining, and microscopy for the isolation and identification of microorganisms. However, less than 1% of the microorganisms present in common environments can be cultured in isolation using current means. With the emergence of biotechnology, Microbiologists currently rely on molecular biology tools such as DNA sequence-based identification, for example, the 16S rRNA gene sequence used for bacterial identification.\\nViruses have been variably classified as organisms, as they have been considered either as very simple microorganisms or very complex molecules. Prions, never considered as microorganisms, have been investigated by virologists, however, as the clinical effects traced to them were originally presumed due to chronic viral infections, virologists took a search—discovering \"infectious proteins\".\\nThe existence of microorganisms was predicted many centuries before they were first observed, for example by the Jains in India and by Marcus Terentius Varro in ancient Rome. The first recorded microscope observation was of the fruiting bodies of moulds, by Robert Hooke in 1666, but the Jesuit priest Athanasius Kircher was likely the first to see microbes, which he mentioned observing in milk and putrid material in 1658. Antonie van Leeuwenhoek is considered a father of microbiology as he observed and experimented with microscopic organisms in the 1670s, using simple microscopes of his design. Scientific microbiology developed in the 19th century through the work of Louis Pasteur and in medical microbiology Robert Koch.\\n\\n', 'Traditional Biotech')\n",
            "(\"Anatomy (from Ancient Greek  ἀνατομή (anatomḗ) 'dissection') is the branch of biology concerned with the study of the structure of organisms and their parts. Anatomy is a branch of natural science that deals with the structural organization of living things. It is an old science, having its beginnings in prehistoric times. Anatomy is inherently tied to developmental biology, embryology, comparative anatomy, evolutionary biology, and phylogeny, as these are the processes by which anatomy is generated, both over immediate and long-term timescales. Anatomy and physiology, which study the structure and function of organisms and their parts respectively, make a natural pair of related disciplines, and are often studied together. Human anatomy is one of the essential basic sciences that are applied in medicine.Anatomy is a complex and dynamic field that is constantly evolving as new discoveries are made. In recent years, there has been a significant increase in the use of advanced imaging techniques, such as MRI and CT scans, which allow for more detailed and accurate visualizations of the body's structures.\\nThe discipline of anatomy is divided into macroscopic and microscopic parts. Macroscopic anatomy, or gross anatomy, is the examination of an animal's body parts using unaided eyesight. Gross anatomy also includes the branch of superficial anatomy. Microscopic anatomy involves the use of optical instruments in the study of the tissues of various structures, known as histology, and also in the study of cells.\\nThe history of anatomy is characterized by a progressive understanding of the functions of the organs and structures of the human body. Methods have also improved dramatically, advancing from the examination of animals by dissection of carcasses and cadavers (corpses) to 20th-century medical imaging techniques, including X-ray, ultrasound, and magnetic resonance imaging.\\n\\n\", 'Traditional Biotech')\n",
            "('Inorganic chemistry deals with synthesis and behavior of inorganic and organometallic compounds. This field covers chemical compounds that are not carbon-based, which are the subjects of organic chemistry. The distinction between the two disciplines is far from absolute, as there is much overlap in the subdiscipline of organometallic chemistry. It has applications in every aspect of the chemical industry, including catalysis, materials science, pigments, surfactants, coatings, medications, fuels, and agriculture.', 'Traditional Chemistry')\n",
            "('Organic chemistry is a subdiscipline within chemistry involving the scientific study of the structure, properties, and reactions of organic compounds and organic materials, i.e., matter in its various forms that contain carbon atoms. Study of structure determines their structural formula. Study of properties includes physical and chemical properties, and evaluation of chemical reactivity to understand their behavior. The study of organic reactions includes the chemical synthesis of natural products, drugs, and polymers, and study of individual organic molecules in the laboratory and via theoretical (in silico) study.\\nThe range of chemicals studied in organic chemistry includes hydrocarbons (compounds containing only carbon and hydrogen) as well as compounds based on carbon, but also containing other elements, especially oxygen, nitrogen, sulfur, phosphorus (included in many biochemicals) and the halogens. Organometallic chemistry is the study of compounds containing carbon–metal bonds.\\nIn addition, contemporary research focuses on organic chemistry involving other organometallics including the lanthanides, but especially the transition metals zinc, copper, palladium, nickel, cobalt, titanium and chromium.\\nOrganic compounds form the basis of all earthly life and constitute the majority of known chemicals. The bonding patterns of carbon, with its valence of four—formal single, double, and triple bonds, plus structures with delocalized electrons—make the array of organic compounds structurally diverse, and their range of applications enormous. They form the basis of, or are constituents of, many commercial products including pharmaceuticals; petrochemicals and agrichemicals, and products made from them including lubricants, solvents; plastics; fuels and explosives. The study of organic chemistry overlaps organometallic chemistry and biochemistry, but also with medicinal chemistry, polymer chemistry, and materials science.\\n\\n', 'Traditional Chemistry')\n",
            "('Physical chemistry is the study of macroscopic and microscopic phenomena in chemical systems in terms of the principles, practices, and concepts of physics such as motion, energy, force, time, thermodynamics, quantum chemistry, statistical mechanics, analytical dynamics and chemical equilibria.\\nPhysical chemistry, in contrast to chemical physics, is predominantly (but not always) a supra-molecular science, as the majority of the principles on which it was founded relate to the bulk rather than the molecular or atomic structure alone (for example, chemical equilibrium and colloids).\\nSome of the relationships that physical chemistry strives to resolve include the effects of:\\n\\nIntermolecular forces that act upon the physical properties of materials (plasticity, tensile strength, surface tension in liquids).\\nReaction kinetics on the rate of a reaction.\\nThe identity of ions and the electrical conductivity of materials.\\nSurface science and electrochemistry of cell membranes.\\nInteraction of one body with another in terms of quantities of heat and work called thermodynamics.\\nTransfer of heat between a chemical system and its surroundings during change of phase or chemical reaction taking place called thermochemistry\\nStudy of colligative properties of number of species present in solution.\\nNumber of phases, number of components and degree of freedom (or variance) can be correlated with one another with help of phase rule.\\nReactions of electrochemical cells.\\nBehaviour of microscopic systems using quantum mechanics and macroscopic systems using statistical thermodynamics.\\nCalculation of the Energy of electron movement in a metal complexes.', 'Traditional Chemistry')\n",
            "('Analytical chemistry studies and uses instruments and methods to separate, identify, and quantify matter. In practice, separation, identification or quantification may constitute the entire analysis or be combined with another method. Separation isolates analytes. Qualitative analysis identifies analytes, while quantitative analysis determines the numerical amount or concentration.\\nAnalytical chemistry consists of classical, wet chemical methods and modern, instrumental methods. Classical qualitative methods use separations such as precipitation, extraction, and distillation. Identification may be based on differences in color, odor, melting point, boiling point, solubility, radioactivity or reactivity. Classical quantitative analysis uses mass or volume changes to quantify amount. Instrumental methods may be used to separate samples using chromatography, electrophoresis or field flow fractionation. Then qualitative and quantitative analysis can be performed, often with the same instrument and may use light interaction,  heat interaction, electric fields or magnetic fields. Often the same instrument can separate, identify and quantify an analyte.\\nAnalytical chemistry is also focused on improvements in experimental design, chemometrics, and the creation of new measurement tools. Analytical chemistry has broad applications to medicine, science, and engineering.\\n\\n', 'Traditional Chemistry')\n",
            "('Biochemistry or biological chemistry is the study of chemical processes within and relating to living organisms.  A sub-discipline of both chemistry and biology, biochemistry may be divided into three fields: structural biology, enzymology, and metabolism.  Over the last decades of the 20th century, biochemistry has become successful at explaining living processes through these three disciplines.  Almost all areas of the life sciences are being uncovered and developed through biochemical methodology and research.  Biochemistry focuses on understanding the chemical basis which allows biological molecules to give rise to the processes that occur within living cells and between cells, in turn relating greatly to the understanding of tissues and organs, as well as organism structure and function. Biochemistry is closely related to molecular biology, which is the study of the molecular mechanisms of biological phenomena.Much of biochemistry deals with the structures, bonding, functions, and interactions of biological macromolecules, such as proteins, nucleic acids, carbohydrates, and lipids. They provide the structure of cells and perform many of the functions associated with life.  The chemistry of the cell also depends upon the reactions of small molecules and ions.  These can be inorganic (for example, water and metal ions) or organic (for example, the amino acids, which are used to synthesize proteins).  The mechanisms used by cells to harness energy from their environment via chemical reactions are known as metabolism.  The findings of biochemistry are applied primarily in medicine, nutrition and agriculture.  In medicine, biochemists investigate the causes and cures of diseases.  Nutrition studies how to maintain health and wellness and also the effects of nutritional deficiencies.  In agriculture, biochemists investigate soil and fertilizers, with the goal of improving crop cultivation, crop storage, and pest control.  In recent decades, biochemical principles and methods have been combined with problem-solving approaches from engineering to manipulate living systems, in order to produce useful tools for research, industrial processes, and diagnosis and control of disease—the discipline of biotechnology.\\n\\n', 'Traditional Chemistry')\n",
            "('Theoretical chemistry is the branch of chemistry which develops theoretical generalizations that are part of the theoretical arsenal of modern chemistry: for example, the concepts of chemical bonding, chemical reaction, valence, the surface of potential energy, molecular orbitals, orbital interactions, and molecule activation.', 'Traditional Chemistry')\n",
            "('Nuclear chemistry is the sub-field of chemistry dealing with radioactivity, nuclear processes, and transformations in the nuclei of atoms, such as nuclear transmutation and nuclear properties.\\nIt is the chemistry of radioactive elements such as the actinides, radium and radon together with the chemistry associated with equipment (such as nuclear reactors) which are designed to perform nuclear processes. This includes the corrosion of surfaces and the behavior under conditions of both normal and abnormal operation (such as during an accident). An important area is the behavior of objects and materials after being placed into a nuclear waste storage or disposal site.\\nIt includes the study of the chemical effects resulting from the absorption of radiation within living animals, plants, and other materials. The radiation chemistry controls much of radiation biology as radiation has an effect on living things at the molecular scale. To explain it another way, the radiation alters the biochemicals within an organism, the alteration of the bio-molecules then changes the chemistry which occurs within the organism; this change in chemistry then can lead to a biological outcome. As a result, nuclear chemistry greatly assists the understanding of medical treatments (such as cancer radiotherapy) and has enabled these treatments to improve.\\nIt includes the study of the production and use of radioactive sources for a range of processes. These include radiotherapy in medical applications; the use of radioactive tracers within industry, science and the environment, and the use of radiation to modify materials such as polymers.It also includes the study and use of nuclear processes in non-radioactive areas of human activity. For instance, nuclear magnetic resonance (NMR) spectroscopy is commonly used in synthetic organic chemistry and physical chemistry and for structural analysis in macro-molecular chemistry.', 'Traditional Chemistry')\n",
            "('Electrochemistry is the branch of physical chemistry concerned with the relationship between electrical potential difference and identifiable chemical change. These reactions involve electrons moving via an electronically-conducting phase (typically an external electrical circuit, but not necessarily, as in electroless plating) between electrodes separated by an ionically conducting and electronically insulating electrolyte (or ionic species in a solution).\\nWhen a chemical reaction is driven by an electrical potential difference, as in electrolysis, or if a potential difference results from a chemical reaction as in an electric battery or fuel cell, it is called an electrochemical reaction. Unlike in other chemical reactions, in electrochemical reactions electrons are not transferred directly between atoms, ions, or molecules, but via the aforementioned electronically-conducting circuit. This phenomenon is what distinguishes an electrochemical reaction from a conventional chemical reaction.\\n\\n', 'Traditional Chemistry')\n",
            "('Environmental chemistry is the scientific study of the chemical and biochemical phenomena that occur in natural places. It should not be confused with green chemistry, which seeks to reduce potential pollution at its source. It can be defined as the study of the sources, reactions, transport, effects, and fates of chemical species in the air, soil, and water environments; and the effect of human activity and biological activity on these. Environmental chemistry is an interdisciplinary science that includes atmospheric, aquatic and soil chemistry, as well as heavily relying on analytical chemistry and being related to environmental and other areas of science.\\nEnvironmental chemistry involves first understanding how the uncontaminated environment works, which chemicals in what concentrations are present naturally, and with what effects. Without this it would be impossible to accurately study the effects humans have on the environment through the release of chemicals.\\nEnvironmental chemists draw on a range of concepts from chemistry and various environmental sciences to assist in their study of what is happening to a chemical species in the environment. Important general concepts from chemistry include understanding chemical reactions and equations, solutions, units, sampling, and analytical techniques.', 'Traditional Chemistry')\n",
            "('Pharmacodynamics (PD) is the study of the biochemical and physiologic effects of drugs (especially pharmaceutical drugs). The effects can include those manifested within animals (including humans), microorganisms, or combinations of organisms (for example, infection).\\nPharmacodynamics and pharmacokinetics are the main branches of pharmacology,  being itself a topic of biology interested in the study of the interactions of both endogenous and exogenous chemical substances with living organisms.\\nIn particular, pharmacodynamics is the study of how a drug affects an organism, whereas pharmacokinetics is the study of how the organism affects the drug. Both together influence dosing, benefit, and adverse effects. Pharmacodynamics is sometimes abbreviated as PD and pharmacokinetics as PK, especially in combined reference (for example, when speaking of PK/PD models).\\nPharmacodynamics places particular emphasis on dose–response relationships, that is, the relationships between drug concentration and effect.  One dominant example is drug-receptor interactions as modeled by\\n\\n  \\n    \\n      \\n        \\n          L\\n          +\\n          R\\n          \\n            \\n              \\n                \\n                  \\n                    \\n                      ↽\\n                    \\n                    \\n                    \\n                    \\n                      −\\n                    \\n                  \\n                \\n              \\n              \\n                \\n                  \\n                    \\n                      −\\n                    \\n                    \\n                    \\n                    \\n                      ⇀\\n                    \\n                  \\n                \\n              \\n            \\n          \\n          LR\\n        \\n      \\n    \\n    {\\\\displaystyle {\\\\ce {L + R <=> LR}}}\\n  where L, R, and LR represent ligand (drug), receptor, and ligand-receptor complex concentrations, respectively. This equation represents a simplified model of reaction dynamics that can be studied mathematically through tools such as free energy maps.', 'Traditional Pharmacology')\n",
            "('Pharmacokinetics (from Ancient Greek pharmakon \"drug\" and kinetikos \"moving, putting in motion\"; see chemical kinetics), sometimes abbreviated as PK,  is a branch of pharmacology dedicated to describing how the body affects a specific substance after administration. The substances of interest include any chemical xenobiotic such as pharmaceutical drugs, pesticides, food additives, cosmetics, etc. It attempts to analyze chemical metabolism and to discover the fate of a chemical from the moment that it is administered up to the point at which it is completely eliminated from the body. Pharmacokinetics is based on mathematical modeling that places great emphasis on the relationship between drug plasma concentration and the time elapsed since the drug\\'s administration. Pharmacokinetics is the study of how an organism affects a drug, whereas pharmacodynamics (PD) is the study of how the drug affects the organism. Both together influence dosing, benefit, and adverse effects, as seen in PK/PD models.\\n\\n', 'Traditional Pharmacology')\n",
            "('Toxicology is a scientific discipline, overlapping with biology, chemistry, pharmacology, and medicine, that involves the study of the adverse effects of chemical substances on living organisms and the practice of diagnosing and treating exposures to toxins and toxicants. The relationship between dose and its effects on the exposed organism is of high significance in toxicology. Factors that influence chemical toxicity include the dosage, duration of exposure (whether it is acute or chronic), route of exposure, species, age, sex, and environment. Toxicologists are experts on poisons and poisoning. There is a movement for evidence-based toxicology as part of the larger movement towards evidence-based practices. Toxicology is currently contributing to the field of cancer research, since some toxins can be used as drugs for killing tumor cells. One prime example of this is ribosome-inactivating proteins, tested in the treatment of leukemia.The word toxicology () is a neoclassical compound from Neo-Latin, first attested c.\\u20091799, from the combining forms toxico- + -logy, which in turn come from the Ancient Greek words τοξικός toxikos, \"poisonous\", and λόγος logos, \"subject matter\").', 'Traditional Pharmacology')\n",
            "('Clinical pharmacology is \"that discipline that teaches, does research, frames policy, gives information and advice about the actions and proper uses of medicines in humans and implements that knowledge in clinical practice\". Clinical pharmacology is inherently a translational discipline underpinned by the basic science of pharmacology, engaged in the experimental and observational study of the disposition and effects of drugs in humans, and committed to the translation of science into evidence-based therapeutics. It has a broad scope, from the discovery of new target molecules to the effects of drug usage in whole populations. The main aim of clinical pharmacology is to generate data for optimum use of drugs and the practice of \\'evidence based medicine\\'.\\nClinical pharmacologists have medical and scientific training that enables them to evaluate evidence and produce new data through well-designed studies.  Clinical pharmacologists must have access to enough patients for clinical care, teaching and education, and research. Their responsibilities to patients include, but are not limited to, detecting and analysing adverse drug effects and reactions, therapeutics, and toxicology including reproductive toxicology, perioperative drug management, and psychopharmacology.\\nModern clinical pharmacologists are also trained in data analysis skills. Their approaches to analyse data can include modelling and simulation techniques (e.g. population analysis, non-linear mixed-effects modelling).', 'Traditional Pharmacology')\n",
            "(\"Neuropharmacology is the study of how drugs affect function in the nervous system, and the neural mechanisms through which they influence behavior. There are two main branches of neuropharmacology: behavioral and molecular. Behavioral neuropharmacology focuses on the study of how drugs affect human behavior (neuropsychopharmacology), including the study of how drug dependence and addiction affect the human brain. Molecular neuropharmacology involves the study of neurons and their neurochemical interactions, with the overall goal of developing drugs that have beneficial effects on neurological function. Both of these fields are closely connected, since both are concerned with the interactions of neurotransmitters, neuropeptides, neurohormones, neuromodulators, enzymes, second messengers, co-transporters, ion channels, and receptor proteins in the central and peripheral nervous systems. Studying these interactions, researchers are developing drugs to treat many different neurological disorders, including pain, neurodegenerative diseases such as Parkinson's disease and Alzheimer's disease, psychological disorders, addiction, and many others.\", 'Traditional Pharmacology')\n",
            "('Psychopharmacology (from Greek ψῡχή, psȳkhē, \\'breath, life, soul\\'; φάρμακον, pharmakon, \\'drug\\'; and -λογία, -logia) is the scientific study of the effects drugs have on mood, sensation, thinking, behavior, judgment and evaluation, and memory. It is distinguished from neuropsychopharmacology, which emphasizes the correlation between drug-induced changes in the functioning of cells in the nervous system and changes in consciousness and behavior.The field of psychopharmacology studies a wide range of substances with various types of psychoactive properties, focusing primarily on the chemical interactions with the brain. The term \"psychopharmacology\" was likely first coined by David Macht in 1920. Psychoactive drugs interact with particular target sites or receptors found in the nervous system to induce widespread changes in physiological or psychological functions. The specific interaction between drugs and their receptors is referred to as \"drug action\", and the widespread changes in physiological or psychological function is referred to as \"drug effect\". These drugs may originate from natural sources such as plants and animals, or from artificial sources such as chemical synthesis in the laboratory.\\n\\n', 'Traditional Pharmacology')\n",
            "(\"Bisoprolol, sold under the brand name Zebeta among others, is a beta blocker medication used for heart diseases. This includes tachyarrhythmias, high blood pressure, chest pain from not enough blood flow to the heart, and heart failure. It is taken by mouth.Common side effects include headache, feeling tired, diarrhea, and swelling in the legs. More severe side effects include worsening asthma, blocking the ability to recognize low blood sugar, and worsening heart failure. There are concerns that use during pregnancy may be harmful to the baby. Bisoprolol is in the beta blocker family of medications and is of the β1 selective type.Bisoprolol is on the World Health Organization's List of Essential Medicines. Bisoprolol is available as a generic medication. In 2020, it was the 267th most commonly prescribed medication in the United States, with more than 1 million prescriptions.\\n\\n\", 'Traditional Pharmacology')\n",
            "('Pharmacology is a branch of medicine, biology, and pharmaceutical sciences concerned with drug or medication action, where a drug may be defined as any artificial, natural, or endogenous (from within the body) molecule which exerts a biochemical or physiological effect on the cell, tissue, organ, or organism (sometimes the word pharmacon is used as a term to encompass these endogenous and exogenous bioactive species). It is the science of drugs including their origin, composition, pharmacokinetics, therapeutic use, and toxicology. More specifically, it is the study of the interactions that occur between a living organism and chemicals that affect normal or abnormal biochemical function. If substances have medicinal properties, they are considered pharmaceuticals.\\nThe field encompasses drug composition and properties, functions, sources, synthesis and drug design, molecular and cellular mechanisms, organ/systems mechanisms, signal transduction/cellular communication, molecular diagnostics, interactions, chemical biology, therapy, and medical applications and antipathogenic capabilities. The two main areas of pharmacology are pharmacodynamics and pharmacokinetics. Pharmacodynamics studies the effects of a drug on biological systems, and pharmacokinetics studies the effects of biological systems on a drug. In broad terms, pharmacodynamics discusses the chemicals with biological receptors, and pharmacokinetics discusses the absorption, distribution, metabolism, and excretion (ADME) of chemicals from the biological systems.\\nPharmacology is not synonymous with pharmacy and the two terms are frequently confused. Pharmacology, a biomedical science, deals with the research, discovery, and characterization of chemicals which show biological effects and the elucidation of cellular and organismal function in relation to these chemicals. In contrast, pharmacy, a health services profession, is concerned with the application of the principles learned from pharmacology in its clinical settings; whether it be in a dispensing or clinical care role. In either field, the primary contrast between the two is their distinctions between direct-patient care, pharmacy practice, and the science-oriented research field, driven by pharmacology.\\n\\n', 'Traditional Pharmacology')\n",
            "('Chemotherapy (often abbreviated to chemo and sometimes CTX or CTx) is a type of cancer treatment that uses one or more anti-cancer drugs (chemotherapeutic agents or alkylating agents) as part of a standardized chemotherapy regimen. Chemotherapy may be given with a curative intent (which almost always involves combinations of drugs) or it may aim to prolong life or to reduce symptoms (palliative chemotherapy). Chemotherapy is one of the major categories of the medical discipline specifically devoted to pharmacotherapy for cancer, which is called medical oncology.The term chemotherapy has come to connote non-specific usage of intracellular poisons to inhibit mitosis (cell division) or induce DNA damage, which is why inhibition of DNA repair can augment chemotherapy. The connotation of the word chemotherapy excludes more selective agents that block extracellular signals (signal transduction). The development of therapies with specific molecular or genetic targets, which inhibit growth-promoting signals from classic endocrine hormones (primarily estrogens for breast cancer and androgens for prostate cancer) are now called hormonal therapies. By contrast, other inhibitions of growth-signals like those associated with receptor tyrosine kinases are referred to as targeted therapy.\\nImportantly, the use of drugs (whether chemotherapy, hormonal therapy or targeted therapy) constitutes systemic therapy for cancer in that they are introduced into the blood stream and are therefore in principle able to address cancer at any anatomic location in the body. Systemic therapy is often used in conjunction with other modalities that constitute local therapy (i.e., treatments whose efficacy is confined to the anatomic area where they are applied) for cancer such as radiation therapy, surgery or hyperthermia therapy.\\nTraditional chemotherapeutic agents are cytotoxic by means of interfering with cell division (mitosis) but cancer cells vary widely in their susceptibility to these agents. To a large extent, chemotherapy can be thought of as a way to damage or stress cells, which may then lead to cell death if apoptosis is initiated. Many of the side effects of chemotherapy can be traced to damage to normal cells that divide rapidly and are thus sensitive to anti-mitotic drugs: cells in the bone marrow, digestive tract and hair follicles. This results in the most common side-effects of chemotherapy: myelosuppression (decreased production of blood cells, hence also immunosuppression), mucositis (inflammation of the lining of the digestive tract), and alopecia (hair loss). Because of the effect on immune cells (especially lymphocytes), chemotherapy drugs often find use in a host of diseases that result from harmful overactivity of the immune system against self (so-called autoimmunity). These include rheumatoid arthritis, systemic lupus erythematosus, multiple sclerosis, vasculitis and many others.', 'Traditional Pharmacology')\n",
            "Topics:\n",
            "GPCR Drug Support\n",
            "Traditional Biotech\n",
            "Traditional Chemistry\n",
            "Traditional Pharmacology\n"
          ]
        }
      ],
      "source": [
        "# Check the articals\n",
        "print('Summary:')\n",
        "for summary in data:\n",
        "    print(summary)\n",
        "\n",
        "print('Topics:')\n",
        "for article in topics_dict:\n",
        "    print(article)"
      ]
    },
    {
      "cell_type": "markdown",
      "metadata": {
        "id": "IgpRv7wQ4Dpm"
      },
      "source": [
        "### Cleaning the Data (5 points)\n",
        "In this step you will decide whether to clean the data or not. If you choose to clean, you may utilize the clean function from assignment 1.\n",
        "\n",
        "**Question:** Why are you (not) choosing to clean the data? Think in terms of whether cleaning data will help in the clustering or not."
      ]
    },
    {
      "cell_type": "markdown",
      "metadata": {
        "id": "PnZpDKcaHTGq"
      },
      "source": [
        "**Answer(1-3 sentences):**"
      ]
    },
    {
      "cell_type": "markdown",
      "metadata": {
        "id": "URBiUZrIzC67"
      },
      "source": [
        "- I think we need to clean that. Since we download the data base on `wikipedia`，so Wikipedia summaries might contain information that's not directly related to the main topic or might contain introductory phrases or extraneous details. So, we need to clean data followed assignment 1, this is thus, different articles might have different writing styles, tenses, or formats. Standardizing the text can help algorithms process it more efficiently."
      ]
    },
    {
      "cell_type": "code",
      "execution_count": 28,
      "metadata": {
        "id": "gm0Kbat8zC67"
      },
      "outputs": [],
      "source": [
        "# You can use Assignment 1's clean message function\n",
        "# Import Package\n",
        "import re\n",
        "import nltk\n",
        "import string"
      ]
    },
    {
      "cell_type": "code",
      "execution_count": 29,
      "metadata": {
        "id": "oYB7OBkxzC67"
      },
      "outputs": [
        {
          "name": "stderr",
          "output_type": "stream",
          "text": [
            "[nltk_data] Downloading package punkt to C:\\Users\\Andy\n",
            "[nltk_data]     Cui\\AppData\\Roaming\\nltk_data...\n",
            "[nltk_data]   Package punkt is already up-to-date!\n",
            "[nltk_data] Downloading package stopwords to C:\\Users\\Andy\n",
            "[nltk_data]     Cui\\AppData\\Roaming\\nltk_data...\n",
            "[nltk_data]   Package stopwords is already up-to-date!\n"
          ]
        }
      ],
      "source": [
        "# Download datalib\n",
        "nltk.download('punkt')\n",
        "nltk.download('stopwords')\n",
        "\n",
        "# Define stop words and stemmer\n",
        "stop_words = set(stopwords.words('english'))\n",
        "stemmer = PorterStemmer()"
      ]
    },
    {
      "cell_type": "code",
      "execution_count": 30,
      "metadata": {
        "id": "lNj53Pxr963N"
      },
      "outputs": [],
      "source": [
        "# Clean message\n",
        "def clean_message(message: str) -> list[str]:\n",
        "    '''\n",
        "    preprocess and clean a given message.\n",
        "\n",
        "    - message: The text message to be cleaned\n",
        "    ---\n",
        "    - cleaned_message: A cleaned and preprocessed version of the message.\n",
        "    '''\n",
        "    # Remove links\n",
        "    message = re.sub(r'http\\S+', '', message)\n",
        "\n",
        "    # Convert the message to lowercase\n",
        "    message = message.lower()\n",
        "\n",
        "    # Remove punctuation from the message\n",
        "    message = ''.join([char for char in message if char not in string.punctuation])\n",
        "\n",
        "    # Tokenize\n",
        "    tokens = nltk.word_tokenize(message)\n",
        "\n",
        "    # Remove stop words\n",
        "    tokens = [token for token in tokens if token not in stop_words]\n",
        "\n",
        "    # Stemming\n",
        "    tokens = [stemmer.stem(token) for token in tokens]\n",
        "\n",
        "    # Convert tokens back to a single string message\n",
        "    cleaned_message = ' '.join(tokens)\n",
        "\n",
        "    return cleaned_message"
      ]
    },
    {
      "cell_type": "markdown",
      "metadata": {
        "id": "bvRZUpmq-DmT"
      },
      "source": [
        "### Vectorize the articles (5 points)\n",
        "\n",
        "In this step, we will vectorize the text data. You can use TfidfVectorizer() or countVectorizer() from sklearn library."
      ]
    },
    {
      "cell_type": "code",
      "execution_count": 31,
      "metadata": {
        "id": "gJk8YY89-OU4"
      },
      "outputs": [],
      "source": [
        "from sklearn.feature_extraction.text import TfidfVectorizer\n",
        "\n",
        "lines: list[list[str]] = []\n",
        "lines = [clean_message(item[0]) for item in data]\n",
        "vectorizer: any = TfidfVectorizer()\n",
        "x = vectorizer.fit_transform(lines)"
      ]
    },
    {
      "cell_type": "code",
      "execution_count": 32,
      "metadata": {
        "id": "DAIGlqEuINWA"
      },
      "outputs": [
        {
          "name": "stdout",
          "output_type": "stream",
          "text": [
            "['10' '1114' '14' ... 'φύσις' 'ψῡχή' 'ἀνατομή'] \n",
            "\n",
            "(36, 1584)\n"
          ]
        }
      ],
      "source": [
        "print(vectorizer.get_feature_names_out(), '\\n')\n",
        "print(x.shape)"
      ]
    },
    {
      "cell_type": "markdown",
      "metadata": {
        "id": "PKLvrKHRQaQq"
      },
      "source": [
        "### Sample Output:\n",
        "(36, 1552)"
      ]
    },
    {
      "cell_type": "markdown",
      "metadata": {
        "id": "M5ZrGrzD_G8d"
      },
      "source": [
        "### Plot Articles (10 points)\n",
        "Now we will try to verify the groups of articles using T-SNE from sklearn library."
      ]
    },
    {
      "cell_type": "code",
      "execution_count": 33,
      "metadata": {
        "id": "SjcuZBOe-oZq"
      },
      "outputs": [],
      "source": [
        "from sklearn.manifold import TSNE\n",
        "\n",
        "# Transform the vectorized data using TSNE\n",
        "tsne: any = TSNE(n_components = 2, random_state = 42)\n",
        "x_tsne: any = tsne.fit_transform(x.toarray())"
      ]
    },
    {
      "cell_type": "markdown",
      "metadata": {
        "id": "iCY_blxjO1bs"
      },
      "source": [
        "Plot and annotate the points with different markers for different expected groups."
      ]
    },
    {
      "cell_type": "code",
      "execution_count": 35,
      "metadata": {
        "id": "3ODUA1Vf-rRd"
      },
      "outputs": [
        {
          "data": {
            "image/png": "[encoded data removed]",
            "text/plain": [
              "<Figure size 1000x800 with 1 Axes>"
            ]
          },
          "metadata": {},
          "output_type": "display_data"
        }
      ],
      "source": [
        "import matplotlib.pyplot as plt\n",
        "from matplotlib.patches import Patch\n",
        "\n",
        "# Create a color map for each category\n",
        "color_map = {\n",
        "    \"GPCR Drug Support\": 'r',\n",
        "    \"Traditional Biotech\": 'g',\n",
        "    \"Traditional Chemistry\": 'b',\n",
        "    \"Traditional Pharmacology\": 'y'\n",
        "}\n",
        "\n",
        "# Extract the categories and transform them to colors using the color map\n",
        "colors = [color_map[category] for _, category in data]\n",
        "\n",
        "# Create legend elements\n",
        "legend_elements = [Patch(facecolor=color_map[key], edgecolor='w', label=key) for key in color_map.keys()]\n",
        "\n",
        "# get a figure handle\n",
        "fig,ax = plt.subplots(figsize = (10, 8))\n",
        "\n",
        "# Plot the t-SNE results on the figure and axis handles\n",
        "ax.scatter(x_tsne[:, 0], x_tsne[:, 1], c=colors, alpha=0.7, edgecolors='w', linewidth=0.5)\n",
        "ax.legend(handles = legend_elements, loc='upper right')\n",
        "\n",
        "ax.set_xlabel('t-SNE Dimension 1')\n",
        "ax.set_ylabel('t-SNE Dimension 2')\n",
        "ax.set_title('t-SNE visualization of the data with category colors')\n",
        "\n",
        "ax.grid(True)\n",
        "plt.show()"
      ]
    },
    {
      "cell_type": "markdown",
      "metadata": {
        "id": "dYcEi1EC_UGO"
      },
      "source": [
        "**Question:** Comment about the categorizion done by T-SNE. Do the articles of related topics cluster together? (5 points)"
      ]
    },
    {
      "cell_type": "markdown",
      "metadata": {
        "id": "tde1Wu5HI6AA"
      },
      "source": [
        "**Answer(1-3 sentences):**  \n",
        "- I did analysis about GPCR tech, since I worked for nanobody biotech company.\n",
        "- This observation seems logical given the nature of GPCR (G Protein-Coupled Receptors). GPCRs\n",
        "  represent the largest family of membrane proteins in the human genome. Their primary function is to transduce extracellular signals through intracellular signaling pathways, leading to various cellular physiological responses. Considering this, it makes sense that there is a significant overlap with biotechnological aspects, as both areas delve deep into cellular functions and mechanisms.\n",
        "- The sparse overlap with Traditional Chemistry, on the other hand, underscores the fact that  \n",
        " while chemistry forms the basis for many biological interactions, the specific study of GPCRs is more biologically inclined than purely chemical.\n",
        "\n",
        " - In conclusion, the visualization offers a promising indication of the model's validity, as the\n",
        "  observed associations align well with the underlying science of GPCRs."
      ]
    },
    {
      "cell_type": "markdown",
      "metadata": {
        "id": "U2xrJddIpSsd"
      },
      "source": [
        "# Question 3 Building Neural Networks\n",
        "\n",
        "### We are gonna use Emotions Dataset for this task. We need to classify the given text into different kind of emotions like happy,sad,anger etc..,\n",
        "\n",
        "### We are providing train.txt and val.txt files along with this notebook."
      ]
    },
    {
      "cell_type": "markdown",
      "metadata": {
        "id": "NJYmVbkvphgX"
      },
      "source": [
        "### Library Imports and Utility functions"
      ]
    },
    {
      "cell_type": "code",
      "execution_count": 10,
      "metadata": {
        "colab": {
          "base_uri": "https://localhost:8080/"
        },
        "id": "BO-HU-7uorVX",
        "outputId": "59636e35-8b62-4515-c7a5-af46fe070ece"
      },
      "outputs": [
        {
          "name": "stderr",
          "output_type": "stream",
          "text": [
            "[nltk_data] Downloading package stopwords to /root/nltk_data...\n",
            "[nltk_data]   Package stopwords is already up-to-date!\n",
            "[nltk_data] Downloading package wordnet to /root/nltk_data...\n",
            "[nltk_data]   Package wordnet is already up-to-date!\n",
            "[nltk_data] Downloading package words to /root/nltk_data...\n",
            "[nltk_data]   Package words is already up-to-date!\n"
          ]
        }
      ],
      "source": [
        "from sklearn.feature_extraction.text import CountVectorizer\n",
        "from sklearn.feature_extraction.text import TfidfVectorizer\n",
        "import nltk\n",
        "from nltk.corpus import stopwords\n",
        "from nltk.stem import PorterStemmer\n",
        "from nltk.tokenize import word_tokenize\n",
        "import string\n",
        "import pandas as pd\n",
        "import re\n",
        "import numpy as np\n",
        "#string.punctuation\n",
        "import nltk\n",
        "nltk.download('stopwords')\n",
        "nltk.download('wordnet')\n",
        "nltk.download('words')\n",
        "\n",
        "stopword = nltk.corpus.stopwords.words('english')\n",
        "wn = nltk.WordNetLemmatizer()\n",
        "ps = nltk.PorterStemmer()\n",
        "words = set(nltk.corpus.words.words())\n",
        "\n",
        "\n",
        "def clean_text(text):\n",
        "  # From the last assignment\n",
        "    text = text.lower()\n",
        "    text = re.sub(r\"http\\S+\", \"\", text)\n",
        "    text = re.sub(r\"www.\\S+\", \"\", text)\n",
        "    text_links_removed = \"\".join([char for char in text if char not in string.punctuation])\n",
        "    text_cleaned = \" \".join([word for word in re.split('\\W+', text_links_removed)\n",
        "        if word not in stopword])\n",
        "    text = \" \".join([wn.lemmatize(word) for word in re.split('\\W+', text_cleaned)])\n",
        "    return text"
      ]
    },
    {
      "cell_type": "markdown",
      "metadata": {
        "id": "B0D5wVjZw7s0"
      },
      "source": [
        "### Q) Importing the datasets and do the necessary cleaning and convert the text into the vectors which are mentioned in the below code blocks. (10 points)"
      ]
    },
    {
      "cell_type": "code",
      "execution_count": 3,
      "metadata": {
        "colab": {
          "base_uri": "https://localhost:8080/"
        },
        "id": "MOMhmIlGprK9",
        "outputId": "ce83ada3-c39a-4ab9-d7c1-2067301832e2"
      },
      "outputs": [
        {
          "name": "stdout",
          "output_type": "stream",
          "text": [
            "Train shape: (16000, 2)\n",
            "Train Data Samples:\n",
            "                                                text  emotion\n",
            "0                            i didnt feel humiliated  sadness\n",
            "1  i can go from feeling so hopeless to so damned...  sadness\n",
            "2   im grabbing a minute to post i feel greedy wrong    anger\n",
            "3  i am ever feeling nostalgic about the fireplac...     love\n",
            "4                               i am feeling grouchy    anger\n",
            "Validation shape: (2000, 2)\n",
            "\n",
            "Validation Data Samples:\n",
            "                                                text  emotion\n",
            "0  im feeling quite sad and sorry for myself but ...  sadness\n",
            "1  i feel like i am still looking at a blank canv...  sadness\n",
            "2                     i feel like a faithful servant     love\n",
            "3                  i am just feeling cranky and blue    anger\n",
            "4  i can have for a treat or if i am feeling festive      joy\n"
          ]
        }
      ],
      "source": [
        "# Import the train.txt and val.txt file into pandas dataframe format\n",
        "\n",
        "# train\n",
        "train = pd.read_csv('train-1.txt', sep=';', header=None, names=['text', 'emotion'])\n",
        "\n",
        "# validation\n",
        "val = pd.read_csv('val-1.txt', sep=';', header=None, names=['text', 'emotion'])\n",
        "\n",
        "# and printout the train.shape and validation.shape\n",
        "print(\"Train shape:\", train.shape)\n",
        "print(\"Train Data Samples:\")\n",
        "print(train.head())\n",
        "\n",
        "print(\"Validation shape:\", val.shape)\n",
        "print(\"\\nValidation Data Samples:\")\n",
        "print(val.head())\n",
        "# expected shape of train dataset is (16000,2) and validation dataset is (2000,2)"
      ]
    },
    {
      "cell_type": "code",
      "execution_count": 4,
      "metadata": {
        "colab": {
          "base_uri": "https://localhost:8080/"
        },
        "id": "PS7K3p7AqAI8",
        "outputId": "ddf82544-b9e2-4273-e5ee-fb115f5ca324"
      },
      "outputs": [
        {
          "name": "stdout",
          "output_type": "stream",
          "text": [
            "Sample Data Comparison for train:\n",
            "                                                text  \\\n",
            "0                            i didnt feel humiliated   \n",
            "1  i can go from feeling so hopeless to so damned...   \n",
            "2   im grabbing a minute to post i feel greedy wrong   \n",
            "3  i am ever feeling nostalgic about the fireplac...   \n",
            "4                               i am feeling grouchy   \n",
            "\n",
            "                                        cleaned_text  \n",
            "0                              didnt feel humiliated  \n",
            "1  go feeling hopeless damned hopeful around some...  \n",
            "2          im grabbing minute post feel greedy wrong  \n",
            "3  ever feeling nostalgic fireplace know still pr...  \n",
            "4                                    feeling grouchy  \n",
            "Sample Data Comparison for validation:\n",
            "                                                text  \\\n",
            "0  im feeling quite sad and sorry for myself but ...   \n",
            "1  i feel like i am still looking at a blank canv...   \n",
            "2                     i feel like a faithful servant   \n",
            "3                  i am just feeling cranky and blue   \n",
            "4  i can have for a treat or if i am feeling festive   \n",
            "\n",
            "                                        cleaned_text  \n",
            "0           im feeling quite sad sorry ill snap soon  \n",
            "1  feel like still looking blank canvas blank pie...  \n",
            "2                         feel like faithful servant  \n",
            "3                                feeling cranky blue  \n",
            "4                              treat feeling festive  \n"
          ]
        }
      ],
      "source": [
        "# clean the text in the train and validation dataframes using the clean_text function provided above\n",
        "train['cleaned_text'] = train['text'].apply(lambda x: clean_text(x))\n",
        "val['cleaned_text'] = val['text'].apply(lambda x: clean_text(x))\n",
        "\n",
        "sample_data_train = train.head(5)[['text', 'cleaned_text']]\n",
        "print(\"Sample Data Comparison for train:\")\n",
        "print(sample_data_train)\n",
        "\n",
        "print(\"Sample Data Comparison for validation:\")\n",
        "sample_data_val = val.head(5)[['text', 'cleaned_text']]\n",
        "print(sample_data_val)"
      ]
    },
    {
      "cell_type": "code",
      "execution_count": 5,
      "metadata": {
        "id": "GxZC6RIjq3bu"
      },
      "outputs": [],
      "source": [
        "from sklearn.feature_extraction.text import CountVectorizer\n",
        "\n",
        "# initialise count vectorizer from sklearn module with default parameter\n",
        "vectorizer = CountVectorizer()\n",
        "\n",
        "# fit on train dataset and transform both train and validation dataset\n",
        "x_train_count = vectorizer.fit_transform(train['cleaned_text'])\n",
        "x_val_count = vectorizer.transform(val['cleaned_text'])"
      ]
    },
    {
      "cell_type": "code",
      "execution_count": 6,
      "metadata": {
        "id": "85nuazEzq3YT"
      },
      "outputs": [],
      "source": [
        "from sklearn.feature_extraction.text import TfidfVectorizer\n",
        "\n",
        "# initialise tfidf vectorizer from sklearn module with default parameter\n",
        "tfidf_vectorizer = TfidfVectorizer()\n",
        "\n",
        "# fit on train dataset and transform both train and validation dataset\n",
        "x_train_tfidf = tfidf_vectorizer.fit_transform(train['cleaned_text'])\n",
        "x_val_tfidf = tfidf_vectorizer.transform(val['cleaned_text'])"
      ]
    },
    {
      "cell_type": "code",
      "execution_count": 7,
      "metadata": {
        "colab": {
          "base_uri": "https://localhost:8080/"
        },
        "id": "JWt8F0VVzC69",
        "outputId": "4b669db7-3908-4e4a-c5af-c68ce5050ef5"
      },
      "outputs": [
        {
          "name": "stdout",
          "output_type": "stream",
          "text": [
            "Index(['text', 'emotion', 'cleaned_text'], dtype='object')\n",
            "Index(['text', 'emotion', 'cleaned_text'], dtype='object')\n"
          ]
        }
      ],
      "source": [
        "print(train.columns)\n",
        "print(val.columns)"
      ]
    },
    {
      "cell_type": "code",
      "execution_count": 11,
      "metadata": {
        "id": "jgHWAuG-q3Vm"
      },
      "outputs": [],
      "source": [
        "from sklearn.preprocessing import LabelEncoder\n",
        "\n",
        "# initialise label encoder from sklearn module\n",
        "label_encoder = LabelEncoder()\n",
        "\n",
        "\n",
        "# fit on train labels and transform both train and validation labels\n",
        "label_encoder.fit(train['emotion'])\n",
        "y_train = label_encoder.transform(train['emotion'])\n",
        "y_val = label_encoder.transform(val['emotion'])\n",
        "num_classes = len(np.unique(y_train))"
      ]
    },
    {
      "cell_type": "code",
      "execution_count": 12,
      "metadata": {
        "id": "Wjdye0tvq3So"
      },
      "outputs": [],
      "source": [
        "import numpy as np\n",
        "\n",
        "# convert the labels into one hot encoding form\n",
        "from sklearn.preprocessing import OneHotEncoder\n",
        "\n",
        "# Ensure the label-encoded target values have the right shape\n",
        "y_train_le = np.reshape(y_train, (-1, 1))\n",
        "y_val_le = np.reshape(y_val, (-1, 1))\n",
        "\n",
        "# initialise the one-home encoder\n",
        "one_hot_encoder = OneHotEncoder(sparse_output = False)\n",
        "y_train = one_hot_encoder.fit_transform(y_train_le)\n",
        "y_val = one_hot_encoder.transform(y_val_le)\n",
        "num_classes = y_train.shape[1]"
      ]
    },
    {
      "cell_type": "markdown",
      "metadata": {
        "id": "xjsiH8YOw-Da"
      },
      "source": [
        "### Q) Build the neural networks using tensorflow keras by following the below instructions. Evaluate the model on different metrics and comment your observations. (20 points)"
      ]
    },
    {
      "cell_type": "code",
      "execution_count": 13,
      "metadata": {
        "id": "AQg14bkTq3KB"
      },
      "outputs": [],
      "source": [
        "import tensorflow as tf\n",
        "\n",
        "tf.random.set_seed(42)\n",
        "\n",
        "\n",
        "# complete this linear model in tensorflow\n",
        "def build_model(X):\n",
        "\n",
        "  # layer 1 : input layer\n",
        "  inp = tf.keras.Input((X.shape[1],))\n",
        "\n",
        "  # layer 2 : add the dense layer with 2048 units and relu activation\n",
        "  x = tf.keras.layers.Dense(2048, activation = 'relu')(inp)\n",
        "\n",
        "  # layer 3 : add the dropout layer with dropout rate of 0.5\n",
        "  x = tf.keras.layers.Dropout(0.5)(x)\n",
        "\n",
        "  # layer 4 : add the dense layer with 1024 units with tanh activation and with l2 regularization\n",
        "  x = tf.keras.layers.Dense(1024, activation = 'tanh', kernel_regularizer = 'l2')(x)\n",
        "\n",
        "  # layer 5 : add the dropout layer with dropout rate of 0.5\n",
        "  x = tf.keras.layers.Dropout(0.5)(x)\n",
        "\n",
        "  # layer 6 : add the dense layer with 512 units with tanh activation and with l2 regularization\n",
        "  x = tf.keras.layers.Dense(512, activation = 'tanh', kernel_regularizer = 'l2')(x)\n",
        "\n",
        "  # layer 7 : add the dropout layer with dropout rate of 0.5\n",
        "  x = tf.keras.layers.Dropout(0.5)(x)\n",
        "\n",
        "  # layer 8 : add the dense layer with 256 units with tanh activation and with l2 regularization\n",
        "  x = tf.keras.layers.Dense(256, activation = 'tanh', kernel_regularizer = 'l2')(x)\n",
        "\n",
        "  # layer 9 : add the dropout layer with dropout rate of 0.5\n",
        "  x = tf.keras.layers.Dropout(0.5)(x)\n",
        "\n",
        "  # layer 10 : add the dense layer with 128 units with tanh activation and with l2 regularization\n",
        "  x = tf.keras.layers.Dense(128, activation = 'tanh', kernel_regularizer = 'l2')(x)\n",
        "\n",
        "  # layer 11 : add the dropout layer with dropout rate of 0.5\n",
        "  x = tf.keras.layers.Dropout(0.5)(x)\n",
        "\n",
        "  # layer 12 : output layer with units equal to number of classes and activation as softmax\n",
        "  out = tf.keras.layers.Dense(num_classes, activation = 'softmax')(x)\n",
        "\n",
        "  # use loss as categorical crossentropy, optimizer as rmsprop and evaluate model on auc,precision,recall,accuracy\n",
        "  model = tf.keras.Model(inputs = inp, outputs = out)\n",
        "  model.compile(loss = 'categorical_crossentropy',\n",
        "                optimizer = 'rmsprop',\n",
        "                metrics=['AUC', 'Precision', 'Recall', 'Accuracy'])\n",
        "\n",
        "  return model\n"
      ]
    },
    {
      "cell_type": "code",
      "execution_count": 14,
      "metadata": {
        "colab": {
          "base_uri": "https://localhost:8080/"
        },
        "id": "Q71CC1pIsx0O",
        "outputId": "ae09954c-e241-4190-98c2-5d3952d44356"
      },
      "outputs": [
        {
          "name": "stdout",
          "output_type": "stream",
          "text": [
            "(16000, 6)\n",
            "[[0 0 0 ... 0 0 0]\n",
            " [0 0 0 ... 0 0 0]\n",
            " [0 0 0 ... 0 0 0]\n",
            " ...\n",
            " [0 0 0 ... 0 0 0]\n",
            " [0 0 0 ... 0 0 0]\n",
            " [0 0 0 ... 0 0 0]]\n"
          ]
        }
      ],
      "source": [
        "# call the build_model function and initialize the model\n",
        "\n",
        "x_train_dense = x_train_count.toarray()\n",
        "x_val_dense = x_val_count.toarray()\n",
        "\n",
        "model = build_model(x_train_dense)\n",
        "\n",
        "print(y_train.shape)\n",
        "print(x_train_dense)"
      ]
    },
    {
      "cell_type": "code",
      "execution_count": 15,
      "metadata": {
        "colab": {
          "base_uri": "https://localhost:8080/"
        },
        "id": "KyAZNgsBsxwo",
        "outputId": "57d6f14a-14d9-4699-8686-89e4b2920dd4"
      },
      "outputs": [
        {
          "name": "stdout",
          "output_type": "stream",
          "text": [
            "Epoch 1/10\n",
            "2000/2000 [==============================] - 25s 9ms/step - loss: 2.3230 - auc: 0.7937 - precision: 0.5452 - recall: 0.1334 - Accuracy: 0.4001 - val_loss: 1.3035 - val_auc: 0.8740 - val_precision: 0.7396 - val_recall: 0.3210 - val_Accuracy: 0.5420\n",
            "Epoch 2/10\n",
            "2000/2000 [==============================] - 17s 8ms/step - loss: 1.2846 - auc: 0.8854 - precision: 0.7113 - recall: 0.4329 - Accuracy: 0.6053 - val_loss: 1.3728 - val_auc: 0.8850 - val_precision: 0.6705 - val_recall: 0.5300 - val_Accuracy: 0.6155\n",
            "Epoch 3/10\n",
            "2000/2000 [==============================] - 19s 9ms/step - loss: 1.1859 - auc: 0.9091 - precision: 0.7412 - recall: 0.5647 - Accuracy: 0.6722 - val_loss: 1.2155 - val_auc: 0.9074 - val_precision: 0.7520 - val_recall: 0.5745 - val_Accuracy: 0.7020\n",
            "Epoch 4/10\n",
            "2000/2000 [==============================] - 16s 8ms/step - loss: 1.1257 - auc: 0.9199 - precision: 0.7539 - recall: 0.6146 - Accuracy: 0.7033 - val_loss: 1.1764 - val_auc: 0.9130 - val_precision: 0.7594 - val_recall: 0.6440 - val_Accuracy: 0.7010\n",
            "Epoch 5/10\n",
            "2000/2000 [==============================] - 18s 9ms/step - loss: 1.0815 - auc: 0.9282 - precision: 0.7713 - recall: 0.6494 - Accuracy: 0.7203 - val_loss: 1.1879 - val_auc: 0.9191 - val_precision: 0.7495 - val_recall: 0.6225 - val_Accuracy: 0.7070\n",
            "Epoch 6/10\n",
            "2000/2000 [==============================] - 16s 8ms/step - loss: 1.0543 - auc: 0.9332 - precision: 0.7784 - recall: 0.6607 - Accuracy: 0.7270 - val_loss: 1.1142 - val_auc: 0.9265 - val_precision: 0.7694 - val_recall: 0.6905 - val_Accuracy: 0.7330\n",
            "Epoch 7/10\n",
            "2000/2000 [==============================] - 16s 8ms/step - loss: 1.0289 - auc: 0.9377 - precision: 0.7847 - recall: 0.6793 - Accuracy: 0.7374 - val_loss: 1.1400 - val_auc: 0.9238 - val_precision: 0.7516 - val_recall: 0.6655 - val_Accuracy: 0.7045\n",
            "Epoch 8/10\n",
            "2000/2000 [==============================] - 17s 8ms/step - loss: 1.0128 - auc: 0.9405 - precision: 0.7909 - recall: 0.6921 - Accuracy: 0.7451 - val_loss: 1.1285 - val_auc: 0.9247 - val_precision: 0.7754 - val_recall: 0.6630 - val_Accuracy: 0.7160\n",
            "Epoch 9/10\n",
            "2000/2000 [==============================] - 16s 8ms/step - loss: 0.9972 - auc: 0.9428 - precision: 0.8005 - recall: 0.7019 - Accuracy: 0.7519 - val_loss: 1.1595 - val_auc: 0.9236 - val_precision: 0.7631 - val_recall: 0.7085 - val_Accuracy: 0.7335\n",
            "Epoch 10/10\n",
            "2000/2000 [==============================] - 16s 8ms/step - loss: 0.9829 - auc: 0.9455 - precision: 0.8033 - recall: 0.7084 - Accuracy: 0.7542 - val_loss: 1.1286 - val_auc: 0.9253 - val_precision: 0.7730 - val_recall: 0.6590 - val_Accuracy: 0.7160\n"
          ]
        }
      ],
      "source": [
        "# train and validate the model on the count vectors of text which we have created initially for 10 epochs,\n",
        "# adjust batch size according to your computation power (suggestion use : 8)\n",
        "case_cv = model.fit(x_train_dense, y_train,\n",
        "                    epochs = 10,\n",
        "                    batch_size = 8,\n",
        "                    validation_data = (x_val_dense, y_val))"
      ]
    },
    {
      "cell_type": "code",
      "execution_count": 16,
      "metadata": {
        "colab": {
          "base_uri": "https://localhost:8080/"
        },
        "id": "kCZQh9DGzC6-",
        "outputId": "b8166d78-3da7-4f35-f024-9e3cc5e874d8"
      },
      "outputs": [
        {
          "name": "stdout",
          "output_type": "stream",
          "text": [
            "dict_keys(['loss', 'auc', 'precision', 'recall', 'Accuracy', 'val_loss', 'val_auc', 'val_precision', 'val_recall', 'val_Accuracy'])\n"
          ]
        }
      ],
      "source": [
        "print(case_cv.history.keys())"
      ]
    },
    {
      "cell_type": "code",
      "execution_count": 17,
      "metadata": {
        "colab": {
          "base_uri": "https://localhost:8080/",
          "height": 607
        },
        "id": "nS02IwLCsxmG",
        "outputId": "1c502c18-3a97-44d5-dc75-b652c0bc8b92"
      },
      "outputs": [
        {
          "data": {
            "image/png": "[encoded data removed]",
            "text/plain": [
              "<Figure size 1200x600 with 5 Axes>"
            ]
          },
          "metadata": {},
          "output_type": "display_data"
        }
      ],
      "source": [
        "import matplotlib.pyplot as plt\n",
        "\n",
        "# plot train loss vs val loss, train auc vs val auc, train recall vs val recall, train precision vs val precision and train accuracy vs val accuracy and comment your observations\n",
        "plt.figure(figsize = (12, 6))\n",
        "\n",
        "plt.subplot(2, 3, 1)\n",
        "plt.plot(case_cv.history['loss'])\n",
        "plt.plot(case_cv.history['val_loss'])\n",
        "plt.title('Model loss')\n",
        "plt.ylabel('Loss')\n",
        "plt.xlabel('Epoch')\n",
        "plt.legend(['Train', 'Validation'], loc = 'upper right')\n",
        "\n",
        "plt.subplot(2, 3, 2)\n",
        "plt.plot(case_cv.history['auc'])\n",
        "plt.plot(case_cv.history['val_auc'])\n",
        "plt.title('Model AUC')\n",
        "plt.ylabel('AUC')\n",
        "plt.xlabel('Epoch')\n",
        "plt.legend(['Train', 'Validation'], loc = 'upper right')\n",
        "\n",
        "plt.subplot(2, 3, 3)\n",
        "plt.plot(case_cv.history['recall'])\n",
        "plt.plot(case_cv.history['val_recall'])\n",
        "plt.title('Model Recall')\n",
        "plt.ylabel('Recall')\n",
        "plt.xlabel('Epoch')\n",
        "plt.legend(['Train', 'Validation'], loc = 'upper right')\n",
        "\n",
        "plt.subplot(2, 3, 4)\n",
        "plt.plot(case_cv.history['precision'])\n",
        "plt.plot(case_cv.history['val_precision'])\n",
        "plt.title('Model Precision')\n",
        "plt.ylabel('Precision')\n",
        "plt.xlabel('Epoch')\n",
        "plt.legend(['Train', 'Validation'], loc = 'upper right')\n",
        "\n",
        "plt.subplot(2, 3, 5)\n",
        "plt.plot(case_cv.history['Accuracy'])\n",
        "plt.plot(case_cv.history['val_Accuracy'])\n",
        "plt.title('Model Accuracy')\n",
        "plt.ylabel('Accuracy')\n",
        "plt.xlabel('Epoch')\n",
        "plt.legend(['Train', 'Validation'], loc = 'upper right')\n",
        "\n",
        "plt.tight_layout()\n",
        "plt.show()"
      ]
    },
    {
      "cell_type": "code",
      "execution_count": 18,
      "metadata": {
        "id": "6FHdCcp7wXyw"
      },
      "outputs": [],
      "source": [
        "# again call the build_model function and initialize the model\n",
        "x_train_dense = x_train_tfidf.toarray()\n",
        "x_val_dense = x_val_tfidf.toarray()\n",
        "\n",
        "model = build_model(x_train_dense)"
      ]
    },
    {
      "cell_type": "code",
      "execution_count": 19,
      "metadata": {
        "colab": {
          "base_uri": "https://localhost:8080/"
        },
        "id": "du8R6v45zC6-",
        "outputId": "5dbe9fb6-f7d9-4237-dcbf-0b40e2f518f8"
      },
      "outputs": [
        {
          "name": "stdout",
          "output_type": "stream",
          "text": [
            "(16000, 13457)\n",
            "(16000, 6)\n"
          ]
        }
      ],
      "source": [
        "# check data\n",
        "print(x_train_tfidf.shape)\n",
        "print(y_train.shape)"
      ]
    },
    {
      "cell_type": "code",
      "execution_count": 20,
      "metadata": {
        "colab": {
          "base_uri": "https://localhost:8080/"
        },
        "id": "k4gB80M6wXvV",
        "outputId": "48cdfc26-fd17-4b50-8bbf-594e08410f10"
      },
      "outputs": [
        {
          "name": "stdout",
          "output_type": "stream",
          "text": [
            "Epoch 1/10\n",
            "2000/2000 [==============================] - 21s 9ms/step - loss: 1.9283 - auc: 0.7987 - precision: 0.5343 - recall: 0.1164 - Accuracy: 0.3871 - val_loss: 1.3018 - val_auc: 0.8668 - val_precision: 0.6570 - val_recall: 0.3180 - val_Accuracy: 0.4830\n",
            "Epoch 2/10\n",
            "2000/2000 [==============================] - 16s 8ms/step - loss: 1.2435 - auc: 0.8883 - precision: 0.7028 - recall: 0.4116 - Accuracy: 0.5857 - val_loss: 1.2124 - val_auc: 0.9046 - val_precision: 0.7265 - val_recall: 0.5365 - val_Accuracy: 0.6490\n",
            "Epoch 3/10\n",
            "2000/2000 [==============================] - 16s 8ms/step - loss: 1.1293 - auc: 0.9164 - precision: 0.7510 - recall: 0.5752 - Accuracy: 0.6771 - val_loss: 1.1737 - val_auc: 0.9083 - val_precision: 0.7553 - val_recall: 0.5495 - val_Accuracy: 0.6750\n",
            "Epoch 4/10\n",
            "2000/2000 [==============================] - 17s 8ms/step - loss: 1.0756 - auc: 0.9263 - precision: 0.7613 - recall: 0.6229 - Accuracy: 0.7092 - val_loss: 1.1543 - val_auc: 0.9122 - val_precision: 0.7342 - val_recall: 0.6200 - val_Accuracy: 0.6875\n",
            "Epoch 5/10\n",
            "2000/2000 [==============================] - 16s 8ms/step - loss: 1.0368 - auc: 0.9345 - precision: 0.7749 - recall: 0.6643 - Accuracy: 0.7297 - val_loss: 1.1421 - val_auc: 0.9233 - val_precision: 0.7414 - val_recall: 0.6695 - val_Accuracy: 0.7070\n",
            "Epoch 6/10\n",
            "2000/2000 [==============================] - 17s 8ms/step - loss: 1.0064 - auc: 0.9402 - precision: 0.7877 - recall: 0.6837 - Accuracy: 0.7429 - val_loss: 1.1712 - val_auc: 0.9208 - val_precision: 0.7381 - val_recall: 0.6540 - val_Accuracy: 0.7025\n",
            "Epoch 7/10\n",
            "2000/2000 [==============================] - 17s 8ms/step - loss: 0.9839 - auc: 0.9443 - precision: 0.7954 - recall: 0.6957 - Accuracy: 0.7490 - val_loss: 1.1243 - val_auc: 0.9222 - val_precision: 0.7273 - val_recall: 0.6455 - val_Accuracy: 0.6840\n",
            "Epoch 8/10\n",
            "2000/2000 [==============================] - 17s 8ms/step - loss: 0.9659 - auc: 0.9468 - precision: 0.8012 - recall: 0.7082 - Accuracy: 0.7542 - val_loss: 1.1987 - val_auc: 0.9150 - val_precision: 0.7342 - val_recall: 0.6340 - val_Accuracy: 0.6875\n",
            "Epoch 9/10\n",
            "2000/2000 [==============================] - 16s 8ms/step - loss: 0.9484 - auc: 0.9491 - precision: 0.8075 - recall: 0.7153 - Accuracy: 0.7602 - val_loss: 1.1924 - val_auc: 0.9240 - val_precision: 0.7424 - val_recall: 0.6960 - val_Accuracy: 0.7185\n",
            "Epoch 10/10\n",
            "2000/2000 [==============================] - 17s 8ms/step - loss: 0.9373 - auc: 0.9514 - precision: 0.8110 - recall: 0.7240 - Accuracy: 0.7654 - val_loss: 1.1769 - val_auc: 0.9121 - val_precision: 0.7060 - val_recall: 0.5895 - val_Accuracy: 0.6460\n"
          ]
        }
      ],
      "source": [
        "# train and validate the model on the tfidf vectors of text which we have created initially for 10 epochs,\n",
        "# adjust batch size according to your computation power (suggestion use : 8)\n",
        "case_tfidf = model.fit(x_train_dense, y_train,\n",
        "                    epochs = 10,\n",
        "                    batch_size = 8,\n",
        "                    validation_data = (x_val_dense, y_val))"
      ]
    },
    {
      "cell_type": "code",
      "execution_count": 21,
      "metadata": {
        "colab": {
          "base_uri": "https://localhost:8080/",
          "height": 607
        },
        "id": "EsnEOHXRwXkv",
        "outputId": "ad638a22-ea82-406a-8ce4-58dc4c21d31f"
      },
      "outputs": [
        {
          "data": {
            "image/png": "[encoded data removed]",
            "text/plain": [
              "<Figure size 1200x600 with 5 Axes>"
            ]
          },
          "metadata": {},
          "output_type": "display_data"
        }
      ],
      "source": [
        "# plot train loss vs val loss, train auc vs val auc, train recall vs val recall, train precision vs val precision and train accuracy vs val accuracy and comment your observations\n",
        "plt.figure(figsize = (12, 6))\n",
        "\n",
        "plt.subplot(2, 3, 1)\n",
        "plt.plot(case_tfidf.history['loss'])\n",
        "plt.plot(case_tfidf.history['val_loss'])\n",
        "plt.title('Model loss')\n",
        "plt.ylabel('Loss')\n",
        "plt.xlabel('Epoch')\n",
        "plt.legend(['Train', 'Validation'], loc = 'upper right')\n",
        "\n",
        "plt.subplot(2, 3, 2)\n",
        "plt.plot(case_tfidf.history['auc'])\n",
        "plt.plot(case_tfidf.history['val_auc'])\n",
        "plt.title('Model AUC')\n",
        "plt.ylabel('AUC')\n",
        "plt.xlabel('Epoch')\n",
        "plt.legend(['Train', 'Validation'], loc = 'upper right')\n",
        "\n",
        "plt.subplot(2, 3, 3)\n",
        "plt.plot(case_tfidf.history['recall'])\n",
        "plt.plot(case_tfidf.history['val_recall'])\n",
        "plt.title('Model Recall')\n",
        "plt.ylabel('Recall')\n",
        "plt.xlabel('Epoch')\n",
        "plt.legend(['Train', 'Validation'], loc = 'upper right')\n",
        "\n",
        "plt.subplot(2, 3, 4)\n",
        "plt.plot(case_tfidf.history['precision'])\n",
        "plt.plot(case_tfidf.history['val_precision'])\n",
        "plt.title('Model Precision')\n",
        "plt.ylabel('Precision')\n",
        "plt.xlabel('Epoch')\n",
        "plt.legend(['Train', 'Validation'], loc = 'upper right')\n",
        "\n",
        "plt.subplot(2, 3, 5)\n",
        "plt.plot(case_tfidf.history['Accuracy'])\n",
        "plt.plot(case_tfidf.history['val_Accuracy'])\n",
        "plt.title('Model Accuracy')\n",
        "plt.ylabel('Accuracy')\n",
        "plt.xlabel('Epoch')\n",
        "plt.legend(['Train', 'Validation'], loc = 'upper right')\n",
        "\n",
        "plt.tight_layout()\n",
        "plt.show()"
      ]
    },
    {
      "cell_type": "markdown",
      "metadata": {},
      "source": [
        "## Analysis two different plot:\n",
        "\n",
        "Since we also use `Count Vectorizer` and `TFID` to train our NN, we can see that:\n",
        "- For model Loss: The model using Count Vectorizer drops faster in training loss, but the validation loss is similar to the model using TF-IDF. This may mean that the Count Vectorizer model overfits faster on the training data.\n",
        "\n",
        "- For AUC: The AUC of both models is increasing, but the model using TF-IDF seems to have a slightly higher AUC on the validation data, which may mean that the TF-IDF model generalizes better to the classification task.\n",
        "\n",
        "- For Model Precision: After about 6 Epochs, the accuracy of the model using TF-IDF seems to decrease slightly on the validation data, while the model using Count Vectorizer is relatively stable.\n",
        "\n",
        "- For Model Accuracy: The accuracy of both models is increasing on the training data, but the model using Count Vectorizer seems to be slightly more accurate on the validation data.\n",
        "\n",
        "- For Model Recall: The model using TF-IDF seems to have slightly higher recall on the validation data than the model using Count Vectorizer.\n",
        "\n",
        "To sum up, there are subtle differences between the two models in some indicators. The model using TF-IDF has a slight advantage in AUC and recall, while the model using Count Vectorizer has a slight advantage in accuracy. These differences may be attributed to TF-IDF’s ability to assign higher weights to uncommon words in documents, potentially improving the model’s generalization ability. However, the best feature extraction method may depend on the specific application and data set."
      ]
    },
    {
      "cell_type": "markdown",
      "metadata": {
        "id": "4adDDQWeQyGb"
      },
      "source": [
        "## Question 4 Theory Question  \n",
        "\n",
        "### What is the difference between Count Vectorizer, TFIDF, Word2Vec and Glove? (5 points)"
      ]
    },
    {
      "cell_type": "markdown",
      "metadata": {
        "id": "cXTRkF6KRB_D"
      },
      "source": [
        "**Answer:**"
      ]
    },
    {
      "cell_type": "markdown",
      "metadata": {},
      "source": [
        "Since, followed instatement of `Count Vetorizer`, `TFIDF` `Word2Vec` and `Glove`, we can know that:\n",
        "- Count Vectorizer:\n",
        "    Description: It operates on the bag of words model, counting the occurrences of each word within a document.\n",
        "    Features:\n",
        "    The frequency of each word's occurrence in a document is encoded as a value.\n",
        "    The output is a sparse matrix where each row corresponds to a document and each column to a word.\n",
        "    It does not take into account the position (i.e., context) of a word within a document.\n",
        "    Use Cases: Suitable for simple text classification tasks.\n",
        "\n",
        "- TFIDF (Term Frequency-Inverse Document Frequency):\n",
        "    Description: It considers not just term frequency but also the inverse of its frequency across documents.\n",
        "    Features:\n",
        "    It can reduce the weight of common words (e.g., \"and\", \"is\") that might frequently appear across many documents but may not carry significant meaningful information about the content of a document.\n",
        "    The output is also a sparse matrix.\n",
        "    Use Cases: Use it when you want to diminish the impact of commonly occurring words, for instance in text classification or clustering.\n",
        "\n",
        "- Word2Vec:\n",
        "    Description: A neural network model used to learn word representations in their context.\n",
        "    Features:\n",
        "    The output is a dense vector for each word, capturing semantic information of the word.\n",
        "    It can capture context and semantic relationships of words (e.g., king - man + woman ≈ queen).\n",
        "    Use Cases: Use it when capturing context and semantic info is necessary, like in sentiment analysis or more complex NLP tasks.\n",
        "\n",
        "- GloVe (Global Vectors for Word Representation):\n",
        "    Description: An unsupervised learning algorithm to obtain vector representations for words. It combines both counting and predictive methods.\n",
        "    Features:\n",
        "    It's based on the co-occurrence statistics of words.\n",
        "    The output is also dense vectors.\n",
        "    It can capture semantic relationships similar to Word2Vec.\n",
        "    Use Cases: Suitable for NLP tasks where context and semantic information are needed, similar to Word2Vec.\n",
        "\n",
        "We can to sum up, `Count Vectorizer` and `TFIDF` are count-based methods, outputting sparse matrices, and are suitable for simpler tasks. Besides, `Word2Vec` and `GloVe` output dense vectors and can capture context and semantic information, making them apt for more complex NLP tasks."
      ]
    },
    {
      "cell_type": "markdown",
      "metadata": {
        "id": "yQQsqcto79zE"
      },
      "source": [
        "### What is the significant difference between the Naive Bayes Implementation using Bag of Words and TF-IDF? (5 points)"
      ]
    },
    {
      "cell_type": "markdown",
      "metadata": {
        "id": "JtiPCTZM8Aua"
      },
      "source": [
        "**Answer:**"
      ]
    },
    {
      "cell_type": "markdown",
      "metadata": {},
      "source": [
        "For `Bag of Words`, since it will calculate the word frequency of document, \n",
        "    e.g. (I, me, he, she etc), It may give too much weight to words that appear frequently in most documents. \n",
        "\n",
        "For TFIDF, it consider about `word frequency` and `inverse of document`, so, if the word If a word appears frequently in many documents, its weight will be reduced. Since it takes inverse document frequency into account, it weights down words that appear in many documents.\n",
        "\n",
        "To sum up, the choice between bag-of-words model or TF-IDF depends on the specific application and data. \n",
        "\n",
        "\n"
      ]
    }
  ],
  "metadata": {
    "accelerator": "GPU",
    "colab": {
      "gpuType": "T4",
      "provenance": []
    },
    "kernelspec": {
      "display_name": "Python 3",
      "name": "python3"
    },
    "language_info": {
      "codemirror_mode": {
        "name": "ipython",
        "version": 3
      },
      "file_extension": ".py",
      "mimetype": "text/x-python",
      "name": "python",
      "nbconvert_exporter": "python",
      "pygments_lexer": "ipython3",
      "version": "3.10.13"
    }
  },
  "nbformat": 4,
  "nbformat_minor": 0
}
