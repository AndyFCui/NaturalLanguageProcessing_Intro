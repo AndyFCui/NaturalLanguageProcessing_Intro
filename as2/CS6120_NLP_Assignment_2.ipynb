{
  "cells": [
    {
      "cell_type": "markdown",
      "metadata": {
        "id": "ni4T_dwEHFVa"
      },
      "source": [
        "## CS 6120: Natural Language Processing - Prof. Ahmad Uzair\n",
        "\n",
        "### Assignment 2: Text Classification and Neural Network\n",
        "### Total Points: 100 points"
      ]
    },
    {
      "cell_type": "markdown",
      "metadata": {
        "id": "loQ22M-bCubq"
      },
      "source": [
        "In Assignment 2, you will be dealing with text classification using Multinomial Naive Bayes and Neural Networks. You will also be dealing with vector visualization.In this assignment you will be using TF-IDF Vectorization instead of Bag of Words. We recommend starting with this assignment a little early as the datasets are quite large and several parts of the assignment might take long duration to execute."
      ]
    },
    {
      "cell_type": "markdown",
      "metadata": {
        "id": "Q3brglC1C0mZ"
      },
      "source": [
        "## Question 1 Text Classification"
      ]
    },
    {
      "cell_type": "markdown",
      "metadata": {
        "id": "IZ1y75IoC3rE"
      },
      "source": [
        "In the first question you will be dealing with 20 News Group Dataset. You are required to implement TF-IDF vectorization from scratch and perform Multinomial Naive Bayes Classification on the News Group Dataset.\n",
        "You may use appropriate packages or modules for fitting the Multinomial Naive Bayes Model, however, the implementation of the TF-IDF Vectorization should be from the scratch."
      ]
    },
    {
      "cell_type": "markdown",
      "metadata": {
        "id": "yRjM45PyC8ML"
      },
      "source": [
        "The 20 newsgroups dataset comprises around 20000 newsgroups posts on 20 topics split in two subsets: one for training (or development) and the other one for testing (or for performance evaluation). The split between the train and test set is based upon a messages posted before and after a specific date.\n",
        "\n",
        "Link to the original dataset: http://archive.ics.uci.edu/ml/datasets/Twenty+Newsgroups\n",
        "\n",
        "You can also import the dataset from sklearn.datasets"
      ]
    },
    {
      "cell_type": "code",
      "execution_count": 36,
      "metadata": {
        "id": "CmFf2INNDJRb"
      },
      "outputs": [],
      "source": [
        "# importing the libraries\n",
        "\n",
        "import numpy as np\n",
        "import sklearn\n",
        "from sklearn.feature_extraction.text import TfidfVectorizer\n",
        "from sklearn.datasets import fetch_20newsgroups\n",
        "from pprint import pprint\n",
        "from sklearn.feature_extraction.text import CountVectorizer\n",
        "from sklearn import preprocessing\n",
        "import pandas as pd\n",
        "import re\n",
        "import numpy as np\n",
        "from nltk.tokenize import  word_tokenize\n",
        "import nltk\n",
        "from sklearn.naive_bayes import MultinomialNB\n",
        "from sklearn import metrics\n",
        "# add more packages\n",
        "from typing import Dict\n",
        "from typing import Set\n",
        "from typing import List\n",
        "import math\n",
        "from sklearn.feature_extraction.text import TfidfVectorizer\n",
        "from sklearn.metrics import f1_score, accuracy_score\n",
        "from collections import defaultdict\n",
        "from nltk.corpus import stopwords\n",
        "import string\n",
        "import numpy as np\n",
        "from nltk.stem import PorterStemmer\n",
        "from sklearn.metrics import confusion_matrix\n",
        "import seaborn as sns\n",
        "from sklearn.metrics import classification_report\n",
        "import matplotlib.pyplot as plt"
      ]
    },
    {
      "cell_type": "code",
      "execution_count": 3,
      "metadata": {
        "id": "AEp1SHe5DKCB"
      },
      "outputs": [],
      "source": [
        "# Import the 20 news group dataset utilizing sklearn library\n",
        "\n",
        "mydata_train: any = fetch_20newsgroups(subset='train', remove=('headers', 'footers', 'quotes'))\n",
        "\n",
        "mydata_test: any = fetch_20newsgroups(subset='test', remove=('headers', 'footers', 'quotes'))\n"
      ]
    },
    {
      "cell_type": "code",
      "execution_count": 4,
      "metadata": {
        "id": "OscOmcE0DMHa"
      },
      "outputs": [
        {
          "name": "stdout",
          "output_type": "stream",
          "text": [
            "['alt.atheism', 'comp.graphics', 'comp.os.ms-windows.misc', 'comp.sys.ibm.pc.hardware', 'comp.sys.mac.hardware', 'comp.windows.x', 'misc.forsale', 'rec.autos', 'rec.motorcycles', 'rec.sport.baseball', 'rec.sport.hockey', 'sci.crypt', 'sci.electronics', 'sci.med', 'sci.space', 'soc.religion.christian', 'talk.politics.guns', 'talk.politics.mideast', 'talk.politics.misc', 'talk.religion.misc']\n"
          ]
        }
      ],
      "source": [
        "# Print the news groups(target) in the dataset\n",
        "\n",
        "print(list(mydata_train.target_names))"
      ]
    },
    {
      "cell_type": "code",
      "execution_count": 5,
      "metadata": {
        "id": "JvQb2r0aDR_J"
      },
      "outputs": [
        {
          "name": "stdout",
          "output_type": "stream",
          "text": [
            "<class 'sklearn.utils._bunch.Bunch'>\n",
            "<class 'sklearn.utils._bunch.Bunch'>\n"
          ]
        }
      ],
      "source": [
        "# What is the type of 'mydata_train' and 'mydata_test'\n",
        "\n",
        "print(type(mydata_train))\n",
        "print(type(mydata_test))"
      ]
    },
    {
      "cell_type": "code",
      "execution_count": 28,
      "metadata": {
        "id": "ozzwyREhDaMK"
      },
      "outputs": [
        {
          "name": "stdout",
          "output_type": "stream",
          "text": [
            "The length of the `mydata_train.data` is 11314\n",
            "The length of the `mydata_train.filenames` is 11314\n",
            "The length of the `mydata_test.data` is 7532\n",
            "The length of the `mydata_test.filenames` is 7532\n"
          ]
        }
      ],
      "source": [
        "# Check the length of the data\n",
        "\n",
        "print('The length of the {} is {}' .format('`mydata_train.data`', len(mydata_train.data)))\n",
        "print('The length of the {} is {}' .format('`mydata_train.filenames`', len(mydata_train.filenames)))\n",
        "print('The length of the {} is {}' .format('`mydata_test.data`', len(mydata_test.data)))\n",
        "print('The length of the {} is {}' .format('`mydata_test.filenames`', len(mydata_test.filenames)))"
      ]
    },
    {
      "cell_type": "markdown",
      "metadata": {
        "id": "BlipMuEpDz-K"
      },
      "source": [
        "### Expected Output:\n",
        "11314\n",
        "\n",
        "11314\n",
        "\n",
        "7532\n",
        "\n",
        "7532"
      ]
    },
    {
      "cell_type": "markdown",
      "metadata": {
        "id": "55FKOBBuEDI2"
      },
      "source": [
        "## Extracting Features from the Dataset                        (20 Points)"
      ]
    },
    {
      "cell_type": "markdown",
      "metadata": {
        "id": "u4GDENzmEEkG"
      },
      "source": [
        "In order to perform machine learning on text documents, we first need to turn the text content into numerical feature vectors."
      ]
    },
    {
      "cell_type": "markdown",
      "metadata": {
        "id": "OgxfDXmxEHid"
      },
      "source": [
        "### TF-IDF Vectorization"
      ]
    },
    {
      "cell_type": "markdown",
      "metadata": {
        "id": "Q8qNFFYyEKsa"
      },
      "source": [
        "Our model cannot simply read the text data so we convert it into numerical format. In order to convert the data into numerical format we create vectors from text.\n",
        "\n",
        "For this particular purpose we could either employ Bag of Words or TF-IDF Vectorization\n",
        "\n",
        "Bag of Words just creates a set of vectors containing the count of word occurrences in the document (reviews), while the TF-IDF model contains information on the more important words and the less important ones as well.\n",
        "\n",
        "TF-IDF stands for Term Frequency-Inverse Document Frequency, which instead of giving more weight to words that occur more frequently, it gives a higher weight to words that occur less frequently.\n",
        "\n",
        "Ref:https://www.analyticsvidhya.com/blog/2020/02/quick-introduction-bag-of-words-bow-tf-idf/#:~:text=Bag%20of%20Words%20just%20creates,less%20important%20ones%20as%20well."
      ]
    },
    {
      "cell_type": "markdown",
      "metadata": {
        "id": "dLzgRJRZEP3k"
      },
      "source": [
        "TF-IDF = Term Frequency (TF) * Inverse Document Frequency (IDF)"
      ]
    },
    {
      "cell_type": "markdown",
      "metadata": {
        "id": "xe5lHi3NE1QJ"
      },
      "source": [
        "Term Frequency is the measure of the frequency of words in a document. It is the ratio of the number of times the word appears in a document compared to the total number of words in that document.\n",
        "\n",
        "The words that occur rarely in the corpus have a high IDF score. It is the log of the ratio of the number of documents to the number of documents containing the word."
      ]
    },
    {
      "cell_type": "markdown",
      "metadata": {
        "id": "HXotAER_EQ8T"
      },
      "source": [
        "idf(t) = log(N/(df + 1))"
      ]
    },
    {
      "cell_type": "code",
      "execution_count": 7,
      "metadata": {
        "id": "2vzVI8ylFAEl"
      },
      "outputs": [],
      "source": [
        "text: any = mydata_train.data\n",
        "test: any = mydata_test.data"
      ]
    },
    {
      "cell_type": "markdown",
      "metadata": {
        "id": "HZ2AatmvFtE-"
      },
      "source": [
        "## Preprocessing the Corpus"
      ]
    },
    {
      "cell_type": "code",
      "execution_count": 8,
      "metadata": {},
      "outputs": [
        {
          "name": "stderr",
          "output_type": "stream",
          "text": [
            "[nltk_data] Downloading package punkt to C:\\Users\\Andy\n",
            "[nltk_data]     Cui\\AppData\\Roaming\\nltk_data...\n",
            "[nltk_data]   Package punkt is already up-to-date!\n"
          ]
        },
        {
          "data": {
            "text/plain": [
              "True"
            ]
          },
          "execution_count": 8,
          "metadata": {},
          "output_type": "execute_result"
        }
      ],
      "source": [
        "nltk.download('punkt')"
      ]
    },
    {
      "cell_type": "code",
      "execution_count": 9,
      "metadata": {},
      "outputs": [],
      "source": [
        "# Clean corpus\n",
        "def clean_corpus(line: list[str]) -> list[str]:\n",
        "    '''\n",
        "    preprocess and clean a given line.\n",
        "    \n",
        "    - line: The text line to be cleaned.\n",
        "    ---\n",
        "    - list: A list of preprocessed tokens from the line.\n",
        "    '''\n",
        "    \n",
        "    # Followed as1 method to clean data\n",
        "    # Remove links\n",
        "    line: list[str] = re.sub(r'http\\S+', '', line)\n",
        "    \n",
        "    # Convert the line to lowercase\n",
        "    line: list[str] = line.lower()\n",
        "    \n",
        "    # Remove punctuation from the line\n",
        "    line: list[str] = ''.join([char for char in line if char not in string.punctuation])\n",
        "    \n",
        "    # Tokenize\n",
        "    tokens: list[str] = nltk.word_tokenize(line)\n",
        "    \n",
        "    # Remove stop words\n",
        "    tokens: list[str] = [token for token in tokens if token not in stop_words]\n",
        "    \n",
        "    # Stemming\n",
        "    tokens: list[str] = [stemmer.stem(token) for token in tokens]\n",
        "    \n",
        "    return tokens"
      ]
    },
    {
      "cell_type": "code",
      "execution_count": 10,
      "metadata": {
        "id": "XyJbe42AFuHp"
      },
      "outputs": [],
      "source": [
        "# Preprocessing the data\n",
        "\n",
        "lines: list[list[str]] = []\n",
        "word_list: list[str] = []\n",
        "\n",
        "# Predefined list of stop words\n",
        "stop_words: set = set(stopwords.words('english'))\n",
        "stemmer: any = PorterStemmer()\n",
        "\n",
        "# Tokenize the text documents and update the lists word_list and lines\n",
        "lines = [clean_corpus(line) for line in text]\n",
        "# print(len(lines))\n",
        "word_list: list[str] = [token for line in lines for token in line]\n",
        "\n",
        "# Make sure the word_list contains unique tokens\n",
        "word_list: list[str] = list(set(word_list))\n",
        "\n",
        "# Calculate the total documents present in the corpus\n",
        "total_docs: int = len(lines)\n",
        "\n",
        "#Create a dictionary to keep track of index of each word\n",
        "dict_idx: defaultdict[int, int] = defaultdict(int)\n",
        "for idx, word in enumerate(word_list):\n",
        "    dict_idx[word] = idx"
      ]
    },
    {
      "cell_type": "code",
      "execution_count": 11,
      "metadata": {
        "id": "E6M_CoI9FxYb"
      },
      "outputs": [],
      "source": [
        "# Create a frequency dictionary\n",
        "\n",
        "def frequency_dict(lines: str) -> dict[str, int]: \n",
        "    '''\n",
        "    create a frequency dictionary\n",
        "    \n",
        "    - lines: list containing all the tokens\n",
        "    ---\n",
        "    - freq_word: returns a dictionary which keeps the count of the number of documents \n",
        "        containing the given word.\n",
        "    '''\n",
        "    # Initialize the frequency dictionary\n",
        "    freq_word: dict[str, int] = defaultdict(int)  \n",
        "    \n",
        "    for line in lines:\n",
        "        \n",
        "        # This set will keep track of words already counted for the current line\n",
        "        seen_words: set[str] = set() \n",
        "         \n",
        "        for word in line:\n",
        "            if word not in seen_words:\n",
        "                freq_word[word] += 1\n",
        "                seen_words.add(word)\n",
        "\n",
        "    return freq_word"
      ]
    },
    {
      "cell_type": "code",
      "execution_count": 12,
      "metadata": {
        "id": "qFkt9KBgFz43"
      },
      "outputs": [
        {
          "data": {
            "text/plain": [
              "defaultdict(int,\n",
              "            {'wonder': 452,\n",
              "             'anyon': 1399,\n",
              "             'could': 1674,\n",
              "             'enlighten': 28,\n",
              "             'car': 485,\n",
              "             'saw': 266,\n",
              "             'day': 845,\n",
              "             '2door': 3,\n",
              "             'sport': 105,\n",
              "             'look': 1562,\n",
              "             'late': 207,\n",
              "             '60': 198,\n",
              "             'earli': 268,\n",
              "             '70': 121,\n",
              "             'call': 1169,\n",
              "             'bricklin': 3,\n",
              "             'door': 142,\n",
              "             'realli': 1074,\n",
              "             'small': 433,\n",
              "             'addit': 307,\n",
              "             'front': 232,\n",
              "             'bumper': 23,\n",
              "             'separ': 211,\n",
              "             'rest': 335,\n",
              "             'bodi': 285,\n",
              "             'know': 2460,\n",
              "             'tellm': 1,\n",
              "             'model': 320,\n",
              "             'name': 676,\n",
              "             'engin': 343,\n",
              "             'spec': 106,\n",
              "             'year': 1418,\n",
              "             'product': 343,\n",
              "             'made': 808,\n",
              "             'histori': 298,\n",
              "             'whatev': 293,\n",
              "             'info': 343,\n",
              "             'funki': 5,\n",
              "             'pleas': 1191,\n",
              "             'email': 849,\n",
              "             'fair': 136,\n",
              "             'number': 858,\n",
              "             'brave': 68,\n",
              "             'soul': 88,\n",
              "             'upgrad': 153,\n",
              "             'si': 32,\n",
              "             'clock': 102,\n",
              "             'oscil': 23,\n",
              "             'share': 237,\n",
              "             'experi': 426,\n",
              "             'poll': 40,\n",
              "             'send': 550,\n",
              "             'brief': 77,\n",
              "             'messag': 374,\n",
              "             'detail': 326,\n",
              "             'procedur': 90,\n",
              "             'top': 277,\n",
              "             'speed': 354,\n",
              "             'attain': 21,\n",
              "             'cpu': 91,\n",
              "             'rate': 322,\n",
              "             'add': 296,\n",
              "             'card': 517,\n",
              "             'adapt': 108,\n",
              "             'heat': 98,\n",
              "             'sink': 30,\n",
              "             'hour': 199,\n",
              "             'usag': 52,\n",
              "             'per': 244,\n",
              "             'floppi': 137,\n",
              "             'disk': 326,\n",
              "             'function': 286,\n",
              "             '800': 79,\n",
              "             '14': 281,\n",
              "             'especi': 327,\n",
              "             'request': 223,\n",
              "             'summar': 56,\n",
              "             'next': 512,\n",
              "             'two': 1273,\n",
              "             'network': 234,\n",
              "             'knowledg': 227,\n",
              "             'base': 630,\n",
              "             'done': 579,\n",
              "             'havent': 286,\n",
              "             'answer': 518,\n",
              "             'thank': 1389,\n",
              "             'well': 1628,\n",
              "             'folk': 202,\n",
              "             'mac': 263,\n",
              "             'plu': 236,\n",
              "             'final': 401,\n",
              "             'gave': 210,\n",
              "             'ghost': 16,\n",
              "             'weekend': 63,\n",
              "             'start': 868,\n",
              "             'life': 469,\n",
              "             '512k': 17,\n",
              "             'way': 1471,\n",
              "             'back': 1043,\n",
              "             '1985': 44,\n",
              "             'sooo': 4,\n",
              "             'im': 1652,\n",
              "             'market': 232,\n",
              "             'new': 1374,\n",
              "             'machin': 402,\n",
              "             'bit': 629,\n",
              "             'sooner': 30,\n",
              "             'intend': 220,\n",
              "             'pick': 253,\n",
              "             'powerbook': 35,\n",
              "             '160': 34,\n",
              "             'mayb': 557,\n",
              "             '180': 20,\n",
              "             'bunch': 133,\n",
              "             'question': 1075,\n",
              "             'hope': 621,\n",
              "             'somebodi': 160,\n",
              "             'anybodi': 366,\n",
              "             'dirt': 30,\n",
              "             'round': 140,\n",
              "             'introduct': 59,\n",
              "             'expect': 431,\n",
              "             'id': 708,\n",
              "             'heard': 485,\n",
              "             '185c': 1,\n",
              "             'suppos': 342,\n",
              "             'make': 1905,\n",
              "             'appear': 402,\n",
              "             'summer': 117,\n",
              "             'anymor': 74,\n",
              "             'sinc': 1083,\n",
              "             'dont': 2319,\n",
              "             'access': 336,\n",
              "             'macleak': 2,\n",
              "             'rumor': 65,\n",
              "             'price': 469,\n",
              "             'drop': 211,\n",
              "             'line': 679,\n",
              "             'like': 2742,\n",
              "             'one': 3252,\n",
              "             'duo': 30,\n",
              "             'went': 296,\n",
              "             'recent': 452,\n",
              "             'what': 243,\n",
              "             'impress': 160,\n",
              "             'display': 295,\n",
              "             'probabl': 832,\n",
              "             'swing': 30,\n",
              "             'got': 880,\n",
              "             '80mb': 12,\n",
              "             'rather': 623,\n",
              "             '120': 68,\n",
              "             'feel': 519,\n",
              "             'much': 1452,\n",
              "             'better': 845,\n",
              "             'yea': 13,\n",
              "             'great': 648,\n",
              "             'store': 190,\n",
              "             'wow': 36,\n",
              "             'good': 1590,\n",
              "             'solicit': 18,\n",
              "             'opinion': 385,\n",
              "             'peopl': 1822,\n",
              "             'use': 3044,\n",
              "             'daytoday': 8,\n",
              "             'worth': 260,\n",
              "             'take': 1253,\n",
              "             'size': 285,\n",
              "             'money': 371,\n",
              "             'hit': 275,\n",
              "             'get': 2604,\n",
              "             'activ': 295,\n",
              "             'realiz': 229,\n",
              "             'real': 605,\n",
              "             'subject': 467,\n",
              "             'ive': 924,\n",
              "             'play': 512,\n",
              "             'around': 776,\n",
              "             'comput': 554,\n",
              "             'breifli': 2,\n",
              "             'figur': 310,\n",
              "             'actual': 785,\n",
              "             'daili': 74,\n",
              "             'might': 903,\n",
              "             'prove': 228,\n",
              "             'help': 1069,\n",
              "             'hellcat': 2,\n",
              "             'perform': 342,\n",
              "             'advanc': 466,\n",
              "             'ill': 520,\n",
              "             'post': 1149,\n",
              "             'summari': 122,\n",
              "             'news': 326,\n",
              "             'read': 989,\n",
              "             'time': 1997,\n",
              "             'premium': 22,\n",
              "             'corner': 88,\n",
              "             'tom': 109,\n",
              "             'willi': 26,\n",
              "             'twillisecnpurdueedu': 1,\n",
              "             'purdu': 7,\n",
              "             'electr': 114,\n",
              "             'weitek': 9,\n",
              "             'addressphon': 3,\n",
              "             'inform': 757,\n",
              "             'chip': 380,\n",
              "             'articl': 495,\n",
              "             'c5owcbn3pworldstdcom': 1,\n",
              "             'tombakerworldstdcom': 1,\n",
              "             'baker': 16,\n",
              "             'understand': 506,\n",
              "             'error': 268,\n",
              "             'basic': 352,\n",
              "             'known': 338,\n",
              "             'bug': 100,\n",
              "             'warn': 143,\n",
              "             'system': 1103,\n",
              "             'softwar': 448,\n",
              "             'thing': 1471,\n",
              "             'check': 471,\n",
              "             'right': 1272,\n",
              "             'valu': 316,\n",
              "             'yet': 536,\n",
              "             'arent': 280,\n",
              "             'set': 752,\n",
              "             'till': 49,\n",
              "             'launch': 130,\n",
              "             'suchlik': 4,\n",
              "             'fix': 253,\n",
              "             'code': 355,\n",
              "             'possibl': 843,\n",
              "             'introduc': 77,\n",
              "             'tell': 852,\n",
              "             'crew': 41,\n",
              "             'ok': 295,\n",
              "             'see': 1461,\n",
              "             '213': 25,\n",
              "             'liftoff': 9,\n",
              "             'ignor': 279,\n",
              "             'cours': 731,\n",
              "             'term': 314,\n",
              "             'must': 812,\n",
              "             'rigidli': 2,\n",
              "             'defin': 227,\n",
              "             'bill': 249,\n",
              "             'doubt': 245,\n",
              "             'quot': 278,\n",
              "             'allegedli': 16,\n",
              "             'present': 391,\n",
              "             'first': 1302,\n",
              "             'argument': 334,\n",
              "             'weapon': 187,\n",
              "             'mass': 143,\n",
              "             'destruct': 56,\n",
              "             'commonli': 51,\n",
              "             'understood': 69,\n",
              "             'switch': 210,\n",
              "             'topic': 148,\n",
              "             'point': 1109,\n",
              "             'evid': 326,\n",
              "             'show': 643,\n",
              "             'allow': 549,\n",
              "             'later': 377,\n",
              "             'analysi': 112,\n",
              "             'given': 492,\n",
              "             'consid': 669,\n",
              "             'anoth': 884,\n",
              "             'class': 192,\n",
              "             'respond': 250,\n",
              "             'treatment': 118,\n",
              "             'astrocytoma': 1,\n",
              "             'couldnt': 240,\n",
              "             'directli': 208,\n",
              "             'mailbounc': 1,\n",
              "             'prob': 9,\n",
              "             'sean': 18,\n",
              "             'debra': 1,\n",
              "             'sharon': 12,\n",
              "             'thought': 601,\n",
              "             'publicli': 57,\n",
              "             'everyon': 357,\n",
              "             'sure': 965,\n",
              "             'glad': 86,\n",
              "             'accident': 36,\n",
              "             'rn': 6,\n",
              "             'instead': 383,\n",
              "             'rm': 32,\n",
              "             'tri': 1442,\n",
              "             'delet': 297,\n",
              "             'file': 630,\n",
              "             'last': 935,\n",
              "             'septemb': 40,\n",
              "             'hmmm': 60,\n",
              "             'scsi': 143,\n",
              "             'scsi1': 10,\n",
              "             'control': 668,\n",
              "             'rang': 182,\n",
              "             'inde': 218,\n",
              "             '05mb': 5,\n",
              "             'scsi2': 18,\n",
              "             '46mb': 8,\n",
              "             '10mb': 11,\n",
              "             'burst': 36,\n",
              "             '8bit': 44,\n",
              "             'note': 575,\n",
              "             'increas': 258,\n",
              "             'quadra': 59,\n",
              "             'version': 458,\n",
              "             'exist': 561,\n",
              "             'pc': 281,\n",
              "             '8bitscsi1': 2,\n",
              "             'mode': 251,\n",
              "             '16bitwid': 3,\n",
              "             'fast': 273,\n",
              "             '812mb': 7,\n",
              "             '20mb': 16,\n",
              "             '32bitwid': 5,\n",
              "             '1520mb': 7,\n",
              "             '40mb': 14,\n",
              "             'data': 447,\n",
              "             'although': 364,\n",
              "             'twice': 99,\n",
              "             'esdi': 18,\n",
              "             'correct': 406,\n",
              "             'reach': 200,\n",
              "             '20': 436,\n",
              "             'faster': 163,\n",
              "             'ide': 98,\n",
              "             '83': 43,\n",
              "             '996': 5,\n",
              "             'fact': 794,\n",
              "             'newsgroup': 248,\n",
              "             'ibm': 140,\n",
              "             'sheet': 71,\n",
              "             'avail': 629,\n",
              "             'ftp': 207,\n",
              "             'sumexaimstanfordedu': 8,\n",
              "             '364406': 4,\n",
              "             'infomacreport': 4,\n",
              "             'macibmcomparevers': 1,\n",
              "             'txt': 2,\n",
              "             '173': 12,\n",
              "             '161': 15,\n",
              "             'may': 1295,\n",
              "             'still': 1020,\n",
              "             'part': 877,\n",
              "             'problem': 1351,\n",
              "             'inconsi': 1,\n",
              "             'though': 699,\n",
              "             'document': 251,\n",
              "             'appl': 175,\n",
              "             'salesperson': 4,\n",
              "             'said': 851,\n",
              "             '6mb': 4,\n",
              "             '5mb': 11,\n",
              "             'maximum': 75,\n",
              "             'synchron': 26,\n",
              "             'ansynchron': 1,\n",
              "             'slower': 60,\n",
              "             'seem': 1174,\n",
              "             'interfac': 154,\n",
              "             'think': 2052,\n",
              "             'driven': 71,\n",
              "             'true': 608,\n",
              "             'go': 1662,\n",
              "             'win': 308,\n",
              "             '30': 367,\n",
              "             'download': 61,\n",
              "             'sever': 587,\n",
              "             'icon': 56,\n",
              "             'bmp': 27,\n",
              "             'cant': 870,\n",
              "             'chang': 723,\n",
              "             'wallpap': 13,\n",
              "             'would': 3163,\n",
              "             'appreci': 492,\n",
              "             'thanx': 61,\n",
              "             'brando': 1,\n",
              "             'board': 287,\n",
              "             'work': 1628,\n",
              "             'diskdoubl': 1,\n",
              "             'autodoubl': 2,\n",
              "             'due': 312,\n",
              "             'licens': 140,\n",
              "             'stac': 2,\n",
              "             'technolog': 250,\n",
              "             'owner': 176,\n",
              "             'compress': 111,\n",
              "             'write': 545,\n",
              "             'memori': 342,\n",
              "             'lost': 231,\n",
              "             'refer': 495,\n",
              "             'wrong': 545,\n",
              "             'hard': 540,\n",
              "             'say': 1644,\n",
              "             'whether': 463,\n",
              "             'fault': 105,\n",
              "             'someth': 1092,\n",
              "             'els': 570,\n",
              "             'howev': 800,\n",
              "             'decompress': 8,\n",
              "             'troubl': 192,\n",
              "             'recompress': 2,\n",
              "             'without': 861,\n",
              "             'usual': 432,\n",
              "             'reappear': 7,\n",
              "             'mention': 442,\n",
              "             'freewar': 16,\n",
              "             'expans': 90,\n",
              "             'util': 148,\n",
              "             'dd': 22,\n",
              "             'expand': 91,\n",
              "             'boardcompress': 1,\n",
              "             'unless': 373,\n",
              "             'instal': 297,\n",
              "             'unlik': 153,\n",
              "             'hole': 111,\n",
              "             'autodoublerdiskdoubl': 1,\n",
              "             'relat': 302,\n",
              "             'sad': 55,\n",
              "             'reluct': 17,\n",
              "             'buy': 488,\n",
              "             'theyr': 278,\n",
              "             'stinki': 1,\n",
              "             'hey': 141,\n",
              "             'that': 723,\n",
              "             'competit': 65,\n",
              "             'ducati': 5,\n",
              "             '900gt': 1,\n",
              "             '1978': 30,\n",
              "             '17k': 1,\n",
              "             'run': 987,\n",
              "             'paint': 80,\n",
              "             'bronzebrownorang': 1,\n",
              "             'fade': 22,\n",
              "             'leak': 32,\n",
              "             'oil': 87,\n",
              "             'pop': 79,\n",
              "             '1st': 93,\n",
              "             'accel': 4,\n",
              "             'shop': 90,\n",
              "             'tran': 19,\n",
              "             'sold': 144,\n",
              "             'bike': 213,\n",
              "             '1': 1170,\n",
              "             'want': 1578,\n",
              "             '3495': 2,\n",
              "             '3k': 2,\n",
              "             'nice': 391,\n",
              "             'stabl': 47,\n",
              "             'mate': 11,\n",
              "             'beemer': 10,\n",
              "             'jap': 3,\n",
              "             'axi': 18,\n",
              "             'motor': 77,\n",
              "             'tuba': 3,\n",
              "             'irwin': 4,\n",
              "             'honk': 5,\n",
              "             'therefor': 239,\n",
              "             'computracrichardsontx': 3,\n",
              "             'irwincmptrclonestarorg': 3,\n",
              "             'dod': 82,\n",
              "             '0826': 3,\n",
              "             'r756': 3,\n",
              "             'yep': 26,\n",
              "             'pretti': 457,\n",
              "             'jew': 215,\n",
              "             'jewish': 169,\n",
              "             'believ': 986,\n",
              "             'coven': 16,\n",
              "             'yhwh': 1,\n",
              "             'patriarch': 8,\n",
              "             'abraham': 21,\n",
              "             'mose': 19,\n",
              "             'case': 906,\n",
              "             'establish': 178,\n",
              "             'moral': 191,\n",
              "             'follow': 919,\n",
              "             'mankind': 36,\n",
              "             'even': 1523,\n",
              "             'decid': 339,\n",
              "             'boundari': 39,\n",
              "             'fall': 209,\n",
              "             'sadduce': 1,\n",
              "             'torah': 13,\n",
              "             'requir': 552,\n",
              "             'wherea': 53,\n",
              "             'pharise': 11,\n",
              "             'ancestor': 18,\n",
              "             'modern': 142,\n",
              "             'judaism': 28,\n",
              "             'interpret': 183,\n",
              "             'lead': 301,\n",
              "             'nuanc': 4,\n",
              "             'talmud': 2,\n",
              "             'essenc': 31,\n",
              "             'biblic': 70,\n",
              "             'man': 387,\n",
              "             'christian': 428,\n",
              "             'necessarili': 140,\n",
              "             'indic': 242,\n",
              "             'anyth': 764,\n",
              "             'outsid': 230,\n",
              "             'relationship': 93,\n",
              "             'specul': 68,\n",
              "             'creat': 412,\n",
              "             'imag': 284,\n",
              "             'mean': 1016,\n",
              "             'differ': 992,\n",
              "             'come': 1182,\n",
              "             'conclus': 156,\n",
              "             'upset': 41,\n",
              "             'cart': 13,\n",
              "             'script': 37,\n",
              "             'shaki': 9,\n",
              "             'foundat': 76,\n",
              "             'mix': 92,\n",
              "             'metaphor': 17,\n",
              "             'unashamedli': 1,\n",
              "             'live': 669,\n",
              "             'christ': 193,\n",
              "             'exampl': 590,\n",
              "             'littl': 747,\n",
              "             'jesu': 260,\n",
              "             'person': 843,\n",
              "             'record': 285,\n",
              "             'utter': 29,\n",
              "             'narr': 9,\n",
              "             'comtemporari': 1,\n",
              "             'historian': 25,\n",
              "             'revel': 60,\n",
              "             'asid': 100,\n",
              "             'secondhand': 13,\n",
              "             'wors': 158,\n",
              "             'attempt': 282,\n",
              "             'debunk': 10,\n",
              "             'initi': 198,\n",
              "             'bibl': 245,\n",
              "             'human': 393,\n",
              "             'guess': 405,\n",
              "             'faith': 205,\n",
              "             'relev': 130,\n",
              "             'inher': 59,\n",
              "             'absolut': 210,\n",
              "             'undoubt': 4,\n",
              "             'multipl': 128,\n",
              "             'found': 625,\n",
              "             'parent': 113,\n",
              "             'child': 116,\n",
              "             'never': 849,\n",
              "             'swear': 27,\n",
              "             'assum': 467,\n",
              "             'simpli': 383,\n",
              "             'told': 357,\n",
              "             'trooper': 5,\n",
              "             'pub': 13,\n",
              "             'bar': 101,\n",
              "             'children': 274,\n",
              "             'disobey': 11,\n",
              "             'inappropri': 23,\n",
              "             'quit': 590,\n",
              "             'happi': 193,\n",
              "             'anim': 168,\n",
              "             'analog': 108,\n",
              "             'hold': 342,\n",
              "             'water': 135,\n",
              "             'type': 444,\n",
              "             'gist': 6,\n",
              "             'incident': 28,\n",
              "             'young': 176,\n",
              "             'direct': 349,\n",
              "             'older': 107,\n",
              "             'piaget': 1,\n",
              "             'learn': 281,\n",
              "             'david': 271,\n",
              "             'religion': 249,\n",
              "             'descript': 151,\n",
              "             'extern': 136,\n",
              "             'tank': 110,\n",
              "             'option': 251,\n",
              "             'ssf': 10,\n",
              "             'redesign': 17,\n",
              "             'yo': 8,\n",
              "             'ken': 75,\n",
              "             'let': 902,\n",
              "             'keep': 683,\n",
              "             'ontop': 2,\n",
              "             'wingless': 5,\n",
              "             'orbit': 119,\n",
              "             'list': 582,\n",
              "             'today': 425,\n",
              "             '423': 14,\n",
              "             'edit': 173,\n",
              "             'york': 167,\n",
              "             'report': 432,\n",
              "             'oconnor': 6,\n",
              "             'panel': 86,\n",
              "             'propos': 223,\n",
              "             'giant': 48,\n",
              "             'fuel': 76,\n",
              "             'space': 379,\n",
              "             'shuttl': 72,\n",
              "             'build': 374,\n",
              "             'station': 172,\n",
              "             'wing': 104,\n",
              "             'tail': 33,\n",
              "             'remov': 249,\n",
              "             'current': 581,\n",
              "             'three': 457,\n",
              "             'advisori': 12,\n",
              "             'meet': 200,\n",
              "             'yesterday': 91,\n",
              "             'low': 286,\n",
              "             'cost': 421,\n",
              "             'modular': 15,\n",
              "             'approach': 198,\n",
              "             'studi': 274,\n",
              "             'team': 421,\n",
              "             'msfc': 5,\n",
              "             'jsc': 9,\n",
              "             'larc': 4,\n",
              "             'support': 690,\n",
              "             'srt': 1,\n",
              "             'crystal': 34,\n",
              "             'citi': 272,\n",
              "             'lerc': 3,\n",
              "             'reston': 7,\n",
              "             'also': 1942,\n",
              "             'onsit': 8,\n",
              "             'locat': 206,\n",
              "             'respect': 235,\n",
              "             'key': 428,\n",
              "             'featur': 192,\n",
              "             'bus1': 2,\n",
              "             'bu': 165,\n",
              "             'develop': 406,\n",
              "             'lockhe': 8,\n",
              "             'qualifi': 69,\n",
              "             'st': 167,\n",
              "             'elv': 6,\n",
              "             'provid': 566,\n",
              "             'propuls': 24,\n",
              "             'gnc': 1,\n",
              "             'commun': 354,\n",
              "             'manag': 374,\n",
              "             'air': 174,\n",
              "             'forc': 419,\n",
              "             'power': 673,\n",
              "             'capabl': 231,\n",
              "             'obtain': 182,\n",
              "             '3': 816,\n",
              "             'flight': 86,\n",
              "             'solar': 58,\n",
              "             'array': 41,\n",
              "             'kw': 3,\n",
              "             'vehicl': 133,\n",
              "             'fli': 113,\n",
              "             'arrow': 14,\n",
              "             'optim': 43,\n",
              "             'micrograv': 5,\n",
              "             'environ': 140,\n",
              "             'shuttlespacelab': 2,\n",
              "             'mission': 95,\n",
              "             'vehilc': 1,\n",
              "             'sourc': 485,\n",
              "             'tend': 167,\n",
              "             'oppos': 148,\n",
              "             'old': 589,\n",
              "             'sexist': 6,\n",
              "             'mantend': 1,\n",
              "             'achiev': 98,\n",
              "             'us': 1174,\n",
              "             'common': 302,\n",
              "             'modul': 72,\n",
              "             'modifi': 110,\n",
              "             'lab': 94,\n",
              "             'dock': 16,\n",
              "             'port': 199,\n",
              "             'ad': 311,\n",
              "             'intern': 354,\n",
              "             'partner': 49,\n",
              "             'place': 760,\n",
              "             'node': 15,\n",
              "             'habit': 43,\n",
              "             'eva': 7,\n",
              "             'nasda': 6,\n",
              "             'esa': 15,\n",
              "             'perman': 70,\n",
              "             'presenc': 81,\n",
              "             '3rd': 93,\n",
              "             'acrv': 2,\n",
              "             'assur': 78,\n",
              "             'return': 341,\n",
              "             'b': 261,\n",
              "             'freedom': 140,\n",
              "             'deriv': 80,\n",
              "             'mike': 168,\n",
              "             'griffin': 8,\n",
              "             'alot': 50,\n",
              "             'design': 429,\n",
              "             'love': 325,\n",
              "             'lightweight': 7,\n",
              "             'assembl': 103,\n",
              "             '516': 9,\n",
              "             'inclin': 35,\n",
              "             'buildup': 7,\n",
              "             'occur': 251,\n",
              "             'six': 133,\n",
              "             'phase': 48,\n",
              "             'research': 317,\n",
              "             'transfer': 147,\n",
              "             'orbiterspacelab': 1,\n",
              "             'visit': 114,\n",
              "             'adopt': 57,\n",
              "             'nonsexist': 2,\n",
              "             'languag': 174,\n",
              "             '8': 446,\n",
              "             'deploy': 20,\n",
              "             '10': 506,\n",
              "             'onorbit': 6,\n",
              "             'sometim': 290,\n",
              "             'second': 636,\n",
              "             'logist': 7,\n",
              "             'resuppli': 3,\n",
              "             'toler': 60,\n",
              "             '2nd': 119,\n",
              "             'thermal': 22,\n",
              "             'radiat': 44,\n",
              "             'onboard': 20,\n",
              "             'finish': 118,\n",
              "             '24': 224,\n",
              "             'asi': 7,\n",
              "             'except': 416,\n",
              "             'major': 446,\n",
              "             'reduc': 176,\n",
              "             'forsal': 25,\n",
              "             'behalf': 32,\n",
              "             'brother': 110,\n",
              "             'who': 61,\n",
              "             'move': 440,\n",
              "             'alreadi': 483,\n",
              "             'offer': 444,\n",
              "             'black': 238,\n",
              "             'decker': 2,\n",
              "             'duster': 2,\n",
              "             'portabl': 67,\n",
              "             'hand': 508,\n",
              "             'vaccum': 2,\n",
              "             'purchas': 203,\n",
              "             '32': 157,\n",
              "             '12': 381,\n",
              "             '2': 1206,\n",
              "             'sr1000': 2,\n",
              "             'dual': 39,\n",
              "             'cassett': 26,\n",
              "             'player': 289,\n",
              "             'amfm': 16,\n",
              "             '5band': 2,\n",
              "             'graphic': 280,\n",
              "             'equal': 167,\n",
              "             'high': 481,\n",
              "             'dube': 3,\n",
              "             'tapetap': 2,\n",
              "             'deck': 31,\n",
              "             'trebl': 4,\n",
              "             'sound': 481,\n",
              "             'bet': 106,\n",
              "             'fixabl': 4,\n",
              "             '80': 175,\n",
              "             '25': 286,\n",
              "             '3monolux': 2,\n",
              "             'zoom': 29,\n",
              "             'microscop': 6,\n",
              "             '1200x': 2,\n",
              "             'magnif': 4,\n",
              "             'japan': 50,\n",
              "             'includ': 886,\n",
              "             'accessori': 27,\n",
              "             '50': 341,\n",
              "             '4sunbeam': 2,\n",
              "             '1400': 25,\n",
              "             'hair': 44,\n",
              "             'dryer': 9,\n",
              "             'put': 778,\n",
              "             'head': 362,\n",
              "             'underinto': 2,\n",
              "             'salon': 2,\n",
              "             'ask': 865,\n",
              "             'bro': 3,\n",
              "             '5everylast': 2,\n",
              "             'bag': 55,\n",
              "             'leather': 29,\n",
              "             'brand': 123,\n",
              "             '6oster': 2,\n",
              "             'pusl': 2,\n",
              "             'matic': 2,\n",
              "             'blender': 4,\n",
              "             'cookbook': 5,\n",
              "             '5': 638,\n",
              "             '8binolux': 2,\n",
              "             'binocular': 3,\n",
              "             '7x35': 2,\n",
              "             'extra': 176,\n",
              "             'wide': 189,\n",
              "             'angl': 54,\n",
              "             '525ft': 2,\n",
              "             '1000yd': 2,\n",
              "             '9proctor': 2,\n",
              "             'silex': 2,\n",
              "             'spraysteam': 2,\n",
              "             'dri': 50,\n",
              "             'iron': 64,\n",
              "             'contact': 309,\n",
              "             'thru': 49,\n",
              "             'repli': 363,\n",
              "             'expedit': 9,\n",
              "             'alway': 533,\n",
              "             'sh': 37,\n",
              "             'lastli': 8,\n",
              "             'reasonableveri': 2,\n",
              "             'reason': 918,\n",
              "             'happen': 656,\n",
              "             'japanes': 58,\n",
              "             'citizen': 198,\n",
              "             'world': 630,\n",
              "             'war': 268,\n",
              "             'ii': 171,\n",
              "             'your': 521,\n",
              "             'prepar': 129,\n",
              "             'stick': 135,\n",
              "             'concentr': 72,\n",
              "             'camp': 66,\n",
              "             'trial': 100,\n",
              "             'short': 297,\n",
              "             'step': 190,\n",
              "             'gass': 11,\n",
              "             'nazi': 76,\n",
              "             'origin': 524,\n",
              "             'imprison': 22,\n",
              "             'solut': 220,\n",
              "             'dreamt': 1,\n",
              "             'partli': 19,\n",
              "             'afford': 89,\n",
              "             'devast': 8,\n",
              "             'caus': 543,\n",
              "             'goer': 3,\n",
              "             'total': 367,\n",
              "             'werent': 76,\n",
              "             'gener': 830,\n",
              "             'die': 264,\n",
              "             'malnutrit': 3,\n",
              "             'diseas': 110,\n",
              "             'certainli': 367,\n",
              "             'whenev': 77,\n",
              "             'tiff': 29,\n",
              "             'philosoph': 31,\n",
              "             'complex': 112,\n",
              "             'led': 125,\n",
              "             'program': 763,\n",
              "             'poor': 150,\n",
              "             'writer': 69,\n",
              "             'bizarr': 26,\n",
              "             'inabl': 22,\n",
              "             'load': 184,\n",
              "             'theyll': 96,\n",
              "             'save': 338,\n",
              "             'interchang': 14,\n",
              "             'despit': 125,\n",
              "             'goe': 329,\n",
              "             'worri': 162,\n",
              "             'abus': 99,\n",
              "             'chalk': 3,\n",
              "             'immens': 16,\n",
              "             'unnecessari': 27,\n",
              "             'format': 222,\n",
              "             'word': 578,\n",
              "             'appendix': 8,\n",
              "             'g': 114,\n",
              "             'page': 190,\n",
              "             'g1': 3,\n",
              "             'capit': 80,\n",
              "             'emphasi': 45,\n",
              "             'mine': 251,\n",
              "             'sort': 393,\n",
              "             'success': 208,\n",
              "             'flexibl': 30,\n",
              "             'expens': 201,\n",
              "             'simplic': 16,\n",
              "             'amount': 235,\n",
              "             'effort': 198,\n",
              "             'handl': 250,\n",
              "             'specif': 374,\n",
              "             'applic': 375,\n",
              "             'complet': 481,\n",
              "             'job': 276,\n",
              "             'abl': 597,\n",
              "             'import': 451,\n",
              "             'mani': 1230,\n",
              "             'imagegener': 1,\n",
              "             'everi': 704,\n",
              "             'wont': 407,\n",
              "             'deal': 400,\n",
              "             'trap': 47,\n",
              "             'neither': 171,\n",
              "             'agre': 470,\n",
              "             'kind': 531,\n",
              "             'singl': 292,\n",
              "             'male': 70,\n",
              "             'driver': 371,\n",
              "             'yr': 14,\n",
              "             'pay': 369,\n",
              "             'here': 145,\n",
              "             'receiv': 384,\n",
              "             '27': 115,\n",
              "             'close': 414,\n",
              "             'enough': 674,\n",
              "             '1992': 164,\n",
              "             'dodg': 27,\n",
              "             'stealth': 36,\n",
              "             'rttwin': 1,\n",
              "             'turbo': 54,\n",
              "             '300hp': 1,\n",
              "             'ticket': 76,\n",
              "             'accid': 88,\n",
              "             'hous': 299,\n",
              "             'taken': 296,\n",
              "             'defens': 209,\n",
              "             'drive': 654,\n",
              "             'airbag': 11,\n",
              "             'ab': 42,\n",
              "             'secur': 275,\n",
              "             'alarm': 35,\n",
              "             '1500year': 1,\n",
              "             '500': 132,\n",
              "             'decut': 1,\n",
              "             'state': 817,\n",
              "             'farm': 43,\n",
              "             'insur': 112,\n",
              "             '100': 312,\n",
              "             '1000000': 10,\n",
              "             'umbrella': 4,\n",
              "             'polici': 205,\n",
              "             'standard': 420,\n",
              "             '100000': 34,\n",
              "             '300000': 3,\n",
              "             'de': 145,\n",
              "             'less': 547,\n",
              "             'bought': 225,\n",
              "             'compani': 341,\n",
              "             '11': 217,\n",
              "             '2500': 24,\n",
              "             'steve': 160,\n",
              "             'flynn': 2,\n",
              "             'univers': 463,\n",
              "             'delawar': 5,\n",
              "             '45': 124,\n",
              "             'kevin': 43,\n",
              "             'rememb': 483,\n",
              "             'correctli': 110,\n",
              "             'similar': 389,\n",
              "             'situat': 291,\n",
              "             'inquiri': 25,\n",
              "             'age': 166,\n",
              "             'eagl': 21,\n",
              "             'talon': 6,\n",
              "             'tsi': 2,\n",
              "             'awd': 6,\n",
              "             'clean': 116,\n",
              "             'illinoi': 41,\n",
              "             '8206': 1,\n",
              "             'mo': 23,\n",
              "             'turn': 518,\n",
              "             '5206': 1,\n",
              "             'incur': 17,\n",
              "             'higher': 202,\n",
              "             'coupl': 349,\n",
              "             'friend': 370,\n",
              "             'w': 189,\n",
              "             'in': 7,\n",
              "             'lucki': 70,\n",
              "             'dan': 82,\n",
              "             'dansjdcgssmotcom': 1,\n",
              "             'motorola': 58,\n",
              "             'cellular': 57,\n",
              "             'subscrib': 52,\n",
              "             'group': 638,\n",
              "             '38': 74,\n",
              "             'usa': 156,\n",
              "             'cc': 42,\n",
              "             '23': 140,\n",
              "             'norman': 8,\n",
              "             'oklahoma': 12,\n",
              "             '89': 51,\n",
              "             'thunderbird': 4,\n",
              "             'sc': 18,\n",
              "             'claim': 547,\n",
              "             'neglig': 26,\n",
              "             'stop': 397,\n",
              "             'sign': 236,\n",
              "             'fiddl': 13,\n",
              "             ...})"
            ]
          },
          "execution_count": 12,
          "metadata": {},
          "output_type": "execute_result"
        }
      ],
      "source": [
        "# Create a dictionary containing the frequency of words utilizing the 'frequency_dict' function\n",
        "\n",
        "# Expect this chunk to take a comparatively longer time to execute since our dataset is large\n",
        "\n",
        "freq_word: dict[str, int] = frequency_dict(lines)\n",
        "\n",
        "freq_word"
      ]
    },
    {
      "cell_type": "markdown",
      "metadata": {},
      "source": [
        "# Formular of Term Frequency(TF)\n",
        "\n",
        "- TF = $\\frac{Number \\ of \\ times \\ term \\ t \\ appears \\ in \\ a \\ document}{Total \\ number \\ of \\ terms \\ in \\ the \\ document}$"
      ]
    },
    {
      "cell_type": "code",
      "execution_count": 13,
      "metadata": {
        "id": "vLvPijR_GKHn"
      },
      "outputs": [],
      "source": [
        "# Create a function to calculate the Term Frequency\n",
        "\n",
        "def term_frequency(document: list[str], word: str) -> float:\n",
        "    '''\n",
        "    calculating the term frequency(tf)\n",
        "    \n",
        "    - document: list containing the entire corpus\n",
        "    - word: word whose term frequency is to be calculated\n",
        "    ---\n",
        "    tf: returns term frequency value\n",
        "    '''\n",
        "    \n",
        "    # Count the total number of tokens in the document\n",
        "    total_terms: int = len(document)\n",
        "\n",
        "    # Count the number of times the word appears in the document\n",
        "    word_count: int = document.count(word)\n",
        "    \n",
        "    # Calculate Term Frequency\n",
        "    tf: float = word_count / total_terms if total_terms > 0 else 0.0\n",
        "\n",
        "    return tf"
      ]
    },
    {
      "cell_type": "markdown",
      "metadata": {},
      "source": [
        "# Formular of Inverse Document Frequency(IDF) \n",
        "\n",
        "- IDF = log $\\frac{Total \\ number \\ of \\ documents}{Number \\ of \\ documents \\ containing \\ term \\ t}$"
      ]
    },
    {
      "cell_type": "code",
      "execution_count": 14,
      "metadata": {},
      "outputs": [
        {
          "name": "stdout",
          "output_type": "stream",
          "text": [
            "4\n"
          ]
        }
      ],
      "source": [
        "print(freq_word[word])"
      ]
    },
    {
      "cell_type": "code",
      "execution_count": 15,
      "metadata": {
        "id": "HA99G_yAGLCC"
      },
      "outputs": [],
      "source": [
        "# Create a function to calculate the Inverse Document Frequency\n",
        "\n",
        "def inverse_df(word: str) -> float:\n",
        "    '''\n",
        "    calculate the Inverse Document Frequency(IDF)\n",
        "    \n",
        "    - word: word whose inverse document frequency is to be calculated\n",
        "    ---\n",
        "    - idf: return inverse document frequency value\n",
        "    '''\n",
        "    # Count the number of documents containing the word\n",
        "    docs_containing_word: dict[str, int] = freq_word[word]\n",
        "    \n",
        "    # Calculate Inverse Document Frequency\n",
        "    # Avoid division by zero in case the word is not present in any document.\n",
        "    idf: float = math.log(total_docs / (1 + docs_containing_word)) if docs_containing_word + 1 <= total_docs else math.log(1)\n",
        "    \n",
        "    return idf"
      ]
    },
    {
      "cell_type": "markdown",
      "metadata": {},
      "source": [
        "# Formulat of TF-IDF\n",
        "\n",
        "- TF-IDF(t) = TF(t) x IDF(t)\n",
        "- We calculate each words in sentence"
      ]
    },
    {
      "cell_type": "code",
      "execution_count": 16,
      "metadata": {
        "id": "F0irgwv2GRfE"
      },
      "outputs": [],
      "source": [
        "# Create a function to combine the term frequencies (TF) \n",
        "#   and inverse document (IDF) frequencies calculated above to get TF-IDF\n",
        "\n",
        "def tfidf(sentence: list, dict_idx: dict) -> list[float]:\n",
        "    '''\n",
        "    combin the TF and IDF to calculate above to get TF-IDF\n",
        "    \n",
        "    - sentence: list containing the entire corpus\n",
        "    - dict: dictionary keeping track of index of each word\n",
        "    ---\n",
        "    tf_idf_vec: returns computed tf-idf\n",
        "    '''\n",
        "    \n",
        "    # Init the tf-idf\n",
        "    tf_idf_vec: list[str] = [0.0] * len(dict_idx)\n",
        "    \n",
        "    # Calculate each words tfidf in sentence\n",
        "    for word in sentence:\n",
        "        if word in dict_idx:\n",
        "            tf_val = term_frequency(sentence, word)\n",
        "            idf_val = inverse_df(word)\n",
        "            tfidf_val = tf_val * idf_val        \n",
        "            # Use the index from the dictionary to set the value\n",
        "            tf_idf_vec[dict_idx[word]] = tfidf_val\n",
        "\n",
        "    return tf_idf_vec"
      ]
    },
    {
      "cell_type": "code",
      "execution_count": 17,
      "metadata": {
        "id": "_VKJhqatGWpV"
      },
      "outputs": [],
      "source": [
        "# Compute the vectors utilizing the 'tfidf' function created above to obtain a TF-IDF Encoded text corpus\n",
        "tfidf_val_list: List[List[float]] = []\n",
        "\n",
        "for sentence in lines:\n",
        "    tfidf_val = tfidf(sentence, dict_idx)\n",
        "    tfidf_val_list.append(tfidf_val)\n",
        "    # print(tfidf_val)"
      ]
    },
    {
      "cell_type": "code",
      "execution_count": 18,
      "metadata": {},
      "outputs": [
        {
          "name": "stdout",
          "output_type": "stream",
          "text": [
            "{88104}\n"
          ]
        }
      ],
      "source": [
        "# check len\n",
        "lengths: int = [len(vec) for vec in tfidf_val_list]\n",
        "unique_lengths: set = set(lengths)\n",
        "print(unique_lengths)"
      ]
    },
    {
      "cell_type": "markdown",
      "metadata": {},
      "source": [
        "# Fixed length trouble from the `tfidf`\n",
        "- I found we need use len(dict_idx) to init the tf_idf_vec, if not we might get many different length data. "
      ]
    },
    {
      "cell_type": "markdown",
      "metadata": {
        "id": "LE0UGUaSGb8I"
      },
      "source": [
        "## Multinomial Naive Bayes (10 Points)"
      ]
    },
    {
      "cell_type": "code",
      "execution_count": 19,
      "metadata": {},
      "outputs": [
        {
          "name": "stdout",
          "output_type": "stream",
          "text": [
            "x_train length: 11314\n",
            "y_train length: 11314\n"
          ]
        },
        {
          "data": {
            "text/html": [
              "<style>#sk-container-id-1 {color: black;}#sk-container-id-1 pre{padding: 0;}#sk-container-id-1 div.sk-toggleable {background-color: white;}#sk-container-id-1 label.sk-toggleable__label {cursor: pointer;display: block;width: 100%;margin-bottom: 0;padding: 0.3em;box-sizing: border-box;text-align: center;}#sk-container-id-1 label.sk-toggleable__label-arrow:before {content: \"▸\";float: left;margin-right: 0.25em;color: #696969;}#sk-container-id-1 label.sk-toggleable__label-arrow:hover:before {color: black;}#sk-container-id-1 div.sk-estimator:hover label.sk-toggleable__label-arrow:before {color: black;}#sk-container-id-1 div.sk-toggleable__content {max-height: 0;max-width: 0;overflow: hidden;text-align: left;background-color: #f0f8ff;}#sk-container-id-1 div.sk-toggleable__content pre {margin: 0.2em;color: black;border-radius: 0.25em;background-color: #f0f8ff;}#sk-container-id-1 input.sk-toggleable__control:checked~div.sk-toggleable__content {max-height: 200px;max-width: 100%;overflow: auto;}#sk-container-id-1 input.sk-toggleable__control:checked~label.sk-toggleable__label-arrow:before {content: \"▾\";}#sk-container-id-1 div.sk-estimator input.sk-toggleable__control:checked~label.sk-toggleable__label {background-color: #d4ebff;}#sk-container-id-1 div.sk-label input.sk-toggleable__control:checked~label.sk-toggleable__label {background-color: #d4ebff;}#sk-container-id-1 input.sk-hidden--visually {border: 0;clip: rect(1px 1px 1px 1px);clip: rect(1px, 1px, 1px, 1px);height: 1px;margin: -1px;overflow: hidden;padding: 0;position: absolute;width: 1px;}#sk-container-id-1 div.sk-estimator {font-family: monospace;background-color: #f0f8ff;border: 1px dotted black;border-radius: 0.25em;box-sizing: border-box;margin-bottom: 0.5em;}#sk-container-id-1 div.sk-estimator:hover {background-color: #d4ebff;}#sk-container-id-1 div.sk-parallel-item::after {content: \"\";width: 100%;border-bottom: 1px solid gray;flex-grow: 1;}#sk-container-id-1 div.sk-label:hover label.sk-toggleable__label {background-color: #d4ebff;}#sk-container-id-1 div.sk-serial::before {content: \"\";position: absolute;border-left: 1px solid gray;box-sizing: border-box;top: 0;bottom: 0;left: 50%;z-index: 0;}#sk-container-id-1 div.sk-serial {display: flex;flex-direction: column;align-items: center;background-color: white;padding-right: 0.2em;padding-left: 0.2em;position: relative;}#sk-container-id-1 div.sk-item {position: relative;z-index: 1;}#sk-container-id-1 div.sk-parallel {display: flex;align-items: stretch;justify-content: center;background-color: white;position: relative;}#sk-container-id-1 div.sk-item::before, #sk-container-id-1 div.sk-parallel-item::before {content: \"\";position: absolute;border-left: 1px solid gray;box-sizing: border-box;top: 0;bottom: 0;left: 50%;z-index: -1;}#sk-container-id-1 div.sk-parallel-item {display: flex;flex-direction: column;z-index: 1;position: relative;background-color: white;}#sk-container-id-1 div.sk-parallel-item:first-child::after {align-self: flex-end;width: 50%;}#sk-container-id-1 div.sk-parallel-item:last-child::after {align-self: flex-start;width: 50%;}#sk-container-id-1 div.sk-parallel-item:only-child::after {width: 0;}#sk-container-id-1 div.sk-dashed-wrapped {border: 1px dashed gray;margin: 0 0.4em 0.5em 0.4em;box-sizing: border-box;padding-bottom: 0.4em;background-color: white;}#sk-container-id-1 div.sk-label label {font-family: monospace;font-weight: bold;display: inline-block;line-height: 1.2em;}#sk-container-id-1 div.sk-label-container {text-align: center;}#sk-container-id-1 div.sk-container {/* jupyter's `normalize.less` sets `[hidden] { display: none; }` but bootstrap.min.css set `[hidden] { display: none !important; }` so we also need the `!important` here to be able to override the default hidden behavior on the sphinx rendered scikit-learn.org. See: https://github.com/scikit-learn/scikit-learn/issues/21755 */display: inline-block !important;position: relative;}#sk-container-id-1 div.sk-text-repr-fallback {display: none;}</style><div id=\"sk-container-id-1\" class=\"sk-top-container\"><div class=\"sk-text-repr-fallback\"><pre>MultinomialNB(alpha=0.01)</pre><b>In a Jupyter environment, please rerun this cell to show the HTML representation or trust the notebook. <br />On GitHub, the HTML representation is unable to render, please try loading this page with nbviewer.org.</b></div><div class=\"sk-container\" hidden><div class=\"sk-item\"><div class=\"sk-estimator sk-toggleable\"><input class=\"sk-toggleable__control sk-hidden--visually\" id=\"sk-estimator-id-1\" type=\"checkbox\" checked><label for=\"sk-estimator-id-1\" class=\"sk-toggleable__label sk-toggleable__label-arrow\">MultinomialNB</label><div class=\"sk-toggleable__content\"><pre>MultinomialNB(alpha=0.01)</pre></div></div></div></div></div>"
            ],
            "text/plain": [
              "MultinomialNB(alpha=0.01)"
            ]
          },
          "execution_count": 19,
          "metadata": {},
          "output_type": "execute_result"
        }
      ],
      "source": [
        "# use our tfidf to train our MNB(Multinomial Naive Bayes)\n",
        "\n",
        "x_train = np.array(tfidf_val_list)\n",
        "print('x_train length:', len(x_train))\n",
        "y_train = mydata_train.target\n",
        "print('y_train length:', len(y_train))\n",
        "model = MultinomialNB(alpha = 0.01)\n",
        "model.fit(x_train, y_train)\n"
      ]
    },
    {
      "cell_type": "code",
      "execution_count": 29,
      "metadata": {},
      "outputs": [],
      "source": [
        "# Perform testing on the train dataset\n",
        "\n",
        "pred: any = model.predict(x_train)"
      ]
    },
    {
      "cell_type": "code",
      "execution_count": 40,
      "metadata": {},
      "outputs": [
        {
          "data": {
            "image/png": "[encoded data removed]",
            "text/plain": [
              "<Figure size 1000x700 with 2 Axes>"
            ]
          },
          "metadata": {},
          "output_type": "display_data"
        }
      ],
      "source": [
        "# Confusion matrix\n",
        "conf_mat = confusion_matrix(y_train, pred)\n",
        "\n",
        "plt.figure(figsize = (10, 7))\n",
        "sns.heatmap(conf_mat, annot = True, cmap = \"Blues\", fmt = 'g')\n",
        "plt.xlabel('Predicted')\n",
        "plt.ylabel('Actual')\n",
        "plt.title('Confusion Matrix')\n",
        "plt.show()\n"
      ]
    },
    {
      "cell_type": "code",
      "execution_count": 38,
      "metadata": {},
      "outputs": [
        {
          "name": "stdout",
          "output_type": "stream",
          "text": [
            "              precision    recall  f1-score   support\n",
            "\n",
            "           0       0.98      0.96      0.97       480\n",
            "           1       0.96      0.96      0.96       584\n",
            "           2       0.98      0.93      0.96       591\n",
            "           3       0.96      0.97      0.97       590\n",
            "           4       0.98      0.95      0.97       578\n",
            "           5       0.99      0.98      0.99       593\n",
            "           6       0.98      0.96      0.97       585\n",
            "           7       0.99      0.93      0.96       594\n",
            "           8       0.99      0.96      0.98       598\n",
            "           9       1.00      0.95      0.97       597\n",
            "          10       0.66      0.99      0.79       600\n",
            "          11       0.98      0.96      0.97       595\n",
            "          12       0.99      0.96      0.97       591\n",
            "          13       1.00      0.96      0.98       594\n",
            "          14       1.00      0.96      0.98       593\n",
            "          15       0.92      0.98      0.95       599\n",
            "          16       0.98      0.97      0.97       546\n",
            "          17       0.99      0.96      0.98       564\n",
            "          18       0.99      0.96      0.98       465\n",
            "          19       1.00      0.82      0.90       377\n",
            "\n",
            "    accuracy                           0.96     11314\n",
            "   macro avg       0.97      0.95      0.96     11314\n",
            "weighted avg       0.97      0.96      0.96     11314\n",
            "\n"
          ]
        }
      ],
      "source": [
        "# Classification report \n",
        "print(classification_report(y_train, pred))"
      ]
    },
    {
      "cell_type": "code",
      "execution_count": 30,
      "metadata": {},
      "outputs": [
        {
          "name": "stdout",
          "output_type": "stream",
          "text": [
            "F1 Score: 0.958746143094483 \t percentage: 95.87%\n",
            "Accuracy: 0.9566024394555418 \t percentage: 95.66%\n"
          ]
        }
      ],
      "source": [
        "# Calculate the F1 Score and the Accuracy\n",
        "\n",
        "F1_score: float = f1_score(y_train, pred, average='weighted')\n",
        "Accuracy: float = accuracy_score(y_train, pred)\n",
        "\n",
        "print(f\"F1 Score: {F1_score} \\t percentage: {F1_score * 100:.2f}%\")\n",
        "print(f\"Accuracy: {Accuracy} \\t percentage: {Accuracy * 100:.2f}%\")\n"
      ]
    },
    {
      "cell_type": "markdown",
      "metadata": {},
      "source": [
        "# Analysis:\n",
        "- For my model, the $\\alpha$ = 0.01 is a good smoothing value, since we can choose this value from 0 to 1, its use for Lapace smoothing. "
      ]
    },
    {
      "cell_type": "markdown",
      "metadata": {
        "id": "bbMRqJv5Gl2F"
      },
      "source": [
        "### Expected Output:\n",
        "F1 Score: 0.9533633964397735\n",
        "\n",
        "Accuracy: 0.9524482941488421"
      ]
    },
    {
      "cell_type": "markdown",
      "metadata": {
        "id": "AWRDuUqU-taV"
      },
      "source": [
        "Your accuracy does not have to be exactly the same. This is just to give you an estimate of what could you expect your accuracy to be around."
      ]
    },
    {
      "cell_type": "markdown",
      "metadata": {
        "id": "UfMc8cz93Cc0"
      },
      "source": [
        "## Question 2 Vector Visualization"
      ]
    },
    {
      "cell_type": "markdown",
      "metadata": {
        "id": "70iwEeL23F7K"
      },
      "source": [
        "In this unsupervised learning task we are going to cluster wikipedia articles into groups using T-SNE visualization after vectorization."
      ]
    },
    {
      "cell_type": "markdown",
      "metadata": {
        "id": "UHx4YuxW36oM"
      },
      "source": [
        "### Collect articles from Wikipedia (10 points)\n",
        "\n",
        "In this section we will download articles from wikipedia and then vectorize them in the next step. You can select somewhat related topics or fetch the articles randomly.\n",
        "(Use dir() and help() functions or refer wikipedia documentation)\n",
        "You may also pick any other data source of your choice instead of wikipedia."
      ]
    },
    {
      "cell_type": "code",
      "execution_count": 61,
      "metadata": {
        "id": "jA419x6__mjg"
      },
      "outputs": [],
      "source": [
        "# install libraries\n",
        "# pip install wikipedia"
      ]
    },
    {
      "cell_type": "code",
      "execution_count": 161,
      "metadata": {},
      "outputs": [],
      "source": [
        "# Import package \n",
        "import wikipedia\n",
        "from wikipedia.exceptions import WikipediaException\n",
        "from typing import Dict, List"
      ]
    },
    {
      "cell_type": "code",
      "execution_count": 176,
      "metadata": {
        "id": "vLMLk4K84Zbn"
      },
      "outputs": [
        {
          "name": "stdout",
          "output_type": "stream",
          "text": [
            "data length:  36\n"
          ]
        }
      ],
      "source": [
        "'''\n",
        " Generate a list of wikipedia article to cluster\n",
        " You can maintain a static list of titles or generate them randomly using wikipedia library\n",
        " Some topics include:\n",
        " [\"Northeastern Unversity\", \"Natural language processing\", \"Machine learning\", \"Quantum machine learning\", \"Artificial intelligence\", \"Data science\", \"Master in Data Science\",\n",
        " \"Bank of America\", \"Visa Inc.\", \"European Central Bank\", \"Bank\", \"Financial technology\",\"International Monetary Fund\",\n",
        " \"Basketball\", \"Swimming\", \"Tennis\", \"Football\", \"College Football\", \"Association Football\"]\n",
        "\n",
        " You can add more topics from different categories so that we have a diverse dataset to work with.\n",
        " Ex- About 3+ categories(groups), 3+ topics in each category, 3+ articles in each topic\n",
        "'''\n",
        "\n",
        "# selected topics\n",
        "topics_dict: Dict[str, list[str]] = {\n",
        "    \"Major\": [\n",
        "        \"Software Engineering\",\n",
        "        \"Robots\",\n",
        "        \"Natural language processing\", \n",
        "        \"Quantum machine learning\", \n",
        "        \"Artificial intelligence\", \n",
        "        \"Data science\", \n",
        "        \"Computer Science\",\n",
        "        \"Internet of Thing\",\n",
        "        \"Mathmatics\"\n",
        "    ],\n",
        "    \"Finance\": [\n",
        "        \"Bank of America Corporation\", \n",
        "        \"European Central Bank\", \n",
        "        \"Citi Bank\",  \n",
        "        \"Chase Bank\", \n",
        "        \"International Monetary Fund\",\n",
        "        \"Fintech\",\n",
        "        \"Baird\",\n",
        "        \"American Express\",\n",
        "        \"Investment Bank\"\n",
        "    ],\n",
        "    \"Sport\": [\n",
        "        \"Snowboard\",\n",
        "        \"Soccer\",\n",
        "        \"Badminton\",\n",
        "        \"Basketball\", \n",
        "        \"Swimming\", \n",
        "        \"Football\", \n",
        "        \"Fencing\",\n",
        "        \"Polo\", \n",
        "        \"Association football\"\n",
        "    ],\n",
        "    \"Vehicle Brand\": [\n",
        "        \"Audi\",\n",
        "        \"Mercedes-Benz\",\n",
        "        \"Volkswagen\",\n",
        "        \"Suzuki\",\n",
        "        \"Hyundai\",\n",
        "        \"Renault\",\n",
        "        \"Cadillac\",\n",
        "        \"Chevrolet\",\n",
        "        \"Lincoln\"\n",
        "    ]\n",
        "}\n",
        "\n",
        "# download and store articles (summaries) in this variable\n",
        "data: list[str] = []\n",
        "\n",
        "for category, topics_list in topics_dict.items():\n",
        "    for article in topics_list:\n",
        "        try: \n",
        "            summary = wikipedia.summary(article)\n",
        "            data.append((summary, category))\n",
        "        except wikipedia.exceptions.DisambiguationError as e:\n",
        "            summary = wikipedia.summary(e.options[0])\n",
        "            data.append((summary, category))\n",
        "        except Exception as e:\n",
        "            print(f\"Error retrieving the article {article}: {e}\")\n",
        "        \n",
        "print('data length: ', len(data))"
      ]
    },
    {
      "cell_type": "code",
      "execution_count": 177,
      "metadata": {},
      "outputs": [
        {
          "name": "stdout",
          "output_type": "stream",
          "text": [
            "Summary:\n",
            "('Software engineering is an engineering-based approach to software development.\\nA software engineer is a person who applies the engineering design process to design, develop, test, maintain, and evaluate computer software. The term programmer is sometimes used as a synonym, but may emphasize software implementation over design and can also lack connotations of engineering education or skills.Engineering techniques are used to inform the software development process, which involves the definition, implementation, assessment, measurement, management, change, and improvement of the software life cycle process itself. It heavily uses software configuration management, which is about systematically controlling changes to the configuration, and maintaining the integrity and traceability of the configuration and code throughout the system life cycle. Modern processes use software versioning.', 'Major')\n",
            "(\"A robot is a machine—especially one programmable by a computer—capable of carrying out a complex series of actions automatically. A robot can be guided by an external control device, or the control may be embedded within. Robots may be constructed to evoke human form, but most robots are task-performing machines, designed with an emphasis on stark functionality, rather than expressive aesthetics.\\nRobots can be autonomous or semi-autonomous and range from humanoids such as Honda's Advanced Step in Innovative Mobility (ASIMO) and TOSY's TOSY Ping Pong Playing Robot (TOPIO) to industrial robots, medical operating robots, patient assist robots, dog therapy robots, collectively programmed swarm robots, UAV drones such as General Atomics MQ-1 Predator, and even microscopic nano robots. By mimicking a lifelike appearance or automating movements, a robot may convey a sense of intelligence or thought of its own. Autonomous things are expected to proliferate in the future, with home robotics and the autonomous car as some of the main drivers.The branch of technology that deals with the design, construction, operation, and application of robots, as well as computer systems for their control, sensory feedback, and information processing is robotics. These technologies deal with automated machines that can take the place of humans in dangerous environments or manufacturing processes, or resemble humans in appearance, behavior, or cognition. Many of today's robots are inspired by nature contributing to the field of bio-inspired robotics. These robots have also created a newer branch of robotics: soft robotics.\\nFrom the time of ancient civilization, there have been many accounts of user-configurable automated devices and even automata resembling humans and other animals, such as animatronics, designed primarily as entertainment. As mechanical techniques developed through the Industrial age, there appeared more practical applications such as automated machines, remote-control and wireless remote-control.\\nThe term comes from a Slavic root, robot-, with meanings associated with labor. The word 'robot' was first used to denote a fictional humanoid in a 1920 Czech-language play R.U.R. (Rossumovi Univerzální Roboti – Rossum's Universal Robots) by Karel Čapek, though it was Karel's brother Josef Čapek who was the word's true inventor. Electronics evolved into the driving force of development with the advent of the first electronic autonomous robots created by William Grey Walter in Bristol, England in 1948, as well as Computer Numerical Control (CNC) machine tools in the late 1940s by John T. Parsons and Frank L. Stulen.\\nThe first modern digital and programmable robot was invented by George Devol in 1954 and spawned his seminal robotics company, Unimation. The first Unimate was sold to General Motors in 1961 where it lifted pieces of hot metal from die casting machines at the Inland Fisher Guide Plant in the West Trenton section of Ewing Township, New Jersey.Robots have replaced humans in performing repetitive and dangerous tasks which humans prefer not to do, or are unable to do because of size limitations, or which take place in extreme environments such as outer space or the bottom of the sea. There are concerns about the increasing use of robots and their role in society. Robots are blamed for rising technological unemployment as they replace workers in increasing numbers of functions. The use of robots in military combat raises ethical concerns. The possibilities of robot autonomy and potential repercussions have been addressed in fiction and may be a realistic concern in the future.\", 'Major')\n",
            "('Natural language processing (NLP) is an interdisciplinary subfield of computer science and linguistics. It is primarily concerned with giving computers the ability to support and manipulate speech. It involves processing natural language datasets, such as text corpora or speech corpora, using either rule-based or probabilistic (i.e. statistical and, most recently, neural network-based) machine learning approaches. The goal is a computer capable of \"understanding\" the contents of documents, including the contextual nuances of the language within them. The technology can then accurately extract information and insights contained in the documents as well as categorize and organize the documents themselves.\\nChallenges in natural language processing frequently involve speech recognition, natural-language understanding, and natural-language generation.', 'Major')\n",
            "('Quantum machine learning is the integration of quantum algorithms within machine learning programs.The most common use of the term refers to machine learning algorithms for the analysis of classical data executed on a quantum computer, i.e. quantum-enhanced machine learning. While machine learning algorithms are used to compute immense quantities of data, quantum machine learning utilizes qubits and quantum operations or specialized quantum systems to improve computational speed and data storage done by algorithms in a program. This includes hybrid methods that involve both classical and quantum processing, where computationally difficult subroutines are outsourced to a quantum device. These routines can be more complex in nature and executed faster on a quantum computer. Furthermore, quantum algorithms can be used to analyze quantum states instead of classical data.Beyond quantum computing, the term \"quantum machine learning\" is also associated with classical machine learning methods applied to data generated from quantum experiments (i.e. machine learning of quantum systems), such as learning the phase transitions of a quantum system or creating new quantum experiments.Quantum machine learning also extends to a branch of research that explores methodological and structural similarities between certain physical systems and learning systems, in particular neural networks. For example, some mathematical and numerical techniques from quantum physics are applicable to classical deep learning and vice versa.Furthermore, researchers investigate more abstract notions of learning theory with respect to quantum information, sometimes referred to as \"quantum learning theory\".', 'Major')\n",
            "('Artificial intelligence (AI) is the intelligence of machines or software, as opposed to the intelligence of humans or animals. It is also the field of study in computer science that develops and studies intelligent machines. \"AI\" may also refer to the machines themselves.\\nAI technology is widely used throughout industry, government and science. Some high-profile applications are: advanced web search engines (e.g., Google Search), recommendation systems (used by YouTube, Amazon, and Netflix), understanding human speech (such as Siri and Alexa), self-driving cars (e.g., Waymo), generative or creative tools (ChatGPT and AI art), and competing at the highest level in strategic games (such as chess and Go).Artificial intelligence was founded as an academic discipline in 1956. The field went through multiple cycles of optimism followed by disappointment and loss of funding, but after 2012, when deep learning surpassed all previous AI techniques, there was a vast increase in funding and interest.\\nThe various sub-fields of AI research are centered around particular goals and the use of particular tools. The traditional goals of AI research include reasoning, knowledge representation, planning, learning, natural language processing, perception, and support for robotics. General intelligence (the ability to solve an arbitrary problem) is among the field\\'s long-term goals.\\nTo solve these problems, AI researchers have adapted and integrated a wide range of problem-solving techniques, including search and mathematical optimization, formal logic, artificial neural networks, and methods based on statistics, operations research, and economics. AI also draws upon psychology, linguistics, philosophy, neuroscience and many other fields.', 'Major')\n",
            "('Data science is an interdisciplinary academic field that uses statistics, scientific computing, scientific methods, processes, algorithms and systems to extract or extrapolate knowledge and insights from noisy, structured, and unstructured data.Data science also integrates domain knowledge from the underlying application domain (e.g., natural sciences, information technology, and medicine). Data science is multifaceted and can be described as a science, a research paradigm, a research method, a discipline, a workflow, and a profession.Data science is a \"concept to unify statistics, data analysis, informatics, and their related methods\" to \"understand and analyze actual phenomena\" with data. It uses techniques and theories drawn from many fields within the context of mathematics, statistics, computer science, information science, and domain knowledge. However, data science is different from computer science and information science. Turing Award winner Jim Gray imagined data science as a \"fourth paradigm\" of science (empirical, theoretical, computational, and now data-driven) and asserted that \"everything about science is changing because of the impact of information technology\" and the data deluge.A  data scientist is a professional who creates programming code and combines it with statistical knowledge to create insights from data.', 'Major')\n",
            "('Computer science is the study of computation, information, and automation. Computer science spans theoretical disciplines (such as algorithms, theory of computation, and information theory) to applied disciplines (including the design and implementation of hardware and software). Though more often considered an academic discipline, computer science is closely related to computer programming.Algorithms and data structures are central to computer science.\\nThe theory of computation concerns abstract models of computation and general classes of problems that can be solved using them. The fields of cryptography and computer security involve studying the means for secure communication and for preventing security vulnerabilities. Computer graphics and computational geometry address the generation of images. Programming language theory considers different ways to describe computational processes, and database theory concerns the management of repositories of data. Human–computer interaction investigates the interfaces through which humans and computers interact, and software engineering focuses on the design and principles behind developing software. Areas such as operating systems, networks and embedded systems investigate the principles and design behind complex systems. Computer architecture describes the construction of computer components and computer-operated equipment. Artificial intelligence and machine learning aim to synthesize goal-orientated processes such as problem-solving, decision-making, environmental adaptation, planning and learning found in humans and animals. Within artificial intelligence, computer vision aims to understand and process image and video data, while natural language processing aims to understand and process textual and linguistic data.\\nThe fundamental concern of computer science is determining what can and cannot be automated. The Turing Award is generally recognized as the highest distinction in computer science.', 'Major')\n",
            "('The Internet of things (IoT) describes devices with sensors, processing ability, software and other technologies that connect and exchange data with other devices and systems over the Internet or other communications networks. The Internet of things encompasses electronics, communication and computer science engineering. Internet of things has been considered a misnomer because devices do not need to be connected to the public internet, they only need to be connected to a network, and be individually addressable.The field has evolved due to the convergence of multiple technologies, including ubiquitous computing, commodity sensors, and increasingly powerful embedded systems, as well as machine learning. Older fields of embedded systems, wireless sensor networks, control systems, automation (including home and building automation), independently and collectively enable the Internet of things.  In the consumer market, IoT technology is most synonymous with \"smart home\" products, including devices and appliances (lighting fixtures, thermostats, home security systems, cameras, and other home appliances) that support one or more common ecosystems, and can be controlled via devices associated with that ecosystem, such as smartphones and smart speakers. IoT is also used in healthcare systems.There are a number of concerns about the risks in the growth of IoT technologies and products, especially in the areas of privacy and security, and consequently there have been industry and government moves to address these concerns, including the development of international and local standards, guidelines, and regulatory frameworks.\\n\\n', 'Major')\n",
            "(\"Mathematics is an area of knowledge that includes the topics of numbers, formulas and related structures, shapes and the spaces in which they are contained, and quantities and their changes. These topics are represented in modern mathematics with the major subdisciplines of number theory, algebra, geometry, and analysis, respectively. There is no general consensus among mathematicians about a common definition for their academic discipline.\\nMost mathematical activity involves the discovery of properties of abstract objects and the use of pure reason to prove them. These objects consist of either abstractions from nature or—in modern mathematics—entities that are stipulated to have certain properties, called axioms. A proof consists of a succession of applications of deductive rules to already established results. These results include previously proved theorems, axioms, and—in case of abstraction from nature—some basic properties that are considered true starting points of the theory under consideration.Mathematics is essential in the natural sciences, engineering, medicine, finance, computer science and the social sciences. Although mathematics is extensively used for modeling phenomena, the fundamental truths of mathematics are independent from any scientific experimentation. Some areas of mathematics, such as statistics and game theory, are developed in close correlation with their applications and are often grouped under applied mathematics. Other areas are developed independently from any application (and are therefore called pure mathematics), but often later find practical applications. The problem of integer factorization, for example, which goes back to Euclid in 300 BC, had no practical application before its use in the RSA cryptosystem, now widely used for the security of computer networks.\\nHistorically, the concept of a proof and its associated mathematical rigour first appeared in Greek mathematics, most notably in Euclid's Elements. Since its beginning, mathematics was essentially divided into geometry and arithmetic (the manipulation of natural numbers and fractions), until the 16th and 17th centuries, when algebra and infinitesimal calculus were introduced as new areas. Since then, the interaction between mathematical innovations and scientific discoveries has led to a rapid lockstep increase in the development of both. At the end of the 19th century, the foundational crisis of mathematics led to the systematization of the axiomatic method, which heralded a dramatic increase in the number of mathematical areas and their fields of application. The contemporary Mathematics Subject Classification lists more than 60 first-level areas of mathematics.\", 'Major')\n",
            "('The Bank of America Corporation (often abbreviated BofA or BoA) is an American multinational investment bank and financial services holding company headquartered at the Bank of America Corporate Center in Charlotte, North Carolina, with investment banking and auxiliary headquarters in Manhattan. The bank was founded in San Francisco, California. It is the second-largest banking institution in the United States, after JPMorgan Chase, and the second-largest bank in the world by market capitalization. Bank of America is one of the Big Four banking institutions of the United States. It serves approximately 10.73% of all American bank deposits, in direct competition with JPMorgan Chase, Citigroup, and Wells Fargo. Its primary financial services revolve around commercial banking, wealth management, and investment banking.\\nOne branch of its history stretches back to the U.S.-based Bank of Italy, founded by Amadeo Pietro Giannini in 1904, which provided various banking options to Italian immigrants who faced service discrimination. Originally headquartered in San Francisco, California, Giannini acquired Banca d\\'America e d\\'Italia (Bank of America and Italy) in 1922. The passage of landmark federal banking legislation facilitated a rapid growth in the 1950s, quickly establishing a prominent market share. After suffering a significant loss after the 1998 Russian bond default, BankAmerica, as it was then known, was acquired by the Charlotte-based NationsBank for US$62 billion. Following what was then the largest bank acquisition in history, the Bank of America Corporation was founded. Through a series of mergers and acquisitions, it built upon its commercial banking business by establishing Merrill Lynch for wealth management and Bank of America Merrill Lynch for investment banking in 2008 and 2009, respectively (since renamed BofA Securities).Both Bank of America and Merrill Lynch Wealth Management retain large market shares in their respective offerings. The investment bank is considered within the \"Bulge Bracket\" as the third largest investment bank in the world, as of 2018. Its wealth management side manages US$1.081 trillion in assets under management (AUM) as the second largest wealth manager in the world, after UBS. In commercial banking, Bank of America operates—but does not necessarily maintain—retail branches in all 50 states of the United States, the District of Columbia and more than 40 other countries. Its commercial banking footprint encapsulates 46 million consumer and small business relationships at 4,600 banking centers and 15,900 automated teller machines (ATMs).\\nThe bank\\'s large market share, business activities, and economic impact has led to numerous lawsuits and investigations regarding both mortgages and financial disclosures dating back to the 2008 financial crisis. Its corporate practices of servicing the middle class and wider banking community have yielded a substantial market share since the early 20th century. As of August 2018, Bank of America has a $313.5 billion market capitalization, making it the 13th largest company in the world. As the sixth largest American public company, it garnered $102.98 billion in sales as of June 2018. Bank of America was ranked #25 on the 2020 Fortune 500 rankings of the largest US corporations by total revenue. Likewise, Bank of America was also ranked #6 on the 2023 Global 2000 rankings done by Forbes. Bank of America was named the \"World\\'s Best Bank\" by the Euromoney Institutional Investor in its 2018 Awards for Excellence.\\n\\n', 'Finance')\n",
            "(\"The European Central Bank (ECB) is the prime component of the Eurosystem and the European System of Central Banks (ESCB) as well as one of seven institutions of the European Union. It is one of the world's most important central banks.\\nThe ECB Governing Council makes monetary policy for the Eurozone and the European Union, administers the foreign exchange reserves of EU member states, engages in foreign exchange operations, and defines the intermediate monetary objectives and key interest rate of the EU. The ECB Executive Board enforces the policies and decisions of the Governing Council, and may direct the national central banks when doing so. The ECB has the exclusive right to authorise the issuance of euro banknotes. Member states can issue euro coins, but the volume must be approved by the ECB beforehand. The bank also operates the TARGET2 payments system.\\nThe ECB was established by the Treaty of Amsterdam in May 1999 with the purpose of guaranteeing and maintaining price stability. On 1 December 2009, the Treaty of Lisbon became effective and the bank gained the official status of an EU institution. When the ECB was created, it covered a Eurozone of eleven members. Since then, Greece joined in January 2001, Slovenia in January 2007, Cyprus and Malta in January 2008, Slovakia in January 2009, Estonia in January 2011, Latvia in January 2014, Lithuania in January 2015 and Croatia in January 2023. The current President of the ECB is Christine Lagarde. Seated in Frankfurt, Germany, the bank formerly occupied the Eurotower prior to the construction of its new seat.\\nThe ECB is directly governed by European Union law. Its capital stock, worth €11 billion, is owned by all 27 central banks of the EU member states as shareholders. The initial capital allocation key was determined in 1998 on the basis of the states' population and GDP, but the capital key has been readjusted since. Shares in the ECB are not transferable and cannot be used as collateral.\", 'Finance')\n",
            "(\"A public bank is a bank, a financial institution, in which a state, municipality, or public actors are the owners. It is an enterprise under government control. Prominent among current public banking models are the Bank of North Dakota, the Sparkassen-Finanzgruppe in Germany, and many nations’ postal bank systems.\\nPublic or 'state-owned' banks proliferated globally in the late 19th and early 20th centuries as vital agents of industrialisation in capitalist and socialist countries alike; as late as 2012, state banks still owned and controlled up to 25 per cent of total global banking assets.Proponents of public banking argue that policymakers can create public-sector banks to reduce the costs of government services and infrastructure; protect and aid local banks; offer banking services to people and entities underserved by private-sector banking; and promote particular kinds of economic development reflecting polities’ shared notions of social good. The 2015 Addis Ababa Financing for Development Action Agenda noted that public banks should have an important role in achieving the new Sustainable Development Goals. Increasingly, major international financial institutions are recognising the positive and catalytic role public banks can serve in the coming low carbon climate resilient transition. Further, international NGOs and critical scholars argue that public banks can play a significant role in financing a just and equitable energy transition.\\n\\n\", 'Finance')\n",
            "('JPMorgan Chase Bank, N.A., doing business as Chase, is an American national bank headquartered in New York City, that constitutes the consumer and commercial banking subsidiary of the U.S. multinational banking and financial services holding company, JPMorgan Chase. The bank was known as Chase Manhattan Bank until it merged with J.P. Morgan & Co. in 2000. Chase Manhattan Bank was formed by the merger of the Chase National Bank and the Manhattan Company in 1955. The bank merged with Chemical Bank New York in 1996 and later merged with Bank One Corporation in 2004 and in 2008 acquired the deposits and most assets of Washington Mutual.\\nChase offers more than 5,100 branches and 17,000 ATMs nationwide and has 18.5 million checking accounts and 25 million debit card users as of 2023. JPMorgan Chase & Co. has 250,355 employees (as of 2016) and operates in more than 100 countries. JPMorgan Chase & Co. had assets of $3.31 trillion in 2022 which makes it the largest bank in the United States as well as the bank with the most branches in the United States and the only bank with a presence in all of the contiguous United States. JPMorgan Chase, through its Chase subsidiary, is one of the Big Four banks of the United States.', 'Finance')\n",
            "('The International Monetary Fund (IMF) is a major financial agency of the United Nations, and an international financial institution funded by 190 member countries, with headquarters in Washington, D.C. It is regarded as the global lender of last resort to national governments, and a leading supporter of exchange-rate stability. Its stated mission is \"working to foster global monetary cooperation, secure financial stability, facilitate international trade, promote high employment and sustainable economic growth, and reduce poverty around the world.\" Established on December 27, 1945 at the Bretton Woods Conference, primarily according to the ideas of Harry Dexter White and John Maynard Keynes, it started with 29 member countries and the goal of reconstructing the international monetary system after World War II. It now plays a central role in the management of balance of payments difficulties and international financial crises. Through a quota system, countries contribute funds to a pool from which countries can borrow if they experience balance of payments problems. As of 2016, the fund had SDR 477 billion (about US$667 billion).The IMF works to stabilize and foster the economies of its member countries by its use of the fund, as well as other activities such as gathering and analyzing economic statistics and surveillance of its members\\' economies. IMF funds come from two major sources: quotas and loans. Quotas, which are pooled funds from member nations, generate most IMF funds. The size of members\\' quotas increase according to their economic and financial importance in the world. The quotas are increased periodically as a means of boosting the IMF\\'s resources in the form of special drawing rights.The current managing director (MD) and chairwoman of the IMF is Bulgarian economist Kristalina Georgieva, who has held the post since October 1, 2019. Indian-American economist Gita Gopinath, previously the chief economist, was appointed as first deputy managing director, effective January 21, 2022. Pierre-Olivier Gourinchas was appointed chief economist on January 24, 2022.', 'Finance')\n",
            "('Fintech, a portmanteau of \"financial technology\", refers to firms using new technology to compete with traditional financial methods in the delivery of financial services. Artificial intelligence, blockchain, cloud computing, and big data are regarded as the \"ABCD\" (four key areas) of fintech. The use of smartphones for mobile banking, investing, borrowing services, and cryptocurrency are examples of technologies designed to make financial services more accessible to the general public. Fintech companies consist of both startups and established financial institutions and technology companies trying to replace or enhance the usage of financial services provided by existing financial companies.\\n\\n', 'Finance')\n",
            "('In Celtic cultures, a bard is a professional story teller, verse-maker, music composer, oral historian and genealogist, employed by a patron (such as a monarch or chieftain) to commemorate one or more of the patron\\'s ancestors and to praise the patron\\'s own activities.\\nWith the decline of a living bardic tradition in the modern period, the term has loosened to mean a generic minstrel or author (especially a famous one). For example, William Shakespeare and Rabindranath Tagore are respectively known as \"the Bard of Avon\" (often simply \"the Bard\") and \"the Bard of Bengal\". In 16th-century Scotland, it turned into a derogatory term for an itinerant musician; nonetheless it was later romanticised by Sir Walter Scott (1771–1832).', 'Finance')\n",
            "('American Express Company (Amex) is an American bank holding company and multinational financial services corporation that specializes in payment cards. It is headquartered at 200 Vesey Street, also known as American Express Tower, in the Battery Park City neighborhood of Lower Manhattan. \\nAmex is the fourth largest card network globally based on purchase volume, behind China UnionPay, Visa, and Mastercard and had 133.3 million cards in force worldwide as of December 31, 2022, with an average spending per card member in 2022 of $23,496. In 2022, it handled over $1.5 trillion in purchase volume on its network. It is on the list of largest banks in the United States. The company is ranked 77th on the Fortune 500 and 28th on the list of the most valuable brands by Forbes.Founded in 1850 as an express mail dispatcher, the company introduced financial and travel services to clientele during the early 1900s. American Express developed its first paper charge card in 1958, gold card in 1966, green card in 1969, platinum card in 1984, and Centurion Card in 1999. The \"Don\\'t Leave Home Without It\" advertising campaign was introduced in 1975 and renewed in 2005. In the 1980s, acquired and divested a stake in Shearson. In the 1990s, the company discontinued cutting interchange fees for merchants who exclusively accepted Amex cards and expanded market share through targeted marketing campaigns. Amex converted into a bank holding company during the 2007–2008 financial crisis. Amex began operating airport lounges in 2013, offering access to certain cardholders.\\nThe company\\'s logo, adopted in 1958, is a gladiator or centurion, whose image appears on the company\\'s traveller\\'s cheques, charge cards, and credit cards.\\n\\n', 'Finance')\n",
            "('Investment banking pertains to certain activities of a financial services company or a corporate division that consist in advisory-based financial transactions on behalf of individuals, corporations, and governments. Traditionally associated with corporate finance, such a bank might assist in raising financial capital by underwriting or acting as the client\\'s agent in the issuance of debt or equity securities. An investment bank may also assist companies involved in mergers and acquisitions (M&A) and provide ancillary services such as market making, trading of derivatives and equity securities, FICC services (fixed income instruments, currencies, and commodities) or research (macroeconomic, credit or equity research). Most investment banks maintain prime brokerage and asset management departments in conjunction with their investment research businesses. As an industry, it is broken up into the Bulge Bracket (upper tier), Middle Market (mid-level businesses), and boutique market (specialized businesses).\\nUnlike commercial banks and retail banks, investment banks do not take deposits. From the passage of Glass–Steagall Act in 1933 until its repeal in 1999 by the Gramm–Leach–Bliley Act, the United States maintained a separation between investment banking and commercial banks. Other industrialized countries, including G7 countries, have historically not maintained such a separation. As part of the Dodd–Frank Wall Street Reform and Consumer Protection Act of 2010 (Dodd–Frank Act of 2010), the Volcker Rule asserts some institutional separation of investment banking services from commercial banking.All investment banking activity is classed as either \"sell side\" or \"buy side\". The \"sell side\" involves trading securities for cash or for other securities (e.g. facilitating transactions, market-making), or the promotion of securities (e.g. underwriting, research, etc.). The \"buy side\" involves the provision of advice to institutions that buy investment services. Private equity funds, mutual funds, life insurance companies, unit trusts, and hedge funds are the most common types of buy-side entities.\\nAn investment bank can also be split into private and public functions with a screen separating the two to prevent information from crossing. The private areas of the bank deal with private insider information that may not be publicly disclosed, while the public areas, such as stock analysis, deal with public information. An advisor who provides investment banking services in the United States must be a licensed broker-dealer and subject to U.S. Securities and Exchange Commission (SEC) and Financial Industry Regulatory Authority (FINRA) regulation.\\n\\n', 'Finance')\n",
            "('Snowboards are boards where the user places both feet, usually secured, to the same board. The board itself is wider than most skis, with the ability to glide on snow. Snowboards widths are between 6 and 12 inches or 15 to 30 centimeters. Snowboards are differentiated from monoskis by the stance of the user. In monoskiing, the user stands with feet inline with direction of travel (facing tip of monoski/downhill) (parallel to long axis of board), whereas in snowboarding, users stand with feet transverse (more or less) to the longitude of the board. Users of such equipment may be referred to as snowboarders. Commercial snowboards generally require extra equipment such as bindings and special boots which help secure both feet of a snowboarder, who generally ride in an upright position. These types of boards are commonly used by people at ski hills, mountains, backcountry, or resorts for leisure, entertainment, and competitive purposes in the activity called snowboarding.', 'Sport')\n",
            "(\"Association football, more commonly known as football or soccer, is a team sport played between two teams of 11 players each, who primarily use their feet to propel a ball around a rectangular field called a pitch. The objective of the game is to score more goals than the opposing team by moving the ball beyond the goal line into a rectangular-framed goal defended by the opposing team. Traditionally, the game has been played over two 45-minute halves, for a total match time of 90 minutes. With an estimated 250 million players active in over 200 countries and territories, it is the world's most popular sport.\\nThe game of association football is played in accordance with the Laws of the Game, a set of rules that has been in effect since 1863 and maintained by the IFAB since 1886. The game is played with a football that is 68–70 cm (27–28 in) in circumference. The two teams compete to get the ball into the other team's goal (between the posts and under the bar), thereby scoring a goal. When the ball is in play, the players mainly use their feet, but may use any other part of their body, except for their hands or arms, to control, strike, or pass the ball. Only the goalkeepers may use their hands and arms, and only then within the penalty area. The team that has scored more goals at the end of the game is the winner. Depending on the format of the competition, an equal number of goals scored may result in a draw being declared, or the game goes into extra time or a penalty shoot-out.Internationally, association football is governed by FIFA. Under FIFA, there are six continental confederations: AFC, CAF, CONCACAF, CONMEBOL, OFC and UEFA. Of these confederations, CONMEBOL is the oldest one, being founded in 1916. National associations (e.g. The FA or JFA) are responsible for managing the game in their own countries both professionally and at an amateur level, and coordinating competitions in accordance with the Laws of the Game. The most senior and prestigious international competitions are the FIFA World Cup and the FIFA Women's World Cup. The men's World Cup is the most-viewed sporting event in the world, surpassing the Olympic Games. The two most prestigious competitions in European club football are the UEFA Champions League and the UEFA Women's Champions League, which attract an extensive television audience throughout the world. Since 2009, the final of the men's tournament has been the most-watched annual sporting event in the world.\\n\\n\", 'Sport')\n",
            "('Badminton is a racquet sport played using racquets to hit a shuttlecock across a net. Although it may be played with larger teams, the most common forms of the game are \"singles\" (with one player per side) and \"doubles\" (with two players per side). Badminton is often played as a casual outdoor activity in a yard or on a beach; formal games are played on a rectangular indoor court. Points are scored by striking the shuttlecock with the racquet and landing it within the other team\\'s half of the court.\\nEach side may only strike the shuttlecock once before it passes over the net. Play ends once the shuttlecock has struck the floor or ground, or if a fault has been called by the umpire, service judge, or (in their absence) the opposing side.The shuttlecock is a feathered or (in informal matches) plastic projectile that flies differently from the balls used in many other sports. In particular, the feathers create much higher drag, causing the shuttlecock to decelerate more rapidly. Shuttlecocks also have a high top speed compared to the balls in other racquet sports. The flight of the shuttlecock gives the sport its distinctive nature.\\nThe game developed in British India from the earlier game of battledore and shuttlecock. European play came to be dominated by Denmark but the game has become very popular in Asia, with recent competitions dominated by China. In 1992, badminton debuted as a Summer Olympic sport with four events: men\\'s singles, women\\'s singles, men\\'s doubles, and women\\'s doubles; mixed doubles was added four years later. At high levels of play, the sport demands excellent fitness: players require aerobic stamina, agility, strength, speed, and precision. It is also a technical sport, requiring good motor coordination and the development of sophisticated racquet movements.', 'Sport')\n",
            "('Baseball is a bat-and-ball sport played between two teams of nine players each, taking turns batting and fielding. The game occurs over the course of several plays, with each play generally beginning when a player on the fielding team, called the pitcher, throws a ball that a player on the batting team, called the batter, tries to hit with a bat. The objective of the offensive team (batting team) is to hit the ball into the field of play, away from the other team\\'s players, allowing its players to run the bases, having them advance counter-clockwise around four bases to score what are called \"runs\". The objective of the defensive team (referred to as the fielding team) is to prevent batters from becoming runners, and to prevent runners\\' advance around the bases. A run is scored when a runner legally advances around the bases in order and touches home plate (the place where the player started as a batter).\\nThe principal objective of the batting team is to have a player reach first base safely; this generally occurs either when the batter hits the ball and reaches first base before an opponent retrieves the ball and touches the base, or when the pitcher persists in throwing the ball out of the batter\\'s reach. Players on the batting team who reach first base without being called \"out\" can attempt to advance to subsequent bases as a runner, either immediately or during teammates\\' turns batting. The fielding team tries to prevent runs by getting batters or runners \"out\", which forces them out of the field of play. The pitcher can get the batter out by throwing three pitches which result in strikes, while fielders can get the batter out by catching a batted ball before it touches the ground, and can get a runner out by tagging them with the ball while the runner is not touching a base.\\nThe opposing teams switch back and forth between batting and fielding; the batting team\\'s turn to bat is over once the fielding team records three outs. One turn batting for each team constitutes an inning. A game is usually composed of nine innings, and the team with the greater number of runs at the end of the game wins. Most games end after the ninth inning, but if scores are tied at that point, extra innings are usually played. Baseball has no game clock, though some competitions feature pace-of-play regulations such as the pitch clock to shorten game time.\\nBaseball evolved from older bat-and-ball games already being played in England by the mid-18th century. This game was brought by immigrants to North America, where the modern version developed. Baseball\\'s American origins, as well as its reputation as a source of escapism during troubled points in American history such as the American Civil War and the Great Depression, have led the sport to receive the moniker of \"America\\'s Pastime\"; since the late 19th century, it has been unofficially recognized as the national sport of the United States, though in modern times is considered less popular than other sports, such as American football. In addition to North America, baseball is considered the most popular sport in parts of Central and South America, the Caribbean, and East Asia, particularly in Japan, South Korea, and Taiwan.\\nIn Major League Baseball (MLB), the highest level of professional baseball in the United States and Canada, teams are divided into the National League (NL) and American League (AL), each with three divisions: East, West, and Central. The MLB champion is determined by playoffs that culminate in the World Series. The top level of play is similarly split in Japan between the Central and Pacific Leagues and in Cuba between the West League and East League. The World Baseball Classic, organized by the World Baseball Softball Confederation, is the major international competition of the sport and attracts the top national teams from around the world. Baseball was played at the Olympic Games from 1992 to 2008, and was reinstated in 2020.', 'Sport')\n",
            "('Swimming is the self-propulsion of a person through water, or other liquid, usually for recreation, sport, exercise, or survival. Locomotion is achieved through coordinated movement of the limbs and the body to achieve hydrodynamic thrust that results in directional motion. Humans can hold their breath underwater and undertake rudimentary locomotive swimming within weeks of birth, as a survival response.Swimming is consistently among the top public recreational activities, and in some countries, swimming lessons are a compulsory part of the educational curriculum.  As a formalized sport, swimming is featured in a range of local, national, and international competitions, including every modern Summer Olympics.\\nSwimming involves repeated motions known as strokes in order to propel the body forward. While the front crawl, also known as freestyle, is widely regarded as the fastest of the four main strokes, other strokes are practiced for special purposes, such as training.\\nThere are various risks present during swimming, mainly due to it taking place in water. Swimmers are at risk of incapacitation due to panic and exhaustion, which may cause death due to drowning. Other dangers include getting an infection or contact with hostile aquatic fauna. To minimize these risks, most facilities employ a lifeguard to look for signs of distress.\\nSwimmers often wear specialized swimwear, although depending on the culture of the area, some swimmers may also swim nude or wear their day attire. In addition to this, a variety of equipment can be used to enhance the swimming experience or performance, including but not limited to the use of swimming goggles, floatation devices, swim fins, and snorkels.', 'Sport')\n",
            "('Football is a family of team sports that involve, to varying degrees, kicking a ball to score a goal.  Unqualified, the word football normally means the form of football that is the most popular where the word is used. Sports commonly called football include association football (known as soccer in North America, Ireland and Australia); gridiron football (specifically American football or Canadian football); Australian rules football; rugby union and rugby league; and Gaelic football. These various forms of football share, to varying degrees, common origins and are known as \"football codes\".\\nThere are a number of references to traditional, ancient, or prehistoric ball games played in many different parts of the world. Contemporary codes of football can be traced back to the codification of these games at English public schools during the 19th century. The expansion and cultural influence of the British Empire allowed these rules of football to spread to areas of British influence outside the directly controlled Empire. By the end of the 19th century, distinct regional codes were already developing: Gaelic football, for example, deliberately incorporated the rules of local traditional football games in order to maintain their heritage. In 1888, The Football League was founded in England, becoming the first of many professional football associations. During the 20th century, several of the various kinds of football grew to become some of the most popular team sports in the world.\\n\\n', 'Sport')\n",
            "('Finings are substances that are usually added at or near the completion of the processing of making wine, beer, and various nonalcoholic juice beverages. They are used to remove organic compounds, either to improve clarity or adjust flavor or aroma. The removed compounds may be sulfides, proteins, polyphenols, benzenoids, or copper ions. Unless they form a stable sediment in the final container, the spent finings are usually discarded from the beverage along with the target compounds that they capture.\\nSubstances used as finings include egg whites, blood, milk, isinglass, and Irish moss. These are still used by some producers, but more modern substances have also been introduced and are more widely used, including bentonite, gelatin, casein, carrageenan, alginate, diatomaceous earth, pectinase, pectolyase, PVPP, kieselsol (colloidal silica), copper sulfate, dried albumen (egg whites), hydrated yeast, and activated carbon.', 'Sport')\n",
            "('/pol/, short for \"Politically Incorrect\", is an anonymous political discussion imageboard on 4chan. As of 2022, it is the most active board on the site. It has had a substantial impact on Internet culture. It has acted as a platform for far-right extremism; the board is notable for its widespread racist, white supremacist, antisemitic, anti-Muslim, misogynist, and anti-LGBT content. /pol/ has been linked to various acts of real-world extremist violence. It has been described as one of the \"[centers] of 4chan mobilization\", a title also ascribed to /b/.', 'Sport')\n",
            "(\"Association football, more commonly known as football or soccer, is a team sport played between two teams of 11 players each, who primarily use their feet to propel a ball around a rectangular field called a pitch. The objective of the game is to score more goals than the opposing team by moving the ball beyond the goal line into a rectangular-framed goal defended by the opposing team. Traditionally, the game has been played over two 45-minute halves, for a total match time of 90 minutes. With an estimated 250 million players active in over 200 countries and territories, it is the world's most popular sport.\\nThe game of association football is played in accordance with the Laws of the Game, a set of rules that has been in effect since 1863 and maintained by the IFAB since 1886. The game is played with a football that is 68–70 cm (27–28 in) in circumference. The two teams compete to get the ball into the other team's goal (between the posts and under the bar), thereby scoring a goal. When the ball is in play, the players mainly use their feet, but may use any other part of their body, except for their hands or arms, to control, strike, or pass the ball. Only the goalkeepers may use their hands and arms, and only then within the penalty area. The team that has scored more goals at the end of the game is the winner. Depending on the format of the competition, an equal number of goals scored may result in a draw being declared, or the game goes into extra time or a penalty shoot-out.Internationally, association football is governed by FIFA. Under FIFA, there are six continental confederations: AFC, CAF, CONCACAF, CONMEBOL, OFC and UEFA. Of these confederations, CONMEBOL is the oldest one, being founded in 1916. National associations (e.g. The FA or JFA) are responsible for managing the game in their own countries both professionally and at an amateur level, and coordinating competitions in accordance with the Laws of the Game. The most senior and prestigious international competitions are the FIFA World Cup and the FIFA Women's World Cup. The men's World Cup is the most-viewed sporting event in the world, surpassing the Olympic Games. The two most prestigious competitions in European club football are the UEFA Champions League and the UEFA Women's Champions League, which attract an extensive television audience throughout the world. Since 2009, the final of the men's tournament has been the most-watched annual sporting event in the world.\\n\\n\", 'Sport')\n",
            "('An audio signal is a representation of sound, typically using either a changing level of electrical voltage for analog signals, or a series of binary numbers for digital signals. Audio signals have frequencies in the audio frequency range of roughly 20 to 20,000 Hz, which corresponds to the lower and upper limits of human hearing. Audio signals may be synthesized directly, or may originate at a transducer such as a microphone, musical instrument pickup, phonograph cartridge, or tape head. Loudspeakers or headphones convert an electrical audio signal back into sound.\\nDigital audio systems represent audio signals in a variety of digital formats.An audio channel or audio track is an audio signal communications channel in a storage device or mixing console.  It is used in operations such as multi-track recording and sound reinforcement.', 'Vehicle Brand')\n",
            "('Mercedes-Benz (German pronunciation: [mɛʁˌtseːdəs ˈbɛnts, -dɛs -] ), commonly referred to as Mercedes and sometimes as Benz, is a German luxury and commercial vehicle automotive brand established in 1926. Mercedes-Benz AG (a Mercedes-Benz Group subsidiary established in 2019) is headquartered in Stuttgart, Baden-Württemberg, Germany. Mercedes-Benz AG produces consumer luxury vehicles and light commercial vehicles badged as Mercedes-Benz. From November 2019 onwards, Mercedes-Benz-badged heavy commercial vehicles (trucks and buses) are managed by Daimler Truck, a former part of the Mercedes-Benz Group turned into an independent company in late 2021. In 2018, Mercedes-Benz  was the largest brand of premium vehicles in the world, having sold 2.31 million passenger cars.The brand\\'s origins lie in Daimler-Motoren-Gesellschaft\\'s 1901 Mercedes and Carl Benz\\'s 1886 Benz Patent-Motorwagen, which is widely regarded as the first internal combustion engine in a self-propelled automobile. The slogan for the brand is \"the best or nothing\".\\n\\n', 'Vehicle Brand')\n",
            "('Volkswagen (German pronunciation: [ˈfɔlksˌvaːɡn̩] ), (VW) is a German automobile manufacturer headquartered in Wolfsburg, Lower Saxony, Germany. Founded in 1937 by the German Labour Front under the Nazi Party and revived into a global brand after World War II by the British Army officer Ivan Hirst, it is known for the iconic Beetle and serves as the flagship brand of the Volkswagen Group, the largest automotive manufacturer by worldwide sales in 2016 and 2017. The group\\'s biggest market is in China, which delivers 40 per cent of its sales and profits. Its name is derived from the German-language terms Volk and Wagen, translating to \"people\\'s car\" when combined.', 'Vehicle Brand')\n",
            "(\"Suzuki Motor Corporation (Japanese: スズキ株式会社, Hepburn: Suzuki Kabushiki gaisha) is a Japanese multinational mobility manufacturer headquartered in Hamamatsu, Shizuoka. It manufactures automobiles, motorcycles, all-terrain vehicles (ATVs), outboard marine engines, wheelchairs and a variety of other small internal combustion engines. In 2016, Suzuki was the eleventh biggest automaker by production worldwide.\\nSuzuki has over 45,000 employees and has 35 production facilities in 23 countries, and 133 distributors in 192 countries. The worldwide sales volume of automobiles is the world's tenth largest, while domestic sales volume is the third largest in the country.Suzuki's domestic motorcycle sales volume is the third largest in Japan.\\n\\n\", 'Vehicle Brand')\n",
            "(\"Hyundai Group (Korean: 현대그룹; Korean pronunciation: [ˈhjəːndɛ]) is a South Korean conglomerate founded by Chung Ju-yung. The first company in the group was founded in 1947 as a construction company. With government assistance, Chung and his family members rapidly expanded into various industries, eventually becoming South Korea's second chaebol.  Chung Ju-yung was directly in control of the company until his death in 2001.\\nThe company spun off many of its better known businesses after the 1997 Asian financial crisis and founder Chung Ju-yung's death, including Hyundai Motor Group,  Hyundai Department Store Group, and Hyundai Heavy Industries Group. The Hyundai Group now focuses on elevators and tourism to Mount Kumgang.\\n\\n\", 'Vehicle Brand')\n",
            "(\"Groupe Renault (UK:  REN-oh, US:  rə-NAWLT, rə-NOH, French: [ɡʁup ʁəno], also known as the Renault Group in English; legally Renault S.A.) is a French multinational automobile manufacturer established in 1899. The company produces a range of cars and vans and in the past, has manufactured trucks, tractors, tanks, buses/coaches, aircraft and aircraft engines, and autorail vehicles.\\nAccording to the Organisation Internationale des Constructeurs d'Automobiles, in 2016 Renault was the ninth biggest automaker in the world by production volume. By 2017, the Renault–Nissan–Mitsubishi Alliance had become the world's biggest seller of light vehicles.Headquartered in Boulogne-Billancourt, near Paris, the Renault group is made up of the namesake Renault marque and subsidiaries, Alpine, Renault Sport (Gordini), Automobile Dacia from Romania, and Renault Korea Motors from South Korea. Renault has a 43.4% stake with several votes in Nissan of Japan and used to have a 1.55% stake in Daimler AG of Germany, which it sold off in early 2021 to help them overcome financial difficulties. (Since 2012, Renault has manufactured engines for Daimler's Mercedes A-Class and B-Class cars and is also fully involved in manufacturing the Mercedes-Benz Citan van). Renault also owns subsidiaries RCI Banque (automotive financing), Renault Retail Group (automotive distribution) and Motrio (automotive parts). Renault has various joint ventures, including Oyak-Renault (Turkey) and Renault Pars (Iran). The French state owns a 15% share of Renault.Renault Trucks, previously known as Renault Véhicules Industriels, has been part of Volvo since 2001. Renault Agriculture became 100% owned by German agricultural equipment manufacturer CLAAS in 2008. Renault's shareholding in AvtoVAZ is being divested to the Government of Russia as an effect of the ongoing Russian invasion of Ukraine.\\nTogether Renault and Nissan invested €4 billion (US$5.16 billion) in eight electric vehicles over three to four years beginning in 2011. Since the launch of the Renault electric program, the group has sold more than 273,000 electric vehicles worldwide through December 2019.Renault is known for its role in motor sport, particularly rallying, Formula 1 and Formula E. Its early work on mathematical curve modeling for car bodies is important in the history of computer graphics.\\n\\n\", 'Vehicle Brand')\n",
            "('The Cadillac Motor Car Division () is a division of the American automobile manufacturer General Motors (GM) that designs and builds luxury vehicles. Its major markets are the United States, Canada and China. Cadillac models are distributed in 34 additional markets worldwide. Historically, Cadillac automobiles were at the top of the luxury field within the United States, but have been outsold by European luxury brands including BMW and Mercedes since the 2000s. In 2019, Cadillac sold 390,458 vehicles worldwide, a record for the brand.Cadillac is among the first automotive brands in the world, fourth in the United States only to Autocar Company (1897) and fellow GM marques Oldsmobile (1897) and Buick (1899). It was named after Antoine de la Mothe Cadillac (1658–1730), who founded Detroit, Michigan. The Cadillac crest is based on his coat of arms.\\nBy the time General Motors purchased the company in 1909, Cadillac had already established itself as one of America\\'s premier luxury car makers. The complete interchangeability of its precision parts had allowed it to lay the foundation for the modern mass production of automobiles. It was at the forefront of technological advances, introducing full electrical systems, the clashless manual transmission and the steel roof. The brand developed three engines, with its V8 setting the standard for the American automotive industry.\\nCadillac had the first U.S. car to win the Royal Automobile Club of the United Kingdom\\'s Dewar Trophy by successfully demonstrating the interchangeability of its component parts during a reliability test in 1908; this spawned the firm\\'s slogan \"Standard of the World\". It won the trophy again in 1912 for incorporating electric starting and lighting in a production automobile.', 'Vehicle Brand')\n",
            "('Chevrolet ( SHEV-rə-LAY) (colloquially referred to as Chevy and formally the Chevrolet Motor Division of General Motors Company) is an American automobile division of the manufacturer General Motors (GM). Louis Chevrolet (1878–1941), Arthur Chevrolet (1884–1946) and ousted General Motors founder William C. Durant (1861–1947) started the company on November 3, 1911 as the Chevrolet Motor Car Company. Durant used the Chevrolet Motor Car Company to acquire a controlling stake in General Motors with a reverse merger occurring on May 2, 1918, and propelled himself back to the GM presidency. After Durant\\'s second ousting in 1919, Alfred Sloan, with his maxim \"a car for every purse and purpose\", would pick the Chevrolet brand to become the volume leader in the General Motors family, selling mainstream vehicles to compete with Henry Ford\\'s Model T in 1919 and overtaking Ford as the best-selling car in the United States by 1929 with the Chevrolet International.Chevrolet-branded vehicles are sold in most automotive markets worldwide. In Oceania, Chevrolet was represented by Holden Special Vehicles, having returned to the region in 2018 after a 50-year absence with the launching of the Camaro and Silverado pickup truck (HSV was partially and formerly owned by GM subsidiary Holden, which GM retired in 2021). In 2021, General Motors Specialty Vehicles took over the distribution and sales of Chevrolet vehicles in Oceania, starting with the Silverado. In 2005, Chevrolet was relaunched in Europe, primarily selling vehicles built by GM Daewoo of South Korea with the tagline \"Daewoo has grown up enough to become Chevrolet\", a move rooted in General Motors\\' attempt to build a global brand around Chevrolet. With the reintroduction of Chevrolet to Europe, GM intended Chevrolet to be a mainstream value brand, while GM\\'s traditional European standard-bearers, Opel of Germany and Vauxhall of the United Kingdom, would be moved upmarket. However, GM reversed this move in late 2013, announcing that the brand would be withdrawn from Europe from 2016 onward, with the exception of the Camaro and Corvette. Chevrolet vehicles were to continue to be marketed in the CIS states, including Russia. After General Motors fully acquired GM Daewoo in 2011 to create GM Korea, the last usage of the Daewoo automotive brand was discontinued in its native South Korea and succeeded by Chevrolet.\\nIn North America, Chevrolet produces and sells a wide range of vehicles, from subcompact automobiles to medium-duty commercial trucks. Due to the prominence and name recognition of Chevrolet as one of General Motors\\' global marques, \\'Chevrolet\\', \\'Chevy\\' or \\'Chev\\' is used at times as a synonym for General Motors or its products, one example being the GM LS1 engine, commonly known by the name or a variant thereof of its progenitor, the Chevrolet small-block engine.', 'Vehicle Brand')\n",
            "('Abraham Lincoln ( LINK-ən; February 12, 1809 – April 15, 1865) was an American lawyer, politician, and statesman who served as the 16th president of the United States from 1861 until his assassination in 1865. Lincoln led the Union through the American Civil War to defend the nation as a constitutional union and succeeded in defeating the insurgent Confederacy, abolishing slavery, bolstering the federal government, and modernizing the U.S. economy.\\nLincoln was born into poverty in a log cabin in Kentucky and was raised on the frontier, primarily in Indiana. He was self-educated and became a lawyer, Whig Party leader, Illinois state legislator, and U.S. congressman from Illinois. In 1849, he returned to his successful law practice in Springfield, Illinois. In 1854, he was angered by the Kansas–Nebraska Act, which opened the territories to slavery, causing him to re-enter politics. He soon became a leader of the new Republican Party. He reached a national audience in the 1858 Senate campaign debates against Stephen A. Douglas. Lincoln ran for president in 1860, sweeping the North to gain victory. Pro-slavery elements in the South viewed his election as a threat to slavery, and Southern states began seceding from the nation. During this time, the newly formed Confederate States of America began seizing federal military bases in the South. A little over one month after Lincoln assumed the presidency, Confederate forces attacked Fort Sumter, a U.S. fort in South Carolina. Following the bombardment, Lincoln mobilized forces to suppress the rebellion and restore the union.\\nLincoln, a moderate Republican, had to navigate a contentious array of factions with friends and opponents from both the Democratic and Republican parties. His allies, the War Democrats and the Radical Republicans, demanded harsh treatment of the Southern Confederates. He managed the factions by exploiting their mutual enmity, carefully distributing political patronage, and by appealing to the American people. Anti-war Democrats (called \"Copperheads\") despised Lincoln, and some irreconcilable pro-Confederate elements went so far as to plot his assassination. His Gettysburg Address came to be seen as one of the greatest and most influential statements of American national purpose. Lincoln closely supervised the strategy and tactics in the war effort, including the selection of generals, and implemented a naval blockade of the South\\'s trade. He suspended habeas corpus in Maryland and elsewhere, and averted British intervention by defusing the Trent Affair. In 1863, he issued the Emancipation Proclamation, which declared the slaves in the states \"in rebellion\" to be free. It also directed the Army and Navy to \"recognize and maintain the freedom of such persons\", and to receive them \"into the armed service of the United States.\" Lincoln pressured border states to outlaw slavery, and he promoted the Thirteenth Amendment to the U.S. Constitution, which abolished slavery, except as punishment for a crime.\\nLincoln managed his own successful re-election campaign. He sought to heal the war-torn nation through reconciliation. On April 14, 1865, just five days after the war\\'s end at Appomattox, he was attending a play at Ford\\'s Theatre in Washington, D.C., with his wife, Mary, when he was fatally shot by Confederate sympathizer John Wilkes Booth. Lincoln is remembered as a martyr and a national hero for his wartime leadership and for his efforts to preserve the Union and abolish slavery. Lincoln is often ranked in both popular and scholarly polls as the greatest president in American history.', 'Vehicle Brand')\n",
            "Topics:\n",
            "['Northeastern Unversity', 'Natural language processing', 'Machine learning', 'Quantum machine learning', 'Artificial intelligence', 'Data science', 'Master in Data Science', 'Bank of America', 'Visa Inc.', 'European Central Bank', 'Bank', 'Financial technology', 'International Monetary Fund', 'Basketball', 'Swimming', 'Tennis', 'Football', 'College Football', 'Association Football']\n"
          ]
        }
      ],
      "source": [
        "# Check the articals\n",
        "print('Summary:')\n",
        "for summary in data:\n",
        "    print(summary)\n",
        "    \n",
        "print('Topics:')\n",
        "for article in articles:\n",
        "    print(article)"
      ]
    },
    {
      "cell_type": "markdown",
      "metadata": {
        "id": "IgpRv7wQ4Dpm"
      },
      "source": [
        "### Cleaning the Data (5 points)\n",
        "In this step you will decide whether to clean the data or not. If you choose to clean, you may utilize the clean function from assignment 1.\n",
        "\n",
        "**Question:** Why are you (not) choosing to clean the data? Think in terms of whether cleaning data will help in the clustering or not."
      ]
    },
    {
      "cell_type": "markdown",
      "metadata": {
        "id": "PnZpDKcaHTGq"
      },
      "source": [
        "**Answer(1-3 sentences):**"
      ]
    },
    {
      "cell_type": "markdown",
      "metadata": {},
      "source": [
        "- I think we need to clean that. Since we download the data base on `wikipedia`，so Wikipedia summaries might contain information that's not directly related to the main topic or might contain introductory phrases or extraneous details. So, we need to clean data followed assignment 1, this is thus, different articles might have different writing styles, tenses, or formats. Standardizing the text can help algorithms process it more efficiently. "
      ]
    },
    {
      "cell_type": "code",
      "execution_count": 178,
      "metadata": {},
      "outputs": [],
      "source": [
        "# You can use Assignment 1's clean message function\n",
        "# Import Package\n",
        "import re\n",
        "import nltk\n",
        "import string"
      ]
    },
    {
      "cell_type": "code",
      "execution_count": 179,
      "metadata": {},
      "outputs": [
        {
          "name": "stderr",
          "output_type": "stream",
          "text": [
            "[nltk_data] Downloading package punkt to C:\\Users\\Andy\n",
            "[nltk_data]     Cui\\AppData\\Roaming\\nltk_data...\n",
            "[nltk_data]   Package punkt is already up-to-date!\n",
            "[nltk_data] Downloading package stopwords to C:\\Users\\Andy\n",
            "[nltk_data]     Cui\\AppData\\Roaming\\nltk_data...\n",
            "[nltk_data]   Package stopwords is already up-to-date!\n"
          ]
        }
      ],
      "source": [
        "# Download datalib\n",
        "nltk.download('punkt')\n",
        "nltk.download('stopwords')\n",
        "\n",
        "# Define stop words and stemmer\n",
        "stop_words = set(stopwords.words('english'))\n",
        "stemmer = PorterStemmer()"
      ]
    },
    {
      "cell_type": "code",
      "execution_count": 180,
      "metadata": {
        "id": "lNj53Pxr963N"
      },
      "outputs": [],
      "source": [
        "# Clean message\n",
        "def clean_message(message: str) -> list[str]: \n",
        "    '''\n",
        "    preprocess and clean a given message.\n",
        "    \n",
        "    - message: The text message to be cleaned\n",
        "    ---\n",
        "    - cleaned_message: A cleaned and preprocessed version of the message.\n",
        "    '''\n",
        "    # Remove links\n",
        "    message = re.sub(r'http\\S+', '', message)\n",
        "    \n",
        "    # Convert the message to lowercase\n",
        "    message = message.lower()\n",
        "    \n",
        "    # Remove punctuation from the message\n",
        "    message = ''.join([char for char in message if char not in string.punctuation])\n",
        "    \n",
        "    # Tokenize\n",
        "    tokens = nltk.word_tokenize(message)\n",
        "    \n",
        "    # Remove stop words\n",
        "    tokens = [token for token in tokens if token not in stop_words]\n",
        "    \n",
        "    # Stemming\n",
        "    tokens = [stemmer.stem(token) for token in tokens]\n",
        "    \n",
        "    # Convert tokens back to a single string message\n",
        "    cleaned_message = ' '.join(tokens)\n",
        "    \n",
        "    return cleaned_message"
      ]
    },
    {
      "cell_type": "markdown",
      "metadata": {
        "id": "bvRZUpmq-DmT"
      },
      "source": [
        "### Vectorize the articles (5 points)\n",
        "\n",
        "In this step, we will vectorize the text data. You can use TfidfVectorizer() or countVectorizer() from sklearn library."
      ]
    },
    {
      "cell_type": "code",
      "execution_count": 182,
      "metadata": {
        "id": "gJk8YY89-OU4"
      },
      "outputs": [],
      "source": [
        "from sklearn.feature_extraction.text import TfidfVectorizer\n",
        "\n",
        "lines: list[list[str]] = []\n",
        "lines = [clean_message(item[0]) for item in data]\n",
        "vectorizer: any = TfidfVectorizer()\n",
        "x = vectorizer.fit_transform(lines)"
      ]
    },
    {
      "cell_type": "code",
      "execution_count": 183,
      "metadata": {
        "id": "DAIGlqEuINWA"
      },
      "outputs": [
        {
          "name": "stdout",
          "output_type": "stream",
          "text": [
            "['100' '10298' '1073' ... 'ˈhjəːndɛ' 'スズキ株式会社' '현대그룹'] \n",
            "\n",
            "(36, 2178)\n"
          ]
        }
      ],
      "source": [
        "print(vectorizer.get_feature_names_out(), '\\n')\n",
        "print(x.shape)"
      ]
    },
    {
      "cell_type": "markdown",
      "metadata": {
        "id": "PKLvrKHRQaQq"
      },
      "source": [
        "### Sample Output:\n",
        "(36, 1552)"
      ]
    },
    {
      "cell_type": "markdown",
      "metadata": {
        "id": "M5ZrGrzD_G8d"
      },
      "source": [
        "### Plot Articles (10 points)\n",
        "Now we will try to verify the groups of articles using T-SNE from sklearn library."
      ]
    },
    {
      "cell_type": "code",
      "execution_count": 184,
      "metadata": {
        "id": "SjcuZBOe-oZq"
      },
      "outputs": [],
      "source": [
        "from sklearn.manifold import TSNE\n",
        "\n",
        "# Transform the vectorized data using TSNE\n",
        "tsne: any = TSNE(n_components = 2, random_state = 42)\n",
        "x_tsne: any = tsne.fit_transform(x.toarray())"
      ]
    },
    {
      "cell_type": "markdown",
      "metadata": {
        "id": "iCY_blxjO1bs"
      },
      "source": [
        "Plot and annotate the points with different markers for different expected groups."
      ]
    },
    {
      "cell_type": "code",
      "execution_count": 186,
      "metadata": {
        "colab": {
          "base_uri": "https://localhost:8080/",
          "height": 483
        },
        "id": "3ODUA1Vf-rRd",
        "outputId": "325b5db4-60d1-4907-a487-40893e256ee1"
      },
      "outputs": [
        {
          "data": {
            "image/png": "[encoded data removed]",
            "text/plain": [
              "<Figure size 1000x800 with 1 Axes>"
            ]
          },
          "metadata": {},
          "output_type": "display_data"
        }
      ],
      "source": [
        "import matplotlib.pyplot as plt\n",
        "from matplotlib.patches import Patch\n",
        "\n",
        "# Create a color map for each category\n",
        "color_map = {\n",
        "    \"Major\": 'r',\n",
        "    \"Finance\": 'g',\n",
        "    \"Sport\": 'b',\n",
        "    \"Vehicle Brand\": 'y'\n",
        "}\n",
        "\n",
        "# Extract the categories and transform them to colors using the color map\n",
        "colors = [color_map[category] for _, category in data]\n",
        "\n",
        "# Create legend elements\n",
        "legend_elements = [Patch(facecolor=color_map[key], edgecolor='w', label=key) for key in color_map.keys()]\n",
        "\n",
        "# get a figure handle\n",
        "fig,ax = plt.subplots(figsize = (10, 8))\n",
        "\n",
        "# Plot the t-SNE results on the figure and axis handles\n",
        "ax.scatter(x_tsne[:, 0], x_tsne[:, 1], c=colors, alpha=0.7, edgecolors='w', linewidth=0.5)\n",
        "ax.legend(handles = legend_elements, loc='upper right')\n",
        "\n",
        "ax.set_xlabel('t-SNE Dimension 1')\n",
        "ax.set_ylabel('t-SNE Dimension 2')\n",
        "ax.set_title('t-SNE visualization of the data with category colors')\n",
        "\n",
        "ax.grid(True)\n",
        "plt.show()"
      ]
    },
    {
      "cell_type": "markdown",
      "metadata": {
        "id": "dYcEi1EC_UGO"
      },
      "source": [
        "**Question:** Comment about the categorizion done by T-SNE. Do the articles of related topics cluster together? (5 points)"
      ]
    },
    {
      "cell_type": "markdown",
      "metadata": {
        "id": "tde1Wu5HI6AA"
      },
      "source": [
        "**Answer(1-3 sentences):**  \n",
        "  \n"
      ]
    },
    {
      "cell_type": "markdown",
      "metadata": {
        "id": "U2xrJddIpSsd"
      },
      "source": [
        "# Question 3 Building Neural Networks\n",
        "\n",
        "### We are gonna use Emotions Dataset for this task. We need to classify the given text into different kind of emotions like happy,sad,anger etc..,\n",
        "\n",
        "### We are providing train.txt and val.txt files along with this notebook."
      ]
    },
    {
      "cell_type": "markdown",
      "metadata": {
        "id": "NJYmVbkvphgX"
      },
      "source": [
        "### Library Imports and Utility functions"
      ]
    },
    {
      "cell_type": "code",
      "execution_count": null,
      "metadata": {
        "id": "BO-HU-7uorVX"
      },
      "outputs": [],
      "source": [
        "from sklearn.feature_extraction.text import CountVectorizer\n",
        "from sklearn.feature_extraction.text import TfidfVectorizer\n",
        "import nltk\n",
        "from nltk.corpus import stopwords\n",
        "from nltk.stem import PorterStemmer\n",
        "from nltk.tokenize import word_tokenize\n",
        "import string\n",
        "import pandas as pd\n",
        "import re\n",
        "#string.punctuation\n",
        "import nltk\n",
        "nltk.download('stopwords')\n",
        "nltk.download('wordnet')\n",
        "nltk.download('words')\n",
        "\n",
        "stopword = nltk.corpus.stopwords.words('english')\n",
        "wn = nltk.WordNetLemmatizer()\n",
        "ps = nltk.PorterStemmer()\n",
        "words = set(nltk.corpus.words.words())\n",
        "\n",
        "\n",
        "def clean_text(text):\n",
        "  # From the last assignment\n",
        "    text = text.lower()\n",
        "    text = re.sub(r\"http\\S+\", \"\", text)\n",
        "    text = re.sub(r\"www.\\S+\", \"\", text)\n",
        "    text_links_removed = \"\".join([char for char in text if char not in string.punctuation])\n",
        "    text_cleaned = \" \".join([word for word in re.split('\\W+', text_links_removed)\n",
        "        if word not in stopword])\n",
        "    text = \" \".join([wn.lemmatize(word) for word in re.split('\\W+', text_cleaned)])\n",
        "    return text"
      ]
    },
    {
      "cell_type": "markdown",
      "metadata": {
        "id": "B0D5wVjZw7s0"
      },
      "source": [
        "### Q) Importing the datasets and do the necessary cleaning and convert the text into the vectors which are mentioned in the below code blocks. (10 points)"
      ]
    },
    {
      "cell_type": "code",
      "execution_count": null,
      "metadata": {
        "id": "MOMhmIlGprK9"
      },
      "outputs": [],
      "source": [
        "# Import the train.txt and val.txt file into pandas dataframe format\n",
        "\n",
        "# train\n",
        "\n",
        "# validation\n",
        "\n",
        "# and printout the train.shape and validation.shape\n",
        "\n",
        "# expected shape of train dataset is (16000,2) and validation dataset is (2000,2)"
      ]
    },
    {
      "cell_type": "code",
      "execution_count": null,
      "metadata": {
        "id": "PS7K3p7AqAI8"
      },
      "outputs": [],
      "source": [
        "# clean the text in the train and validation dataframes using the clean_text function provided above"
      ]
    },
    {
      "cell_type": "code",
      "execution_count": null,
      "metadata": {
        "id": "GxZC6RIjq3bu"
      },
      "outputs": [],
      "source": [
        "# initialise count vectorizer from sklearn module with default parameter\n",
        "\n",
        "# fit on train dataset and transform both train and validation dataset"
      ]
    },
    {
      "cell_type": "code",
      "execution_count": null,
      "metadata": {
        "id": "85nuazEzq3YT"
      },
      "outputs": [],
      "source": [
        "# initialise tfidf vectorizer from sklearn module with default parameter\n",
        "\n",
        "# fit on train dataset and transform both train and validation dataset"
      ]
    },
    {
      "cell_type": "code",
      "execution_count": null,
      "metadata": {
        "id": "jgHWAuG-q3Vm"
      },
      "outputs": [],
      "source": [
        "# initialise label encoder from sklearn module\n",
        "\n",
        "# fit on train labels and transform both train and validation labels"
      ]
    },
    {
      "cell_type": "code",
      "execution_count": null,
      "metadata": {
        "id": "Wjdye0tvq3So"
      },
      "outputs": [],
      "source": [
        "# convert the labels into one hot encoding form"
      ]
    },
    {
      "cell_type": "markdown",
      "metadata": {
        "id": "xjsiH8YOw-Da"
      },
      "source": [
        "### Q) Build the neural networks using tensorflow keras by following the below instructions. Evaluate the model on different metrics and comment your observations. (20 points)"
      ]
    },
    {
      "cell_type": "code",
      "execution_count": null,
      "metadata": {
        "id": "AQg14bkTq3KB"
      },
      "outputs": [],
      "source": [
        "import tensorflow as tf\n",
        "\n",
        "tf.random.set_seed(42)\n",
        "\n",
        "\n",
        "# complete this linear model in tensorflow\n",
        "def build_model(X):\n",
        "\n",
        "  # layer 1 : input layer\n",
        "  inp = tf.keras.Input((X.shape[1],))\n",
        "\n",
        "  # layer 2 : add the dense layer with 2048 units and relu activation\n",
        "\n",
        "  # layer 3 : add the dropout layer with dropout rate of 0.5\n",
        "\n",
        "  # layer 4 : add the dense layer with 1024 units with tanh activation and with l2 regularization\n",
        "\n",
        "  # layer 5 : add the dropout layer with dropout rate of 0.5\n",
        "\n",
        "  # layer 6 : add the dense layer with 512 units with tanh activation and with l2 regularization\n",
        "\n",
        "  # layer 7 : add the dropout layer with dropout rate of 0.5\n",
        "\n",
        "  # layer 8 : add the dense layer with 256 units with tanh activation and with l2 regularization\n",
        "\n",
        "  # layer 9 : add the dropout layer with dropout rate of 0.5\n",
        "\n",
        "  # layer 10 : add the dense layer with 128 units with tanh activation and with l2 regularization\n",
        "\n",
        "  # layer 11 : add the dropout layer with dropout rate of 0.5\n",
        "\n",
        "  # layer 12 : output layer with units equal to number of classes and activation as softmax\n",
        "\n",
        "  # use loss as categorical crossentropy, optimizer as rmsprop and evaluate model on auc,precision,recall,accuracy\n",
        "\n",
        "  return model\n"
      ]
    },
    {
      "cell_type": "code",
      "execution_count": null,
      "metadata": {
        "id": "Q71CC1pIsx0O"
      },
      "outputs": [],
      "source": [
        "# call the build_model function and initialize the model"
      ]
    },
    {
      "cell_type": "code",
      "execution_count": null,
      "metadata": {
        "id": "KyAZNgsBsxwo"
      },
      "outputs": [],
      "source": [
        "# train and validate the model on the count vectors of text which we have created initially for 10 epochs,\n",
        "# adjust batch size according to your computation power (suggestion use : 8)"
      ]
    },
    {
      "cell_type": "code",
      "execution_count": null,
      "metadata": {
        "id": "nS02IwLCsxmG"
      },
      "outputs": [],
      "source": [
        "# plot train loss vs val loss, train auc vs val auc, train recall vs val recall, train precision vs val precision and train accuracy vs val accuracy and comment your observations"
      ]
    },
    {
      "cell_type": "code",
      "execution_count": null,
      "metadata": {
        "id": "6FHdCcp7wXyw"
      },
      "outputs": [],
      "source": [
        "# again call the build_model function and initialize the model"
      ]
    },
    {
      "cell_type": "code",
      "execution_count": null,
      "metadata": {
        "id": "k4gB80M6wXvV"
      },
      "outputs": [],
      "source": [
        "# train and validate the model on the tfidf vectors of text which we have created initially for 10 epochs,\n",
        "# adjust batch size according to your computation power (suggestion use : 8)"
      ]
    },
    {
      "cell_type": "code",
      "execution_count": null,
      "metadata": {
        "id": "EsnEOHXRwXkv"
      },
      "outputs": [],
      "source": [
        "# plot train loss vs val loss, train auc vs val auc, train recall vs val recall, train precision vs val precision and train accuracy vs val accuracy and comment your observations"
      ]
    },
    {
      "cell_type": "markdown",
      "metadata": {
        "id": "4adDDQWeQyGb"
      },
      "source": [
        "## Question 4 Theory Question  \n",
        "\n",
        "What is the difference between Count Vectorizer, TFIDF, Word2Vec and Glove? (5 points)"
      ]
    },
    {
      "cell_type": "markdown",
      "metadata": {
        "id": "cXTRkF6KRB_D"
      },
      "source": [
        "**Answer:**"
      ]
    },
    {
      "cell_type": "markdown",
      "metadata": {
        "id": "yQQsqcto79zE"
      },
      "source": [
        "What is the significant difference between the Naive Bayes Implementation using Bag of Words and TF-IDF? (5 points)"
      ]
    },
    {
      "cell_type": "markdown",
      "metadata": {
        "id": "JtiPCTZM8Aua"
      },
      "source": [
        "**Answer:**"
      ]
    },
    {
      "cell_type": "code",
      "execution_count": null,
      "metadata": {
        "id": "OaXBo1Bw8C1K"
      },
      "outputs": [],
      "source": []
    }
  ],
  "metadata": {
    "colab": {
      "provenance": []
    },
    "kernelspec": {
      "display_name": "Python 3",
      "language": "python",
      "name": "python3"
    },
    "language_info": {
      "codemirror_mode": {
        "name": "ipython",
        "version": 3
      },
      "file_extension": ".py",
      "mimetype": "text/x-python",
      "name": "python",
      "nbconvert_exporter": "python",
      "pygments_lexer": "ipython3",
      "version": "3.10.13"
    }
  },
  "nbformat": 4,
  "nbformat_minor": 0
}
