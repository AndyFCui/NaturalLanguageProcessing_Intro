{
 "cells": [
  {
   "cell_type": "markdown",
   "metadata": {},
   "source": [
    "# CS6120 NLP Fall 2023 Assignment 3\n",
    "\n",
    "## Implementing Skipgram and CBOW Algorithms\n",
    "\n",
    "### Background: \n",
    "Word embeddings are dense vector representations of words in a continuous vector space. Skipgram and CBOW are two primary algorithms introduced by Mikolov et al. in their 2013 papers that form the basis of the popular word2vec model. While both are used for generating word embeddings, they use different architectures and techniques.\n",
    "\n",
    "- Skipgram: Given a word, this model predicts the surrounding context words.\n",
    "- CBOW (Continuous Bag-of-Words): Given context words, this model predicts the target word."
   ]
  },
  {
   "cell_type": "markdown",
   "metadata": {},
   "source": [
    "### Tasks:\n",
    "1. Data Collection:\n",
    "Download the text8 dataset, which is a cleaned version of the first 100MB of the English Wikipedia dump. It is available on several NLP data repositories.\n",
    "\n"
   ]
  },
  {
   "cell_type": "code",
   "execution_count": 2,
   "metadata": {},
   "outputs": [],
   "source": [
    "import requests\n",
    "\n",
    "# Download the dataset\n",
    "url = \"http://mattmahoney.net/dc/text8.zip\"\n",
    "response = requests.get(url, allow_redirects = True)\n",
    "\n",
    "with open('text8.zip', 'wb') as f:\n",
    "    f.write(response.content)"
   ]
  },
  {
   "cell_type": "code",
   "execution_count": 3,
   "metadata": {},
   "outputs": [
    {
     "name": "stdout",
     "output_type": "stream",
     "text": [
      " anarchism originated as a term of abuse first used against early working class radicals including the diggers of the english revolution and the sans culottes of the french revolution whilst the term is still used in a pejorative way to describe any act that used violent means to destroy the organization of society it has also been taken up as a positive label by self defined anarchists the word anarchism is derived from the greek without archons ruler chief king anarchism as a political philosophy is the belief that rulers are unnecessary and should be abolished although there are differing interpretations of what this means anarchism also refers to related social movements that advocate the elimination of authoritarian institutions particularly the state the word anarchy as most anarchists use it does not imply chaos nihilism or anomie but rather a harmonious anti authoritarian society in place of what are regarded as authoritarian political structures and coercive economic instituti\n",
      "<class 'str'>\n",
      "The length of the `data` is 100000000\n"
     ]
    }
   ],
   "source": [
    "# Loading and preparing the text8 dataset\n",
    "with open('text8', 'r') as file:\n",
    "    data = file.read()\n",
    "    \n",
    "print(data[:1000])\n",
    "print(type(data))\n",
    "print('The length of the {} is {}' .format('`data`', len(data)))"
   ]
  },
  {
   "cell_type": "markdown",
   "metadata": {},
   "source": [
    "2. Pre-processing:\n",
    "- Tokenize the dataset.\n",
    "- Remove stopwords and non-alphabetic tokens.\n",
    "- Build a vocabulary of the most frequent words (e.g., top 10,000 or 20,000 words)."
   ]
  },
  {
   "cell_type": "code",
   "execution_count": 51,
   "metadata": {},
   "outputs": [],
   "source": [
    "# import package\n",
    "import numpy as np\n",
    "import sklearn\n",
    "from sklearn.feature_extraction.text import TfidfVectorizer\n",
    "from sklearn.datasets import fetch_20newsgroups\n",
    "from pprint import pprint\n",
    "from sklearn.feature_extraction.text import CountVectorizer\n",
    "from sklearn import preprocessing\n",
    "import pandas as pd\n",
    "import re\n",
    "import numpy as np\n",
    "from nltk.tokenize import  word_tokenize\n",
    "import nltk\n",
    "from sklearn.naive_bayes import MultinomialNB\n",
    "from sklearn import metrics\n",
    "# add more packages\n",
    "from typing import Dict\n",
    "from typing import Set\n",
    "from typing import List\n",
    "import math\n",
    "from sklearn.feature_extraction.text import TfidfVectorizer\n",
    "from sklearn.metrics import f1_score, accuracy_score\n",
    "from collections import defaultdict\n",
    "from nltk.corpus import stopwords\n",
    "import string\n",
    "import numpy as np\n",
    "from nltk.stem import PorterStemmer\n",
    "from sklearn.metrics import confusion_matrix\n",
    "import seaborn as sns\n",
    "from sklearn.metrics import classification_report\n",
    "import matplotlib.pyplot as plt\n",
    "from collections import Counter\n",
    "import torch\n",
    "import torch.nn as nn\n",
    "import torch.optim as optim\n",
    "from tqdm import tqdm\n",
    "import random\n",
    "from math import sqrt\n",
    "from itertools import chain\n",
    "from torch.utils.data import Dataset, DataLoader"
   ]
  },
  {
   "cell_type": "code",
   "execution_count": 5,
   "metadata": {},
   "outputs": [],
   "source": [
    "# Clean data\n",
    "def clean_corpus(line: list[str]) -> list[str]:\n",
    "    '''\n",
    "    preprocess and clean a given line.\n",
    "\n",
    "    - line: The text line to be cleaned.\n",
    "    ---\n",
    "    - list: A list of preprocessed tokens from the line.\n",
    "    '''\n",
    "    tokens = word_tokenize(line)\n",
    "    tokens = [word for word in tokens if word.isalpha() and word not in stop_words]  \n",
    "    return tokens\n"
   ]
  },
  {
   "cell_type": "code",
   "execution_count": 38,
   "metadata": {},
   "outputs": [
    {
     "name": "stdout",
     "output_type": "stream",
     "text": [
      "10888361\n"
     ]
    },
    {
     "data": {
      "text/plain": [
       "['anarchism',\n",
       " 'originated',\n",
       " 'term',\n",
       " 'abuse',\n",
       " 'first',\n",
       " 'used',\n",
       " 'early',\n",
       " 'working',\n",
       " 'class',\n",
       " 'radicals']"
      ]
     },
     "execution_count": 38,
     "metadata": {},
     "output_type": "execute_result"
    }
   ],
   "source": [
    "# Preprocessing the data\n",
    "lines: list[list[str]] = []\n",
    "\n",
    "# Predefined list of stop words\n",
    "stop_words: set = set(stopwords.words('english'))\n",
    "\n",
    "# Tokenize the text documents and update the lists word_list and lines\n",
    "lines = clean_corpus(data)\n",
    "print(len(lines))\n",
    "lines[:10]"
   ]
  },
  {
   "cell_type": "code",
   "execution_count": 41,
   "metadata": {},
   "outputs": [
    {
     "data": {
      "text/plain": [
       "['one',\n",
       " 'zero',\n",
       " 'nine',\n",
       " 'two',\n",
       " 'eight',\n",
       " 'five',\n",
       " 'three',\n",
       " 'four',\n",
       " 'six',\n",
       " 'seven',\n",
       " 'also',\n",
       " 'first',\n",
       " 'many',\n",
       " 'new',\n",
       " 'used',\n",
       " 'american',\n",
       " 'time',\n",
       " 'see',\n",
       " 'may',\n",
       " 'world']"
      ]
     },
     "execution_count": 41,
     "metadata": {},
     "output_type": "execute_result"
    }
   ],
   "source": [
    "# Build a vocabulary of the most frequent words (e.g., top 10,000 or 20,000 words).\n",
    "word_counts = Counter(lines)\n",
    "top_freq_words = [word for word, count in word_counts.most_common(10000)]\n",
    "top_freq_words[:10]\n"
   ]
  },
  {
   "cell_type": "markdown",
   "metadata": {},
   "source": [
    "### Subsampling data"
   ]
  },
  {
   "cell_type": "code",
   "execution_count": 79,
   "metadata": {},
   "outputs": [],
   "source": [
    "# Subsampling\n",
    "\n",
    "# Flatten the nested list\n",
    "flattened_lines = lines\n",
    "\n",
    "t = 1e-5 # # Hyperparameters\n",
    "\n",
    "word_counts = Counter(flattened_lines)\n",
    "total_count = len(flattened_lines)\n",
    "frequencies = {word: count/total_count for word, count in word_counts.items()}\n",
    "\n",
    "\n",
    "def subsample_prob(word):\n",
    "    prob = max(0, 1 - sqrt(t / frequencies[word]))\n",
    "    return prob\n",
    "\n",
    "subsamped_lines = [word for word in flattened_lines if random.random() > subsample_prob(word)]"
   ]
  },
  {
   "cell_type": "code",
   "execution_count": 80,
   "metadata": {},
   "outputs": [
    {
     "name": "stdout",
     "output_type": "stream",
     "text": [
      "4129394\n"
     ]
    }
   ],
   "source": [
    "print(len(subsamped_lines))"
   ]
  },
  {
   "cell_type": "code",
   "execution_count": 81,
   "metadata": {},
   "outputs": [
    {
     "data": {
      "text/plain": [
       "['anarchism',\n",
       " 'originated',\n",
       " 'working',\n",
       " 'radicals',\n",
       " 'diggers',\n",
       " 'sans',\n",
       " 'culottes',\n",
       " 'used',\n",
       " 'pejorative',\n",
       " 'organization']"
      ]
     },
     "execution_count": 81,
     "metadata": {},
     "output_type": "execute_result"
    }
   ],
   "source": [
    "# Check subsample\n",
    "subsamped_lines[:10]"
   ]
  },
  {
   "cell_type": "markdown",
   "metadata": {},
   "source": [
    "3. Implement CBOW:\n",
    "- Create the architecture for CBOW with an embedding layer and a linear layer.\n",
    "- Generate training samples. For each word in the dataset, use n surrounding words as context.\n",
    "- Train the model using a suitable optimizer and loss function.\n",
    "- Extract word embeddings for the vocabulary."
   ]
  },
  {
   "cell_type": "markdown",
   "metadata": {},
   "source": [
    "CBOW is Continuous Bag Of Words, another vision of Word2Vec\n",
    "- Reference: https://www.youtube.com/watch?v=ghu_5o42QGQ"
   ]
  },
  {
   "cell_type": "code",
   "execution_count": 215,
   "metadata": {},
   "outputs": [],
   "source": [
    "# Generate training samples. For each word in the dataset, use n surrounding words as context.\n",
    "def generate_context_pairs(corpus, window_size, vocab_set):\n",
    "    data = []\n",
    "\n",
    "    for i, word in enumerate(corpus):\n",
    "        if word not in vocab_set:\n",
    "            continue\n",
    "\n",
    "        # Initialize an empty context list for the current word\n",
    "        context = []\n",
    "\n",
    "        # Define the start and end indices for the context words\n",
    "        start_index = max(0, i - window_size)\n",
    "        end_index = min(len(corpus), i + window_size + 1)\n",
    "\n",
    "        # Loop over the surrounding words within the window\n",
    "        for j in range(start_index, end_index):\n",
    "            # Exclude the current word itself\n",
    "            if j != i and corpus[j] in vocab_set:\n",
    "                context.append(corpus[j])\n",
    "\n",
    "        target = word\n",
    "        data.append((context, target))\n",
    "\n",
    "    return data\n",
    "\n"
   ]
  },
  {
   "cell_type": "code",
   "execution_count": 216,
   "metadata": {},
   "outputs": [
    {
     "name": "stdout",
     "output_type": "stream",
     "text": [
      "Pair 1:\n",
      "Context: ['originated', 'working']\n",
      "Target: anarchism\n",
      "----------------------\n",
      "Pair 2:\n",
      "Context: ['anarchism', 'working']\n",
      "Target: originated\n",
      "----------------------\n",
      "Pair 3:\n",
      "Context: ['anarchism', 'originated']\n",
      "Target: working\n",
      "----------------------\n",
      "Pair 4:\n",
      "Context: ['organization']\n",
      "Target: used\n",
      "----------------------\n",
      "Pair 5:\n",
      "Context: ['used', 'positive', 'label']\n",
      "Target: organization\n",
      "----------------------\n",
      "Pair 6:\n",
      "Context: ['organization', 'label', 'anarchists']\n",
      "Target: positive\n",
      "----------------------\n",
      "Pair 7:\n",
      "Context: ['organization', 'positive', 'anarchists', 'anarchism']\n",
      "Target: label\n",
      "----------------------\n",
      "Pair 8:\n",
      "Context: ['positive', 'label', 'anarchism']\n",
      "Target: anarchists\n",
      "----------------------\n",
      "Pair 9:\n",
      "Context: ['label', 'anarchists', 'chief']\n",
      "Target: anarchism\n",
      "----------------------\n",
      "Pair 10:\n",
      "Context: ['anarchism', 'anarchism', 'belief']\n",
      "Target: chief\n",
      "----------------------\n"
     ]
    }
   ],
   "source": [
    "# check function of genreate\n",
    "context_pairs = generate_context_pairs(subsamped_lines[:30000], 2, top_freq_words)\n",
    "\n",
    "# print head 10\n",
    "for i, (context, target) in enumerate(context_pairs[:10]):\n",
    "    print(f\"Pair {i+1}:\")\n",
    "    print(\"Context:\", context)\n",
    "    print(\"Target:\", target)\n",
    "    print(\"----------------------\")"
   ]
  },
  {
   "cell_type": "code",
   "execution_count": 217,
   "metadata": {},
   "outputs": [],
   "source": [
    "# Create the architecture for CBOW with an embedding layer and a linear layer.\n",
    "class CBOW(nn.Module):\n",
    "    def __init__(self, vocab_size, embed_dim):\n",
    "        super(CBOW, self).__init__()\n",
    "        self.embeddings = nn.Embedding(vocab_size, embed_dim)\n",
    "        self.linear = nn.Linear(embed_dim, vocab_size)\n",
    "\n",
    "    def forward(self, context_words):\n",
    "        embedded_words = self.embeddings(context_words)\n",
    "        avg_embedded = embedded_words.mean(dim=1)  # Corrected dim to 1\n",
    "        logits = self.linear(avg_embedded)\n",
    "        return logits"
   ]
  },
  {
   "cell_type": "code",
   "execution_count": 218,
   "metadata": {},
   "outputs": [],
   "source": [
    "# Dataset for DataLoader\n",
    "class CBOWDataset(Dataset):\n",
    "    def __init__(self, data, word2idx, max_context_size):\n",
    "        self.data = data\n",
    "        self.word2idx = word2idx\n",
    "        self.max_context_size = max_context_size\n",
    "\n",
    "    def __len__(self):\n",
    "        return len(self.data)\n",
    "\n",
    "    def __getitem__(self, idx):\n",
    "        context, target = self.data[idx]\n",
    "\n",
    "        # Use <NEU> to paaend the context\n",
    "        while len(context) < self.max_context_size:\n",
    "            context.append(\"<NEU>\")  # Use a special padding token. \n",
    "\n",
    "        context_indices = [self.word2idx[word] for word in context]\n",
    "        target_index = self.word2idx[target]\n",
    "\n",
    "        return torch.tensor(context_indices, dtype=torch.long), torch.tensor(target_index, dtype=torch.long)"
   ]
  },
  {
   "cell_type": "code",
   "execution_count": 219,
   "metadata": {},
   "outputs": [],
   "source": [
    "# Hyperparameters\n",
    "embedding_dim = 100\n",
    "learning_rate = 0.01\n",
    "epochs = 50\n",
    "window_size = 2\n",
    "BATCH_SIZE = 512\n",
    "\n",
    "# Preparing data\n",
    "vocab = set(top_freq_words)\n",
    "vocab.add(\"<NEU>\")\n",
    "word2idx = {word: i for i, word in enumerate(vocab)}\n",
    "idx2word = {i: word for word, i in word2idx.items()}\n",
    "\n",
    "# Preprocess data\n",
    "training_data = generate_context_pairs(subsamped_lines, window_size, vocab)\n",
    "max_context_size = max([len(context) for context, _ in training_data])\n",
    "\n",
    "train_dataset = CBOWDataset(training_data, word2idx, max_context_size)\n",
    "train_loader = DataLoader(train_dataset, batch_size=BATCH_SIZE, shuffle=True)\n",
    "\n",
    "# Model, Optimizer, Loss Function\n",
    "model = CBOW(len(vocab), embedding_dim).to(device)\n",
    "optimizer = torch.optim.SGD(model.parameters(), lr=learning_rate)\n",
    "loss_fn = nn.CrossEntropyLoss()\n",
    "\n",
    "# List to store losses\n",
    "epoch_losses_cbow = []"
   ]
  },
  {
   "cell_type": "code",
   "execution_count": 220,
   "metadata": {},
   "outputs": [
    {
     "name": "stdout",
     "output_type": "stream",
     "text": [
      "cuda\n",
      "True\n"
     ]
    }
   ],
   "source": [
    "# check GPU is work\n",
    "# Train the model using a suitable optimizer and loss function.\n",
    "device = torch.device(\"cuda\" if torch.cuda.is_available() else \"cpu\")\n",
    "print(device)\n",
    "print(torch.cuda.is_available())"
   ]
  },
  {
   "cell_type": "code",
   "execution_count": 221,
   "metadata": {},
   "outputs": [
    {
     "name": "stderr",
     "output_type": "stream",
     "text": [
      "Epoch 1: 100%|██████████| 4715/4715 [00:45<00:00, 104.18it/s]\n"
     ]
    },
    {
     "name": "stdout",
     "output_type": "stream",
     "text": [
      "Epoch 1, Avg Loss: 9.245584281201328\n"
     ]
    },
    {
     "name": "stderr",
     "output_type": "stream",
     "text": [
      "Epoch 2: 100%|██████████| 4715/4715 [00:45<00:00, 104.70it/s]\n"
     ]
    },
    {
     "name": "stdout",
     "output_type": "stream",
     "text": [
      "Epoch 2, Avg Loss: 9.20296287900696\n"
     ]
    },
    {
     "name": "stderr",
     "output_type": "stream",
     "text": [
      "Epoch 3: 100%|██████████| 4715/4715 [00:47<00:00, 98.42it/s] \n"
     ]
    },
    {
     "name": "stdout",
     "output_type": "stream",
     "text": [
      "Epoch 3, Avg Loss: 9.177592237074075\n"
     ]
    },
    {
     "name": "stderr",
     "output_type": "stream",
     "text": [
      "Epoch 4: 100%|██████████| 4715/4715 [00:44<00:00, 105.57it/s]\n"
     ]
    },
    {
     "name": "stdout",
     "output_type": "stream",
     "text": [
      "Epoch 4, Avg Loss: 9.159443781459318\n"
     ]
    },
    {
     "name": "stderr",
     "output_type": "stream",
     "text": [
      "Epoch 5: 100%|██████████| 4715/4715 [00:44<00:00, 105.13it/s]\n"
     ]
    },
    {
     "name": "stdout",
     "output_type": "stream",
     "text": [
      "Epoch 5, Avg Loss: 9.145562298755504\n"
     ]
    },
    {
     "name": "stderr",
     "output_type": "stream",
     "text": [
      "Epoch 6: 100%|██████████| 4715/4715 [00:44<00:00, 105.50it/s]\n"
     ]
    },
    {
     "name": "stdout",
     "output_type": "stream",
     "text": [
      "Epoch 6, Avg Loss: 9.134780613969012\n"
     ]
    },
    {
     "name": "stderr",
     "output_type": "stream",
     "text": [
      "Epoch 7: 100%|██████████| 4715/4715 [00:44<00:00, 106.11it/s]\n"
     ]
    },
    {
     "name": "stdout",
     "output_type": "stream",
     "text": [
      "Epoch 7, Avg Loss: 9.126298185573024\n"
     ]
    },
    {
     "name": "stderr",
     "output_type": "stream",
     "text": [
      "Epoch 8: 100%|██████████| 4715/4715 [00:50<00:00, 93.35it/s] \n"
     ]
    },
    {
     "name": "stdout",
     "output_type": "stream",
     "text": [
      "Epoch 8, Avg Loss: 9.119512933587473\n"
     ]
    },
    {
     "name": "stderr",
     "output_type": "stream",
     "text": [
      "Epoch 9: 100%|██████████| 4715/4715 [00:51<00:00, 90.75it/s] \n"
     ]
    },
    {
     "name": "stdout",
     "output_type": "stream",
     "text": [
      "Epoch 9, Avg Loss: 9.114000343290392\n"
     ]
    },
    {
     "name": "stderr",
     "output_type": "stream",
     "text": [
      "Epoch 10: 100%|██████████| 4715/4715 [00:47<00:00, 98.92it/s] \n"
     ]
    },
    {
     "name": "stdout",
     "output_type": "stream",
     "text": [
      "Epoch 10, Avg Loss: 9.10941593942814\n"
     ]
    },
    {
     "name": "stderr",
     "output_type": "stream",
     "text": [
      "Epoch 11: 100%|██████████| 4715/4715 [00:45<00:00, 102.57it/s]\n"
     ]
    },
    {
     "name": "stdout",
     "output_type": "stream",
     "text": [
      "Epoch 11, Avg Loss: 9.105540124482593\n"
     ]
    },
    {
     "name": "stderr",
     "output_type": "stream",
     "text": [
      "Epoch 12: 100%|██████████| 4715/4715 [00:47<00:00, 98.58it/s] \n"
     ]
    },
    {
     "name": "stdout",
     "output_type": "stream",
     "text": [
      "Epoch 12, Avg Loss: 9.102201420934684\n"
     ]
    },
    {
     "name": "stderr",
     "output_type": "stream",
     "text": [
      "Epoch 13: 100%|██████████| 4715/4715 [00:44<00:00, 105.28it/s]\n"
     ]
    },
    {
     "name": "stdout",
     "output_type": "stream",
     "text": [
      "Epoch 13, Avg Loss: 9.099268881109081\n"
     ]
    },
    {
     "name": "stderr",
     "output_type": "stream",
     "text": [
      "Epoch 14: 100%|██████████| 4715/4715 [00:45<00:00, 104.64it/s]\n"
     ]
    },
    {
     "name": "stdout",
     "output_type": "stream",
     "text": [
      "Epoch 14, Avg Loss: 9.09665868077526\n"
     ]
    },
    {
     "name": "stderr",
     "output_type": "stream",
     "text": [
      "Epoch 15: 100%|██████████| 4715/4715 [00:44<00:00, 104.83it/s]\n"
     ]
    },
    {
     "name": "stdout",
     "output_type": "stream",
     "text": [
      "Epoch 15, Avg Loss: 9.094296564403546\n"
     ]
    },
    {
     "name": "stderr",
     "output_type": "stream",
     "text": [
      "Epoch 16: 100%|██████████| 4715/4715 [00:45<00:00, 104.39it/s]\n"
     ]
    },
    {
     "name": "stdout",
     "output_type": "stream",
     "text": [
      "Epoch 16, Avg Loss: 9.092117753539586\n"
     ]
    },
    {
     "name": "stderr",
     "output_type": "stream",
     "text": [
      "Epoch 17: 100%|██████████| 4715/4715 [00:44<00:00, 104.88it/s]\n"
     ]
    },
    {
     "name": "stdout",
     "output_type": "stream",
     "text": [
      "Epoch 17, Avg Loss: 9.090082469952321\n"
     ]
    },
    {
     "name": "stderr",
     "output_type": "stream",
     "text": [
      "Epoch 18: 100%|██████████| 4715/4715 [00:48<00:00, 97.71it/s] \n"
     ]
    },
    {
     "name": "stdout",
     "output_type": "stream",
     "text": [
      "Epoch 18, Avg Loss: 9.088195722302855\n"
     ]
    },
    {
     "name": "stderr",
     "output_type": "stream",
     "text": [
      "Epoch 19: 100%|██████████| 4715/4715 [00:44<00:00, 104.83it/s]\n"
     ]
    },
    {
     "name": "stdout",
     "output_type": "stream",
     "text": [
      "Epoch 19, Avg Loss: 9.086398277201809\n"
     ]
    },
    {
     "name": "stderr",
     "output_type": "stream",
     "text": [
      "Epoch 20: 100%|██████████| 4715/4715 [00:44<00:00, 105.14it/s]\n"
     ]
    },
    {
     "name": "stdout",
     "output_type": "stream",
     "text": [
      "Epoch 20, Avg Loss: 9.084682601532274\n"
     ]
    },
    {
     "name": "stderr",
     "output_type": "stream",
     "text": [
      "Epoch 21: 100%|██████████| 4715/4715 [00:47<00:00, 98.51it/s] \n"
     ]
    },
    {
     "name": "stdout",
     "output_type": "stream",
     "text": [
      "Epoch 21, Avg Loss: 9.083038079068618\n"
     ]
    },
    {
     "name": "stderr",
     "output_type": "stream",
     "text": [
      "Epoch 22: 100%|██████████| 4715/4715 [00:45<00:00, 103.34it/s]\n"
     ]
    },
    {
     "name": "stdout",
     "output_type": "stream",
     "text": [
      "Epoch 22, Avg Loss: 9.081442271259911\n"
     ]
    },
    {
     "name": "stderr",
     "output_type": "stream",
     "text": [
      "Epoch 23: 100%|██████████| 4715/4715 [00:47<00:00, 98.24it/s] \n"
     ]
    },
    {
     "name": "stdout",
     "output_type": "stream",
     "text": [
      "Epoch 23, Avg Loss: 9.079900519895908\n"
     ]
    },
    {
     "name": "stderr",
     "output_type": "stream",
     "text": [
      "Epoch 24: 100%|██████████| 4715/4715 [00:48<00:00, 98.11it/s]\n"
     ]
    },
    {
     "name": "stdout",
     "output_type": "stream",
     "text": [
      "Epoch 24, Avg Loss: 9.078380770597326\n"
     ]
    },
    {
     "name": "stderr",
     "output_type": "stream",
     "text": [
      "Epoch 25: 100%|██████████| 4715/4715 [00:47<00:00, 98.86it/s] \n"
     ]
    },
    {
     "name": "stdout",
     "output_type": "stream",
     "text": [
      "Epoch 25, Avg Loss: 9.076923708546579\n"
     ]
    },
    {
     "name": "stderr",
     "output_type": "stream",
     "text": [
      "Epoch 26: 100%|██████████| 4715/4715 [00:47<00:00, 98.77it/s] \n"
     ]
    },
    {
     "name": "stdout",
     "output_type": "stream",
     "text": [
      "Epoch 26, Avg Loss: 9.075465371221904\n"
     ]
    },
    {
     "name": "stderr",
     "output_type": "stream",
     "text": [
      "Epoch 27: 100%|██████████| 4715/4715 [00:49<00:00, 94.39it/s] \n"
     ]
    },
    {
     "name": "stdout",
     "output_type": "stream",
     "text": [
      "Epoch 27, Avg Loss: 9.074048708554669\n"
     ]
    },
    {
     "name": "stderr",
     "output_type": "stream",
     "text": [
      "Epoch 28: 100%|██████████| 4715/4715 [00:48<00:00, 97.85it/s] \n"
     ]
    },
    {
     "name": "stdout",
     "output_type": "stream",
     "text": [
      "Epoch 28, Avg Loss: 9.072655244748388\n"
     ]
    },
    {
     "name": "stderr",
     "output_type": "stream",
     "text": [
      "Epoch 29: 100%|██████████| 4715/4715 [00:47<00:00, 98.69it/s] \n"
     ]
    },
    {
     "name": "stdout",
     "output_type": "stream",
     "text": [
      "Epoch 29, Avg Loss: 9.071279641654055\n"
     ]
    },
    {
     "name": "stderr",
     "output_type": "stream",
     "text": [
      "Epoch 30: 100%|██████████| 4715/4715 [00:50<00:00, 94.22it/s] \n"
     ]
    },
    {
     "name": "stdout",
     "output_type": "stream",
     "text": [
      "Epoch 30, Avg Loss: 9.069931293014251\n"
     ]
    },
    {
     "name": "stderr",
     "output_type": "stream",
     "text": [
      "Epoch 31: 100%|██████████| 4715/4715 [00:47<00:00, 98.85it/s] \n"
     ]
    },
    {
     "name": "stdout",
     "output_type": "stream",
     "text": [
      "Epoch 31, Avg Loss: 9.068588571963103\n"
     ]
    },
    {
     "name": "stderr",
     "output_type": "stream",
     "text": [
      "Epoch 32: 100%|██████████| 4715/4715 [00:47<00:00, 98.68it/s] \n"
     ]
    },
    {
     "name": "stdout",
     "output_type": "stream",
     "text": [
      "Epoch 32, Avg Loss: 9.067253207857005\n"
     ]
    },
    {
     "name": "stderr",
     "output_type": "stream",
     "text": [
      "Epoch 33: 100%|██████████| 4715/4715 [00:47<00:00, 98.71it/s] \n"
     ]
    },
    {
     "name": "stdout",
     "output_type": "stream",
     "text": [
      "Epoch 33, Avg Loss: 9.065948072091645\n"
     ]
    },
    {
     "name": "stderr",
     "output_type": "stream",
     "text": [
      "Epoch 34: 100%|██████████| 4715/4715 [00:47<00:00, 98.93it/s] \n"
     ]
    },
    {
     "name": "stdout",
     "output_type": "stream",
     "text": [
      "Epoch 34, Avg Loss: 9.064649859617523\n"
     ]
    },
    {
     "name": "stderr",
     "output_type": "stream",
     "text": [
      "Epoch 35: 100%|██████████| 4715/4715 [00:47<00:00, 99.04it/s] \n"
     ]
    },
    {
     "name": "stdout",
     "output_type": "stream",
     "text": [
      "Epoch 35, Avg Loss: 9.06336345915324\n"
     ]
    },
    {
     "name": "stderr",
     "output_type": "stream",
     "text": [
      "Epoch 36: 100%|██████████| 4715/4715 [00:49<00:00, 94.85it/s] \n"
     ]
    },
    {
     "name": "stdout",
     "output_type": "stream",
     "text": [
      "Epoch 36, Avg Loss: 9.062075248427002\n"
     ]
    },
    {
     "name": "stderr",
     "output_type": "stream",
     "text": [
      "Epoch 37: 100%|██████████| 4715/4715 [00:47<00:00, 98.59it/s] \n"
     ]
    },
    {
     "name": "stdout",
     "output_type": "stream",
     "text": [
      "Epoch 37, Avg Loss: 9.060806967976996\n"
     ]
    },
    {
     "name": "stderr",
     "output_type": "stream",
     "text": [
      "Epoch 38: 100%|██████████| 4715/4715 [00:47<00:00, 98.56it/s] \n"
     ]
    },
    {
     "name": "stdout",
     "output_type": "stream",
     "text": [
      "Epoch 38, Avg Loss: 9.059550356738514\n"
     ]
    },
    {
     "name": "stderr",
     "output_type": "stream",
     "text": [
      "Epoch 39: 100%|██████████| 4715/4715 [00:50<00:00, 93.33it/s] \n"
     ]
    },
    {
     "name": "stdout",
     "output_type": "stream",
     "text": [
      "Epoch 39, Avg Loss: 9.058308386979654\n"
     ]
    },
    {
     "name": "stderr",
     "output_type": "stream",
     "text": [
      "Epoch 40: 100%|██████████| 4715/4715 [00:47<00:00, 99.62it/s] \n"
     ]
    },
    {
     "name": "stdout",
     "output_type": "stream",
     "text": [
      "Epoch 40, Avg Loss: 9.057063257049528\n"
     ]
    },
    {
     "name": "stderr",
     "output_type": "stream",
     "text": [
      "Epoch 41: 100%|██████████| 4715/4715 [00:47<00:00, 98.34it/s] \n"
     ]
    },
    {
     "name": "stdout",
     "output_type": "stream",
     "text": [
      "Epoch 41, Avg Loss: 9.05583099899211\n"
     ]
    },
    {
     "name": "stderr",
     "output_type": "stream",
     "text": [
      "Epoch 42: 100%|██████████| 4715/4715 [00:47<00:00, 98.76it/s] \n"
     ]
    },
    {
     "name": "stdout",
     "output_type": "stream",
     "text": [
      "Epoch 42, Avg Loss: 9.054595674007087\n"
     ]
    },
    {
     "name": "stderr",
     "output_type": "stream",
     "text": [
      "Epoch 43: 100%|██████████| 4715/4715 [00:48<00:00, 97.78it/s] \n"
     ]
    },
    {
     "name": "stdout",
     "output_type": "stream",
     "text": [
      "Epoch 43, Avg Loss: 9.053391258789905\n"
     ]
    },
    {
     "name": "stderr",
     "output_type": "stream",
     "text": [
      "Epoch 44: 100%|██████████| 4715/4715 [00:47<00:00, 98.31it/s] \n"
     ]
    },
    {
     "name": "stdout",
     "output_type": "stream",
     "text": [
      "Epoch 44, Avg Loss: 9.052178275673665\n"
     ]
    },
    {
     "name": "stderr",
     "output_type": "stream",
     "text": [
      "Epoch 45: 100%|██████████| 4715/4715 [00:50<00:00, 94.07it/s] \n"
     ]
    },
    {
     "name": "stdout",
     "output_type": "stream",
     "text": [
      "Epoch 45, Avg Loss: 9.050990446905821\n"
     ]
    },
    {
     "name": "stderr",
     "output_type": "stream",
     "text": [
      "Epoch 46: 100%|██████████| 4715/4715 [00:47<00:00, 98.65it/s] \n"
     ]
    },
    {
     "name": "stdout",
     "output_type": "stream",
     "text": [
      "Epoch 46, Avg Loss: 9.049798429050224\n"
     ]
    },
    {
     "name": "stderr",
     "output_type": "stream",
     "text": [
      "Epoch 47: 100%|██████████| 4715/4715 [00:47<00:00, 98.25it/s]\n"
     ]
    },
    {
     "name": "stdout",
     "output_type": "stream",
     "text": [
      "Epoch 47, Avg Loss: 9.048604604168888\n"
     ]
    },
    {
     "name": "stderr",
     "output_type": "stream",
     "text": [
      "Epoch 48: 100%|██████████| 4715/4715 [00:48<00:00, 98.09it/s]\n"
     ]
    },
    {
     "name": "stdout",
     "output_type": "stream",
     "text": [
      "Epoch 48, Avg Loss: 9.047439858567044\n"
     ]
    },
    {
     "name": "stderr",
     "output_type": "stream",
     "text": [
      "Epoch 49: 100%|██████████| 4715/4715 [00:49<00:00, 94.61it/s] \n"
     ]
    },
    {
     "name": "stdout",
     "output_type": "stream",
     "text": [
      "Epoch 49, Avg Loss: 9.046252578945706\n"
     ]
    },
    {
     "name": "stderr",
     "output_type": "stream",
     "text": [
      "Epoch 50: 100%|██████████| 4715/4715 [00:47<00:00, 98.37it/s] "
     ]
    },
    {
     "name": "stdout",
     "output_type": "stream",
     "text": [
      "Epoch 50, Avg Loss: 9.045103337681306\n"
     ]
    },
    {
     "name": "stderr",
     "output_type": "stream",
     "text": [
      "\n"
     ]
    }
   ],
   "source": [
    "# Training loop\n",
    "for epoch in range(epochs):\n",
    "    total_loss = 0\n",
    "    batch_count = 0\n",
    "    \n",
    "    for context_tensors, target_tensors in tqdm(train_loader, desc=f\"Epoch {epoch+1}\"):\n",
    "        \n",
    "        context_tensors = context_tensors.to(device)\n",
    "        target_tensors = target_tensors.to(device)\n",
    "\n",
    "        optimizer.zero_grad()\n",
    "        outputs = model(context_tensors)\n",
    "        loss = loss_fn(outputs, target_tensors)\n",
    "        loss.backward()\n",
    "        optimizer.step()\n",
    "        \n",
    "        total_loss += loss.item()\n",
    "        batch_count += 1\n",
    "    \n",
    "    avg_loss = total_loss / batch_count\n",
    "    epoch_losses_cbow.append(avg_loss)\n",
    "    # This should give you a clearer view of the average loss per epoch.\n",
    "    print(f\"Epoch {epoch+1}, Avg Loss: {avg_loss}\")   \n"
   ]
  },
  {
   "cell_type": "markdown",
   "metadata": {},
   "source": [
    "### Analys about the DataLoader: "
   ]
  },
  {
   "cell_type": "markdown",
   "metadata": {},
   "source": [
    "- Due to the large volume of data, I opted for the DataLoader to efficiently manage the training iterator. When I increase the BATCH_SIZE, the volume of data processed in each batch also increases. Consequently, to process the entire dataset, the number of batches required decreases.\n",
    "- By using DataLoader, I can segment the data into multiple batches. By adjusting the BATCH_SIZE, I can optimize the efficiency of the model."
   ]
  },
  {
   "cell_type": "markdown",
   "metadata": {},
   "source": [
    "### Check Model of CBOW"
   ]
  },
  {
   "cell_type": "code",
   "execution_count": 223,
   "metadata": {},
   "outputs": [
    {
     "data": {
      "image/png": "[encoded data removed]",
      "text/plain": [
       "<Figure size 1000x600 with 1 Axes>"
      ]
     },
     "metadata": {},
     "output_type": "display_data"
    }
   ],
   "source": [
    "plt.figure(figsize=(10, 6))  # Adjusted the size for better clarity\n",
    "plt.plot(epoch_losses_cbow, marker='o', linestyle='-')  # Adding a marker for each epoch\n",
    "plt.title('CBOW Training Average Loss over Epochs')\n",
    "plt.xlabel('Epochs')\n",
    "plt.ylabel('Average Loss')\n",
    "plt.grid(True)  # Add a grid for better readability\n",
    "plt.tight_layout()  # Adjust the layout for better aesthetics\n",
    "plt.show()"
   ]
  },
  {
   "cell_type": "markdown",
   "metadata": {},
   "source": [
    "4. Implement Skipgram:\n",
    "- Create the architecture for Skipgram, which is essentially the inverse of CBOW.\n",
    "- Generate training samples. For each word in the dataset, create pairs with n surrounding words.\n",
    "- Train the model using a suitable optimizer and loss function.\n",
    "- Extract word embeddings for the vocabulary.\n",
    "\n"
   ]
  },
  {
   "cell_type": "code",
   "execution_count": 193,
   "metadata": {},
   "outputs": [],
   "source": [
    "# Generate training samples. For each word in the dataset, create pairs with n surrounding words.\n",
    "def generate_skipgram_pairs(corpus, window_size, vocab_set):\n",
    "    data = []\n",
    "\n",
    "    for i, target_word in enumerate(corpus):  \n",
    "        \n",
    "        # Check if the current target word is in the vocabulary\n",
    "        if target_word not in vocab_set:\n",
    "            continue\n",
    "        \n",
    "        # Define the starting and ending positions for the window\n",
    "        start_index = max(0, i - window_size)\n",
    "        end_index = min(len(corpus), i + window_size + 1)\n",
    "\n",
    "        # Iterate within the window range and collect context words\n",
    "        for j in range(start_index, end_index):\n",
    "            # Ensure we are not collecting the target word and the word collected is in the vocabulary\n",
    "            if j != i and corpus[j] in vocab_set:\n",
    "                # Directly append the context word and target word pair to the data list\n",
    "                data.append((corpus[j], target_word))\n",
    "\n",
    "    return data\n",
    "\n",
    "\n"
   ]
  },
  {
   "cell_type": "code",
   "execution_count": 194,
   "metadata": {},
   "outputs": [
    {
     "name": "stdout",
     "output_type": "stream",
     "text": [
      "Pair 1:\n",
      "Context: originated\n",
      "Target: anarchism\n",
      "----------------------\n",
      "Pair 2:\n",
      "Context: working\n",
      "Target: anarchism\n",
      "----------------------\n",
      "Pair 3:\n",
      "Context: anarchism\n",
      "Target: originated\n",
      "----------------------\n",
      "Pair 4:\n",
      "Context: working\n",
      "Target: originated\n",
      "----------------------\n",
      "Pair 5:\n",
      "Context: anarchism\n",
      "Target: working\n",
      "----------------------\n",
      "Pair 6:\n",
      "Context: originated\n",
      "Target: working\n",
      "----------------------\n",
      "Pair 7:\n",
      "Context: organization\n",
      "Target: used\n",
      "----------------------\n",
      "Pair 8:\n",
      "Context: used\n",
      "Target: organization\n",
      "----------------------\n",
      "Pair 9:\n",
      "Context: positive\n",
      "Target: organization\n",
      "----------------------\n",
      "Pair 10:\n",
      "Context: label\n",
      "Target: organization\n",
      "----------------------\n"
     ]
    }
   ],
   "source": [
    "# Check the generate function for skipgram\n",
    "target_pairs = generate_skipgram_pairs(subsamped_lines[:30000], 2, top_freq_words)\n",
    "\n",
    "# print head 10\n",
    "# Use target to predict contex\n",
    "for i, (context, target) in enumerate(target_pairs[:10]):\n",
    "    print(f\"Pair {i+1}:\")\n",
    "    print(\"Context:\", context)\n",
    "    print(\"Target:\", target)\n",
    "    print(\"----------------------\")"
   ]
  },
  {
   "cell_type": "markdown",
   "metadata": {},
   "source": [
    "### Analysis `generate_skipgram_pairs`\n"
   ]
  },
  {
   "cell_type": "markdown",
   "metadata": {},
   "source": [
    "- Since, for my logic the `generate_skipgram_pairs` should use target_word to predict our context, but we need to train our model to predict the target belong to contex, then we only need to get the one context not a list of contex.\n",
    "\n",
    "e.g. “the quick brown fox”\n",
    "\n",
    "The target_word is brown. \n",
    "\n",
    "we can get:\n",
    "\n",
    "- brown, the\n",
    "- brown, quick\n",
    "- brown, fox"
   ]
  },
  {
   "cell_type": "code",
   "execution_count": 195,
   "metadata": {},
   "outputs": [],
   "source": [
    "# Create the architecture for Skipgram\n",
    "class SkipGram(nn.Module):\n",
    "    def __init__(self, vocab_size, embed_dim):\n",
    "        super(SkipGram, self).__init__()\n",
    "        self.embeddings = nn.Embedding(vocab_size, embed_dim)\n",
    "        self.linear = nn.Linear(embed_dim, vocab_size)\n",
    "        self.activation = nn.LogSoftmax(dim = 1)\n",
    "\n",
    "    def forward(self, context_word):\n",
    "        embeds = self.embeddings(context_word)\n",
    "        out = self.linear(embeds)\n",
    "        out = self.activation(out)\n",
    "        return out"
   ]
  },
  {
   "cell_type": "code",
   "execution_count": 199,
   "metadata": {},
   "outputs": [],
   "source": [
    "# Skipgram dataset\n",
    "class SkipGramDataset(Dataset):\n",
    "    def __init__(self, data, word2idx):\n",
    "        self.data = data\n",
    "        self.word2idx = word2idx\n",
    "\n",
    "    def __len__(self):\n",
    "        return len(self.data)\n",
    "\n",
    "    def __getitem__(self, idx):\n",
    "    \n",
    "        context, target = self.data[idx]\n",
    "        context_index = self.word2idx[context]\n",
    "        target_index = self.word2idx[target]\n",
    "\n",
    "        return torch.tensor(context_index, dtype=torch.long), torch.tensor(target_index, dtype=torch.long)\n"
   ]
  },
  {
   "cell_type": "code",
   "execution_count": 210,
   "metadata": {},
   "outputs": [],
   "source": [
    "# Hyperparameters\n",
    "embedding_dim = 100\n",
    "learning_rate = 0.01\n",
    "epochs = 50\n",
    "window_size = 2\n",
    "BATCH_SIZE = 512\n",
    "\n",
    "# Preparing data\n",
    "vocab = set(top_freq_words)\n",
    "vocab.add(\"<NEU>\")\n",
    "word2idx = {word: i for i, word in enumerate(vocab)}\n",
    "idx2word = {i: word for word, i in word2idx.items()}\n",
    "\n",
    "# Preprocess data\n",
    "training_data = generate_skipgram_pairs(subsamped_lines, window_size, vocab)\n",
    "skipgram_dataset = SkipGramDataset(training_data, word2idx)\n",
    "max_context_size = max([len(context) for context, _ in training_data])\n",
    "\n",
    "skipgram_loader = DataLoader(skipgram_dataset, batch_size=BATCH_SIZE, shuffle=True)\n",
    "\n",
    "# SkipGram Model, Optimizer, Loss Function\n",
    "model = SkipGram(len(vocab), embedding_dim).to(device)\n",
    "optimizer = torch.optim.SGD(model.parameters(), lr = learning_rate)\n",
    "loss_fn = nn.NLLLoss()\n",
    "\n",
    "# List to store losses\n",
    "epoch_losses = []"
   ]
  },
  {
   "cell_type": "code",
   "execution_count": 211,
   "metadata": {},
   "outputs": [
    {
     "name": "stderr",
     "output_type": "stream",
     "text": [
      "Epoch 1: 100%|██████████| 11710/11710 [01:40<00:00, 116.67it/s]\n"
     ]
    },
    {
     "name": "stdout",
     "output_type": "stream",
     "text": [
      "Epoch 1, Loss: 109724.76208114624\n"
     ]
    },
    {
     "name": "stderr",
     "output_type": "stream",
     "text": [
      "Epoch 2: 100%|██████████| 11710/11710 [01:45<00:00, 111.25it/s]\n"
     ]
    },
    {
     "name": "stdout",
     "output_type": "stream",
     "text": [
      "Epoch 2, Loss: 109517.0359172821\n"
     ]
    },
    {
     "name": "stderr",
     "output_type": "stream",
     "text": [
      "Epoch 3: 100%|██████████| 11710/11710 [01:43<00:00, 113.15it/s]\n"
     ]
    },
    {
     "name": "stdout",
     "output_type": "stream",
     "text": [
      "Epoch 3, Loss: 109315.0285282135\n"
     ]
    },
    {
     "name": "stderr",
     "output_type": "stream",
     "text": [
      "Epoch 4: 100%|██████████| 11710/11710 [01:43<00:00, 112.83it/s]\n"
     ]
    },
    {
     "name": "stdout",
     "output_type": "stream",
     "text": [
      "Epoch 4, Loss: 109119.0927658081\n"
     ]
    },
    {
     "name": "stderr",
     "output_type": "stream",
     "text": [
      "Epoch 5: 100%|██████████| 11710/11710 [01:42<00:00, 113.74it/s]\n"
     ]
    },
    {
     "name": "stdout",
     "output_type": "stream",
     "text": [
      "Epoch 5, Loss: 108929.70387554169\n"
     ]
    },
    {
     "name": "stderr",
     "output_type": "stream",
     "text": [
      "Epoch 6: 100%|██████████| 11710/11710 [01:43<00:00, 113.31it/s]\n"
     ]
    },
    {
     "name": "stdout",
     "output_type": "stream",
     "text": [
      "Epoch 6, Loss: 108747.32620239258\n"
     ]
    },
    {
     "name": "stderr",
     "output_type": "stream",
     "text": [
      "Epoch 7: 100%|██████████| 11710/11710 [01:45<00:00, 111.30it/s]\n"
     ]
    },
    {
     "name": "stdout",
     "output_type": "stream",
     "text": [
      "Epoch 7, Loss: 108572.10669326782\n"
     ]
    },
    {
     "name": "stderr",
     "output_type": "stream",
     "text": [
      "Epoch 8: 100%|██████████| 11710/11710 [01:45<00:00, 111.01it/s]\n"
     ]
    },
    {
     "name": "stdout",
     "output_type": "stream",
     "text": [
      "Epoch 8, Loss: 108404.21571540833\n"
     ]
    },
    {
     "name": "stderr",
     "output_type": "stream",
     "text": [
      "Epoch 9: 100%|██████████| 11710/11710 [01:42<00:00, 114.10it/s]\n"
     ]
    },
    {
     "name": "stdout",
     "output_type": "stream",
     "text": [
      "Epoch 9, Loss: 108243.35635662079\n"
     ]
    },
    {
     "name": "stderr",
     "output_type": "stream",
     "text": [
      "Epoch 10: 100%|██████████| 11710/11710 [01:45<00:00, 111.18it/s]\n"
     ]
    },
    {
     "name": "stdout",
     "output_type": "stream",
     "text": [
      "Epoch 10, Loss: 108089.33552074432\n"
     ]
    },
    {
     "name": "stderr",
     "output_type": "stream",
     "text": [
      "Epoch 11: 100%|██████████| 11710/11710 [01:43<00:00, 113.30it/s]\n"
     ]
    },
    {
     "name": "stdout",
     "output_type": "stream",
     "text": [
      "Epoch 11, Loss: 107941.69553565979\n"
     ]
    },
    {
     "name": "stderr",
     "output_type": "stream",
     "text": [
      "Epoch 12: 100%|██████████| 11710/11710 [01:45<00:00, 111.34it/s]\n"
     ]
    },
    {
     "name": "stdout",
     "output_type": "stream",
     "text": [
      "Epoch 12, Loss: 107800.11761856079\n"
     ]
    },
    {
     "name": "stderr",
     "output_type": "stream",
     "text": [
      "Epoch 13: 100%|██████████| 11710/11710 [01:45<00:00, 111.31it/s]\n"
     ]
    },
    {
     "name": "stdout",
     "output_type": "stream",
     "text": [
      "Epoch 13, Loss: 107664.32171726227\n"
     ]
    },
    {
     "name": "stderr",
     "output_type": "stream",
     "text": [
      "Epoch 14: 100%|██████████| 11710/11710 [01:43<00:00, 112.99it/s]\n"
     ]
    },
    {
     "name": "stdout",
     "output_type": "stream",
     "text": [
      "Epoch 14, Loss: 107533.86717891693\n"
     ]
    },
    {
     "name": "stderr",
     "output_type": "stream",
     "text": [
      "Epoch 15: 100%|██████████| 11710/11710 [01:45<00:00, 111.17it/s]\n"
     ]
    },
    {
     "name": "stdout",
     "output_type": "stream",
     "text": [
      "Epoch 15, Loss: 107408.45379161835\n"
     ]
    },
    {
     "name": "stderr",
     "output_type": "stream",
     "text": [
      "Epoch 16: 100%|██████████| 11710/11710 [01:43<00:00, 112.76it/s]\n"
     ]
    },
    {
     "name": "stdout",
     "output_type": "stream",
     "text": [
      "Epoch 16, Loss: 107287.827003479\n"
     ]
    },
    {
     "name": "stderr",
     "output_type": "stream",
     "text": [
      "Epoch 17: 100%|██████████| 11710/11710 [01:45<00:00, 110.94it/s]\n"
     ]
    },
    {
     "name": "stdout",
     "output_type": "stream",
     "text": [
      "Epoch 17, Loss: 107171.60779476166\n"
     ]
    },
    {
     "name": "stderr",
     "output_type": "stream",
     "text": [
      "Epoch 18: 100%|██████████| 11710/11710 [01:45<00:00, 110.86it/s]\n"
     ]
    },
    {
     "name": "stdout",
     "output_type": "stream",
     "text": [
      "Epoch 18, Loss: 107059.63676452637\n"
     ]
    },
    {
     "name": "stderr",
     "output_type": "stream",
     "text": [
      "Epoch 19: 100%|██████████| 11710/11710 [01:43<00:00, 112.89it/s]\n"
     ]
    },
    {
     "name": "stdout",
     "output_type": "stream",
     "text": [
      "Epoch 19, Loss: 106951.62633132935\n"
     ]
    },
    {
     "name": "stderr",
     "output_type": "stream",
     "text": [
      "Epoch 20: 100%|██████████| 11710/11710 [01:45<00:00, 111.01it/s]\n"
     ]
    },
    {
     "name": "stdout",
     "output_type": "stream",
     "text": [
      "Epoch 20, Loss: 106847.34730243683\n"
     ]
    },
    {
     "name": "stderr",
     "output_type": "stream",
     "text": [
      "Epoch 21: 100%|██████████| 11710/11710 [01:43<00:00, 113.40it/s]\n"
     ]
    },
    {
     "name": "stdout",
     "output_type": "stream",
     "text": [
      "Epoch 21, Loss: 106746.62788677216\n"
     ]
    },
    {
     "name": "stderr",
     "output_type": "stream",
     "text": [
      "Epoch 22: 100%|██████████| 11710/11710 [01:45<00:00, 111.29it/s]\n"
     ]
    },
    {
     "name": "stdout",
     "output_type": "stream",
     "text": [
      "Epoch 22, Loss: 106649.2709569931\n"
     ]
    },
    {
     "name": "stderr",
     "output_type": "stream",
     "text": [
      "Epoch 23: 100%|██████████| 11710/11710 [01:45<00:00, 110.90it/s]\n"
     ]
    },
    {
     "name": "stdout",
     "output_type": "stream",
     "text": [
      "Epoch 23, Loss: 106555.11775112152\n"
     ]
    },
    {
     "name": "stderr",
     "output_type": "stream",
     "text": [
      "Epoch 24: 100%|██████████| 11710/11710 [01:43<00:00, 113.06it/s]\n"
     ]
    },
    {
     "name": "stdout",
     "output_type": "stream",
     "text": [
      "Epoch 24, Loss: 106464.07562065125\n"
     ]
    },
    {
     "name": "stderr",
     "output_type": "stream",
     "text": [
      "Epoch 25: 100%|██████████| 11710/11710 [01:44<00:00, 111.56it/s]\n"
     ]
    },
    {
     "name": "stdout",
     "output_type": "stream",
     "text": [
      "Epoch 25, Loss: 106375.98734474182\n"
     ]
    },
    {
     "name": "stderr",
     "output_type": "stream",
     "text": [
      "Epoch 26: 100%|██████████| 11710/11710 [01:43<00:00, 113.53it/s]\n"
     ]
    },
    {
     "name": "stdout",
     "output_type": "stream",
     "text": [
      "Epoch 26, Loss: 106290.589802742\n"
     ]
    },
    {
     "name": "stderr",
     "output_type": "stream",
     "text": [
      "Epoch 27: 100%|██████████| 11710/11710 [01:45<00:00, 111.20it/s]\n"
     ]
    },
    {
     "name": "stdout",
     "output_type": "stream",
     "text": [
      "Epoch 27, Loss: 106208.0035161972\n"
     ]
    },
    {
     "name": "stderr",
     "output_type": "stream",
     "text": [
      "Epoch 28: 100%|██████████| 11710/11710 [01:46<00:00, 110.45it/s]\n"
     ]
    },
    {
     "name": "stdout",
     "output_type": "stream",
     "text": [
      "Epoch 28, Loss: 106127.88665294647\n"
     ]
    },
    {
     "name": "stderr",
     "output_type": "stream",
     "text": [
      "Epoch 29: 100%|██████████| 11710/11710 [01:43<00:00, 112.80it/s]\n"
     ]
    },
    {
     "name": "stdout",
     "output_type": "stream",
     "text": [
      "Epoch 29, Loss: 106050.352435112\n"
     ]
    },
    {
     "name": "stderr",
     "output_type": "stream",
     "text": [
      "Epoch 30: 100%|██████████| 11710/11710 [01:46<00:00, 110.12it/s]\n"
     ]
    },
    {
     "name": "stdout",
     "output_type": "stream",
     "text": [
      "Epoch 30, Loss: 105975.19826984406\n"
     ]
    },
    {
     "name": "stderr",
     "output_type": "stream",
     "text": [
      "Epoch 31: 100%|██████████| 11710/11710 [01:43<00:00, 112.78it/s]\n"
     ]
    },
    {
     "name": "stdout",
     "output_type": "stream",
     "text": [
      "Epoch 31, Loss: 105902.3506269455\n"
     ]
    },
    {
     "name": "stderr",
     "output_type": "stream",
     "text": [
      "Epoch 32: 100%|██████████| 11710/11710 [01:45<00:00, 110.79it/s]\n"
     ]
    },
    {
     "name": "stdout",
     "output_type": "stream",
     "text": [
      "Epoch 32, Loss: 105831.72193717957\n"
     ]
    },
    {
     "name": "stderr",
     "output_type": "stream",
     "text": [
      "Epoch 33: 100%|██████████| 11710/11710 [01:45<00:00, 110.52it/s]\n"
     ]
    },
    {
     "name": "stdout",
     "output_type": "stream",
     "text": [
      "Epoch 33, Loss: 105763.26017856598\n"
     ]
    },
    {
     "name": "stderr",
     "output_type": "stream",
     "text": [
      "Epoch 34: 100%|██████████| 11710/11710 [01:43<00:00, 112.71it/s]\n"
     ]
    },
    {
     "name": "stdout",
     "output_type": "stream",
     "text": [
      "Epoch 34, Loss: 105696.86180877686\n"
     ]
    },
    {
     "name": "stderr",
     "output_type": "stream",
     "text": [
      "Epoch 35: 100%|██████████| 11710/11710 [01:45<00:00, 111.02it/s]\n"
     ]
    },
    {
     "name": "stdout",
     "output_type": "stream",
     "text": [
      "Epoch 35, Loss: 105632.409989357\n"
     ]
    },
    {
     "name": "stderr",
     "output_type": "stream",
     "text": [
      "Epoch 36: 100%|██████████| 11710/11710 [01:43<00:00, 112.78it/s]\n"
     ]
    },
    {
     "name": "stdout",
     "output_type": "stream",
     "text": [
      "Epoch 36, Loss: 105569.9308719635\n"
     ]
    },
    {
     "name": "stderr",
     "output_type": "stream",
     "text": [
      "Epoch 37: 100%|██████████| 11710/11710 [01:45<00:00, 110.80it/s]\n"
     ]
    },
    {
     "name": "stdout",
     "output_type": "stream",
     "text": [
      "Epoch 37, Loss: 105509.30939102173\n"
     ]
    },
    {
     "name": "stderr",
     "output_type": "stream",
     "text": [
      "Epoch 38: 100%|██████████| 11710/11710 [01:45<00:00, 110.58it/s]\n"
     ]
    },
    {
     "name": "stdout",
     "output_type": "stream",
     "text": [
      "Epoch 38, Loss: 105450.46190166473\n"
     ]
    },
    {
     "name": "stderr",
     "output_type": "stream",
     "text": [
      "Epoch 39: 100%|██████████| 11710/11710 [01:43<00:00, 112.62it/s]\n"
     ]
    },
    {
     "name": "stdout",
     "output_type": "stream",
     "text": [
      "Epoch 39, Loss: 105393.40020561218\n"
     ]
    },
    {
     "name": "stderr",
     "output_type": "stream",
     "text": [
      "Epoch 40: 100%|██████████| 11710/11710 [01:46<00:00, 109.97it/s]\n"
     ]
    },
    {
     "name": "stdout",
     "output_type": "stream",
     "text": [
      "Epoch 40, Loss: 105337.90055370331\n"
     ]
    },
    {
     "name": "stderr",
     "output_type": "stream",
     "text": [
      "Epoch 41: 100%|██████████| 11710/11710 [01:44<00:00, 111.86it/s]\n"
     ]
    },
    {
     "name": "stdout",
     "output_type": "stream",
     "text": [
      "Epoch 41, Loss: 105284.11916065216\n"
     ]
    },
    {
     "name": "stderr",
     "output_type": "stream",
     "text": [
      "Epoch 42: 100%|██████████| 11710/11710 [01:45<00:00, 111.48it/s]\n"
     ]
    },
    {
     "name": "stdout",
     "output_type": "stream",
     "text": [
      "Epoch 42, Loss: 105231.87408256531\n"
     ]
    },
    {
     "name": "stderr",
     "output_type": "stream",
     "text": [
      "Epoch 43: 100%|██████████| 11710/11710 [01:45<00:00, 110.84it/s]\n"
     ]
    },
    {
     "name": "stdout",
     "output_type": "stream",
     "text": [
      "Epoch 43, Loss: 105181.11592292786\n"
     ]
    },
    {
     "name": "stderr",
     "output_type": "stream",
     "text": [
      "Epoch 44: 100%|██████████| 11710/11710 [01:43<00:00, 112.62it/s]\n"
     ]
    },
    {
     "name": "stdout",
     "output_type": "stream",
     "text": [
      "Epoch 44, Loss: 105131.78853702545\n"
     ]
    },
    {
     "name": "stderr",
     "output_type": "stream",
     "text": [
      "Epoch 45: 100%|██████████| 11710/11710 [01:45<00:00, 110.61it/s]\n"
     ]
    },
    {
     "name": "stdout",
     "output_type": "stream",
     "text": [
      "Epoch 45, Loss: 105083.90895080566\n"
     ]
    },
    {
     "name": "stderr",
     "output_type": "stream",
     "text": [
      "Epoch 46: 100%|██████████| 11710/11710 [01:43<00:00, 112.82it/s]\n"
     ]
    },
    {
     "name": "stdout",
     "output_type": "stream",
     "text": [
      "Epoch 46, Loss: 105037.35309314728\n"
     ]
    },
    {
     "name": "stderr",
     "output_type": "stream",
     "text": [
      "Epoch 47: 100%|██████████| 11710/11710 [01:45<00:00, 111.15it/s]\n"
     ]
    },
    {
     "name": "stdout",
     "output_type": "stream",
     "text": [
      "Epoch 47, Loss: 104992.1618900299\n"
     ]
    },
    {
     "name": "stderr",
     "output_type": "stream",
     "text": [
      "Epoch 48: 100%|██████████| 11710/11710 [01:45<00:00, 110.82it/s]\n"
     ]
    },
    {
     "name": "stdout",
     "output_type": "stream",
     "text": [
      "Epoch 48, Loss: 104948.21873760223\n"
     ]
    },
    {
     "name": "stderr",
     "output_type": "stream",
     "text": [
      "Epoch 49: 100%|██████████| 11710/11710 [01:44<00:00, 112.45it/s]\n"
     ]
    },
    {
     "name": "stdout",
     "output_type": "stream",
     "text": [
      "Epoch 49, Loss: 104905.46620082855\n"
     ]
    },
    {
     "name": "stderr",
     "output_type": "stream",
     "text": [
      "Epoch 50: 100%|██████████| 11710/11710 [01:46<00:00, 110.36it/s]"
     ]
    },
    {
     "name": "stdout",
     "output_type": "stream",
     "text": [
      "Epoch 50, Loss: 104863.90305614471\n"
     ]
    },
    {
     "name": "stderr",
     "output_type": "stream",
     "text": [
      "\n"
     ]
    }
   ],
   "source": [
    "# Training loop\n",
    "for epoch in range(epochs):\n",
    "    total_loss = 0\n",
    "    for context_tensors, target_tensors in tqdm(skipgram_loader, desc=f\"Epoch {epoch+1}\"):\n",
    "        \n",
    "        context_tensors = context_tensors.to(device)\n",
    "        target_tensors = target_tensors.to(device)\n",
    "\n",
    "        optimizer.zero_grad()\n",
    "        outputs = model(context_tensors)\n",
    "        loss = loss_fn(outputs, target_tensors)\n",
    "        loss.backward()\n",
    "        optimizer.step()\n",
    "        \n",
    "        total_loss += loss.item()\n",
    "    \n",
    "    epoch_losses.append(total_loss)\n",
    "    print(f\"Epoch {epoch+1}, Loss: {total_loss}\")"
   ]
  },
  {
   "cell_type": "markdown",
   "metadata": {},
   "source": [
    "### Check Model of skipgram"
   ]
  },
  {
   "cell_type": "code",
   "execution_count": 212,
   "metadata": {},
   "outputs": [
    {
     "data": {
      "image/png": "[encoded data removed]",
      "text/plain": [
       "<Figure size 1000x500 with 1 Axes>"
      ]
     },
     "metadata": {},
     "output_type": "display_data"
    }
   ],
   "source": [
    "plt.figure(figsize = (10, 5))\n",
    "plt.plot(epoch_losses)\n",
    "plt.title('Training Loss over Epochs')\n",
    "plt.xlabel('Epochs')\n",
    "plt.ylabel('Loss')\n",
    "plt.show()"
   ]
  },
  {
   "cell_type": "markdown",
   "metadata": {},
   "source": [
    "5. Evaluation:\n",
    "- Implement a simple cosine similarity function to measure similarity between word pairs.\n",
    "- Test the similarity of a few pairs of words (e.g., king & queen, man & woman, Paris & France).\n",
    "- Visualize embeddings of some selected words using t-SNE or PCA.\n",
    "\n"
   ]
  },
  {
   "cell_type": "markdown",
   "metadata": {},
   "source": [
    "### Use the consine similarity function to measure similarity:"
   ]
  },
  {
   "cell_type": "markdown",
   "metadata": {},
   "source": [
    "- The formular is: similarity = cos $\\theta$ = $\\frac{A * B}{||A||*||B||}$"
   ]
  },
  {
   "cell_type": "code",
   "execution_count": 213,
   "metadata": {},
   "outputs": [],
   "source": [
    "# import torch\n",
    "\n",
    "def cosine_similarity(A, B):\n",
    "    dot_product = torch.dot(A, B)\n",
    "    norm_a = torch.norm(A)\n",
    "    norm_b = torch.norm(B)\n",
    "    return dot_product / (norm_a * norm_b)\n"
   ]
  },
  {
   "cell_type": "markdown",
   "metadata": {},
   "source": [
    "6. Report:\n",
    "- Provide a brief introduction to word embeddings, Skipgram, and CBOW.\n",
    "- Discuss the architecture of the models.\n",
    "- Describe the dataset and pre-processing steps.\n",
    "- Present results from the evaluation step.\n",
    "- Discuss challenges faced during implementation and potential improvements.\n",
    "- Conclude with insights and potential applications of the implemented models."
   ]
  }
 ],
 "metadata": {
  "kernelspec": {
   "display_name": "nlp",
   "language": "python",
   "name": "python3"
  },
  "language_info": {
   "codemirror_mode": {
    "name": "ipython",
    "version": 3
   },
   "file_extension": ".py",
   "mimetype": "text/x-python",
   "name": "python",
   "nbconvert_exporter": "python",
   "pygments_lexer": "ipython3",
   "version": "3.10.13"
  }
 },
 "nbformat": 4,
 "nbformat_minor": 2
}
